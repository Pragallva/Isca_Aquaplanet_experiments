{
 "cells": [
  {
   "cell_type": "code",
   "execution_count": 32,
   "metadata": {},
   "outputs": [],
   "source": [
    "# ls  /project2/tas1/CMIP5_Isla/msebudget/mseflux_hist_*"
   ]
  },
  {
   "cell_type": "code",
   "execution_count": 1,
   "metadata": {},
   "outputs": [],
   "source": [
    "%matplotlib inline\n",
    "import matplotlib as mpl\n",
    "#mpl.use('Agg')\n",
    "import numpy as np\n",
    "import pylab as py\n",
    "#import Extract_ncfile_save_fluxes_radiation\n",
    "#import Reload_save_interpolated as svintp\n",
    "import matplotlib.cm as cm\n",
    "import sys\n",
    "import os\n",
    "import errno\n",
    "import netCDF4 as nc\n",
    "import hickle as hkl\n",
    "\n",
    "import glob\n",
    "import numpy as np\n",
    "import scipy.io as sio\n",
    "import pylab as py\n",
    "from scipy import interpolate\n",
    "from scipy.interpolate import interp1d\n",
    "from scipy import stats\n",
    "\n",
    "## A function to save a dictionary ##\n",
    "def save(filename,dictionary):\n",
    "    hkl.dump(dictionary, filename, mode='w')\n",
    "\n",
    "## A function to load a dictionary ## \n",
    "def load(filename):\n",
    "    dictionary = hkl.load(filename)\n",
    "    return dictionary\n",
    "\n",
    "def make_sure_path_exists(path):\n",
    "    try:\n",
    "        os.makedirs(path)\n",
    "    except OSError as exception:\n",
    "        if exception.errno != errno.EEXIST:\n",
    "            raise\n",
    "            \n",
    "def smooth(y, box_pts):\n",
    "    box = np.ones(box_pts)/box_pts\n",
    "    y_smooth = np.convolve(y, box, mode='same')\n",
    "    return y_smooth"
   ]
  },
  {
   "cell_type": "code",
   "execution_count": 2,
   "metadata": {},
   "outputs": [],
   "source": [
    "source = \"/project2/tas1/CMIP5_Isla/msebudget/mseflux_hist_*.nc\"\n",
    "files = (glob.glob(source))\n",
    "\n",
    "def get_model_names(f = files[0]):\n",
    "    each_model_name = os.path.splitext(os.path.basename(f))[0].split(\"_\")[-1]\n",
    "    return each_model_name\n",
    "\n",
    "models = [get_model_names(f) for f in files]"
   ]
  },
  {
   "cell_type": "markdown",
   "metadata": {},
   "source": [
    "#### Combine all data"
   ]
  },
  {
   "cell_type": "code",
   "execution_count": 4,
   "metadata": {},
   "outputs": [],
   "source": [
    "stationary    = []\n",
    "transientday  = []\n",
    "transient     = []\n",
    "\n",
    "def get_data(variable='transient', f = files[0]):\n",
    "    ncfile = f\n",
    "    v_var  = nc.Dataset(ncfile,'r')\n",
    "    data   = v_var.variables\n",
    "    each_model_name = data[variable][:]\n",
    "    v_var.close()\n",
    "    return each_model_name\n"
   ]
  },
  {
   "cell_type": "code",
   "execution_count": 5,
   "metadata": {},
   "outputs": [],
   "source": [
    "transient    = [get_data('transient', f) for f in files]\n",
    "transientday = [get_data('transient', f) for f in files]\n",
    "stationary   = [get_data('stationary', f) for f in files]"
   ]
  },
  {
   "cell_type": "code",
   "execution_count": 6,
   "metadata": {},
   "outputs": [],
   "source": [
    "lons         = [get_data('lon', f) for f in files]\n",
    "lats         = [get_data('lat', f) for f in files]\n",
    "mons         = [get_data('mon', f) for f in files]\n",
    "years        = [get_data('year',f) for f in files]"
   ]
  },
  {
   "cell_type": "code",
   "execution_count": 7,
   "metadata": {},
   "outputs": [],
   "source": [
    "def interpolate(field=transient, ax=-1, x=lons, orig=0, new=8, filled=1): \n",
    "        X_orig = x[orig].filled(0)\n",
    "        X_new  = x[new].filled(0)\n",
    "        if filled == 1:           \n",
    "            Y      = field[orig].filled(0)\n",
    "        else :\n",
    "            Y      = field[orig]\n",
    "        interpolation_function = interp1d(X_orig, Y, axis=ax, fill_value=\"extrapolate\", kind='linear')\n",
    "        new_field = interpolation_function(X_new)\n",
    "        return new_field"
   ]
  },
  {
   "cell_type": "code",
   "execution_count": 8,
   "metadata": {},
   "outputs": [],
   "source": [
    "transient_lon = [interpolate( field=transient,     ax=-1, x=lons, orig=o, new=8 ) for o in range(len(models)) ]\n",
    "transient_lat = [interpolate( field=transient_lon, ax=-2, x=lats, orig=o, new=8, filled=0) for o in range(len(models)) ]\n"
   ]
  },
  {
   "cell_type": "code",
   "execution_count": 9,
   "metadata": {},
   "outputs": [],
   "source": [
    "transientday_lon = [interpolate( field=transientday,     ax=-1, x=lons, orig=o, new=8 ) for o in range(len(models)) ]\n",
    "transientday_lat = [interpolate( field=transientday_lon, ax=-2, x=lats, orig=o, new=8, filled=0) for o in range(len(models)) ]\n"
   ]
  },
  {
   "cell_type": "code",
   "execution_count": 10,
   "metadata": {},
   "outputs": [],
   "source": [
    "stationary_lon = [interpolate( field=stationary,     ax=-1, x=lons, orig=o, new=8 ) for o in range(len(models)) ]\n",
    "stationary_lat = [interpolate( field=stationary_lon, ax=-2, x=lats, orig=o, new=8, filled=0) for o in range(len(models)) ]\n"
   ]
  },
  {
   "cell_type": "code",
   "execution_count": 11,
   "metadata": {},
   "outputs": [],
   "source": [
    "transient_final    = np.array(transient_lat)\n",
    "transientday_final = np.array(transientday_lat)\n",
    "stationary_final   = np.array(stationary_lat)"
   ]
  },
  {
   "cell_type": "code",
   "execution_count": 12,
   "metadata": {},
   "outputs": [],
   "source": [
    "lat = lats[8].filled(0)\n",
    "lon = lons[8].filled(0)"
   ]
  },
  {
   "cell_type": "code",
   "execution_count": 16,
   "metadata": {},
   "outputs": [],
   "source": [
    "cmip5_isla_data = {\"transient\": transient_final,\\\n",
    "                   \"transientday\": transientday_final,\\\n",
    "                   \"stationary\": stationary_final, \\\n",
    "                   \"lat\": lat,\\\n",
    "                   \"lon\": lon,\n",
    "                   \"mon\": mons[0].filled(0),\\\n",
    "                   \"year\": years[0].filled(0)}\n"
   ]
  },
  {
   "cell_type": "code",
   "execution_count": 19,
   "metadata": {},
   "outputs": [],
   "source": [
    "destination = \"/project2/tas1/pragallva/Summer_quarter_2019/post_process_data/\"\n",
    "make_sure_path_exists(destination)"
   ]
  },
  {
   "cell_type": "code",
   "execution_count": 20,
   "metadata": {},
   "outputs": [],
   "source": [
    "save(destination+\"cmip5_isla_data.hkl\",cmip5_isla_data)"
   ]
  },
  {
   "cell_type": "code",
   "execution_count": null,
   "metadata": {},
   "outputs": [],
   "source": []
  },
  {
   "cell_type": "code",
   "execution_count": null,
   "metadata": {},
   "outputs": [],
   "source": []
  },
  {
   "cell_type": "code",
   "execution_count": null,
   "metadata": {},
   "outputs": [],
   "source": []
  }
 ],
 "metadata": {
  "kernelspec": {
   "display_name": "Python 3",
   "language": "python",
   "name": "python3"
  },
  "language_info": {
   "codemirror_mode": {
    "name": "ipython",
    "version": 3
   },
   "file_extension": ".py",
   "mimetype": "text/x-python",
   "name": "python",
   "nbconvert_exporter": "python",
   "pygments_lexer": "ipython3",
   "version": "3.7.1"
  }
 },
 "nbformat": 4,
 "nbformat_minor": 2
}
