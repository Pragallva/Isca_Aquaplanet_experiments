{
 "cells": [
  {
   "cell_type": "code",
   "execution_count": 1,
   "metadata": {},
   "outputs": [],
   "source": [
    "# ls  /project2/tas1/CMIP5_Isla/msebudget/mseflux_hist_*"
   ]
  },
  {
   "cell_type": "code",
   "execution_count": 1,
   "metadata": {},
   "outputs": [],
   "source": [
    "%matplotlib inline\n",
    "import matplotlib as mpl\n",
    "#mpl.use('Agg')\n",
    "import numpy as np\n",
    "import pylab as py\n",
    "#import Extract_ncfile_save_fluxes_radiation\n",
    "#import Reload_save_interpolated as svintp\n",
    "import matplotlib.cm as cm\n",
    "import sys\n",
    "import os\n",
    "import errno\n",
    "import netCDF4 as nc\n",
    "import hickle as hkl\n",
    "import glob\n",
    "import numpy as np\n",
    "import scipy.io as sio\n",
    "import pylab as py\n",
    "from scipy import interpolate\n",
    "from scipy.interpolate import interp1d\n",
    "from scipy import stats\n",
    "\n",
    "## A function to save a dictionary ##\n",
    "def save(filename,dictionary):\n",
    "    hkl.dump(dictionary, filename, mode='w')\n",
    "\n",
    "## A function to load a dictionary ## \n",
    "def load(filename):\n",
    "    dictionary = hkl.load(filename)\n",
    "    return dictionary\n",
    "\n",
    "def make_sure_path_exists(path):\n",
    "    try:\n",
    "        os.makedirs(path)\n",
    "    except OSError as exception:\n",
    "        if exception.errno != errno.EEXIST:\n",
    "            raise\n",
    "            \n",
    "def smooth(y, box_pts):\n",
    "    box = np.ones(box_pts)/box_pts\n",
    "    y_smooth = np.convolve(y, box, mode='same')\n",
    "    return y_smooth"
   ]
  },
  {
   "cell_type": "code",
   "execution_count": 2,
   "metadata": {},
   "outputs": [],
   "source": [
    "source = \"/project2/tas1/CMIP5_Isla/msebudget/mseflux_hist_*.nc\"\n",
    "files = (glob.glob(source))\n",
    "\n",
    "def get_model_names(f = files[0]):\n",
    "    each_model_name = os.path.splitext(os.path.basename(f))[0].split(\"_\")[-1]\n",
    "    return each_model_name\n",
    "\n",
    "models = [get_model_names(f) for f in files]"
   ]
  },
  {
   "cell_type": "code",
   "execution_count": 3,
   "metadata": {},
   "outputs": [],
   "source": [
    "\n",
    "ncfile = \"/project2/tas1/pragallva/Summer_quarter_2019/exp_data/isca_repeat/HC0_la50m_oc50m/HC0_la50m_oc50m0.nc\"\n",
    "v_var  = nc.Dataset(ncfile,'r')\n",
    "data   = v_var.variables\n"
   ]
  },
  {
   "cell_type": "code",
   "execution_count": 15,
   "metadata": {},
   "outputs": [],
   "source": [
    "ucomp = data['ucomp'][:]"
   ]
  },
  {
   "cell_type": "code",
   "execution_count": 17,
   "metadata": {},
   "outputs": [
    {
     "data": {
      "text/plain": [
       "(1440, 40, 64, 128)"
      ]
     },
     "execution_count": 17,
     "metadata": {},
     "output_type": "execute_result"
    }
   ],
   "source": [
    "ucomp.shape"
   ]
  },
  {
   "cell_type": "code",
   "execution_count": 16,
   "metadata": {},
   "outputs": [],
   "source": [
    "lat = data['lat'][:]"
   ]
  },
  {
   "cell_type": "code",
   "execution_count": 21,
   "metadata": {},
   "outputs": [],
   "source": [
    "a = 6371e3"
   ]
  },
  {
   "cell_type": "code",
   "execution_count": 22,
   "metadata": {},
   "outputs": [],
   "source": [
    "cos_phi = np.cos(np.deg2rad(lat))[None, None, :, None]\n",
    "vort    = -np.gradient(ucomp*cos_phi, np.deg2rad(lat[1]-lat[0]), axis=-2)/(a*cos_phi)"
   ]
  },
  {
   "cell_type": "code",
   "execution_count": 28,
   "metadata": {},
   "outputs": [
    {
     "data": {
      "text/plain": [
       "(1440, 40, 64, 128)"
      ]
     },
     "execution_count": 28,
     "metadata": {},
     "output_type": "execute_result"
    }
   ],
   "source": [
    "vort[None,:,None].squeeze().shape"
   ]
  },
  {
   "cell_type": "code",
   "execution_count": 13,
   "metadata": {},
   "outputs": [
    {
     "data": {
      "text/plain": [
       "[<matplotlib.lines.Line2D at 0x7f865321a0d0>]"
      ]
     },
     "execution_count": 13,
     "metadata": {},
     "output_type": "execute_result"
    },
    {
     "data": {
      "image/png": "[encoded data removed]",
      "text/plain": [
       "<matplotlib.figure.Figure at 0x7f8653230410>"
      ]
     },
     "metadata": {},
     "output_type": "display_data"
    }
   ],
   "source": [
    "py.plot(data['bk'][:], '.-')\n",
    "py.plot(data['pfull'][:]/1000, '.-')"
   ]
  },
  {
   "cell_type": "code",
   "execution_count": 9,
   "metadata": {},
   "outputs": [
    {
     "data": {
      "text/plain": [
       "[<matplotlib.lines.Line2D at 0x7f86534fca90>]"
      ]
     },
     "execution_count": 9,
     "metadata": {},
     "output_type": "execute_result"
    },
    {
     "data": {
      "image/png": "[encoded data removed]",
      "text/plain": [
       "<matplotlib.figure.Figure at 0x7f865d1dd390>"
      ]
     },
     "metadata": {},
     "output_type": "display_data"
    }
   ],
   "source": [
    "py.plot(data['pfull'][:]/1000, 'o')"
   ]
  },
  {
   "cell_type": "code",
   "execution_count": 15,
   "metadata": {},
   "outputs": [
    {
     "name": "stdout",
     "output_type": "stream",
     "text": [
      "0\n",
      "0\n",
      "0\n",
      "1\n",
      "3\n",
      "6\n",
      "12\n",
      "21\n",
      "34\n",
      "50\n",
      "69\n",
      "91\n",
      "116\n",
      "142\n",
      "168\n",
      "195\n",
      "221\n",
      "247\n",
      "273\n",
      "298\n",
      "322\n",
      "347\n",
      "371\n",
      "396\n",
      "421\n",
      "447\n",
      "473\n",
      "501\n",
      "530\n",
      "560\n",
      "592\n",
      "626\n",
      "662\n",
      "699\n",
      "739\n",
      "780\n",
      "825\n",
      "871\n",
      "921\n",
      "973\n"
     ]
    }
   ],
   "source": [
    "for i in range(40):\n",
    "    print \"%d\"%(data['pfull'][:][i])"
   ]
  },
  {
   "cell_type": "markdown",
   "metadata": {},
   "source": [
    "#### Combine all data"
   ]
  },
  {
   "cell_type": "code",
   "execution_count": 4,
   "metadata": {},
   "outputs": [],
   "source": [
    "stationary    = []\n",
    "transientday  = []\n",
    "transient     = []\n",
    "\n",
    "def get_data(variable='transient', f = files[0]):\n",
    "    ncfile = f\n",
    "    v_var  = nc.Dataset(ncfile,'r')\n",
    "    data   = v_var.variables\n",
    "    each_model_name = data[variable][:]\n",
    "    v_var.close()\n",
    "    return each_model_name\n"
   ]
  },
  {
   "cell_type": "code",
   "execution_count": 6,
   "metadata": {},
   "outputs": [],
   "source": [
    "ncfile = \"/project2/tas1/pragallva/Summer_quarter_2019/exp_data/isca_repeat/HC0_la50m_oc50m/HC0_la50m_oc50m0.nc\"\n",
    "v_var  = nc.Dataset(ncfile,'r')\n",
    "data   = v_var.variables\n"
   ]
  },
  {
   "cell_type": "code",
   "execution_count": 22,
   "metadata": {},
   "outputs": [
    {
     "data": {
      "text/plain": [
       "array([2.71046293e-02, 1.59645674e-01, 5.07758303e-01, 1.37660832e+00,\n",
       "       3.24380625e+00, 6.76104664e+00, 1.26635594e+01, 2.16195979e+01,\n",
       "       3.40726255e+01, 5.01352214e+01, 6.95690194e+01, 9.18477094e+01,\n",
       "       1.16271923e+02, 1.42096097e+02, 1.68635399e+02, 1.95336255e+02,\n",
       "       2.21808528e+02, 2.47826628e+02, 2.73310336e+02, 2.98295634e+02,\n",
       "       3.22903309e+02, 3.47310180e+02, 3.71725336e+02, 3.96372034e+02,\n",
       "       4.21474891e+02, 4.47251538e+02, 4.73907768e+02, 5.01635296e+02,\n",
       "       5.30611356e+02, 5.60999576e+02, 5.92951685e+02, 6.26609729e+02,\n",
       "       6.62108567e+02, 6.99578480e+02, 7.39147750e+02, 7.80945091e+02,\n",
       "       8.25101870e+02, 8.71754013e+02, 9.21043573e+02, 9.73119947e+02,\n",
       "       1.00000000e+03])"
      ]
     },
     "execution_count": 22,
     "metadata": {},
     "output_type": "execute_result"
    }
   ],
   "source": [
    "np.append((data['pfull'][:]),1000)"
   ]
  },
  {
   "cell_type": "code",
   "execution_count": 5,
   "metadata": {},
   "outputs": [],
   "source": [
    "transient    = [get_data('transient', f) for f in files]\n",
    "transientday = [get_data('transient', f) for f in files]\n",
    "stationary   = [get_data('stationary', f) for f in files]"
   ]
  },
  {
   "cell_type": "code",
   "execution_count": 6,
   "metadata": {},
   "outputs": [],
   "source": [
    "lons         = [get_data('lon', f) for f in files]\n",
    "lats         = [get_data('lat', f) for f in files]\n",
    "mons         = [get_data('mon', f) for f in files]\n",
    "years        = [get_data('year',f) for f in files]"
   ]
  },
  {
   "cell_type": "code",
   "execution_count": 7,
   "metadata": {},
   "outputs": [],
   "source": [
    "def interpolate(field=transient, ax=-1, x=lons, orig=0, new=8, filled=1): \n",
    "        X_orig = x[orig].filled(0)\n",
    "        X_new  = x[new].filled(0)\n",
    "        if filled == 1:           \n",
    "            Y      = field[orig].filled(0)\n",
    "        else :\n",
    "            Y      = field[orig]\n",
    "        interpolation_function = interp1d(X_orig, Y, axis=ax, fill_value=\"extrapolate\", kind='linear')\n",
    "        new_field = interpolation_function(X_new)\n",
    "        return new_field"
   ]
  },
  {
   "cell_type": "code",
   "execution_count": 8,
   "metadata": {},
   "outputs": [],
   "source": [
    "transient_lon = [interpolate( field=transient,     ax=-1, x=lons, orig=o, new=8 ) for o in range(len(models)) ]\n",
    "transient_lat = [interpolate( field=transient_lon, ax=-2, x=lats, orig=o, new=8, filled=0) for o in range(len(models)) ]\n"
   ]
  },
  {
   "cell_type": "code",
   "execution_count": 9,
   "metadata": {},
   "outputs": [],
   "source": [
    "transientday_lon = [interpolate( field=transientday,     ax=-1, x=lons, orig=o, new=8 ) for o in range(len(models)) ]\n",
    "transientday_lat = [interpolate( field=transientday_lon, ax=-2, x=lats, orig=o, new=8, filled=0) for o in range(len(models)) ]\n"
   ]
  },
  {
   "cell_type": "code",
   "execution_count": 10,
   "metadata": {},
   "outputs": [],
   "source": [
    "stationary_lon = [interpolate( field=stationary,     ax=-1, x=lons, orig=o, new=8 ) for o in range(len(models)) ]\n",
    "stationary_lat = [interpolate( field=stationary_lon, ax=-2, x=lats, orig=o, new=8, filled=0) for o in range(len(models)) ]\n"
   ]
  },
  {
   "cell_type": "code",
   "execution_count": 11,
   "metadata": {},
   "outputs": [],
   "source": [
    "transient_final    = np.array(transient_lat)\n",
    "transientday_final = np.array(transientday_lat)\n",
    "stationary_final   = np.array(stationary_lat)"
   ]
  },
  {
   "cell_type": "code",
   "execution_count": 12,
   "metadata": {},
   "outputs": [],
   "source": [
    "lat = lats[8].filled(0)\n",
    "lon = lons[8].filled(0)"
   ]
  },
  {
   "cell_type": "code",
   "execution_count": 21,
   "metadata": {},
   "outputs": [],
   "source": [
    "cmip5_isla_data = {\"transient\": transient_final,\\\n",
    "                   \"transientday\": transientday_final,\\\n",
    "                   \"stationary\": stationary_final, \\\n",
    "                   \"lat\": lat,\\\n",
    "                   \"lon\": lon,\n",
    "                   \"mon\": mons[0].filled(0),\\\n",
    "                   \"year\": years[0].filled(0),\\\n",
    "                   \"model\": models}\n"
   ]
  },
  {
   "cell_type": "code",
   "execution_count": 22,
   "metadata": {},
   "outputs": [],
   "source": [
    "destination = \"/project2/tas1/pragallva/Summer_quarter_2019/post_process_data/\"\n",
    "make_sure_path_exists(destination)"
   ]
  },
  {
   "cell_type": "code",
   "execution_count": 23,
   "metadata": {},
   "outputs": [],
   "source": [
    "save(destination+\"cmip5_isla_data.hkl\",cmip5_isla_data)"
   ]
  },
  {
   "cell_type": "code",
   "execution_count": null,
   "metadata": {},
   "outputs": [],
   "source": []
  },
  {
   "cell_type": "code",
   "execution_count": null,
   "metadata": {},
   "outputs": [],
   "source": []
  },
  {
   "cell_type": "code",
   "execution_count": null,
   "metadata": {},
   "outputs": [],
   "source": []
  }
 ],
 "metadata": {
  "kernelspec": {
   "display_name": "Python 3",
   "language": "python",
   "name": "python3"
  },
  "language_info": {
   "codemirror_mode": {
    "name": "ipython",
    "version": 3
   },
   "file_extension": ".py",
   "mimetype": "text/x-python",
   "name": "python",
   "nbconvert_exporter": "python",
   "pygments_lexer": "ipython3",
   "version": "3.7.1"
  }
 },
 "nbformat": 4,
 "nbformat_minor": 2
}
