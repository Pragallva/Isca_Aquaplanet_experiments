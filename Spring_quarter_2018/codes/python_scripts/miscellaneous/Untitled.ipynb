{
 "cells": [
  {
   "cell_type": "code",
   "execution_count": 2,
   "metadata": {
    "collapsed": true
   },
   "outputs": [],
   "source": [
    "%matplotlib inline\n",
    "import matplotlib as mpl\n",
    "#mpl.use('Agg')\n",
    "import numpy as np\n",
    "import pylab as py\n",
    "#import Extract_ncfile_save_fluxes_radiation\n",
    "#import Reload_save_interpolated as svintp\n",
    "import matplotlib.cm as cm\n",
    "from reverse_cmap import rcmap\n",
    "import sys\n",
    "import os\n",
    "import errno\n",
    "import netCDF4 as nc\n",
    "\n",
    "BuRd = rcmap(cm.RdBu)\n",
    "\n",
    "import hickle as hkl\n",
    "\n",
    "#source_dirc=svintp.source\n",
    "#exp_dirc=[\"aqua_2m/\",\"aqua_20m/\",\"land_rec20m/\"]\n",
    "\n",
    "## A function to save a dictionary ##\n",
    "def save(filename,dictionary):\n",
    "    hkl.dump(dictionary, filename, mode='w')\n",
    "\n",
    "## A function to load a dictionary ## \n",
    "def load(filename):\n",
    "    dictionary = hkl.load(filename)\n",
    "    return dictionary\n",
    "\n",
    "def make_sure_path_exists(path):\n",
    "    try:\n",
    "        os.makedirs(path)\n",
    "    except OSError as exception:\n",
    "        if exception.errno != errno.EEXIST:\n",
    "            raise\n",
    "\n",
    "# dirc=sys.argv\n",
    "\n",
    "####################\n",
    "#### smoothening ###\n",
    "####################\n",
    "\n",
    "def smooth(y, box_pts):\n",
    "    box = np.ones(box_pts)/box_pts\n",
    "    y_smooth = np.convolve(y, box, mode='same')\n",
    "    return y_smooth\n",
    "\n",
    "#source='/project2/tas1/pragallva/Fall_quarter_2017/post_process_data/land_realtest/'\n",
    "source_dir='/project2/tas1/pragallva/Fall_quarter_2017/post_process_data/'\n",
    "source = source_dir+'aqua_2m/'\n",
    "            \n",
    "make_sure_path_exists(\"/project2/tas1/pragallva/Spring_quarter_2018/figures/\")\n",
    "make_sure_path_exists(\"/project2/tas1/pragallva/Spring_quarter_2018/figures/intensity/\")\n",
    "\n",
    "fig_dest=\"/project2/tas1/pragallva/Spring_quarter_2018/figures/intensity/\"\n",
    "\n",
    "a=6371.0e3\n",
    "R=a"
   ]
  },
  {
   "cell_type": "code",
   "execution_count": 3,
   "metadata": {
    "collapsed": true
   },
   "outputs": [],
   "source": [
    "import glob\n",
    "import numpy as np\n",
    "import scipy.io as sio\n",
    "import pylab as py\n",
    "from scipy import interpolate\n",
    "from scipy.interpolate import interp1d\n",
    "from scipy import stats\n",
    "\n",
    "#### Invoke all the files\n",
    "\n",
    "NC=(glob.glob('/project2/tas1/pragallva/Tiffany_ECHAM_compiled/*.nc'))"
   ]
  },
  {
   "cell_type": "code",
   "execution_count": 4,
   "metadata": {
    "collapsed": false
   },
   "outputs": [
    {
     "data": {
      "text/plain": [
       "['/project2/tas1/pragallva/Tiffany_ECHAM_compiled/BOT_rp000058_0010_39.nc',\n",
       " '/project2/tas1/pragallva/Tiffany_ECHAM_compiled/BOT_rp000046_0010_39.nc',\n",
       " '/project2/tas1/pragallva/Tiffany_ECHAM_compiled/BOT_rp000086_0010_39.nc',\n",
       " '/project2/tas1/pragallva/Tiffany_ECHAM_compiled/BOT_rp000034_0010_39.nc']"
      ]
     },
     "execution_count": 4,
     "metadata": {},
     "output_type": "execute_result"
    }
   ],
   "source": [
    "NC"
   ]
  },
  {
   "cell_type": "code",
   "execution_count": 5,
   "metadata": {
    "collapsed": true
   },
   "outputs": [],
   "source": [
    "m5_nc=nc.Dataset(NC[2],'r'); \n",
    "m10_nc=nc.Dataset(NC[3],'r'); \n",
    "m50_nc=nc.Dataset(NC[1],'r'); \n",
    "m100_nc=nc.Dataset(NC[0],'r');\n",
    "keys=m5_nc.variables.keys()\n",
    "# print keys"
   ]
  },
  {
   "cell_type": "code",
   "execution_count": 6,
   "metadata": {
    "collapsed": false
   },
   "outputs": [
    {
     "name": "stdout",
     "output_type": "stream",
     "text": [
      "0 .  lon -- longitude\n",
      "1 .  lat -- latitude\n",
      "3 .  tradl -- thermal radiation 200mb\n",
      "4 .  sradl -- solar radiation 200mb\n",
      "5 .  trafl -- thermal radiation 200mb (clear sky)\n",
      "6 .  srafl -- solar radiation 200mb (clear sky)\n",
      "7 .  trfliac -- LW flux over ice\n",
      "8 .  trflwac -- LW flux over water\n",
      "9 .  trfllac -- LW flux over land\n",
      "10 .  sofliac -- SW flux over ice\n",
      "11 .  soflwac -- SW flux over water\n",
      "12 .  sofllac -- SW flux over land\n",
      "13 .  friac -- ice cover (fraction of grid box)\n",
      "17 .  tsw -- surface temperature of water\n",
      "18 .  ustri -- zonal      wind stress over ice\n",
      "19 .  vstri -- meridional wind stress over ice\n",
      "20 .  ustrw -- zonal      wind stress over water\n",
      "21 .  vstrw -- meridional wind stress over water\n",
      "22 .  ustrl -- zonal      wind stress over land\n",
      "23 .  vstrl -- meridional wind stress over land\n",
      "24 .  ahfliac -- latent heat flux over ice\n",
      "25 .  ahflwac -- latent heat flux over water\n",
      "26 .  ahfllac -- latent heat flux over land\n",
      "27 .  evapiac -- evaporation over ice\n",
      "28 .  evapwac -- evaporation over water\n",
      "29 .  evaplac -- evaporation over land\n",
      "30 .  az0i -- roughness length over ice\n",
      "31 .  az0w -- roughness length over water\n",
      "32 .  ahfsiac -- sensible heat flux over ice\n",
      "33 .  ahfswac -- sensible heat flux over water\n",
      "34 .  ahfslac -- sensible heat flux over land\n",
      "35 .  alsoi -- albedo of ice\n",
      "36 .  alsow -- albedo of water\n",
      "37 .  alsol -- albedo of land\n",
      "38 .  aps -- surface pressure\n",
      "39 .  apmeb -- vert. integr. tendencies of water\n",
      "40 .  tslm1 -- surface temperature of land\n",
      "41 .  ws -- soil wetness\n",
      "42 .  sn -- snow depth\n",
      "43 .  aprl -- large scale precipitation\n",
      "44 .  aprc -- convective  precipitation\n",
      "45 .  aprs -- snow fall\n",
      "46 .  vdis -- boundary layer dissipation\n",
      "47 .  ahfs -- sensible heat flux\n",
      "48 .  ahfl -- latent heat flux\n",
      "49 .  xivi -- vertically integrated cloud ice\n",
      "50 .  slp -- mean sea level pressure\n",
      "51 .  aclcov -- total cloud cover (mean)\n",
      "52 .  u10 -- 10m u-velocity\n",
      "53 .  v10 -- 10m v-velocity\n",
      "54 .  temp2 -- 2m temperature\n",
      "55 .  dew2 -- 2m dew point temperature\n",
      "56 .  tsurf -- surface temperature\n",
      "57 .  wind10 -- 10m windspeed\n",
      "58 .  albedo -- surface albedo\n",
      "59 .  srads -- net surface solar radiation\n",
      "60 .  trads -- net surface thermal radiation\n",
      "61 .  srad0 -- net top solar radiation\n",
      "62 .  trad0 -- top thermal radiation (OLR)\n",
      "63 .  ustr -- u-stress\n",
      "64 .  vstr -- v-stress\n",
      "65 .  evap -- evaporation\n",
      "66 .  srad0d -- top incoming solar radiation\n",
      "67 .  srafs -- net surf. solar radiation   (clear sky)\n",
      "68 .  trafs -- net surf. thermal radiation (clear sky)\n",
      "69 .  sraf0 -- net top solar radiation     (clear sky)\n",
      "70 .  traf0 -- net top thermal radiation   (clear sky)\n",
      "71 .  sclf0 -- SW top cloud forcing (178-187)\n",
      "72 .  tclf0 -- LW top cloud forcing (179-188)\n",
      "73 .  wl -- skin reservoir content\n",
      "74 .  vdisgw -- gravity wave dissipation\n",
      "75 .  srad0u -- top solar radiation upward\n",
      "76 .  sradsu -- surface solar radiation upward\n",
      "77 .  tradsu -- surface thermal radiation upward\n",
      "78 .  ahfcon -- conductive heat flux through ice\n",
      "79 .  ahfres -- melting of ice\n",
      "80 .  seaice -- ice cover (fraction of 1-SLM)\n",
      "81 .  siced -- ice depth\n",
      "82 .  gld -- glacier depth\n",
      "83 .  sni -- water equivalent of snow on ice\n",
      "84 .  wimax -- maximum 10m-wind speed\n",
      "85 .  wsmx -- field capacity of soil\n",
      "86 .  qvi -- vertically integrated water vapor\n",
      "87 .  xlvi -- vertically integrated cloud water\n",
      "88 .  snc -- snow depth at the canopy\n",
      "89 .  abso4 -- antropogenic sulfur burden\n",
      "90 .  precip -- total precipitation\n"
     ]
    }
   ],
   "source": [
    "longname=[0,0,0]\n",
    "\n",
    "for i in range(0,len(keys)):\n",
    "    if ( (i!=2) and (i!=15) and (i!=14) and (i!=16) ) :\n",
    "#         longname=np.append(longname, m5_nc.variables[keys[i]].long_name)\n",
    "        print i,'. ',keys[i], '--' ,m5_nc.variables[keys[i]].long_name"
   ]
  },
  {
   "cell_type": "code",
   "execution_count": 8,
   "metadata": {
    "collapsed": false
   },
   "outputs": [
    {
     "data": {
      "text/plain": [
       "(1, 12, 96, 192)"
      ]
     },
     "execution_count": 8,
     "metadata": {},
     "output_type": "execute_result"
    }
   ],
   "source": [
    "m5_nc.variables['evap'][:].shape"
   ]
  },
  {
   "cell_type": "code",
   "execution_count": 9,
   "metadata": {
    "collapsed": true
   },
   "outputs": [],
   "source": [
    "def RAD(X):\n",
    "    def R(y):\n",
    "        return y.mean(axis=-1).mean(axis=0).transpose()\n",
    "    SW_sfc= R(X['srads'][...]) # net surface solar radiation\n",
    "    SW_toa= R(X['srad0'][...]) # net top solar radiation\n",
    "    olr   = R(X['trad0'][...])    # top thermal radiation (OLR)\n",
    "    LW_sfc= R(X['trads'][...]) # net surface thermal radiation\n",
    "    shflx =R(X['ahfs'][...])    # ahfs -- sensible heat flux\n",
    "    lhflx =R(X['ahfl'][...])    # ahfl -- latent heat flux\n",
    "          \n",
    "    return SW_sfc, SW_toa, olr, LW_sfc, shflx, lhflx    "
   ]
  },
  {
   "cell_type": "code",
   "execution_count": 10,
   "metadata": {
    "collapsed": true
   },
   "outputs": [],
   "source": [
    "SW_sfc=np.zeros((4,96,12)); SW_toa=np.copy(SW_sfc); \n",
    "LW_sfc=np.copy(SW_sfc); shflx=np.copy(SW_sfc); \n",
    "lhflx=np.copy(SW_sfc); olr=np.copy(SW_sfc);\n",
    "\n",
    "X=[m5_nc, m10_nc, m50_nc, m100_nc]\n",
    "for i in range(4) :\n",
    "    SW_sfc[i,...], SW_toa[i,...], olr[i,...], LW_sfc[i,...], shflx[i,...], lhflx[i,...] = RAD(X[i])\n",
    "\n",
    "lat=m5_nc['lat'][:]"
   ]
  },
  {
   "cell_type": "code",
   "execution_count": 13,
   "metadata": {
    "collapsed": true
   },
   "outputs": [],
   "source": [
    "TOA= +SW_toa + olr                   ## downwards\n",
    "SFC= shflx + lhflx + LW_sfc + SW_sfc   ## upwards\n",
    "Net_rad=SFC+TOA\n",
    "\n",
    "SWABS= +SW_toa + SW_sfc\n",
    "SHF  = shflx + lhflx + LW_sfc\n",
    "Net_rad2= SWABS + SHF + olr"
   ]
  },
  {
   "cell_type": "code",
   "execution_count": 11,
   "metadata": {
    "collapsed": true
   },
   "outputs": [],
   "source": [
    "def zon_int(x):\n",
    "    y=x#*2*np.pi*np.cos(np.deg2rad(lat[:,None]))*a\n",
    "    return y/10**15\n",
    "\n",
    "import scipy.integrate as integrate\n",
    "def integrated(x):\n",
    "    l=np.deg2rad(lat[:,None])\n",
    "    x=x*np.cos(l)\n",
    "    #int_x  =integrate.cumtrapz(x[::-1,:],l[::-1],axis=0,initial=None) #  (This is basically integration from - 90 deg)\n",
    "    int_x_r=integrate.cumtrapz(x        ,l      ,axis=0,initial=None) #  (This is basically integration from + 90 deg) \n",
    "    avg_int_r=2*np.pi*a**2*(int_x_r[:-1,:]) #int_x[::-1,:][1:,:]+\n",
    "    return avg_int_r/10**15"
   ]
  },
  {
   "cell_type": "code",
   "execution_count": 38,
   "metadata": {
    "collapsed": false
   },
   "outputs": [
    {
     "data": {
      "image/png": "[encoded data removed]",
      "text/plain": [
       "<matplotlib.figure.Figure at 0x7f2fbc3d3650>"
      ]
     },
     "metadata": {},
     "output_type": "display_data"
    }
   ],
   "source": [
    "m=0\n",
    "k=integrated(Net_rad[0,...])\n",
    "py.plot(lat[1:-1],k[:,m] )\n",
    "py.plot(lat,(TE+SE+MM)[0,:,m])\n",
    "py.show()"
   ]
  },
  {
   "cell_type": "code",
   "execution_count": 19,
   "metadata": {
    "collapsed": true
   },
   "outputs": [],
   "source": [
    "MAT=(glob.glob('/project2/tas1/pragallva/Tiffany_ECHAM6/*.mat'))"
   ]
  },
  {
   "cell_type": "code",
   "execution_count": 20,
   "metadata": {
    "collapsed": true
   },
   "outputs": [],
   "source": [
    "m5=sio.loadmat(MAT[0]); \n",
    "m10=sio.loadmat(MAT[2]); \n",
    "m50=sio.loadmat(MAT[1]); \n",
    "m100=sio.loadmat(MAT[3]);"
   ]
  },
  {
   "cell_type": "code",
   "execution_count": 21,
   "metadata": {
    "collapsed": true
   },
   "outputs": [],
   "source": [
    "def MSE(X):\n",
    "    MM= (X['mean_cpt_monthly']+X['mean_gz_monthly']+X['mean_Lq_monthly']).mean(axis=1)\n",
    "    SE= (X['seddy_cpt_monthly']+X['seddy_gz_monthly']+X['seddy_Lq_monthly']).mean(axis=1)\n",
    "    TE= (X['teddy_cpt_monthly']+X['teddy_gz_monthly']+X['teddy_Lq_monthly']).mean(axis=1)\n",
    "    return zon_int(MM), zon_int(SE),  zon_int(TE)    ## Actually it is already "
   ]
  },
  {
   "cell_type": "code",
   "execution_count": 22,
   "metadata": {
    "collapsed": true
   },
   "outputs": [],
   "source": [
    "MM=np.zeros((4,96,12)); SE=np.copy(MM); TE=np.copy(MM)"
   ]
  },
  {
   "cell_type": "code",
   "execution_count": 23,
   "metadata": {
    "collapsed": true
   },
   "outputs": [],
   "source": [
    "X=[m5, m10, m50, m100]\n",
    "for i in range(4) :\n",
    "    MM[i,...], SE[i,...], TE[i,...] = MSE(X[i])"
   ]
  },
  {
   "cell_type": "code",
   "execution_count": 24,
   "metadata": {
    "collapsed": false
   },
   "outputs": [
    {
     "data": {
      "image/png": "[encoded data removed]",
      "text/plain": [
       "<matplotlib.figure.Figure at 0x7f30021b5d90>"
      ]
     },
     "metadata": {},
     "output_type": "display_data"
    }
   ],
   "source": [
    "for m in range(0,4):\n",
    "    py.plot(lat[1:-1], integrated(Net_rad[m,...]).mean(axis=-1))\n",
    "    py.plot(lat[:], (TE+SE+MM)[m,...].mean(axis=-1))\n",
    "py.show()"
   ]
  },
  {
   "cell_type": "code",
   "execution_count": null,
   "metadata": {
    "collapsed": true
   },
   "outputs": [],
   "source": []
  }
 ],
 "metadata": {
  "kernelspec": {
   "display_name": "Python 2",
   "language": "python",
   "name": "python2"
  },
  "language_info": {
   "codemirror_mode": {
    "name": "ipython",
    "version": 2
   },
   "file_extension": ".py",
   "mimetype": "text/x-python",
   "name": "python",
   "nbconvert_exporter": "python",
   "pygments_lexer": "ipython2",
   "version": "2.7.11"
  }
 },
 "nbformat": 4,
 "nbformat_minor": 2
}
