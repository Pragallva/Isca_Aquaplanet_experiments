{
 "cells": [
  {
   "cell_type": "code",
   "execution_count": 1,
   "metadata": {
    "collapsed": false,
    "deletable": true,
    "editable": true
   },
   "outputs": [
    {
     "name": "stdout",
     "output_type": "stream",
     "text": [
      "import successful\n"
     ]
    }
   ],
   "source": [
    "import netCDF4 as nc\n",
    "import pylab as py\n",
    "import numpy as np\n",
    "from scipy.interpolate import interp1d\n",
    "import matplotlib as mpl\n",
    "import matplotlib.cm as cm\n",
    "import logging\n",
    "import sys\n",
    "import os\n",
    "import errno\n",
    "\n",
    "def make_sure_path_exists(path):\n",
    "    try:\n",
    "        os.makedirs(path)\n",
    "    except OSError as exception:\n",
    "        if exception.errno != errno.EEXIST:\n",
    "            raise\n",
    "\n",
    "dirc=sys.argv\n",
    "source='/project2/tas1/pragallva/Fall_quarter_2017/exp_data/'+dirc[1]+'/'\n",
    "one_year=source+dirc[1]+'_'+dirc[2]+'.nc'\n",
    "\n",
    "\n",
    "destination='/project2/tas1/pragallva/Fall_quarter_2017/post_process_data/'+dirc[1]+'_'+dirc[2]\n",
    "make_sure_path_exists(destination);\n",
    "v_variables = nc.Dataset(one_year,'r')\n",
    "v_var=v_variables.variables\n",
    "\n",
    "\n",
    "\n",
    "fnn = one_year\n",
    "fn = fnn.split('.nc',1)[0]\n",
    "\n",
    "logging.basicConfig(filename=fn+'.log',level=logging.DEBUG, format='%(asctime)s %(message)s', datefmt='%m/%d/%Y %I:%M:%S %p')\n",
    "\n",
    "logging.debug('imported nc file')\n",
    "\n",
    "a=6371.0e3  ## m\n",
    "start=0\n",
    "end=-1\n",
    "\n",
    "Rd=286.9 # J/Kg\n",
    "Rv=461.5 # J/kg\n",
    "Cp= 1004.64 # J/kg/deg\n",
    "g= 9.8\n",
    "L=2.500e6 # J/kg\n",
    "#mon=12\n",
    "\n",
    "times=v_var['time'][:]\n",
    "mon=len(times)\n",
    "sigma_full=v_var['pfull'][::-1]\n",
    "sigma_half=v_var['phalf'][::-1]\n",
    "sigma_half[-1]=0.0001\n",
    "p_sfc=v_var['ps'][:]  ## Pa\n",
    "lat=v_var['lat'][:]\n",
    "lon=v_var['lon'][:]\n",
    "\n",
    "logging.debug('imported coordinates')"
   ]
  },
  {
   "cell_type": "code",
   "execution_count": 2,
   "metadata": {
    "collapsed": true,
    "deletable": true,
    "editable": true
   },
   "outputs": [],
   "source": [
    "pres_full=v_var['pres_full'][:]\n",
    "pres_half=v_var['pres_half'][:]\n",
    "\n",
    "logging.debug('imported pressure')"
   ]
  },
  {
   "cell_type": "code",
   "execution_count": 3,
   "metadata": {
    "collapsed": false,
    "deletable": true,
    "editable": true
   },
   "outputs": [],
   "source": [
    "########################################\n",
    "## Change to pressure levels ##\n",
    "########################################\n",
    "\n",
    "def convert_sigma_to_pressure_coordinates_initial(sigma):\n",
    "    ## stack surface pressure to all 26 pressure levels\n",
    "    ps=np.stack([p_sfc]*len(sigma), axis=1)\n",
    "    p=(sigma[None,:,None,None]/1000.0)*ps ## Because sigma came with 1000 already multiplied to it\n",
    "    return p\n",
    "\n",
    "p_half    =convert_sigma_to_pressure_coordinates_initial(sigma_half)\n",
    "p_full    =convert_sigma_to_pressure_coordinates_initial(sigma_full)\n",
    "\n",
    "logging.debug('calculated pressure')"
   ]
  },
  {
   "cell_type": "code",
   "execution_count": 4,
   "metadata": {
    "collapsed": false,
    "deletable": true,
    "editable": true
   },
   "outputs": [],
   "source": [
    "time      =nc.num2date(times,units=v_var['time'].units, calendar=v_var['time'].calendar)"
   ]
  },
  {
   "cell_type": "code",
   "execution_count": 10,
   "metadata": {
    "collapsed": true,
    "deletable": true,
    "editable": true
   },
   "outputs": [],
   "source": [
    "temp      =v_var['temp'][:,::-1,:,:] ## (time, lev, lat, lon)\n",
    "logging.debug('saved temp')\n",
    "v_comp    =v_var['vcomp'][:,::-1,:,:]\n",
    "logging.debug('saved v_comp')\n",
    "u_comp    =v_var['ucomp'][:,::-1,:,:]\n",
    "logging.debug('saved u_comp')\n",
    "Z         =v_var['height'][:,::-1,:,:]\n",
    "logging.debug('saved Z')\n",
    "q         =v_var['sphum'][:,::-1,:,:]  ### Specific humidity\n",
    "logging.debug('saved q')\n",
    "  \n",
    "virtual_T = (1.0+q*(Rv/Rd-1))*temp\n",
    "logging.debug('calculated virtual T')"
   ]
  },
  {
   "cell_type": "code",
   "execution_count": 13,
   "metadata": {
    "collapsed": true,
    "deletable": true,
    "editable": true
   },
   "outputs": [],
   "source": [
    "u_sq= u_comp**2\n",
    "v_sq= v_comp**2\n",
    "KE  = (u_sq+v_sq)/2.0\n",
    "\n",
    "logging.debug('calculated KE')"
   ]
  },
  {
   "cell_type": "code",
   "execution_count": null,
   "metadata": {
    "collapsed": true,
    "deletable": true,
    "editable": true
   },
   "outputs": [],
   "source": [
    "###################################\n",
    "### calculate the geopotential ####\n",
    "###################################\n",
    "\n",
    "def calulate_geopotential(p_half) :\n",
    "    virtual_T =  (1.0+q*(Rv/Rd-1))*temp\n",
    "    z=(np.copy(p_half));z[:,0,:,:]=0.0\n",
    "    for i in range(0,len(sigma_full)): ### Note that\n",
    "        z[:,i+1,:,:]=z[:,i,:,:]-Rd*( np.log(p_half[:,i+1,:,:])-np.log(p_half[:,i,:,:]) )*virtual_T[:,i,:,:]*g**-1\n",
    "    interpolated_data=np.copy(p_full)\n",
    "    for mo in range(mon):\n",
    "        for la in range(len(lat)):\n",
    "            for lo in range(len(lon)):\n",
    "                interpolation_function = interp1d( np.log(p_half[mo,:,la,lo]), z[mo,:,la,lo],kind='linear')\n",
    "                interpolated_data[mo,:,la,lo]=interpolation_function(np.log(p_full[mo,:,la,lo]))\n",
    "    return interpolated_data\n",
    "\n",
    "Z_calc=calulate_geopotential(p_half)\n",
    "\n",
    "logging.debug('calculated geopotential height')"
   ]
  },
  {
   "cell_type": "markdown",
   "metadata": {
    "deletable": true,
    "editable": true
   },
   "source": [
    "MSE fluxes"
   ]
  },
  {
   "cell_type": "code",
   "execution_count": null,
   "metadata": {
    "collapsed": true,
    "deletable": true,
    "editable": true
   },
   "outputs": [],
   "source": [
    "CpT     =  Cp*temp\n",
    "Lq      =  L*q\n",
    "gZ      =  g*Z\n",
    "gZ_calc =  g*Z_calc\n",
    "MSE     = (CpT+Lq+gZ+KE)\n",
    "MSE_flux= v_comp * (MSE)\n",
    "\n",
    "logging.debug('MSE fluxes')\n",
    "\n",
    "def vertical_integral(arg,pressure):\n",
    "    integral=0\n",
    "    for i in range(0,len(sigma_full)):\n",
    "        integral=integral+arg[:,i,:,:]*(-pressure[:,i+1,:,:]+pressure[:,i,:,:])/g\n",
    "    return integral\n",
    "\n",
    "vert_MSE_flux       = vertical_integral(MSE_flux  ,pres_half)\n",
    "logging.debug('vertical integartion : MSE fluxes')\n",
    "vert_sensible_flux  = vertical_integral(CpT*v_comp,pres_half)\n",
    "logging.debug('vertical integration : sensible fluxes')\n",
    "vert_latent_flux    = vertical_integral(Lq*v_comp ,pres_half)\n",
    "logging.debug('vertical integration : latent fluxes')\n",
    "vert_potential_flux = vertical_integral(gZ*v_comp ,pres_half)\n",
    "logging.debug('vertical integration : nc potential fluxes')\n",
    "vert_potential_flux_calc = vertical_integral(gZ_calc*v_comp ,p_half)\n",
    "logging.debug('vertical integration : calc potential fluxes')\n",
    "vert_KE_flux        = vertical_integral(KE*v_comp ,pres_half)\n",
    "logging.debug('vertical integration : kinetic energy fluxes')"
   ]
  },
  {
   "cell_type": "markdown",
   "metadata": {
    "deletable": true,
    "editable": true
   },
   "source": [
    "RADIATION DATA"
   ]
  },
  {
   "cell_type": "code",
   "execution_count": null,
   "metadata": {
    "collapsed": true,
    "deletable": true,
    "editable": true
   },
   "outputs": [],
   "source": [
    "SW_sfc=v_var['flux_sw'][...] # Net SW surface flux\n",
    "LW_sfc=v_var['flux_lw'][...] # LW surface flux\n",
    "olr   =v_var['olr'][...]     # Outgoing LW radiation\n",
    "SW_toa=v_var['toa_sw'][...]  # Net TOA SW flux\n",
    "\n",
    "shflx=v_var['flux_t'][...]   ### Surface sensible heat flux\n",
    "lhflx=v_var['flux_lhe'][...] #### Latent heat of fusion \n",
    "\n",
    "TOA= SW_toa+ olr  + shflx    + lhflx\n",
    "SFC= shflx + lhflx+ LW_u_sfc + SW_sfc + LW_sfc\n",
    "Net_rad=SFC-TOA\n",
    "\n",
    "logging.debug(\"radiation-- is that right ?\")"
   ]
  },
  {
   "cell_type": "markdown",
   "metadata": {
    "deletable": true,
    "editable": true
   },
   "source": [
    "$\\frac{dm}{dt}$"
   ]
  },
  {
   "cell_type": "code",
   "execution_count": null,
   "metadata": {
    "collapsed": true,
    "deletable": true,
    "editable": true
   },
   "outputs": [],
   "source": [
    "zonal_MSE_flux = vert_MSE_flux.mean(axis=-1)\n",
    "dm_by_dt=np.copy(zonal_MSE_flux)\n",
    "dt=4*60*60\n",
    "for m in range(dm_by_dt.shape[0]):\n",
    "    dm_by_dt[m,:]=np.gradient( zonal_MSE_flux[m,:],dt)\n",
    "\n",
    "logging.debug(\"calculated dm_by_dt\")"
   ]
  },
  {
   "cell_type": "markdown",
   "metadata": {
    "deletable": true,
    "editable": true
   },
   "source": [
    "SAVING AS A DICTIONARY"
   ]
  },
  {
   "cell_type": "code",
   "execution_count": null,
   "metadata": {
    "collapsed": true,
    "deletable": true,
    "editable": true
   },
   "outputs": [],
   "source": [
    "coord_dic       ={\"lat\":lat,\"lon\":lon,\"time\":time,\"p_sfc\":p_sfc,\"no_of_plevels\":len(sigma_full)}\n",
    "press_dic       ={\"p_full_nc\":pres_full[:,::-1,:,:],\"p_full_calc\":p_full}\n",
    "fluxes_dic      ={\"MSE_flux\":vert_MSE_flux,\"sensible_flux\":vert_sensible_flux,'latent_flux':vert_latent_flux,'potential_flux':vert_potential_flux,'potential_flux_calc':vert_potential_flux,'KE_flux':vert_KE_flux}\n",
    "rad_dic         ={\"SW_sfc\":SW_sfc,\"LW_sfc\":LW_sfc,'olr':olr,'SW_toa':SW_toa,'shflx':shflx,'lhflx':lhflx,'TOA':TOA,'SFC','Net_rad':Net_rad}\n",
    "\n",
    "zonal_fluxes_dic={\"MSE_flux\":vert_MSE_flux.mean(axis=-1),\"sensible_flux\":vert_sensible_flux.mean(axis=-1),'latent_flux':vert_latent_flux.mean(axis=-1),'potential_flux':vert_potential_flux.mean(axis=-1),'potential_flux_calc':vert_potential_flux.mean(axis=-1),'KE_flux':vert_KE_flux.mean(axis=-1)}\n",
    "zonal_rad_dic   ={\"SW_sfc\":SW_sfc.mean(axis=-1),\"LW_sfc\":LW_sfc.mean(axis=-1),'olr':olr.mean(axis=-1),'SW_toa':SW_toa.mean(axis=-1),'shflx':shflx.mean(axis=-1),'lhflx':lhflx.mean(axis=-1),'TOA':TOA.mean(axis=-1),'SFC','Net_rad':Net_rad.mean(axis=-1),'dm_by_dt':dm_by_dt}\n",
    "\n",
    "logging.debug(\"loaded dictionary\")"
   ]
  },
  {
   "cell_type": "code",
   "execution_count": 141,
   "metadata": {
    "collapsed": false,
    "deletable": true,
    "editable": true
   },
   "outputs": [
    {
     "name": "stdout",
     "output_type": "stream",
     "text": [
      "(1440, 40, 64, 128)\n",
      "(1440, 40, 64, 128)\n"
     ]
    }
   ],
   "source": [
    "import json\n",
    " \n",
    "json_coord        = json.dumps(coord_dic)\n",
    "json_press        = json.dumps(press_dic)\n",
    "json_fluxes       = json.dumps(fluxes_dic)\n",
    "json_rad          = json.dumps(rad_dic)\n",
    "json_zonal_fluxes = json.dumps(zonal_fluxes_dic)\n",
    "json_zonal_rad    = json.dumps(zonal_rad_dic)\n",
    "\n",
    "f1 = open(destination+\"coord_dic.json\",\"w\")\n",
    "f2 = open(destination+\"press_dic.json\",\"w\")\n",
    "f3 = open(destination+\"fluxes_dic.json\",\"w\")\n",
    "f4 = open(destination+\"rad_dic.json\",\"w\")\n",
    "f5 = open(destination+\"zonal_fluxes_dic.json\",\"w\")\n",
    "f6 = open(destination+\"zonal_rad_dic.json\",\"w\")\n",
    "\n",
    "f1.write(json_coord)       ; f1.close()\n",
    "f2.write(json_press)       ; f2.close()\n",
    "f3.write(json_fluxes)      ;f3.close()\n",
    "f4.write(json_rad)         ; f4.close()\n",
    "f5.write(json_zonal_fluxes); f5.close()\n",
    "f6.write(json_zonal_rad)   ; f6.close()\n",
    "\n",
    "logging.debug(\"successfully loaded dictionary\")"
   ]
  },
  {
   "cell_type": "code",
   "execution_count": 138,
   "metadata": {
    "collapsed": false,
    "deletable": true,
    "editable": true
   },
   "outputs": [
    {
     "data": {
      "text/plain": [
       "(1440, 64, 128)"
      ]
     },
     "execution_count": 138,
     "metadata": {},
     "output_type": "execute_result"
    }
   ],
   "source": []
  },
  {
   "cell_type": "code",
   "execution_count": null,
   "metadata": {
    "collapsed": true,
    "deletable": true,
    "editable": true
   },
   "outputs": [],
   "source": [
    "\n",
    "\n",
    "\n",
    "# ####################\n",
    "# #### soomthening ###\n",
    "# ####################\n",
    "# def smooth(y, box_pts):\n",
    "#     box_pts=5\n",
    "#     box = np.ones(box_pts)/box_pts\n",
    "#     y_smooth=np.copy(y)\n",
    "#     for m in range(mon):\n",
    "#         y_smooth[m,:] = np.convolve(y[m,:], box, mode='same')\n",
    "#     return y_smooth.transpose()\n",
    "\n",
    "# print \"successfully completed\"\n"
   ]
  }
 ],
 "metadata": {
  "kernelspec": {
   "display_name": "Python 2",
   "language": "python",
   "name": "python2"
  },
  "language_info": {
   "codemirror_mode": {
    "name": "ipython",
    "version": 2
   },
   "file_extension": ".py",
   "mimetype": "text/x-python",
   "name": "python",
   "nbconvert_exporter": "python",
   "pygments_lexer": "ipython2",
   "version": "2.7.11"
  }
 },
 "nbformat": 4,
 "nbformat_minor": 2
}
