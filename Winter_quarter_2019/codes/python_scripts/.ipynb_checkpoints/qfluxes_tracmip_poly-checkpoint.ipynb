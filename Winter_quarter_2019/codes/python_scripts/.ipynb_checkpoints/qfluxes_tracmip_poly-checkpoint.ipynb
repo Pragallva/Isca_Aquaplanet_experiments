{
 "cells": [
  {
   "cell_type": "code",
   "execution_count": 95,
   "metadata": {
    "collapsed": true,
    "deletable": true,
    "editable": true
   },
   "outputs": [],
   "source": [
    "%matplotlib inline\n",
    "import numpy as np\n",
    "import netCDF4 as nc\n",
    "import pylab as py\n",
    "\n",
    "py.rc('text', usetex=True)\n",
    "py.rc('font', family='serif', serif='Palatino',weight='bold')"
   ]
  },
  {
   "cell_type": "code",
   "execution_count": 96,
   "metadata": {
    "collapsed": true,
    "deletable": true,
    "editable": true
   },
   "outputs": [],
   "source": [
    "land=\"/project2/tas1/pragallva/Fall_quarter_2017/land_files/Ruth_full1.nc\"\n",
    "data=nc.Dataset(land,'r')\n",
    "mask=data.variables['land_mask'][:]\n",
    "\n",
    "lat=data.variables['lat'][:]\n",
    "lon=data.variables['lon'][:]"
   ]
  },
  {
   "cell_type": "code",
   "execution_count": 97,
   "metadata": {
    "collapsed": false,
    "deletable": true,
    "editable": true
   },
   "outputs": [],
   "source": [
    "\n",
    "a=6371e3\n",
    "import scipy.integrate as integrate\n",
    "def integrated(lat,x):\n",
    "    l=np.deg2rad(lat)\n",
    "    x=x*np.cos(l)\n",
    "    int_x  =integrate.cumtrapz(x[::-1],l[::-1],axis=0,initial=None) #  (This is basically integration from - 90 deg)\n",
    "    int_x_r=integrate.cumtrapz(x      ,l      ,axis=0,initial=None) #  (This is basically integration from + 90 deg) \n",
    "    avg_int_r=2*np.pi*a**2*(int_x[::-1][1:]+int_x_r[:-1])/2.0\n",
    "    return avg_int_r/10**15\n",
    "\n",
    "def P(N=1):\n",
    "    if N==1 :\n",
    "        p0=-50.1685 - 0.59; p1=4.9755; p2=-1.4162*0.1; p3=1.6743*0.001; p4=-6.8659*10**-6\n",
    "    else :\n",
    "        p0=-56.0193 - 0.59; p1=-6.4824; p2=-2.3494*0.1; p3=-3.4685*0.001; p4=-1.7732*10**-5\n",
    "    return p0,p1,p2,p3,p4\n",
    "\n",
    "N=P(1); S=P(-1)\n",
    "l=(lat)\n",
    "lS=l[:len(l)/2]\n",
    "lN=l[len(l)/2:]\n",
    "\n",
    "qN=np.zeros((len(l)/2)); qS=np.zeros((len(l)/2))\n",
    "for i in range(5):\n",
    "    qN=qN+N[i]*lN**i; qS=qS+S[i]*lS**i\n",
    "    \n",
    "q=np.append(qS,qN)\n",
    "qflux=integrated(lat,q)\n",
    "\n",
    "\n",
    "nlon=len(lon)        \n",
    "zonal_flux = np.squeeze(np.dstack([q]*nlon))\n",
    "zonal_flux[mask==1]=0"
   ]
  },
  {
   "cell_type": "code",
   "execution_count": 99,
   "metadata": {
    "collapsed": false
   },
   "outputs": [
    {
     "data": {
      "text/plain": [
       "<matplotlib.colorbar.Colorbar at 0x7f3d9e706190>"
      ]
     },
     "execution_count": 99,
     "metadata": {},
     "output_type": "execute_result"
    },
    {
     "data": {
      "image/png": "[encoded data removed]",
      "text/plain": [
       "<matplotlib.figure.Figure at 0x7f3d9fac20d0>"
      ]
     },
     "metadata": {},
     "output_type": "display_data"
    }
   ],
   "source": [
    "import numpy.ma as ma\n",
    "totalq=ma.array(zonal_flux, mask=mask)\n",
    "# zonal_flux[mask==1]=0\n",
    "py.contourf(zonal_flux,50);py.colorbar()"
   ]
  },
  {
   "cell_type": "code",
   "execution_count": 94,
   "metadata": {
    "collapsed": false
   },
   "outputs": [],
   "source": [
    "py.save('/project/tas1/pragallva/Fall_quarter_2017/Isca/input/tracmip_qflux.npy',zonal_flux)"
   ]
  },
  {
   "cell_type": "code",
   "execution_count": null,
   "metadata": {
    "collapsed": true
   },
   "outputs": [],
   "source": []
  },
  {
   "cell_type": "code",
   "execution_count": null,
   "metadata": {
    "collapsed": true
   },
   "outputs": [],
   "source": []
  },
  {
   "cell_type": "code",
   "execution_count": null,
   "metadata": {
    "collapsed": true
   },
   "outputs": [],
   "source": []
  }
 ],
 "metadata": {
  "kernelspec": {
   "display_name": "Python 2",
   "language": "python",
   "name": "python2"
  },
  "language_info": {
   "codemirror_mode": {
    "name": "ipython",
    "version": 2
   },
   "file_extension": ".py",
   "mimetype": "text/x-python",
   "name": "python",
   "nbconvert_exporter": "python",
   "pygments_lexer": "ipython2",
   "version": "2.7.11"
  }
 },
 "nbformat": 4,
 "nbformat_minor": 2
}
