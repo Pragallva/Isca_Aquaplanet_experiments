{
 "cells": [
  {
   "cell_type": "code",
   "execution_count": 1,
   "metadata": {
    "collapsed": false,
    "deletable": true,
    "editable": true
   },
   "outputs": [],
   "source": [
    "%matplotlib inline\n",
    "import matplotlib as mpl\n",
    "#mpl.use('Agg')\n",
    "import numpy as np\n",
    "import pylab as py\n",
    "#import Extract_ncfile_save_fluxes_radiation\n",
    "#import Reload_save_interpolated as svintp\n",
    "import matplotlib.cm as cm\n",
    "from reverse_cmap import rcmap\n",
    "import sys\n",
    "import os\n",
    "import errno\n",
    "import netCDF4 as nc\n",
    "from mpl_toolkits import mplot3d\n",
    "# from mayavi import mlab\n",
    "\n",
    "BuRd = rcmap(cm.RdBu)\n",
    "\n",
    "import hickle as hkl\n",
    "\n",
    "#source_dirc=svintp.source\n",
    "#exp_dirc=[\"aqua_2m/\",\"aqua_20m/\",\"land_rec20m/\"]\n",
    "\n",
    "## A function to save a dictionary ##\n",
    "def save(filename,dictionary):\n",
    "    hkl.dump(dictionary, filename, mode='w')\n",
    "\n",
    "## A function to load a dictionary ## \n",
    "def load(filename):\n",
    "    dictionary = hkl.load(filename)\n",
    "    return dictionary\n",
    "\n",
    "def make_sure_path_exists(path):\n",
    "    try:\n",
    "        os.makedirs(path)\n",
    "    except OSError as exception:\n",
    "        if exception.errno != errno.EEXIST:\n",
    "            raise\n",
    "\n",
    "# dirc=sys.argv\n",
    "\n",
    "####################\n",
    "#### smoothening ###\n",
    "####################\n",
    "\n",
    "def smooth(y, box_pts):\n",
    "    box = np.ones(box_pts)/box_pts\n",
    "    y_smooth = np.convolve(y, box, mode='same')\n",
    "    return y_smooth\n",
    "\n",
    "#source='/project2/tas1/pragallva/Fall_quarter_2017/post_process_data/land_realtest/'\n",
    "source_dir='/project2/tas1/pragallva/Spring_quarter/post_process_data/'\n",
    "source = source_dir+'aqua_2m/'\n",
    "            \n",
    "py.rc('text', usetex=True)\n",
    "py.rc('font', family='serif', serif='Palatino',weight='bold')\n",
    "\n",
    "a=6371.0e3\n",
    "R=a"
   ]
  },
  {
   "cell_type": "code",
   "execution_count": 2,
   "metadata": {},
   "outputs": [],
   "source": [
    "I1=r'$ ({\\Delta D \\Delta I_{m}})_{o}$'\n",
    "I2=r'$-(\\Delta D) (\\Delta I_{m})$'\n",
    "I3=r'$-(\\Delta D) {I_{m_{o}}}$'\n",
    "I4=r'$-{D_{o}} (\\Delta I_{m})$'\n",
    "ISUM=r'$\\Delta I =$ '+I1 +I2 +I3 +I4\n",
    "Iorig=r'$\\Delta I =$' + r'$\\Delta\\langle[\\overline{v^{\\prime}m^{\\prime}}]\\rangle$'"
   ]
  },
  {
   "cell_type": "code",
   "execution_count": 3,
   "metadata": {
    "collapsed": false,
    "deletable": true,
    "editable": true
   },
   "outputs": [],
   "source": [
    "import glob\n",
    "import numpy as np\n",
    "import scipy.io as sio\n",
    "import pylab as py\n",
    "from scipy import interpolate\n",
    "from scipy.interpolate import interp1d\n",
    "from scipy import stats\n",
    "\n",
    "#### Invoke all the files\n",
    "\n",
    "m5=(glob.glob('/project2/tas1/pragallva/Fall_quarter_2018/post_process_data/am2/HC0_la5m_oc5m/*.hkl'))\n",
    "# m10=(glob.glob('/project2/tas1/pragallva/Fall_quarter_2018/post_process_data/HC0_la10m_oc10m/*.hkl'))\n",
    "m50=(glob.glob('/project2/tas1/pragallva/Fall_quarter_2018/post_process_data/am2/HC0_la50m_oc50m/*.hkl'))\n",
    "#m100=(glob.glob('/project2/tas1/pragallva/Fall_quarter_2018/post_process_data/HC0_la100m_oc100m/*.hkl'))"
   ]
  },
  {
   "cell_type": "code",
   "execution_count": 4,
   "metadata": {
    "collapsed": false,
    "deletable": true,
    "editable": true
   },
   "outputs": [],
   "source": [
    "# m50"
   ]
  },
  {
   "cell_type": "code",
   "execution_count": 5,
   "metadata": {
    "collapsed": false,
    "deletable": true,
    "editable": true
   },
   "outputs": [],
   "source": [
    "# t=0;f=1;r=3;c=5;d=6; fv=4; dv=7; e=2;\n",
    "\n",
    "DEPTHS=[m5,m50]\n",
    "flux=[]\n",
    "flux_vert=[]\n",
    "div=[]\n",
    "div_vert=[]\n",
    "eke=[]\n",
    "temp=[]\n",
    "raw=[]\n",
    "for depth in DEPTHS:\n",
    "    f=0; e=1; mmcv=2; r=3; fv=4; c=5; d=6; dv=7; mmc=8;\n",
    "    flux.append(load(depth[f]))\n",
    "    flux_vert.append(load(depth[fv]))\n",
    "    div.append(load(depth[d])) \n",
    "    div_vert.append(load(depth[dv]))\n",
    "    raw.append(load(depth[r]))\n",
    "    eke.append(load(depth[e]))\n",
    "coord=load(m5[c])"
   ]
  },
  {
   "cell_type": "code",
   "execution_count": 6,
   "metadata": {},
   "outputs": [],
   "source": [
    "ncfile='/project2/tas1/pragallva/Fall_quarter_2018/exp_data/am2/HC0_la5m_oc5m/HC0_la5m_oc5m0.nc'\n",
    "v_var=nc.Dataset(ncfile,'r')\n",
    "sigma_full=v_var['pfull'][::-1]\n",
    "sigma_half=v_var['phalf'][::-1]\n",
    "lat_nc=v_var['lat']"
   ]
  },
  {
   "cell_type": "code",
   "execution_count": 7,
   "metadata": {},
   "outputs": [],
   "source": [
    "# m=0\n",
    "# lat=div[0]['latn']\n",
    "# ind=np.squeeze(np.where((lat>0) & (lat<90)))\n",
    "# py.figure(figsize=(10,5))\n",
    "# for d in range(len(DEPTHS)):\n",
    "#     py.subplot(2,2,d+1)\n",
    "#     x=np.squeeze(raw[d]['U'][:,:,:].mean(axis=-1).transpose())\n",
    "#     py.contourf(lat, (-sigma_full/1000), x,vmin=-60,vmax=60,cmap=cm.seismic); py.colorbar()"
   ]
  },
  {
   "cell_type": "code",
   "execution_count": 8,
   "metadata": {},
   "outputs": [],
   "source": [
    "def M(X):\n",
    "    return np.array(X)"
   ]
  },
  {
   "cell_type": "code",
   "execution_count": 9,
   "metadata": {},
   "outputs": [
    {
     "data": {
      "text/plain": [
       "(1741, 24, 12)"
      ]
     },
     "execution_count": 9,
     "metadata": {},
     "output_type": "execute_result"
    }
   ],
   "source": [
    "raw[0]['MSE'].shape"
   ]
  },
  {
   "cell_type": "code",
   "execution_count": 10,
   "metadata": {},
   "outputs": [],
   "source": [
    "lat=div[0]['latn']\n",
    "def M(X):\n",
    "    #X=X-X.mean(axis=0)[None,:]\n",
    "    return X\n",
    "Iswabs=[]; Ishf=[]; Idhdt=[]; Iolr=[]; Ine=[];\n",
    "ISW_sfc=[]; ISW_toa=[]; ILW_sfc=[]; Ishflx=[]; Ilhflx=[]; ISFC=[]; ITOA=[]; TS=[]; precip=[]; \n",
    "for depth in range(len(DEPTHS)):\n",
    "    Iswabs.append(M(flux[depth]['SWABS']))\n",
    "    Ishf.append(M(flux[depth]['SHF']))\n",
    "    Idhdt.append(M(flux[depth]['dhdt']))\n",
    "    Iolr.append(M(flux[depth]['olr']))\n",
    "    ISW_sfc.append(-1*M(flux[depth]['SW_sfc_d'])) ## up\n",
    "    ILW_sfc.append(M(-1*flux[depth]['LW_sfc_d'])) ## up\n",
    "    ISW_toa.append(M(flux[depth]['SW_toa_d']))    ## dn\n",
    "    Ishflx.append(M(flux[depth]['shflx_u']))      ## up\n",
    "    Ilhflx.append(M(flux[depth]['lhflx_u']))      ## up\n",
    "    \n",
    "    ISFC.append(M(flux[depth]['SFC_u']))\n",
    "    ITOA.append(M(flux[depth]['TOA_d']))\n",
    "    precip.append(M(flux[depth]['precip']))\n",
    "    \n",
    "    Ine.append(Iswabs[depth]+Ishf[depth]-Iolr[depth]-Idhdt[depth])"
   ]
  },
  {
   "cell_type": "code",
   "execution_count": 11,
   "metadata": {
    "collapsed": false,
    "deletable": true,
    "editable": true
   },
   "outputs": [],
   "source": [
    "TE=[]; MM=[]; SE=[]; INE=[]; TEv=[]; MMv=[]; SEv=[]; NEv=[]\n",
    "for depth in range(len(DEPTHS)):\n",
    "    TE.append(M(flux[depth]['TE']))\n",
    "    SE.append(M(flux[depth]['SE']))\n",
    "    MM.append(M(flux[depth]['MM']))\n",
    "    INE.append(TE[depth]+SE[depth]+MM[depth])\n",
    "    MMv.append(M(flux_vert[depth]['MM']))\n",
    "    SEv.append(M(flux_vert[depth]['SE']))\n",
    "    TEv.append(M(flux_vert[depth]['TE']))\n",
    "    NEv.append(M(flux_vert[depth]['NE']))"
   ]
  },
  {
   "cell_type": "code",
   "execution_count": 12,
   "metadata": {},
   "outputs": [
    {
     "data": {
      "text/plain": [
       "['Z', 'q', 'U', 'T', 'V', 'MSE', 'latn']"
      ]
     },
     "execution_count": 12,
     "metadata": {},
     "output_type": "execute_result"
    }
   ],
   "source": [
    "raw[0].keys()"
   ]
  },
  {
   "cell_type": "code",
   "execution_count": 13,
   "metadata": {},
   "outputs": [],
   "source": [
    "Z=[]; q=[]; U=[]; T=[]; V=[]; MSE=[];\n",
    "for depth in range(len(DEPTHS)):\n",
    "    Z.append(M(raw[depth]['Z']))\n",
    "    q.append(M(raw[depth]['q']))\n",
    "    U.append(M(raw[depth]['U']))\n",
    "    T.append(M(raw[depth]['T']))\n",
    "    MSE.append(M(raw[depth]['MSE']))\n"
   ]
  },
  {
   "cell_type": "code",
   "execution_count": 14,
   "metadata": {
    "collapsed": false,
    "deletable": true,
    "editable": true
   },
   "outputs": [],
   "source": [
    "div_TE=[]; div_MM=[]; div_SE=[]; div_NE=[]; div_TEv=[]; div_MMv=[]; div_SEv=[]; div_NEv=[]\n",
    "swabs=[]; shf=[]; olr=[];dhdt=[];ne=[];\n",
    "SW_sfc=[]; SW_toa=[]; LW_sfc=[]; shflx=[]; lhflx=[]; sfc=[]; toa=[]\n",
    "\n",
    "for depth in range(len(DEPTHS)):\n",
    "    div_TE.append(div[depth]['TE'])\n",
    "    div_SE.append(div[depth]['SE'])\n",
    "    div_MM.append(div[depth]['MM'])\n",
    "    div_NE.append(div_TE[depth]+div_SE[depth]+div_MM[depth])\n",
    "    \n",
    "    div_TEv.append(div_vert[depth]['TE'])\n",
    "    div_SEv.append(div_vert[depth]['SE'])\n",
    "    div_MMv.append(div_vert[depth]['MM'])\n",
    "    div_NEv.append(div_vert[depth]['NE'])\n",
    "    \n",
    "    swabs.append(div[depth]['SWABS'])\n",
    "    shf.append(div[depth]['SHF'])\n",
    "    dhdt.append(div[depth]['dhdt'])\n",
    "    olr.append(div[depth]['olr'])\n",
    "    ne.append(swabs[depth]+shf[depth]-olr[depth]-dhdt[depth])\n",
    "    \n",
    "    SW_sfc.append(-1*div[depth]['SW_sfc_d'])\n",
    "    LW_sfc.append(-1*div[depth]['LW_sfc_d'])\n",
    "    SW_toa.append(div[depth]['SW_toa_d'])\n",
    "    shflx.append(div[depth]['shflx_u'])\n",
    "    lhflx.append(div[depth]['lhflx_u'])\n",
    "    sfc.append(div[depth]['SFC_u'])\n",
    "    toa.append(div[depth]['TOA_d'])\n",
    "    "
   ]
  },
  {
   "cell_type": "markdown",
   "metadata": {
    "deletable": true,
    "editable": true
   },
   "source": [
    "# Average Northern and Southern Hemispheres"
   ]
  },
  {
   "cell_type": "code",
   "execution_count": 15,
   "metadata": {
    "collapsed": false,
    "deletable": true,
    "editable": true
   },
   "outputs": [],
   "source": [
    "TE=np.array(TE); SE=np.array(SE); MM=np.array(MM); NE=np.array(INE)\n",
    "TEv=np.array(TEv); SEv=np.array(SEv); MMv=np.array(MMv); NEv=np.array(NEv)\n",
    "div_TEv=np.array(div_TEv); div_SEv=np.array(div_SEv); div_MMv=np.array(div_MMv); div_NEv=np.array(div_NEv)\n",
    "\n",
    "Iswabs=np.array(Iswabs); Ishf=np.array(Ishf); Ine=np.array(Ine); Iolr=np.array(Iolr); Idhdt=np.array(Idhdt);\n",
    "ISW_sfc=np.array(ISW_sfc); ILW_sfc=np.array(ILW_sfc); ISW_toa=np.array(ISW_toa); Ishflx=np.array(Ishflx); Ilhflx=np.array(Ilhflx);\n",
    "\n",
    "ISFC=np.array(ISFC); ITOA=np.array(ITOA)\n",
    "\n",
    "Z=np.array(Z); q=np.array(q); U=np.array(U); T=np.array(T); V=np.array(V); MSE=np.array(MSE);\n"
   ]
  },
  {
   "cell_type": "code",
   "execution_count": 16,
   "metadata": {},
   "outputs": [],
   "source": [
    "# MSE.shape"
   ]
  },
  {
   "cell_type": "code",
   "execution_count": 17,
   "metadata": {},
   "outputs": [
    {
     "data": {
      "image/png": "[encoded data removed]",
      "text/plain": [
       "<matplotlib.figure.Figure at 0x7f972c26de50>"
      ]
     },
     "metadata": {},
     "output_type": "display_data"
    }
   ],
   "source": [
    "Cp=1000; L=2260*1000; g=10\n",
    "field=Cp*T+g*Z+L*q\n",
    "m=0\n",
    "lat=div[0]['latn']\n",
    "ind=np.squeeze(np.where((lat>0) & (lat<90)))\n",
    "py.figure(figsize=(10,5))\n",
    "for d in range(len(DEPTHS)):\n",
    "    py.subplot(2,2,d+1)\n",
    "    x=np.squeeze(field[d,:,:,:].mean(axis=-1).transpose())\n",
    "    py.contourf(lat,(-sigma_full/1000), x, 50,cmap=cm.seismic); py.colorbar()"
   ]
  },
  {
   "cell_type": "code",
   "execution_count": 18,
   "metadata": {
    "collapsed": false,
    "deletable": true,
    "editable": true
   },
   "outputs": [],
   "source": [
    "def N_S_avg(TE, SE, MM, NE, temp, lat, flux_flag=-1):\n",
    "    l_N=((lat>-0.1) & (lat<=90))            \n",
    "    l_S=((lat>=-90) & (lat<=0))\n",
    "    \n",
    "    avg = lambda x: (x[:,l_N,...]+flux_flag*np.roll(x[:,l_S,...][:,::-1,...], 6, axis=-1))/2.0\n",
    "    \n",
    "    TE1= avg(TE)\n",
    "    SE1= avg(SE)\n",
    "    NE1= avg(NE)\n",
    "    MM1= avg(MM)\n",
    "    temp= avg(temp)\n",
    "    \n",
    "    a= lambda x: np.append(x,x[...,0,None],axis=-1)\n",
    "    \n",
    "    return a(TE1), a(SE1), a(MM1), a(NE1), a(temp), lat[l_N]"
   ]
  },
  {
   "cell_type": "code",
   "execution_count": 19,
   "metadata": {
    "collapsed": false,
    "deletable": true,
    "editable": true
   },
   "outputs": [],
   "source": [
    "TE_a   ,SE_a     , MM_a   , NE_a     ,ignore,  lat_a = N_S_avg(TE, SE, MM, NE,NE, lat)\n",
    "TEv_a  ,SEv_a    , MMv_a  , NEv_a    ,ignore,  lat_a = N_S_avg(TEv, SEv, MMv, NEv,NEv, lat)\n",
    "Iswabs_a,Ishf_a  , Ine_a , Iolr_a, Idhdt_a, latr_a = N_S_avg( Iswabs,Ishf,Ine,Iolr,Idhdt, lat[1:-1] )\n",
    "ISW_sfc_a, ILW_sfc_a  , ISW_toa_a , Ishflx_a, Ilhflx_a, latr_a = N_S_avg( ISW_sfc,ILW_sfc,ISW_toa, Ishflx, Ilhflx, lat[1:-1] )\n",
    "ISFC_a = N_S_avg( ISFC,ISFC,ISFC,ISFC,ISFC, lat[1:-1] )[0]\n",
    "ITOA_a = N_S_avg( ITOA,ITOA,ITOA,ITOA,ITOA, lat[1:-1] )[0]\n",
    "\n",
    "CpTv_a  ,gZv_a    , Lqv_a  , MSEv_a    ,ignore,  lat_a = N_S_avg(Cp*T, g*Z, L*q, Cp*T+g*Z+L*q,Cp*T, lat, 1)"
   ]
  },
  {
   "cell_type": "code",
   "execution_count": 20,
   "metadata": {},
   "outputs": [],
   "source": [
    "dtheta=np.radians(lat_a[1]-lat_a[0])\n",
    "\n",
    "def spher_div(x):\n",
    "       N=100\n",
    "       fac=1 #np.cos(np.radians(lat))\n",
    "       div=np.copy(x)\n",
    "       for d in range(len(DEPTHS)):\n",
    "        for m in range(13):\n",
    "           div[d,:,m]= smooth( np.gradient((x[d,:,m])*(fac),dtheta)/( 2*np.pi*R**2*np.cos(np.radians(lat_a[:])) ),N)\n",
    "       return div\n",
    "\n",
    "\n",
    "div_TE_a=spher_div(TE_a*10**15)\n",
    "div_SE_a=spher_div(SE_a*10**15)\n",
    "div_MM_a=spher_div(MM_a*10**15)\n",
    "div_NE_a=div_TE_a+div_SE_a+div_MM_a\n",
    "\n",
    "# div_TEv_a, div_SEv_a, div_MMv_a, div_NEv_a,ignore,lat_a = N_S_avg(div_TEv, div_SEv, div_MMv, div_NEv,div_NEv, lat,flux_flag=1)"
   ]
  },
  {
   "cell_type": "code",
   "execution_count": 21,
   "metadata": {},
   "outputs": [],
   "source": [
    "lat=div[0]['latn']\n",
    "\n",
    "from scipy.interpolate import interp1d\n",
    "\n",
    "def find_zero(div,zero=0):\n",
    "  zero_loc = np.zeros((len(DEPTHS),13))\n",
    "  for d in range(0,len(DEPTHS)):\n",
    "      for m in range(0,13):\n",
    "            l_range=((lat_a>=30) & (lat_a<=60))            \n",
    "            interpolation_function = interp1d(div[d,l_range,m],lat_a[l_range],kind='linear')\n",
    "            try :\n",
    "                zero_loc[d,m]=interpolation_function(zero)\n",
    "            except ValueError as err:\n",
    "                zero_loc[d,m]=np.nan        \n",
    "  return zero_loc\n",
    "\n",
    "storm_pos=find_zero(div_TE_a)"
   ]
  },
  {
   "cell_type": "code",
   "execution_count": 22,
   "metadata": {},
   "outputs": [],
   "source": [
    "dtheta=np.radians(lat_a[1]-lat_a[0])\n",
    "\n",
    "def spher_div_vert(x):\n",
    "       N=100\n",
    "       fac=1 #np.cos(np.radians(lat))\n",
    "       div=np.copy(x)\n",
    "       for d in range(len(DEPTHS)):\n",
    "        for p in range(len(sigma_full)):\n",
    "          for m in range(13):\n",
    "            div[d,:,p,m]= smooth( np.gradient((x[d,:,p,m])*(fac)/R,dtheta),N)\n",
    "       return div\n",
    "\n",
    "\n",
    "div_CpT=spher_div_vert(CpTv_a)\n",
    "div_gZ=spher_div_vert(gZv_a)\n",
    "div_Lq=spher_div_vert(Lqv_a)\n",
    "div_MSE=spher_div_vert(MSEv_a)\n",
    "\n",
    "# div_TEv_a, div_SEv_a, div_MMv_a, div_NEv_a,ignore,lat_a = N_S_avg(div_TEv, div_SEv, div_MMv, div_NEv,div_NEv, lat,flux_flag=1)"
   ]
  },
  {
   "cell_type": "code",
   "execution_count": 23,
   "metadata": {},
   "outputs": [
    {
     "data": {
      "text/plain": [
       "(2, 871, 24, 13)"
      ]
     },
     "execution_count": 23,
     "metadata": {},
     "output_type": "execute_result"
    }
   ],
   "source": [
    "div_CpT.shape"
   ]
  },
  {
   "cell_type": "code",
   "execution_count": 24,
   "metadata": {},
   "outputs": [],
   "source": [
    "# Cp=1000; L=2260*1000; g=10\n",
    "# field=div_CpT\n",
    "# m=m+1\n",
    "# lat=div[0]['latn']\n",
    "# ind=np.squeeze(np.where((lat>0) & (lat<90)))\n",
    "# py.figure(figsize=(10,5))\n",
    "# for d in range(len(DEPTHS)):\n",
    "#     py.subplot(2,2,d+1)\n",
    "#     x=np.squeeze(field[d,:,:,m].transpose())\n",
    "#     py.contourf(lat_a,(-sigma_full/1000), x, 50,cmap=cm.seismic); py.colorbar()"
   ]
  },
  {
   "cell_type": "code",
   "execution_count": 25,
   "metadata": {},
   "outputs": [],
   "source": [
    "# d=0\n",
    "# py.figure(figsize=(15,6))\n",
    "# field=MSEv_a\n",
    "# v=np.linspace(np.min(field), 430000,30)\n",
    "# for m in range(12):\n",
    "#     py.subplot(3,4,m+1)\n",
    "#     py.contourf(lat_a,sigma_full, (field[d,...,m]).transpose(),v,cmap=cm.seismic);py.colorbar()\n",
    "#     c=py.contour(lat_a,sigma_full, (TEv_a[d,...,m]).transpose(),colors='k')#; py.colorbar()\n",
    "#     py.clabel(c,  inline=1,fmt = '%1.1f',inline_spacing=20, fontsize=10)\n",
    "#     py.gca().invert_yaxis()\n",
    "# #     py.xlim(20,70)\n",
    "# py.tight_layout()"
   ]
  },
  {
   "cell_type": "code",
   "execution_count": 26,
   "metadata": {},
   "outputs": [],
   "source": [
    "import numpy.ma as ma\n",
    "\n",
    "threshold=0.001\n",
    "mask_of_TE      = ma.masked_greater_equal(TEv_a, threshold)  ### Positive transient eddies\n",
    "mask_of_div_MSE = ma.masked_less_equal(div_MSE, -1*threshold) ### Negative MSE gradient\n",
    "\n",
    "not_mask_of_TE      = ma.masked_less(TEv_a, threshold)  ### Positive transient eddies\n",
    "not_mask_of_div_MSE = ma.masked_greater(div_MSE, -1*threshold) ### Negative MSE gradient\n",
    "masked_div_MSE = ma.masked_where( ma.getmask(not_mask_of_div_MSE) , div_MSE)\n",
    "masked_TE      = ma.masked_where( ma.getmask(not_mask_of_TE), TEv_a)\n"
   ]
  },
  {
   "cell_type": "markdown",
   "metadata": {},
   "source": [
    "### Masked div MSE  - all pressure levels"
   ]
  },
  {
   "cell_type": "code",
   "execution_count": 27,
   "metadata": {},
   "outputs": [],
   "source": [
    "# d=0\n",
    "# py.figure(figsize=(15,6))\n",
    "# field=masked_div_MSE\n",
    "# v=np.linspace(np.nanmin(field),0,10)\n",
    "# for m in range(12):\n",
    "#     py.subplot(3,4,m+1)\n",
    "#     py.contourf(lat_a,sigma_full, (field[d,...,m]).transpose(),v, cmap=rcmap(cm.Blues));py.colorbar()\n",
    "#     c=py.contour(lat_a,sigma_full, (masked_TE[d,...,m]).transpose(),colors='k')#; py.colorbar()\n",
    "#     py.clabel(c,  inline=1,fmt = '%1.1f',inline_spacing=20, fontsize=10)\n",
    "#     py.gca().invert_yaxis()\n",
    "# #     py.xlim(20,70)\n",
    "# py.suptitle(\"div MSE\",fontsize=20,y=1.05)\n",
    "# py.tight_layout()\n",
    "# py.show()"
   ]
  },
  {
   "cell_type": "markdown",
   "metadata": {},
   "source": [
    "### Masked TE  - all pressure levels"
   ]
  },
  {
   "cell_type": "code",
   "execution_count": 28,
   "metadata": {},
   "outputs": [],
   "source": [
    "# d=0\n",
    "# py.figure(figsize=(15,6))\n",
    "# field=masked_TE\n",
    "# v=np.linspace(0,np.nanmax(field),30)\n",
    "# for m in range(12):\n",
    "#     py.subplot(3,4,m+1)\n",
    "#     py.contourf(lat_a,sigma_full, (field[d,...,m]).transpose(),v, cmap=(cm.Reds));py.colorbar()\n",
    "#     c=py.contour(lat_a,sigma_full, (masked_TE[d,...,m]).transpose(),colors='k')#; py.colorbar()\n",
    "#     py.clabel(c,  inline=1,fmt = '%1.1f',inline_spacing=20, fontsize=10)\n",
    "#     py.gca().invert_yaxis()\n",
    "# #     py.xlim(20,70)\n",
    "# py.suptitle(\"TE\",fontsize=20,y=1.05)\n",
    "# py.tight_layout()\n",
    "# py.show()"
   ]
  },
  {
   "cell_type": "markdown",
   "metadata": {},
   "source": [
    "### Masked diffusivity - all pressure levels"
   ]
  },
  {
   "cell_type": "code",
   "execution_count": 29,
   "metadata": {},
   "outputs": [],
   "source": [
    "# diffusivity= -1*(masked_TE/masked_div_MSE)\n",
    "\n",
    "# d=0\n",
    "# py.figure(figsize=(15,6))\n",
    "# field=diffusivity\n",
    "# v=np.linspace(0,90,10)\n",
    "# for m in range(12):\n",
    "#     py.subplot(3,4,m+1)\n",
    "#     py.contourf(lat_a,sigma_full, (field[d,...,m]).transpose(),v, cmap=(cm.Purples));py.colorbar()\n",
    "#     c=py.contour(lat_a,sigma_full, (masked_TE[d,...,m]).transpose(),colors='k')#; py.colorbar()\n",
    "#     py.clabel(c,  inline=1,fmt = '%1.1f',inline_spacing=20, fontsize=10)\n",
    "#     py.gca().invert_yaxis()\n",
    "# #     py.xlim(20,70)\n",
    "# py.suptitle(\"Diffusivity\",fontsize=20,y=1.05)\n",
    "# py.tight_layout()\n",
    "# py.show()"
   ]
  },
  {
   "cell_type": "markdown",
   "metadata": {},
   "source": [
    "### My definition of diffusivity - all pressure levels"
   ]
  },
  {
   "cell_type": "code",
   "execution_count": 30,
   "metadata": {},
   "outputs": [],
   "source": [
    "# def mean(X):\n",
    "# #     return X[...,:-1].mean(axis=-1)[...,None]\n",
    "#       return (np.asarray( [X[...,:-1].mean(axis=-1)]*13).transpose(1,2,3,0))\n",
    "# def prime(X):\n",
    "#     return X-mean(X)\n",
    "\n",
    "# D_mean =mean(diffusivity)\n",
    "# Im_mean=mean(masked_div_MSE)\n",
    "# I_mean =mean(masked_TE)\n",
    "\n",
    "# D_prime =prime(diffusivity)\n",
    "# Im_prime=prime(masked_div_MSE)\n",
    "# I_prime =prime(masked_TE)"
   ]
  },
  {
   "cell_type": "markdown",
   "metadata": {},
   "source": [
    "## $I^{\\prime}=\\overline{D^{\\prime}I_{m}^{\\prime}}-D^{\\prime}I_{m}^{\\prime}-D^{\\prime}\\overline{I_{m}}-\\overline{D}I_{m}^{\\prime}$"
   ]
  },
  {
   "cell_type": "code",
   "execution_count": 31,
   "metadata": {},
   "outputs": [],
   "source": [
    "# i1= mean(D_prime*Im_prime)\n",
    "# i2= -1*D_prime*Im_prime\n",
    "# i3= -1*D_prime*Im_mean\n",
    "# i4= -1*D_mean*Im_prime"
   ]
  },
  {
   "cell_type": "code",
   "execution_count": 32,
   "metadata": {},
   "outputs": [],
   "source": [
    "def plot_vert_months(field,d,title):\n",
    "    py.figure(figsize=(15,6))\n",
    "    v=np.arange(-0.50,0.501,0.001)\n",
    "    for m in range(12):\n",
    "        py.subplot(3,4,m+1)\n",
    "        py.contourf(lat_a,sigma_full, (field[d,...,m]).transpose(),v, cmap=(cm.seismic));py.colorbar()\n",
    "        c=py.contour(lat_a,sigma_full, (prime(masked_TE)[d,...,m]).transpose(),colors='k')#; py.colorbar()\n",
    "        py.clabel(c,  inline=1,fmt = '%1.1f',inline_spacing=12, fontsize=10)\n",
    "        py.gca().invert_yaxis()\n",
    "    #     py.xlim(20,70)\n",
    "    py.suptitle(title,fontsize=20,y=1.05)\n",
    "    py.tight_layout()\n",
    "    py.show()"
   ]
  },
  {
   "cell_type": "code",
   "execution_count": 33,
   "metadata": {},
   "outputs": [],
   "source": [
    "# plot_vert_months(i1,0,r'$\\overline{D^{\\prime}I_{m}^{\\prime}}$')"
   ]
  },
  {
   "cell_type": "code",
   "execution_count": 34,
   "metadata": {},
   "outputs": [],
   "source": [
    "# plot_vert_months(i2,0,r'$-D^{\\prime}I_{m}^{\\prime}$')"
   ]
  },
  {
   "cell_type": "code",
   "execution_count": 35,
   "metadata": {},
   "outputs": [],
   "source": [
    "# plot_vert_months(i3,0,r'$-D^{\\prime}\\overline{I_{m}}$')"
   ]
  },
  {
   "cell_type": "code",
   "execution_count": 36,
   "metadata": {},
   "outputs": [],
   "source": [
    "# plot_vert_months(i4,0,r'$-\\overline{D}I_{m}^{\\prime}$')"
   ]
  },
  {
   "cell_type": "code",
   "execution_count": 37,
   "metadata": {},
   "outputs": [],
   "source": [
    "# plot_vert_months(i1+i2+i3+i4,0,r'$I^{\\prime}$')"
   ]
  },
  {
   "cell_type": "code",
   "execution_count": 38,
   "metadata": {},
   "outputs": [],
   "source": [
    "# i1_sum=np.nansum(i1,axis=2);\n",
    "# i2_sum=np.nansum(i2,axis=2);\n",
    "# i3_sum=np.nansum(i3,axis=2);\n",
    "# i4_sum=np.nansum(i4,axis=2);\n",
    "\n",
    "# I1=r'$\\overline{D^{\\prime}I_{m}^{\\prime}}$'\n",
    "# I2=r'$-D^{\\prime}I_{m}^{\\prime}$'\n",
    "# I3=r'$-D^{\\prime}\\overline{I_{m}}$'\n",
    "# I4=r'$-\\overline{D}I_{m}^{\\prime}$'\n",
    "# ISUM=r'$I^{\\prime}=\\overline{D^{\\prime}I_{m}^{\\prime}}-D^{\\prime}I_{m}^{\\prime}-D^{\\prime}\\overline{I_{m}}-\\overline{D}I_{m}^{\\prime}$'\n",
    "# Iorig=r'$\\Delta\\langle[\\overline{v^{\\prime}m^{\\prime}}]\\rangle$'\n",
    "\n",
    "# I1=r'$ ({\\Delta D \\Delta I_{m}})_{o}$'\n",
    "# I2=r'$-(\\Delta D) (\\Delta I_{m})$'\n",
    "# I3=r'$-(\\Delta D) {I_{m_{o}}}$'\n",
    "# I4=r'$-{D_{o}} (\\Delta I_{m})$'\n",
    "# ISUM=r'$\\Delta I =$ '+I1 +I2 +I3 +I4\n",
    "# Iorig=r'$\\Delta I =$' + r'$\\Delta\\langle[\\overline{v^{\\prime}m^{\\prime}}]\\rangle$'\n",
    "\n",
    "# i_sum = np.nansum(i1+i2+i3+i4,axis=2)\n",
    "# TE_prime=prime(TEv_a).sum(axis=2)  ## Note TE_prime is same as i_sum"
   ]
  },
  {
   "cell_type": "code",
   "execution_count": 39,
   "metadata": {},
   "outputs": [],
   "source": [
    "# pick the storm track position and identify the index\n",
    "from scipy.interpolate import interp1d\n",
    "def inerp_at_max(flux,lat):\n",
    "  D = np.zeros((len(DEPTHS),13))\n",
    "  for d in range(0,len(DEPTHS)):\n",
    "    for m in range(0,13):\n",
    "        l_range=((lat>=30) & (lat<=60)) \n",
    "        X=storm_pos\n",
    "        interpolation_function = interp1d(lat[l_range],flux[d,l_range,m],kind='cubic')\n",
    "        try :\n",
    "            D[d,m]=interpolation_function(X[d,m])\n",
    "        except ValueError as err:\n",
    "            D[d,m]==np.nan        \n",
    "  return D\n",
    "\n",
    "Intensity_te=inerp_at_max(TE_a,lat_a)\n",
    "Intensity_se=inerp_at_max(SE_a,lat_a)\n",
    "Intensity_mm=inerp_at_max(MM_a,lat_a)\n",
    "Intensity_ne=inerp_at_max(NE_a,lat_a)"
   ]
  },
  {
   "cell_type": "markdown",
   "metadata": {},
   "source": [
    "### Interp i1 i2 at storm track position"
   ]
  },
  {
   "cell_type": "code",
   "execution_count": 40,
   "metadata": {},
   "outputs": [],
   "source": [
    "# i1_a=inerp_at_max(i1_sum,lat_a)\n",
    "# i2_a=inerp_at_max(i2_sum,lat_a)\n",
    "# i3_a=inerp_at_max(i3_sum,lat_a)\n",
    "# i4_a=inerp_at_max(i4_sum,lat_a)\n",
    "\n",
    "# i_a       =inerp_at_max(i_sum,lat_a)\n",
    "# teprime_a =inerp_at_max(TE_prime,lat_a)"
   ]
  },
  {
   "cell_type": "code",
   "execution_count": 41,
   "metadata": {},
   "outputs": [],
   "source": [
    "def plot_at_storm_position(d,l,month_to_month=1):\n",
    "    \n",
    "    DEPTHS_title=[\"5m\",\"50m\"]     \n",
    "    py.rc('text', usetex=True)\n",
    "    py.rc('font', family='serif', serif='Palatino',weight='bold')\n",
    "    \n",
    "    mticks = ['J','F','M','A','M','J','J','A','S','O','N','D','J']\n",
    "    def D(y,d):\n",
    "        if month_to_month==1 :\n",
    "            y1=y#np.append(y,y[:,0,np.newaxis],axis=1)\n",
    "            x1=y1[d,1:]-y1[d,:-1]\n",
    "            x2=np.append(x1[-1],x1)\n",
    "            mticks = ['J-D','F-J','M-F','A-M','M-A','J-M','J-J','A-J','S-A','O-S','N-O','D-N','J-D']\n",
    "        else :\n",
    "            y1=y[d,:]-np.nanmean(y[d,:-1,None],axis=0)\n",
    "            x2=y1\n",
    "            mticks = ['J','F','M','A','M','J','J','A','S','O','N','D','J']\n",
    "        return x2\n",
    "#     def D(y,d):\n",
    "#         return y[d,...]\n",
    "    \n",
    "    if month_to_month==1 :\n",
    "        mticks = ['J-D','F-J','M-F','A-M','M-A','J-M','J-J','A-J','S-A','O-S','N-O','D-N','J-D']\n",
    "    else :\n",
    "        mticks = ['J','F','M','A','M','J','J','A','S','O','N','D','J']\n",
    "    \n",
    "    py.plot(D(i3_a,d),'ko-',label=I3,lw=3.5)\n",
    "    py.plot(D(i4_a,d),'bo-',label=I4,lw=3.5)\n",
    "        \n",
    "#     py.plot(D(i1_a,d),'co-',label=r'$+$'+I1,lw=3.5)\n",
    "#     py.plot(D(i2_a,d),'yo-',label=I2,lw=3.5)   \n",
    "    \n",
    "#     py.plot(D(i_a,d),'ro-',label=r'$\\Delta I_{calc}$',lw=3.5) \n",
    "    #py.plot(D(teprime_a,d),'ro-',label=r'$\\Delta I$',lw=3.5) \n",
    "    py.plot(D(Intensity_te,d),'ro-',label=r'$\\Delta I$',lw=3.5) \n",
    "\n",
    "                                              \n",
    "    py.axhline(0, color='k',linewidth=1.5)\n",
    "    py.xlim(0,12)\n",
    "    py.ylim(-1*l,l)\n",
    "    py.ylabel(\"PW\", fontsize=40)\n",
    "    title=\"\"+\" \"+\" \"+str(depth)+\"m\"\n",
    "    py.title(str(DEPTHS_title[d]),fontsize=35,y=1.03)\n",
    "    py.xticks(range(13), mticks,size=37)\n",
    "    py.tick_params(labelsize=30,size=5,width=1)\n",
    "    py.legend(loc='best',fontsize=20,ncol=2,frameon=False)\n",
    "    py.tight_layout()"
   ]
  },
  {
   "cell_type": "markdown",
   "metadata": {},
   "source": [
    "## Plot my definition of Diffusivity decomposition"
   ]
  },
  {
   "cell_type": "code",
   "execution_count": 42,
   "metadata": {},
   "outputs": [],
   "source": [
    "# l=6.0; i=0;\n",
    "# fig=py.figure(figsize=(38, 12))\n",
    "# for d in range(len(DEPTHS)):\n",
    "#     py.subplot(2,4,i+1)\n",
    "#     plot_at_storm_position(d,l,0)\n",
    "#     i=i+1\n",
    "#     py.tight_layout()"
   ]
  },
  {
   "cell_type": "markdown",
   "metadata": {},
   "source": [
    "## Plot my definition of Diffusivity decomposition"
   ]
  },
  {
   "cell_type": "code",
   "execution_count": 43,
   "metadata": {},
   "outputs": [],
   "source": [
    "# d=0\n",
    "# py.figure(figsize=(15,10))\n",
    "# r=3; c=2; n=0\n",
    "# v=np.arange(-7.5,7.75, 0.25); n=n+1\n",
    "# py.subplot(r,c,n); py.title(Iorig,fontsize=20)\n",
    "# py.contourf(range(13),lat_a,TE_prime[d,...],v, cmap=cm.seismic);py.colorbar();n=n+1\n",
    "# py.plot(range(13),storm_pos[d,:])\n",
    "\n",
    "# py.subplot(r,c,n); py.title(ISUM,fontsize=20)\n",
    "# py.contourf(range(13),lat_a,i_sum[d,...],v, cmap=cm.seismic);py.colorbar(); n=n+1\n",
    "# py.plot(range(13),storm_pos[d,:])\n",
    "\n",
    "# py.subplot(r,c,n);      py.title(I1,fontsize=20)\n",
    "# py.contourf(range(13),lat_a,i1_sum[d,...],v, cmap=cm.seismic);py.colorbar();n=n+1\n",
    "# py.plot(range(13),storm_pos[d,:])\n",
    "\n",
    "# py.subplot(r,c,n);      py.title(I2,fontsize=20)\n",
    "# py.contourf(range(13),lat_a,i2_sum[d,...],v, cmap=cm.seismic);py.colorbar();n=n+1\n",
    "# py.plot(range(13),storm_pos[d,:])\n",
    "\n",
    "# py.subplot(r,c,n);      py.title(I3,fontsize=20)\n",
    "# py.contourf(range(13),lat_a,i3_sum[d,...],v, cmap=cm.seismic);py.colorbar();n=n+1\n",
    "# py.plot(range(13),storm_pos[d,:])\n",
    "\n",
    "# py.subplot(r,c,n);      py.title(I4,fontsize=20)\n",
    "# py.contourf(range(13),lat_a,i4_sum[d,...],v, cmap=cm.seismic);py.colorbar();n=n+1\n",
    "# py.plot(range(13),storm_pos[d,:])\n",
    "# py.tight_layout()"
   ]
  },
  {
   "cell_type": "code",
   "execution_count": 44,
   "metadata": {},
   "outputs": [],
   "source": [
    "# d=1\n",
    "# py.figure(figsize=(15,10))\n",
    "# r=3; c=2; n=0\n",
    "# v=np.arange(-4.0,4.25, 0.25); n=n+1\n",
    "# py.subplot(r,c,n); py.title(Iorig,fontsize=20)\n",
    "# py.contourf(range(13),lat_a,TE_prime[d,...],v, cmap=cm.seismic);py.colorbar();n=n+1\n",
    "# py.plot(range(13),storm_pos[d,:])\n",
    "\n",
    "# py.subplot(r,c,n); py.title(ISUM,fontsize=20)\n",
    "# py.contourf(range(13),lat_a,i_sum[d,...],v, cmap=cm.seismic);py.colorbar(); n=n+1\n",
    "# py.plot(range(13),storm_pos[d,:])\n",
    "\n",
    "# py.subplot(r,c,n);      py.title(I1,fontsize=20)\n",
    "# py.contourf(range(13),lat_a,i1_sum[d,...],v, cmap=cm.seismic);py.colorbar();n=n+1\n",
    "# py.plot(range(13),storm_pos[d,:])\n",
    "\n",
    "# py.subplot(r,c,n);      py.title(I2,fontsize=20)\n",
    "# py.contourf(range(13),lat_a,i2_sum[d,...],v, cmap=cm.seismic);py.colorbar();n=n+1\n",
    "# py.plot(range(13),storm_pos[d,:])\n",
    "\n",
    "# py.subplot(r,c,n);      py.title(I3,fontsize=20)\n",
    "# py.contourf(range(13),lat_a,i3_sum[d,...],v, cmap=cm.seismic);py.colorbar();n=n+1\n",
    "# py.plot(range(13),storm_pos[d,:])\n",
    "\n",
    "# py.subplot(r,c,n);      py.title(I4,fontsize=20)\n",
    "# py.contourf(range(13),lat_a,i4_sum[d,...],v, cmap=cm.seismic);py.colorbar();n=n+1\n",
    "# py.plot(range(13),storm_pos[d,:])\n",
    "\n",
    "# py.tight_layout()"
   ]
  },
  {
   "cell_type": "markdown",
   "metadata": {
    "deletable": true,
    "editable": true
   },
   "source": [
    "## Diffusivity at the surface "
   ]
  },
  {
   "cell_type": "code",
   "execution_count": 45,
   "metadata": {},
   "outputs": [
    {
     "data": {
      "text/plain": [
       "[<matplotlib.lines.Line2D at 0x7f970ebf0cd0>]"
      ]
     },
     "execution_count": 45,
     "metadata": {},
     "output_type": "execute_result"
    },
    {
     "data": {
      "image/png": "[encoded data removed]",
      "text/plain": [
       "<matplotlib.figure.Figure at 0x7f972c287050>"
      ]
     },
     "metadata": {},
     "output_type": "display_data"
    }
   ],
   "source": [
    "py.plot(sigma_full)"
   ]
  },
  {
   "cell_type": "code",
   "execution_count": 46,
   "metadata": {},
   "outputs": [
    {
     "data": {
      "image/png": "[encoded data removed]",
      "text/plain": [
       "<matplotlib.figure.Figure at 0x7f971c64e110>"
      ]
     },
     "metadata": {},
     "output_type": "display_data"
    }
   ],
   "source": [
    "level=5\n",
    "\n",
    "import numpy.ma as ma\n",
    "\n",
    "dm_by_dphi       = masked_div_MSE[...,level,:]\n",
    "not_mask_of_TE_a = ma.masked_less(TE_a, threshold)  ### Positive transient eddies\n",
    "masked_TE_a      = ma.masked_where( ma.getmask(not_mask_of_TE_a), TE_a)\n",
    "diffusivity_sfc  = -TE_a/dm_by_dphi\n",
    "\n",
    "def mean(X):\n",
    "     return np.nanmean(X[...,:-1],axis=-1)[...,None]\n",
    "def prime(X):\n",
    "    return X-mean(X)\n",
    "\n",
    "\n",
    "D_mean =mean(diffusivity_sfc)\n",
    "Im_mean=mean(dm_by_dphi)\n",
    "I_mean =mean(TE_a)\n",
    "\n",
    "D_prime =prime(diffusivity_sfc)\n",
    "Im_prime=prime(dm_by_dphi)\n",
    "I_prime =prime(TE_a)\n",
    "\n",
    "i1= mean(D_prime*Im_prime)\n",
    "i1= (np.asarray( [np.squeeze(i1)]*13).transpose(1,2,0))\n",
    "i2= -1*D_prime*Im_prime\n",
    "i3= -1*D_prime*Im_mean\n",
    "i4= -1*D_mean*Im_prime\n",
    "\n",
    "i1_a=inerp_at_max(i1,lat_a)\n",
    "i2_a=inerp_at_max(i2,lat_a)\n",
    "i3_a=inerp_at_max(i3,lat_a)\n",
    "i4_a=inerp_at_max(i4,lat_a)\n",
    "\n",
    "#i_a       =inerp_at_max(i_sum,lat_a)\n",
    "# teprime_a=inerp_at_max(TE_prime,lat_a)\n",
    "\n",
    "l=6.0; i=0;\n",
    "fig=py.figure(figsize=(38, 12))\n",
    "for d in range(len(DEPTHS)):\n",
    "    py.subplot(2,4,i+1)\n",
    "    plot_at_storm_position(d,l,0)\n",
    "    i=i+1\n",
    "    py.tight_layout()\n"
   ]
  },
  {
   "cell_type": "markdown",
   "metadata": {},
   "source": [
    "## For shift decomposition"
   ]
  },
  {
   "cell_type": "code",
   "execution_count": 47,
   "metadata": {},
   "outputs": [],
   "source": [
    "level=level\n",
    "\n",
    "threshold=0.001\n",
    "high =10**10\n",
    "\n",
    "mask_of_TE_a            = ma.masked_less(TE_a, threshold)  ### Positive transient eddies\n",
    "mask_of_div_MSE_a       = ma.masked_greater(div_MSE[...,level,:], -1*threshold) ### Negative MSE gradient\n",
    "masked_div_MSE_a        = ma.masked_where( ma.getmask(mask_of_div_MSE_a) , div_MSE[...,level,:])\n",
    "masked_TE_a             = ma.masked_where( ma.getmask(mask_of_TE_a), TE_a)\n",
    "\n",
    "def mask_of_extreme_high_low(y,high):\n",
    "    sh   = ma.masked_greater(y, high)\n",
    "    sl   = ma.masked_less(y, -1*high)  \n",
    "    maskh= ma.getmask(sh)\n",
    "    maskl= ma.getmask(sl)\n",
    "    masked_s = ma.masked_where( maskh, y)\n",
    "    masked_s = ma.masked_where( maskl, masked_s)\n",
    "    return masked_s\n",
    "\n",
    "\n",
    "def smooth_multi(y, box_pts,smoothing=1):\n",
    "    box = np.ones(box_pts)/box_pts\n",
    "    y_smooth=np.apply_along_axis(np.convolve, 1, y, box, mode='same')\n",
    "    if smoothing == 1 :\n",
    "        return y_smooth\n",
    "    else :\n",
    "        return y\n",
    "    \n",
    "\n",
    "dm_by_dphi      =  masked_div_MSE_a\n",
    "diffusivity_sfc = -masked_TE_a/dm_by_dphi\n",
    "\n",
    "\n",
    "dm2_by_dphi2              = spher_div(div_MSE[...,level,:])*10**15\n",
    "dm2_by_dphi2              = ma.masked_where( ma.getmask(mask_of_div_MSE_a), dm2_by_dphi2)\n",
    "dm2_by_dphi2              = ma.masked_where( ma.getmask(mask_of_TE_a), dm2_by_dphi2)\n",
    "\n",
    "div_diffusivity_sfc       = spher_div(diffusivity_sfc)*10**15\n",
    "div_diffusivity_sfc       = ma.masked_where( ma.getmask(mask_of_TE_a), div_diffusivity_sfc)\n",
    "div_diffusivity_sfc       = ma.masked_where( ma.getmask(mask_of_div_MSE_a), div_diffusivity_sfc)\n",
    "div_diffusivity_sfc       = mask_of_extreme_high_low(div_diffusivity_sfc,high=10**9)\n",
    "\n",
    "Im_dD_by_dphi             = -1*dm_by_dphi*div_diffusivity_sfc\n",
    "D_dIm_by_dphi             = -1*diffusivity_sfc*dm2_by_dphi2\n",
    "\n",
    "N=50\n",
    "d1  =   smooth_multi(-1*mean(div_diffusivity_sfc)*prime(dm_by_dphi),N,-1) \n",
    "d2  =   smooth_multi(-1*prime(div_diffusivity_sfc)*mean(dm_by_dphi),N,1)\n",
    "d3  =   smooth_multi(-1*prime(div_diffusivity_sfc)*prime(dm_by_dphi),N,1) \n",
    "\n",
    "d4  =   smooth_multi(-1*mean(diffusivity_sfc)*prime(dm2_by_dphi2),N,1)\n",
    "d5  =   smooth_multi(-1*prime(diffusivity_sfc)*mean(dm2_by_dphi2),N,1)\n",
    "d6  =   smooth_multi(-1*prime(diffusivity_sfc)*prime(dm2_by_dphi2),N,1)\n",
    "\n",
    "d3m =   smooth_multi(-1*np.asarray( [np.squeeze(mean(d3))]*13).transpose(1,2,0),N)\n",
    "d4m =   smooth_multi(-1*np.asarray( [np.squeeze(mean(d4))]*13).transpose(1,2,0),N)\n",
    "\n",
    "F   =    mean(div_TE_a)"
   ]
  },
  {
   "cell_type": "code",
   "execution_count": 48,
   "metadata": {},
   "outputs": [],
   "source": [
    "import numpy as np\n",
    "def calculate_shift_just_by_adding_individual_flux_divergences(month_to_month=1):\n",
    "    \n",
    "    div_TE_a=spher_div(TE_a*10**15)\n",
    "    \n",
    "    te=div_TE_a\n",
    "    \n",
    "    def diff(x):\n",
    "        return x[:,:,1:]-x[:,:,:-1] \n",
    "    base_pos=te[...,:-1]\n",
    "    \n",
    "    if month_to_month==0 :\n",
    "      def diff(x):\n",
    "         return x[:,:,1:]-x[...,1:,None].mean(axis=2)    \n",
    "      base_pos=te[...,1:,None].mean(axis=2)\n",
    "    \n",
    "    TE_change=base_pos+diff(div_TE_a)\n",
    "    d1_change=base_pos+diff(d1)\n",
    "    d2_change=base_pos+diff(d2)\n",
    "    d3_change=base_pos+diff(d3)\n",
    "    d4_change=base_pos+diff(d4)\n",
    "    d5_change=base_pos+diff(d5)\n",
    "    d6_change=base_pos+diff(d6)\n",
    "    \n",
    "    a = lambda x: np.append(x[:,:,-1,None],x,axis=-1)\n",
    "    \n",
    "    return a(TE_change), a(d1_change), a(d2_change), a(d3_change), a(d4_change), a(d5_change), a(d6_change)\n",
    "\n",
    "d_changes = calculate_shift_just_by_adding_individual_flux_divergences(month_to_month=0)"
   ]
  },
  {
   "cell_type": "code",
   "execution_count": 49,
   "metadata": {},
   "outputs": [],
   "source": [
    "# i=4 and m=4 ll=30 ul=42\n",
    "# i=0 and m=4 ll=45 ul=60\n",
    "\n",
    "def find_zero(div,i,zero=0):\n",
    "  depths=div.shape[0];\n",
    "  months=div.shape[-1];\n",
    "  zero_loc = np.zeros((depths,months))\n",
    "  for d in range(0,depths):\n",
    "      for m in range(0,months):\n",
    "            if ((d==0) & ((m==6) | (m==7) | (m==8) | (m==9) | (m==10)) & (i==2)) :\n",
    "               l_range=((lat_a>=45) & (lat_a<=60))\n",
    "            elif ((d==0) & ((m==4)) & (i==4)) :\n",
    "               l_range=((lat_a>=30) & (lat_a<=42))\n",
    "            elif ((d==0) & ((m==6)) & (i==0)) :\n",
    "               l_range=((lat_a>=37) & (lat_a<=60))\n",
    "            else:\n",
    "               l_range=((lat_a>=33) & (lat_a<=60))\n",
    "            interpolation_function = interp1d(div[d,l_range,m],lat_a[l_range],kind='linear')\n",
    "            try :\n",
    "                zero_loc[d,m]=interpolation_function(zero)\n",
    "            except ValueError as err:\n",
    "                zero_loc[d,m]=np.nan        \n",
    "  return zero_loc"
   ]
  },
  {
   "cell_type": "code",
   "execution_count": 50,
   "metadata": {},
   "outputs": [],
   "source": [
    "i=0\n",
    "# for i in range(7): find_zero(d_changes[i])"
   ]
  },
  {
   "cell_type": "code",
   "execution_count": 51,
   "metadata": {},
   "outputs": [],
   "source": [
    "def threshold(I,value, position):\n",
    "      for d in range(len(DEPTHS)):  \n",
    "        for m in range(13):\n",
    "            if (np.abs(I[d,m])<value) :\n",
    "                for l in range(np.shape(position)[0]):\n",
    "                   position[l][d,m]=np.nan\n",
    "      return position\n",
    "\n",
    "positions = threshold(Intensity_te, 0.0, [find_zero(d_changes[i],i) for i in range(7)])\n",
    "positions[0]= find_zero(d_changes[0],0,zero=-6.0)"
   ]
  },
  {
   "cell_type": "code",
   "execution_count": 52,
   "metadata": {},
   "outputs": [
    {
     "data": {
      "text/plain": [
       "[<matplotlib.lines.Line2D at 0x7f9719c23910>]"
      ]
     },
     "execution_count": 52,
     "metadata": {},
     "output_type": "execute_result"
    },
    {
     "data": {
      "image/png": "[encoded data removed]",
      "text/plain": [
       "<matplotlib.figure.Figure at 0x7f972c2877d0>"
      ]
     },
     "metadata": {},
     "output_type": "display_data"
    }
   ],
   "source": [
    "d=1\n",
    "py.plot(positions[0][d,:],'r.-')\n",
    "py.plot(positions[1][d,:],'b.-')\n",
    "py.plot(positions[2][d,:],'g.-')\n",
    "py.plot(positions[3][d,:],'c.-')\n",
    "py.plot(positions[4][d,:],'y.-')\n",
    "py.plot(positions[5][d,:],'m.-')\n",
    "py.plot(positions[6][d,:],'.-',c='#ff8a00ff')"
   ]
  },
  {
   "cell_type": "code",
   "execution_count": 55,
   "metadata": {},
   "outputs": [],
   "source": [
    "py.rc('text', usetex=True)\n",
    "py.rc('font', family='serif', serif='Palatino',weight='bold')\n",
    "\n",
    "def plot_monthly_shift(d,l,month_to_month=0,threshold_value=0.0) :\n",
    "        \n",
    "    DEPTHS_title=[\"5m\", \"50m\"]\n",
    "    I=Intensity_te    \n",
    "    n=d+1    \n",
    "    d_changes = calculate_shift_just_by_adding_individual_flux_divergences(month_to_month)\n",
    "    positions = threshold(Intensity_te, threshold_value, [find_zero(d_changes[i],i) for i in range(7)])  \n",
    "    positions[0]= find_zero(d_changes[0],0,zero=-5.0)\n",
    "    m=range(0,13)\n",
    "\n",
    "    mticks = ['J-D','F-J','M-F','A-M','M-A','J-M','J-J','A-J','S-A','O-S','N-O','D-N','J-D']\n",
    "    \n",
    "    zero_div_TE=positions[0]\n",
    "    TE_change=d_changes[0]\n",
    "    base_pos=zero_div_TE[d,:-1]\n",
    "    def add_month_to_end(y1) :\n",
    "        y=np.append(y1[-1],y1)\n",
    "        return y\n",
    "        \n",
    "    if month_to_month==0:\n",
    "        s=TE_change[d,:,1:].mean(axis=-1)[None,:,None]\n",
    "        base_pos=np.squeeze(find_zero(s,0))\n",
    "        mticks = ['J','F','M','A','M','J','J','A','S','O','N','D','J']\n",
    "        #base_pos=44 #np.nanmean(zero_div_TE[d,:-1])\n",
    "        print base_pos\n",
    "        \n",
    "    TE_obs_pos         = add_month_to_end(zero_div_TE[d,1:]-base_pos)\n",
    "    d1_pos             = add_month_to_end(positions[1][d,1:]-base_pos)\n",
    "    d2_pos             = add_month_to_end(positions[2][d,1:]-base_pos)\n",
    "    d3_pos             = add_month_to_end(positions[3][d,1:]-base_pos)\n",
    "    d4_pos             = add_month_to_end(positions[4][d,1:]-base_pos)\n",
    "    d5_pos             = add_month_to_end(positions[5][d,1:]-base_pos)\n",
    "    d6_pos             = add_month_to_end(positions[6][d,1:]-base_pos)\n",
    "    TE_calc_pos        = d1_pos+d2_pos+d3_pos+d4_pos+d5_pos+d6_pos\n",
    "    nonlinear_error    = TE_obs_pos-TE_calc_pos        \n",
    "#     py.subplot(220+n)\n",
    "#     py.subplot(2,4,n)\n",
    "    fig=py.plot(TE_obs_pos,'r.-',label=r'$\\Delta\\phi$',linewidth=3.5,markersize=10)\n",
    "    fig=py.plot(d1_pos+d4_pos,'b.-',label=r'$\\Delta\\phi_{{{1}}}$',linewidth=2.0,markersize=10)\n",
    "    fig=py.plot(d2_pos+d5_pos,'k.-',label=r'$\\Delta\\phi_{{{2}}}$',linewidth=3.5,markersize=10)\n",
    "#     fig=py.plot(d3_pos,'c.-',label=r'$\\Delta\\phi_{{{3}}}$',linewidth=2.0,markersize=10)\n",
    "#     fig=py.plot(d4_pos,'y.-',label=r'$\\Delta\\phi_{{{4}}}$',linewidth=2.0,markersize=10)\n",
    "#     fig=py.plot(d5_pos,'m.-',label=r'$\\Delta\\phi_{{{5}}}$',linewidth=2.0,markersize=10)\n",
    "#     fig=py.plot(d6_pos,'.-',c='#ff8a00ff',label=r'$\\Delta\\phi_{{{6}}}$',linewidth=2.0,markersize=10)\n",
    "#     fig=py.plot(nonlinear_error,'k.-',label=r'${nonlinear}$',linewidth=2.0,markersize=10)\n",
    "#     print TE_obs_pos.shape\n",
    "    py.axhline(0, color='k',linewidth=1.5)\n",
    "    py.xlim(0,12)\n",
    "    py.ylim(-1*l,+1*l)\n",
    "    py.ylabel(\"deg \\\\ poleward\", fontsize=25)\n",
    "\n",
    "    title=\"shift decomposition\"+\" \"+\" (\"+str(depth)+\"m)\"\n",
    "    title1=\"shift_decomp\"+\"_\"+str(depth)+\"m\"\n",
    "    py.title(str(DEPTHS_title[d]),fontsize=30,y=1.03)\n",
    "    #py.title(title, fontsize=35)\n",
    "    py.xticks(m, mticks,size=15)\n",
    "    py.tick_params(labelsize=20,size=4,width=2)\n",
    "    py.axhspan(-1.0, 1.0, facecolor='0.5', alpha=0.3)\n",
    "    py.tight_layout()\n",
    "    if d==1:\n",
    "        py.legend(loc='best',fontsize=20,ncol=3,frameon=False)\n",
    "    py.subplots_adjust(left=0.12, right=0.88, top=0.88, bottom=0.10, wspace=0.15, hspace=0.3)\n",
    "   \n",
    "    "
   ]
  },
  {
   "cell_type": "markdown",
   "metadata": {},
   "source": [
    "$\\begin{alignat}{1}\n",
    "\\Delta F= & \\underset{d_{1}}{\\underbrace{-\\partial_{y}D_{o}\\Delta(I_{m})}}\\ \\ \\ \\underset{d_{2}}{\\underbrace{-\\Delta\\left(\\partial_{y}D\\right)I_{m_{o}}}}\\ \\ \\ \\underset{d_{3}}{\\underbrace{-\\Delta\\left(\\partial_{y}D\\right)\\Delta(I_{m})}}\\nonumber \\\\\n",
    " & \\underset{d_{4}}{\\underbrace{-D_{o}\\Delta(\\partial_{y}I_{m})}}\\underset{d_{5}}{\\ \\underbrace{\\ \\ -\\Delta\\left(D\\right)\\partial_{y}I_{m_{o}}}\\ \\ \\ }\\underset{d_{6}}{\\underbrace{-\\Delta\\left(D\\right)\\Delta(\\partial_{y}I_{m})}}\n",
    "\\end{alignat}$\n",
    "\n",
    "$\\begin{equation}\n",
    "\\Delta\\phi=\\Delta\\phi_{1}+\\Delta\\phi_{2}+\\Delta\\phi_{3}+\\Delta\\phi_{4}+\\Delta\\phi_{5}+\\Delta\\phi_{6}+\\Delta\\phi_{CT}\n",
    "\\end{equation}$"
   ]
  },
  {
   "cell_type": "code",
   "execution_count": 57,
   "metadata": {},
   "outputs": [
    {
     "name": "stdout",
     "output_type": "stream",
     "text": [
      "39.20080333581809\n",
      "44.03805013081176\n"
     ]
    },
    {
     "data": {
      "image/png": "[encoded data removed]",
      "text/plain": [
       "<matplotlib.figure.Figure at 0x7f972c287ad0>"
      ]
     },
     "metadata": {},
     "output_type": "display_data"
    }
   ],
   "source": [
    "py.figure(figsize=(15,5))\n",
    "l=14\n",
    "for d in [1,0]:\n",
    "    py.subplot(1,2,d+1)\n",
    "    plot_monthly_shift(d,l,month_to_month=0,threshold_value=0.0)\n",
    "py.tight_layout()\n",
    "py.savefig(\"GFDL_diffusivity.pdf\")"
   ]
  },
  {
   "cell_type": "code",
   "execution_count": null,
   "metadata": {},
   "outputs": [],
   "source": [
    "region=np.squeeze(np.where( (lat_a>30) & (lat_a<60) ))\n",
    "py.figure(figsize=(20,10))\n",
    "v=np.linspace(-150,150,20)\n",
    "def cont_plot(field,n):\n",
    "    py.subplot(4,3,n)\n",
    "    py.contourf(range(13),lat_a[region], field[0,region,...],v, cmap=cm.seismic); py.colorbar()\n",
    "    if n<=6:\n",
    "      py.plot(positions[n][0,:],'o-')\n",
    "    \n",
    "cont_plot(d1,1)\n",
    "cont_plot(d2,2)\n",
    "cont_plot(d3,3)\n",
    "\n",
    "cont_plot(d4,4)\n",
    "cont_plot(d5,5)\n",
    "cont_plot(d6,6)\n",
    "\n",
    "cont_plot(d1+d2+d3+d4+d5+d6,7)\n",
    "py.plot(positions[0][d,:],'o-')\n",
    "cont_plot(prime(div_TE_a),8)\n",
    "py.plot(positions[0][d,:],'o-')\n",
    "py.tight_layout()"
   ]
  },
  {
   "cell_type": "code",
   "execution_count": null,
   "metadata": {},
   "outputs": [],
   "source": [
    "d=0\n",
    "region=np.squeeze(np.where(lat_a>30))\n",
    "py.figure(figsize=(20,10))\n",
    "v=np.linspace(-250,250,90)\n",
    "def cont_plot_main(field,n):\n",
    "    py.subplot(4,3,n)\n",
    "    py.contourf(range(13),lat_a[region], (F+prime(field))[d,region,...],v, cmap=cm.seismic); py.colorbar()\n",
    "    if n<=6:\n",
    "      py.plot(positions[n][d,:],'o-')\n",
    "    py.ylim(30,60)\n",
    "    \n",
    "cont_plot_main(d1,1)\n",
    "cont_plot_main(d2,2)\n",
    "cont_plot_main(d3,3)\n",
    "\n",
    "cont_plot_main(d4,4)\n",
    "cont_plot_main(d5,5)\n",
    "cont_plot_main(d6,6)\n",
    "\n",
    "cont_plot_main(d1+d2+d3+d4+d5+d6,7)\n",
    "py.plot(positions[0][d,:],'o-')\n",
    "cont_plot_main(prime(div_TE_a),8)\n",
    "py.plot(positions[0][d,:],'o-')\n",
    "py.tight_layout()\n"
   ]
  },
  {
   "cell_type": "code",
   "execution_count": null,
   "metadata": {},
   "outputs": [],
   "source": [
    "d=1\n",
    "region=np.squeeze(np.where(lat_a>30))\n",
    "py.figure(figsize=(20,10))\n",
    "v=np.linspace(-250,250,90)\n",
    "def cont_plot_main(field,n):\n",
    "    py.subplot(4,3,n)\n",
    "    py.contourf(range(13),lat_a[region], (F+prime(field))[d,region,...],v, cmap=cm.seismic); py.colorbar()\n",
    "    if n<=6:\n",
    "      py.plot(positions[n][d,:],'o-')\n",
    "    py.ylim(30,60)\n",
    "    \n",
    "cont_plot_main(d1,1)\n",
    "cont_plot_main(d2,2)\n",
    "cont_plot_main(d3,3)\n",
    "\n",
    "cont_plot_main(d4,4)\n",
    "cont_plot_main(d5,5)\n",
    "cont_plot_main(d6,6)\n",
    "\n",
    "cont_plot_main(d1+d2+d3+d4+d5+d6,7)\n",
    "py.plot(positions[0][d,:],'o-')\n",
    "cont_plot_main(prime(div_TE_a),8)\n",
    "py.plot(positions[0][d,:],'o-')\n",
    "py.tight_layout()\n"
   ]
  },
  {
   "cell_type": "code",
   "execution_count": null,
   "metadata": {},
   "outputs": [],
   "source": [
    "d=0\n",
    "region=np.squeeze(np.where(lat_a>38))\n",
    "py.figure(figsize=(20,10))\n",
    "v=np.linspace(-250,250,90)\n",
    "def cont_plot_main(field,n):\n",
    "    py.subplot(4,3,n)\n",
    "    py.contourf(range(13),lat_a[region], (F+prime(field))[d,region,...],v, cmap=cm.seismic); py.colorbar()\n",
    "    if n<=6:\n",
    "      py.plot(positions[n][d,:],'o-')\n",
    "    py.ylim(38,60)\n",
    "    \n",
    "cont_plot_main(d1,1)\n",
    "cont_plot_main(d2,2)\n",
    "cont_plot_main(d3,3)\n",
    "\n",
    "cont_plot_main(d4,4)\n",
    "cont_plot_main(d5,5)\n",
    "cont_plot_main(d6,6)\n",
    "\n",
    "cont_plot_main(d1+d2+d3+d4+d5+d6,7)\n",
    "py.plot(positions[0][d,:],'o-')\n",
    "cont_plot_main(prime(div_TE_a),8)\n",
    "py.plot(positions[0][d,:],'o-')\n",
    "py.tight_layout()\n"
   ]
  },
  {
   "cell_type": "code",
   "execution_count": null,
   "metadata": {},
   "outputs": [],
   "source": []
  },
  {
   "cell_type": "code",
   "execution_count": null,
   "metadata": {},
   "outputs": [],
   "source": []
  }
 ],
 "metadata": {
  "kernelspec": {
   "display_name": "Python 2",
   "language": "python",
   "name": "python2"
  },
  "language_info": {
   "codemirror_mode": {
    "name": "ipython",
    "version": 2
   },
   "file_extension": ".py",
   "mimetype": "text/x-python",
   "name": "python",
   "nbconvert_exporter": "python",
   "pygments_lexer": "ipython2",
   "version": "2.7.11"
  }
 },
 "nbformat": 4,
 "nbformat_minor": 2
}
