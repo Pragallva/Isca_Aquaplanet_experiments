{
 "cells": [
  {
   "cell_type": "code",
   "execution_count": 1,
   "metadata": {
    "collapsed": false,
    "deletable": true,
    "editable": true
   },
   "outputs": [],
   "source": [
    "%matplotlib inline\n",
    "import matplotlib as mpl\n",
    "#mpl.use('Agg')\n",
    "import numpy as np\n",
    "import pylab as py\n",
    "import matplotlib.cm as cm\n",
    "from reverse_cmap import rcmap\n",
    "import sys\n",
    "import os\n",
    "import errno\n",
    "import netCDF4 as nc\n",
    "\n",
    "BuRd = rcmap(cm.RdBu)\n",
    "\n",
    "import hickle as hkl\n",
    "\n",
    "## A function to save a dictionary ##\n",
    "def save(filename,dictionary):\n",
    "    hkl.dump(dictionary, filename, mode='w')\n",
    "\n",
    "## A function to load a dictionary ## \n",
    "def load(filename):\n",
    "    dictionary = hkl.load(filename)\n",
    "    return dictionary\n",
    "\n",
    "\n",
    "def make_sure_path_exists(path):\n",
    "    try:\n",
    "        os.makedirs(path)\n",
    "    except OSError as exception:\n",
    "        if exception.errno != errno.EEXIST:\n",
    "            raise\n",
    "####################\n",
    "#### smoothening ###\n",
    "####################\n",
    "\n",
    "def smooth(y, box_pts):\n",
    "    box = np.ones(box_pts)/box_pts\n",
    "    y_smooth = np.convolve(y, box, mode='same')\n",
    "    return y_smooth\n",
    "\n",
    "a=6371.0e3\n",
    "R=a"
   ]
  },
  {
   "cell_type": "code",
   "execution_count": 2,
   "metadata": {},
   "outputs": [],
   "source": [
    "import glob\n",
    "import numpy as np\n",
    "import scipy.io as sio\n",
    "import pylab as py\n",
    "from scipy import interpolate\n",
    "from scipy.interpolate import interp1d\n",
    "from scipy import stats\n",
    "\n",
    "#### Invoke all the files\n",
    "\n",
    "c0 =(glob.glob('/project2/tas1/pragallva/Fall_quarter_2018/post_process_data/HC0_la4m_oc4m0/*.hkl'))\n",
    "c1 =(glob.glob('/project2/tas1/pragallva/Fall_quarter_2018/post_process_data/HC0_la4m_oc4m1/*.hkl'))\n",
    "c2 =(glob.glob('/project2/tas1/pragallva/Fall_quarter_2018/post_process_data/HC0_la4m_oc4m2/*.hkl'))\n"
   ]
  },
  {
   "cell_type": "code",
   "execution_count": 12,
   "metadata": {},
   "outputs": [
    {
     "name": "stdout",
     "output_type": "stream",
     "text": [
      "all_MSE_flux.hkl            MMC_thermo_dynamic_dic_vert.hkl\n",
      "coord_dic.hkl               time.npy\n",
      "EKE.hkl                     T_uv_Z.hkl\n",
      "EKE.npy                     zonal_decomposed_fluxes_dic.hkl\n",
      "fluxes_dic.hkl              zonal_decomposed_fluxes_dic_vert.hkl\n",
      "MMC_thermo_dynamic_dic.hkl  zonal_radiation_dic.hkl\n"
     ]
    }
   ],
   "source": [
    "ls /project2/tas1/pragallva/Winter_quarter_2019/post_process_data/greyT85/Lenka_oc10qf40T850/first6months/  "
   ]
  },
  {
   "cell_type": "code",
   "execution_count": 23,
   "metadata": {},
   "outputs": [],
   "source": [
    "F0 =(glob.glob('/project2/tas1/pragallva/Winter_quarter_2019/post_process_data/greyT85/Lenka_oc10qf40T850/first6months/*.hkl'))\n",
    "F =(glob.glob('/project2/tas1/pragallva/Winter_quarter_2019/post_process_data/greyT85/Lenka_oc10qf40T850/*.hkl'))\n",
    "# c1 =(glob.glob('/project2/tas1/pragallva/Fall_quarter_2018/post_process_data/HC0_la4m_oc4m1/*.hkl'))\n",
    "# c2 =(glob.glob('/project2/tas1/pragallva/Fall_quarter_2018/post_process_data/HC0_la4m_oc4m2/*.hkl'))\n"
   ]
  },
  {
   "cell_type": "code",
   "execution_count": 26,
   "metadata": {},
   "outputs": [
    {
     "name": "stdout",
     "output_type": "stream",
     "text": [
      "(12, 40, 128)\n",
      "(6, 40, 128)\n"
     ]
    }
   ],
   "source": [
    "print load( F[8])['v_sq'].shape\n",
    "print load(F0[8])['v_sq'].shape"
   ]
  },
  {
   "cell_type": "code",
   "execution_count": 74,
   "metadata": {},
   "outputs": [],
   "source": [
    "import glob\n",
    "c0 =(glob.glob('/project2/tas1/pragallva/Winter_quarter_2019/post_process_data/greyT85/Lenka_oc10qf40T850/first6months/*.hkl'))"
   ]
  },
  {
   "cell_type": "code",
   "execution_count": 75,
   "metadata": {},
   "outputs": [],
   "source": [
    "durations=['first6months/*hkl','last6months/*hkl']\n",
    "source   ='/project2/tas1/pragallva/Winter_quarter_2019/post_process_data/greyT85/'+'Lenka_oc10qf40T85'+str(0)+'/'\n",
    "\n",
    "dict1    = (glob.glob(source+durations[1-1]))\n",
    "dict2 = (glob.glob(source+durations[2-1]))\n"
   ]
  },
  {
   "cell_type": "code",
   "execution_count": 80,
   "metadata": {},
   "outputs": [
    {
     "data": {
      "text/plain": [
       "['/project2/tas1/pragallva/Winter_quarter_2019/post_process_data/greyT85/Lenka_oc10qf40T850/first6months/fluxes_dic.hkl',\n",
       " '/project2/tas1/pragallva/Winter_quarter_2019/post_process_data/greyT85/Lenka_oc10qf40T850/first6months/zonal_decomposed_fluxes_dic.hkl',\n",
       " '/project2/tas1/pragallva/Winter_quarter_2019/post_process_data/greyT85/Lenka_oc10qf40T850/first6months/zonal_radiation_dic.hkl',\n",
       " '/project2/tas1/pragallva/Winter_quarter_2019/post_process_data/greyT85/Lenka_oc10qf40T850/first6months/T_uv_Z.hkl',\n",
       " '/project2/tas1/pragallva/Winter_quarter_2019/post_process_data/greyT85/Lenka_oc10qf40T850/first6months/coord_dic.hkl',\n",
       " '/project2/tas1/pragallva/Winter_quarter_2019/post_process_data/greyT85/Lenka_oc10qf40T850/first6months/all_MSE_flux.hkl',\n",
       " '/project2/tas1/pragallva/Winter_quarter_2019/post_process_data/greyT85/Lenka_oc10qf40T850/first6months/zonal_decomposed_fluxes_dic_vert.hkl']"
      ]
     },
     "execution_count": 80,
     "metadata": {},
     "output_type": "execute_result"
    }
   ],
   "source": [
    "dict1"
   ]
  },
  {
   "cell_type": "code",
   "execution_count": 86,
   "metadata": {},
   "outputs": [],
   "source": [
    "import os\n",
    "field=os.path.split(dict1[4])[1]"
   ]
  },
  {
   "cell_type": "code",
   "execution_count": 87,
   "metadata": {},
   "outputs": [
    {
     "data": {
      "text/plain": [
       "'coord_dic.hkl'"
      ]
     },
     "execution_count": 87,
     "metadata": {},
     "output_type": "execute_result"
    }
   ],
   "source": [
    "field"
   ]
  },
  {
   "cell_type": "code",
   "execution_count": 90,
   "metadata": {},
   "outputs": [],
   "source": [
    "if field is 'coord_dic.hkl':\n",
    "    print 'ok'"
   ]
  },
  {
   "cell_type": "code",
   "execution_count": 83,
   "metadata": {},
   "outputs": [],
   "source": [
    "flux0=load(c0[4])\n",
    "flux1=load(c1[4])\n",
    "flux2=load(c2[4])"
   ]
  },
  {
   "cell_type": "code",
   "execution_count": 55,
   "metadata": {},
   "outputs": [],
   "source": [
    "# np.append(d1['temp'], d2['temp'],axis=0).shape"
   ]
  },
  {
   "cell_type": "code",
   "execution_count": 64,
   "metadata": {},
   "outputs": [
    {
     "name": "stdout",
     "output_type": "stream",
     "text": [
      "temp\n",
      "q\n",
      "u\n",
      "v\n",
      "Z\n"
     ]
    }
   ],
   "source": [
    "d0=flux0\n",
    "d1=flux1\n",
    "d2=flux2\n",
    "final={}\n",
    "\n",
    "for key in d1.keys():\n",
    "        if isinstance(d1[key], (list, tuple, np.ndarray)) :\n",
    "            temporary={key: np.concatenate( (d1[key], d2[key], d0[key]), axis=0) }\n",
    "            final.update(temporary)\n",
    "            print key\n",
    "        else :\n",
    "            temporary2={key: (d1[key])}  \n",
    "            final.update(temporary2)"
   ]
  },
  {
   "cell_type": "code",
   "execution_count": 72,
   "metadata": {},
   "outputs": [
    {
     "ename": "SyntaxError",
     "evalue": "invalid syntax (<ipython-input-72-755d1cce72f0>, line 1)",
     "output_type": "error",
     "traceback": [
      "\u001b[0;36m  File \u001b[0;32m\"<ipython-input-72-755d1cce72f0>\"\u001b[0;36m, line \u001b[0;32m1\u001b[0m\n\u001b[0;31m    dirc=/project2/tas1/pragallva/Winter_quarter_2019/post_process_data/greyT85/Lenka_oc10qf40T850/first6months/\u001b[0m\n\u001b[0m         ^\u001b[0m\n\u001b[0;31mSyntaxError\u001b[0m\u001b[0;31m:\u001b[0m invalid syntax\n"
     ]
    }
   ],
   "source": [
    "ls /project2/tas1/pragallva/Winter_quarter_2019/post_process_data/greyT85/Lenka_oc10qf40T850/first6months/"
   ]
  },
  {
   "cell_type": "code",
   "execution_count": 66,
   "metadata": {},
   "outputs": [
    {
     "data": {
      "text/plain": [
       "<matplotlib.contour.QuadContourSet at 0x7fcee7e814d0>"
      ]
     },
     "execution_count": 66,
     "metadata": {},
     "output_type": "execute_result"
    },
    {
     "data": {
      "image/png": "[encoded data removed]",
      "text/plain": [
       "<matplotlib.figure.Figure at 0x7fceed1154d0>"
      ]
     },
     "metadata": {},
     "output_type": "display_data"
    }
   ],
   "source": [
    "py.contourf(final['temp'][:,5,:].T)"
   ]
  },
  {
   "cell_type": "code",
   "execution_count": 136,
   "metadata": {},
   "outputs": [
    {
     "data": {
      "text/plain": [
       "(12, 40, 64)"
      ]
     },
     "execution_count": 136,
     "metadata": {},
     "output_type": "execute_result"
    }
   ],
   "source": [
    "final['temp'].shape"
   ]
  },
  {
   "cell_type": "code",
   "execution_count": null,
   "metadata": {},
   "outputs": [],
   "source": []
  }
 ],
 "metadata": {
  "kernelspec": {
   "display_name": "Python 2",
   "language": "python",
   "name": "python2"
  },
  "language_info": {
   "codemirror_mode": {
    "name": "ipython",
    "version": 2
   },
   "file_extension": ".py",
   "mimetype": "text/x-python",
   "name": "python",
   "nbconvert_exporter": "python",
   "pygments_lexer": "ipython2",
   "version": "2.7.11"
  }
 },
 "nbformat": 4,
 "nbformat_minor": 2
}
