{
 "cells": [
  {
   "cell_type": "code",
   "execution_count": 1,
   "metadata": {
    "collapsed": false,
    "deletable": true,
    "editable": true
   },
   "outputs": [],
   "source": [
    "%matplotlib inline\n",
    "import matplotlib as mpl\n",
    "#mpl.use('Agg')\n",
    "import numpy as np\n",
    "import pylab as py\n",
    "import matplotlib.cm as cm\n",
    "from reverse_cmap import rcmap\n",
    "import sys\n",
    "import os\n",
    "import errno\n",
    "import netCDF4 as nc\n",
    "\n",
    "BuRd = rcmap(cm.RdBu)\n",
    "\n",
    "import hickle as hkl\n",
    "\n",
    "## A function to save a dictionary ##\n",
    "def save(filename,dictionary):\n",
    "    hkl.dump(dictionary, filename, mode='w')\n",
    "\n",
    "## A function to load a dictionary ## \n",
    "def load(filename):\n",
    "    dictionary = hkl.load(filename)\n",
    "    return dictionary\n",
    "\n",
    "\n",
    "def make_sure_path_exists(path):\n",
    "    try:\n",
    "        os.makedirs(path)\n",
    "    except OSError as exception:\n",
    "        if exception.errno != errno.EEXIST:\n",
    "            raise\n",
    "####################\n",
    "#### smoothening ###\n",
    "####################\n",
    "\n",
    "def smooth(y, box_pts):\n",
    "    box = np.ones(box_pts)/box_pts\n",
    "    y_smooth = np.convolve(y, box, mode='same')\n",
    "    return y_smooth\n",
    "\n",
    "a=6371.0e3\n",
    "R=a"
   ]
  },
  {
   "cell_type": "code",
   "execution_count": null,
   "metadata": {},
   "outputs": [],
   "source": []
  },
  {
   "cell_type": "code",
   "execution_count": null,
   "metadata": {},
   "outputs": [],
   "source": []
  },
  {
   "cell_type": "code",
   "execution_count": 2,
   "metadata": {
    "collapsed": false,
    "deletable": true,
    "editable": true
   },
   "outputs": [],
   "source": [
    "import glob\n",
    "import numpy as np\n",
    "import scipy.io as sio\n",
    "import pylab as py\n",
    "from scipy import interpolate\n",
    "from scipy.interpolate import interp1d\n",
    "from scipy import stats\n",
    "\n",
    "#### Invoke all the files\n",
    "\n",
    "m4 =(glob.glob('/project2/tas1/pragallva/Fall_quarter_2018/post_process_data/HC0_la4m_oc4m/*.hkl'))\n",
    "m5 =(glob.glob('/project2/tas1/pragallva/Fall_quarter_2018/post_process_data/HC0_la5m_oc5m/*.hkl'))\n",
    "m8 =(glob.glob('/project2/tas1/pragallva/Fall_quarter_2018/post_process_data/HC0_la8m_oc8m/*.hkl'))\n",
    "m10 =(glob.glob('/project2/tas1/pragallva/Summer_quarter_2018/post_process_data/aqua_isca10m/*.hkl'))\n",
    "m12 =(glob.glob('/project2/tas1/pragallva/Fall_quarter_2018/post_process_data/HC0_la12m_oc12m/*.hkl'))\n",
    "m16 =(glob.glob('/project2/tas1/pragallva/Fall_quarter_2018/post_process_data/HC0_la16m_oc16m/*.hkl'))\n",
    "m20 =(glob.glob('/project2/tas1/pragallva/Fall_quarter_2018/post_process_data/HC0_la20m_oc20m/*.hkl'))\n",
    "m30 =(glob.glob('/project2/tas1/pragallva/Fall_quarter_2018/post_process_data/HC0_la30m_oc30m/*.hkl'))\n",
    "m50 =(glob.glob('/project2/tas1/pragallva/Fall_quarter_2018/post_process_data/HC0_la50m_oc50m/*.hkl'))\n",
    "m80 =(glob.glob('/project2/tas1/pragallva/Fall_quarter_2018/post_process_data/HC0_la80m_oc80m/*.hkl'))\n",
    "m100 =(glob.glob('/project2/tas1/pragallva/Summer_quarter_2018/post_process_data/aqua_isca100m/*.hkl'))"
   ]
  },
  {
   "cell_type": "code",
   "execution_count": 3,
   "metadata": {},
   "outputs": [],
   "source": [
    "# ls /project2/tas1/pragallva/Fall_quarter_2018/post_process_data/HC0_la4m_oc4m/"
   ]
  },
  {
   "cell_type": "code",
   "execution_count": 4,
   "metadata": {
    "collapsed": false,
    "deletable": true,
    "editable": true
   },
   "outputs": [],
   "source": [
    "DEPTHS=[m4, m5, m8, m10, m12, m16, m20, m30, m50, m80, m100]\n",
    "flux=[]\n",
    "flux_vert=[]\n",
    "div=[]\n",
    "div_vert=[]\n",
    "eke=[]\n",
    "raw=[]\n",
    "tsurf=[]\n",
    "mmc_decomp=[]\n",
    "mmc_decomp_vert=[]\n",
    "c=5\n",
    "coord=load(m5[c])\n",
    "for depth in DEPTHS:\n",
    "    if ( (depth==m10) or (depth==m100)) :\n",
    "        f=0; e=1; r=2; fv=3; c=4; d=5; dv=6;\n",
    "    else :\n",
    "        f=0; e=1; mmcv=2; r=3; fv=4; c=5; d=6; dv=7; mmc=8;\n",
    "        mmc_decomp.append(load(depth[mmc]))\n",
    "        eke.append(load(depth[e]))\n",
    "        mmc_decomp.append(load(depth[mmc]))\n",
    "        mmc_decomp_vert.append(load(depth[mmcv]))\n",
    "    raw.append(load(depth[r]))\n",
    "    flux.append(load(depth[f]))\n",
    "    flux_vert.append(load(depth[fv]))\n",
    "    div.append(load(depth[d])) \n",
    "    div_vert.append(load(depth[dv]))"
   ]
  },
  {
   "cell_type": "code",
   "execution_count": 5,
   "metadata": {},
   "outputs": [],
   "source": [
    "c=5\n",
    "ncfile='/project2/tas1/pragallva/Spring_quarter_2018/exp_data/aqua_isca5m/aqua_isca5m0.nc'\n",
    "v_var=nc.Dataset(ncfile,'r')\n",
    "sigma_full=v_var['pfull'][::-1]\n",
    "sigma_half=v_var['phalf'][::-1]"
   ]
  },
  {
   "cell_type": "code",
   "execution_count": 6,
   "metadata": {
    "collapsed": false,
    "deletable": true,
    "editable": true
   },
   "outputs": [],
   "source": [
    "# def save(X,name): \n",
    "#     Y={'d5':X[d5], 'd10':X[d10],'d50':X[d50], 'd100':X[d100]}\n",
    "#     sio.savemat(name, Y)\n",
    "# dest= '/project2/tas1/pragallva/Summer_quarter_2018/MAT_files/'  \n",
    "# make_sure_path_exists(dest)\n",
    "# save(flux,dest+\"Isca_depths_FLUX_in_PW.mat\")\n",
    "# save(div, dest+\"Isca_depths_DIV_in_W_m2.mat\")\n",
    "# save(raw, dest+\"Isca_depths_RAW_data_all_levels.mat\")\n",
    "# sio.savemat(dest+\"coordinates.mat\", coord)"
   ]
  },
  {
   "cell_type": "code",
   "execution_count": 7,
   "metadata": {},
   "outputs": [],
   "source": [
    "def M(x):\n",
    "    return np.array(x)\n",
    "lat=div[0]['latn']\n",
    "Iswabs=[]; Ishf=[]; Idhdt=[]; Iolr=[]; Ine=[];\n",
    "ISW_sfc=[]; ISW_toa=[]; ILW_sfc=[]; Ishflx=[]; Ilhflx=[]; ISFC=[]; ITOA=[]; TS=[]; precip=[]\n",
    "for depth in range(len(DEPTHS)):\n",
    "    Iswabs.append(M(flux[depth]['SWABS']))\n",
    "    Ishf.append(M(flux[depth]['SHF']))\n",
    "    Idhdt.append(M(flux[depth]['dhdt']))\n",
    "    Iolr.append(M(flux[depth]['olr']))\n",
    "    ISW_sfc.append(-1*M(flux[depth]['SW_sfc_d'])) ## up\n",
    "    ILW_sfc.append(M(-1*flux[depth]['LW_sfc_d'])) ## up\n",
    "    ISW_toa.append(M(flux[depth]['SW_toa_d']))    ## dn\n",
    "    Ishflx.append(M(flux[depth]['shflx_u']))      ## up\n",
    "    Ilhflx.append(M(flux[depth]['lhflx_u']))      ## up\n",
    "    \n",
    "    ISFC.append(M(flux[depth]['SFC_u']))\n",
    "    ITOA.append(M(flux[depth]['TOA_d']))\n",
    "    Ine.append(Iswabs[depth]+Ishf[depth]-Iolr[depth]-Idhdt[depth])"
   ]
  },
  {
   "cell_type": "code",
   "execution_count": 8,
   "metadata": {
    "collapsed": false,
    "deletable": true,
    "editable": true
   },
   "outputs": [],
   "source": [
    "TE=[]; MM=[]; SE=[]; INE=[]; EKE_vert=[]; EMF_vert=[]; del_m_mmc=[]; del_v_mmc=[]\n",
    "del_m_mmc_vert=[]; del_v_mmc_vert=[]\n",
    "for depth in range(len(DEPTHS)):\n",
    "    TE.append(M(flux[depth]['TE']))\n",
    "    SE.append(M(flux[depth]['SE']))\n",
    "    MM.append(M(flux[depth]['MM']))\n",
    "    INE.append(TE[depth]+SE[depth]+MM[depth])"
   ]
  },
  {
   "cell_type": "code",
   "execution_count": 9,
   "metadata": {},
   "outputs": [],
   "source": [
    "def M(X):\n",
    "    return np.array(X)"
   ]
  },
  {
   "cell_type": "code",
   "execution_count": 10,
   "metadata": {
    "collapsed": true,
    "deletable": true,
    "editable": true
   },
   "outputs": [],
   "source": [
    "import scipy.integrate as integrate \n",
    "def interad(x):\n",
    "    l=np.deg2rad(lat[:,None])\n",
    "    x=x*np.cos(l)\n",
    "    #int_x  =integrate.cumtrapz(x[::-1,:],l[::-1],axis=0,initial=None) #  (This is basically integration from - 90 deg)\n",
    "    int_x_r=integrate.cumtrapz(x        ,l      ,axis=0,initial=None) #  (This is basically integration from + 90 deg) \n",
    "    avg_int_r=2*np.pi*a**2*(int_x_r[:])#int_x_r[:-1,:]) #int_x[::-1,:][1:,:]+\n",
    "    return avg_int_r/10**15"
   ]
  },
  {
   "cell_type": "code",
   "execution_count": 11,
   "metadata": {
    "collapsed": false,
    "deletable": true,
    "editable": true
   },
   "outputs": [],
   "source": [
    "div_TE=[]; div_MM=[]; div_SE=[]; div_NE=[];\n",
    "swabs=[]; shf=[]; olr=[];dhdt=[];ne=[];\n",
    "SW_sfc=[]; SW_toa=[]; LW_sfc=[]; shflx=[]; lhflx=[]; sfc=[]; toa=[]\n",
    "\n",
    "for depth in range(len(DEPTHS)):\n",
    "    div_TE.append(div[depth]['TE'])\n",
    "    div_SE.append(div[depth]['SE'])\n",
    "    div_MM.append(div[depth]['MM'])\n",
    "    div_NE.append(div_TE[depth]+div_SE[depth]+div_MM[depth])\n",
    "    \n",
    "    swabs.append(div[depth]['SWABS'])\n",
    "    shf.append(div[depth]['SHF'])\n",
    "    dhdt.append(div[depth]['dhdt'])\n",
    "    olr.append(div[depth]['olr'])\n",
    "    ne.append(swabs[depth]+shf[depth]-olr[depth]-dhdt[depth])\n",
    "    \n",
    "    SW_sfc.append(-1*div[depth]['SW_sfc_d'])\n",
    "    LW_sfc.append(-1*div[depth]['LW_sfc_d'])\n",
    "    SW_toa.append(div[depth]['SW_toa_d'])\n",
    "    shflx.append(div[depth]['shflx_u'])\n",
    "    lhflx.append(div[depth]['lhflx_u'])\n",
    "    sfc.append(div[depth]['SFC_u'])\n",
    "    toa.append(div[depth]['TOA_d'])\n",
    "    "
   ]
  },
  {
   "cell_type": "markdown",
   "metadata": {
    "deletable": true,
    "editable": true
   },
   "source": [
    "# Average Northern and Southern Hemispheres"
   ]
  },
  {
   "cell_type": "code",
   "execution_count": 12,
   "metadata": {
    "collapsed": false,
    "deletable": true,
    "editable": true
   },
   "outputs": [],
   "source": [
    "TE=np.array(TE); SE=np.array(SE); MM=np.array(MM); NE=np.array(INE); EKE_vert=np.array(EKE_vert); EMF_vert=np.array(EMF_vert)\n",
    "Iswabs=np.array(Iswabs); Ishf=np.array(Ishf); Ine=np.array(Ine); Iolr=np.array(Iolr); Idhdt=np.array(Idhdt);\n",
    "ISW_sfc=np.array(ISW_sfc); ILW_sfc=np.array(ILW_sfc); ISW_toa=np.array(ISW_toa); Ishflx=np.array(Ishflx); Ilhflx=np.array(Ilhflx);\n",
    "ISFC=np.array(ISFC); ITOA=np.array(ITOA); \n",
    "# mmc_decomp=np.array(mmc_decomp)"
   ]
  },
  {
   "cell_type": "code",
   "execution_count": 13,
   "metadata": {
    "collapsed": false,
    "deletable": true,
    "editable": true
   },
   "outputs": [],
   "source": [
    "def N_S_avg(TE, SE, MM, NE, temp, lat, flux_flag=-1):\n",
    "    l_N=((lat>-0.1) & (lat<=90))            \n",
    "    l_S=((lat>=-90) & (lat<=0))\n",
    "    \n",
    "    avg = lambda x: (x[:,l_N,:]+flux_flag*np.roll(x[:,l_S,:][:,::-1,:], 6, axis=-1))/2.0\n",
    "    \n",
    "    TE1= avg(TE)\n",
    "    SE1= avg(SE)\n",
    "    NE1= avg(NE)\n",
    "    MM1= avg(MM)\n",
    "    temp= avg(temp)\n",
    "    \n",
    "    a= lambda x: np.append(x,x[:,:,0,None],axis=-1)\n",
    "    \n",
    "    return a(TE1), a(SE1), a(MM1), a(NE1), a(temp), lat[l_N]"
   ]
  },
  {
   "cell_type": "code",
   "execution_count": 14,
   "metadata": {
    "collapsed": false,
    "deletable": true,
    "editable": true
   },
   "outputs": [],
   "source": [
    "TE_a   ,SE_a     , MM_a  , NE_a  , NE_a,   lat_a  = N_S_avg(TE, SE, MM, NE, NE, lat)\n",
    "Iswabs_a,Ishf_a  , Ine_a , Iolr_a, Idhdt_a, latr_a = N_S_avg( Iswabs,Ishf,Ine,Iolr,Idhdt, lat[1:-1] )\n",
    "ISW_sfc_a, ILW_sfc_a  , ISW_toa_a , Ishflx_a, Ilhflx_a, latr_a = N_S_avg( ISW_sfc,ILW_sfc,ISW_toa, Ishflx, Ilhflx, lat[1:-1] )\n",
    "ISFC_a = N_S_avg( ISFC,ISFC,ISFC,ISFC,ISFC, lat[1:-1] )[0]\n",
    "ITOA_a = N_S_avg( ITOA,ITOA,ITOA,ITOA,ITOA, lat[1:-1] )[0]\n"
   ]
  },
  {
   "cell_type": "code",
   "execution_count": 52,
   "metadata": {},
   "outputs": [
    {
     "data": {
      "image/png": "[encoded data removed]",
      "text/plain": [
       "<matplotlib.figure.Figure at 0x7f81c632de50>"
      ]
     },
     "metadata": {},
     "output_type": "display_data"
    }
   ],
   "source": [
    "def roll(x):\n",
    "    y=np.roll(x,1,axis=-1)\n",
    "    return y\n",
    "py.figure(figsize=(18,10))\n",
    "for d in range(len(DEPTHS)-1):\n",
    "    py.subplot(3,4,d+1)\n",
    "    v=np.arange(-15,15,1.0)\n",
    "    py.contourf( range(13),lat_a,roll(TE_a[d,...]),v,cmap=BuRd)\n",
    "    py.plot(roll(storm_pos)[d,:],'ro-')\n",
    "    py.plot(roll(zero_div_NE)[d,:],'mo-')\n",
    "    py.plot(roll(zero_div_MM)[d,:],'go-')\n",
    "    py.ylim(30,70)\n",
    "    py.colorbar()\n",
    "#     c=py.contour(range(13),lat_a[0:-1],Ine_a[d,...],10,colors='k')\n",
    "#     py.clabel(c,  inline=1,fmt = '%1.1f',inline_spacing=30, fontsize=15)\n",
    "    py.title(str(depth_values[d]),fontsize=20)\n",
    "    py.tight_layout()"
   ]
  },
  {
   "cell_type": "code",
   "execution_count": 15,
   "metadata": {
    "collapsed": false,
    "deletable": true,
    "editable": true
   },
   "outputs": [],
   "source": [
    "dtheta=np.radians(lat_a[1]-lat_a[0])\n",
    "\n",
    "def spher_div(x,fac=1):\n",
    "       N=100\n",
    "#        fac=1 #np.cos(np.radians(lat))\n",
    "       div=np.copy(x)\n",
    "       for d in range(len(DEPTHS)):\n",
    "        for m in range(13):\n",
    "           div[d,:,m]= smooth( np.gradient((x[d,:,m])*(fac),dtheta)/( 2*np.pi*R**2*np.cos(np.radians(lat_a[:])) ),N)\n",
    "       return div\n",
    "\n",
    "div_TE_a=spher_div(TE_a*10**15)\n",
    "div_SE_a=spher_div(SE_a*10**15)\n",
    "div_MM_a=spher_div(MM_a*10**15)\n",
    "div_NE_a=div_TE_a+div_SE_a+div_MM_a"
   ]
  },
  {
   "cell_type": "code",
   "execution_count": 16,
   "metadata": {
    "collapsed": false,
    "deletable": true,
    "editable": true
   },
   "outputs": [],
   "source": [
    "lat=div[0]['latn']\n",
    "\n",
    "from scipy.interpolate import interp1d\n",
    "\n",
    "def find_zero(div):\n",
    "  zero_loc = np.zeros((len(DEPTHS),13))\n",
    "  for d in range(0,len(DEPTHS)):\n",
    "      for m in range(0,13):\n",
    "            l_range=((lat_a>=30) & (lat_a<=60))            \n",
    "            interpolation_function = interp1d(div[d,l_range,m],lat_a[l_range],kind='linear')\n",
    "            try :\n",
    "                zero_loc[d,m]=interpolation_function(0)\n",
    "            except ValueError as err:\n",
    "                zero_loc[d,m]=np.nan        \n",
    "  return zero_loc\n",
    "\n",
    "storm_pos=find_zero(div_TE_a)"
   ]
  },
  {
   "cell_type": "code",
   "execution_count": 17,
   "metadata": {},
   "outputs": [],
   "source": [
    "import numpy as np\n",
    "def calculate_shift_just_by_adding_individual_flux_divergences(month_to_month=1):\n",
    "    \n",
    "    div_TE_a=spher_div(TE_a*10**15)\n",
    "    div_SE_a=spher_div(SE_a*10**15)\n",
    "    div_MM_a=spher_div(MM_a*10**15)\n",
    "    div_NE_a=div_TE_a+div_SE_a+div_MM_a\n",
    "    \n",
    "    se=np.array(div_SE_a); te=np.array(div_TE_a); mm=np.array(div_MM_a); ne=np.array(div_NE_a)\n",
    "    \n",
    "    def diff(x):\n",
    "        return x[:,:,1:]-x[:,:,:-1] \n",
    "    base_pos=te[...,:-1]\n",
    "    \n",
    "    if month_to_month==0 :\n",
    "      def diff(x):\n",
    "         return x[:,:,1:]-x[...,1:,None].mean(axis=2)    \n",
    "      base_pos=te[...,1:,None].mean(axis=2)\n",
    "        \n",
    "    TE_change=base_pos+diff(te)\n",
    "    NE_change=base_pos+diff(ne)\n",
    "    SE_change=base_pos-diff(se)\n",
    "    MM_change=base_pos-diff(mm)\n",
    "    \n",
    "    a = lambda x: np.append(x[:,:,-1,None],x,axis=-1)\n",
    "    \n",
    "    return a(SE_change), a(MM_change), a(TE_change), a(NE_change)\n",
    "\n",
    "SE_change, MM_change, TE_change, NE_change = calculate_shift_just_by_adding_individual_flux_divergences(month_to_month=0)"
   ]
  },
  {
   "cell_type": "code",
   "execution_count": 18,
   "metadata": {},
   "outputs": [],
   "source": [
    "def find_zero(div,lower_limit=30,specific_month=-1):\n",
    "  depths=div.shape[0];\n",
    "  months=div.shape[-1];\n",
    "  zero_loc = np.zeros((depths,months))\n",
    "  for d in range(0,depths):\n",
    "      for m in range(0,months):\n",
    "            l_range=((lat_a>=30) & (lat_a<=60))   \n",
    "            if m==specific_month:\n",
    "                l_range=((lat_a>=lower_limit) & (lat_a<=60))\n",
    "            interpolation_function = interp1d(div[d,l_range,m],lat_a[l_range],kind='linear')\n",
    "            try :\n",
    "                zero_loc[d,m]=interpolation_function(0)\n",
    "            except ValueError as err:\n",
    "                zero_loc[d,m]=np.nan        \n",
    "  return zero_loc"
   ]
  },
  {
   "cell_type": "code",
   "execution_count": 19,
   "metadata": {},
   "outputs": [],
   "source": [
    "def find_zero_for_ann_mean(div):\n",
    "  depths=div.shape[0];\n",
    "  zero_loc = np.zeros(depths)\n",
    "  for d in range(0,depths):\n",
    "        l_range=((lat_a>=30) & (lat_a<=60))   \n",
    "        interpolation_function = interp1d(div[d,l_range,:-1].mean(axis=-1),lat_a[l_range],kind='linear')\n",
    "        try :\n",
    "                zero_loc[d]=interpolation_function(0)\n",
    "        except ValueError as err:\n",
    "                zero_loc[d]=np.nan        \n",
    "  return zero_loc\n",
    "ann_pos=find_zero_for_ann_mean(TE_change)"
   ]
  },
  {
   "cell_type": "code",
   "execution_count": 20,
   "metadata": {},
   "outputs": [],
   "source": [
    "# pick the storm track position and identify the index\n",
    "from scipy.interpolate import interp1d\n",
    "def inerp_at_max(flux,lat):\n",
    "  D = np.zeros((len(DEPTHS),13))\n",
    "  for d in range(0,len(DEPTHS)):\n",
    "    for m in range(0,13):\n",
    "        l_range=((lat>=30) & (lat<=60)) \n",
    "        X=storm_pos\n",
    "        interpolation_function = interp1d(lat[l_range],flux[d,l_range,m],kind='cubic')\n",
    "        try :\n",
    "            D[d,m]=interpolation_function(X[d,m])\n",
    "        except ValueError as err:\n",
    "            D[d,m]==np.nan        \n",
    "  return D\n",
    "\n",
    "Intensity_te=inerp_at_max(TE_a,lat_a)\n",
    "Intensity_se=inerp_at_max(SE_a,lat_a)\n",
    "Intensity_mm=inerp_at_max(MM_a,lat_a)\n",
    "Intensity_ne=inerp_at_max(NE_a,lat_a)\n",
    "\n",
    "\n",
    "I_SWAB =inerp_at_max(Iswabs_a,latr_a)\n",
    "I_SHF  =inerp_at_max(Ishf_a,latr_a)\n",
    "I_NE   =inerp_at_max(Ine_a,latr_a)\n",
    "I_OLR  =inerp_at_max(Iolr_a,latr_a)\n",
    "I_dhdt =inerp_at_max(Idhdt_a,latr_a)\n",
    "\n",
    "I_SWsfc = inerp_at_max(ISW_sfc_a,latr_a)\n",
    "I_LWsfc = inerp_at_max(ILW_sfc_a,latr_a)\n",
    "I_SWtoa = inerp_at_max(ISW_toa_a,latr_a)\n",
    "I_shflx = inerp_at_max(Ishflx_a,latr_a)\n",
    "I_lhflx = inerp_at_max(Ilhflx_a,latr_a)\n",
    "\n",
    "I_SFC = inerp_at_max(ISFC_a,latr_a)\n",
    "I_TOA = inerp_at_max(ITOA_a,latr_a)\n"
   ]
  },
  {
   "cell_type": "code",
   "execution_count": 21,
   "metadata": {},
   "outputs": [],
   "source": [
    "def threshold(I,value, pos1, pos2, pos3, pos4):\n",
    "      for d in range(len(DEPTHS)):  \n",
    "        for m in range(13):\n",
    "            if (np.abs(I[d,m])<value) :\n",
    "                #N[d,m]=np.nan\n",
    "                pos1[d,m]=np.nan\n",
    "                pos2[d,m]=np.nan\n",
    "                pos3[d,m]=np.nan\n",
    "                pos4[d,m]=np.nan                \n",
    "      return pos1, pos2, pos3, pos4\n",
    "zero_div_TE, zero_div_SE, zero_div_MM, zero_div_NE = threshold(Intensity_te, 1.0, find_zero(TE_change), find_zero(SE_change), find_zero(MM_change), find_zero(NE_change))"
   ]
  },
  {
   "cell_type": "code",
   "execution_count": 22,
   "metadata": {},
   "outputs": [],
   "source": [
    "py.rc('text', usetex=True)\n",
    "py.rc('font', family='serif', serif='Palatino',weight='bold')\n"
   ]
  },
  {
   "cell_type": "code",
   "execution_count": 47,
   "metadata": {},
   "outputs": [
    {
     "data": {
      "text/plain": [
       "[4, 5, 8, 10, 12, 16, 20, 30, 50, 80, 100]"
      ]
     },
     "execution_count": 47,
     "metadata": {},
     "output_type": "execute_result"
    }
   ],
   "source": [
    "depth_values"
   ]
  },
  {
   "cell_type": "code",
   "execution_count": null,
   "metadata": {},
   "outputs": [],
   "source": [
    "d=0\n",
    "region=np.squeeze(np.where(lat_a>10))\n",
    "py.figure(figsize=(10,5))\n",
    "v=np.linspace(-300,300,50)\n",
    "def cont_plot_main(field,n,positions):\n",
    "    py.subplot(2,2,n)\n",
    "    py.contourf(range(13),lat_a[region], ((field))[d,region,...],v, cmap=cm.seismic); py.colorbar()\n",
    "    if n<=6:\n",
    "      py.plot(positions[d,:],'o-')\n",
    "    py.ylim(30,60)\n",
    " \n",
    "py.suptitle(str(depth_values[d]))\n",
    "cont_plot_main(TE_change,1,zero_div_TE)\n",
    "cont_plot_main(SE_change,2,zero_div_SE)\n",
    "cont_plot_main(MM_change,3,zero_div_MM)\n",
    "cont_plot_main(NE_change,4,zero_div_NE)\n",
    "py.tight_layout()\n",
    "\n",
    "\n",
    "\n",
    "d=1\n",
    "region=np.squeeze(np.where(lat_a>10))\n",
    "py.figure(figsize=(10,5))\n",
    "v=np.linspace(-300,300,50)\n",
    "def cont_plot_main(field,n,positions):\n",
    "    py.subplot(2,2,n)\n",
    "    py.contourf(range(13),lat_a[region], ((field))[d,region,...],v, cmap=cm.seismic); py.colorbar()\n",
    "    if n<=6:\n",
    "      py.plot(positions[d,:],'o-')\n",
    "    py.ylim(30,60)\n",
    "    \n",
    "py.suptitle(str(depth_values[d])) \n",
    "cont_plot_main(TE_change,1,zero_div_TE)\n",
    "cont_plot_main(SE_change,2,zero_div_SE)\n",
    "cont_plot_main(MM_change,3,zero_div_MM)\n",
    "cont_plot_main(NE_change,4,zero_div_NE)\n",
    "py.tight_layout()\n",
    "\n",
    "\n",
    "d=2\n",
    "region=np.squeeze(np.where(lat_a>10))\n",
    "py.figure(figsize=(10,5))\n",
    "v=np.linspace(-300,300,50)\n",
    "def cont_plot_main(field,n,positions):\n",
    "    py.subplot(2,2,n)\n",
    "    py.contourf(range(13),lat_a[region], ((field))[d,region,...],v, cmap=cm.seismic); py.colorbar()\n",
    "    if n<=6:\n",
    "      py.plot(positions[d,:],'o-')\n",
    "    py.ylim(30,60)\n",
    "\n",
    "py.suptitle(str(depth_values[d]))\n",
    "cont_plot_main(TE_change,1,zero_div_TE)\n",
    "cont_plot_main(SE_change,2,zero_div_SE)\n",
    "cont_plot_main(MM_change,3,zero_div_MM)\n",
    "cont_plot_main(NE_change,4,zero_div_NE)\n",
    "py.tight_layout()\n",
    "\n",
    "\n",
    "d=3\n",
    "region=np.squeeze(np.where(lat_a>10))\n",
    "py.figure(figsize=(10,5))\n",
    "v=np.linspace(-300,300,50)\n",
    "def cont_plot_main(field,n,positions):\n",
    "    py.subplot(2,2,n)\n",
    "    py.contourf(range(13),lat_a[region], ((field))[d,region,...],v, cmap=cm.seismic); py.colorbar()\n",
    "    if n<=6:\n",
    "      py.plot(positions[d,:],'o-')\n",
    "    py.ylim(30,60)\n",
    "\n",
    "py.suptitle(str(depth_values[d]))\n",
    "cont_plot_main(TE_change,1,zero_div_TE)\n",
    "cont_plot_main(SE_change,2,zero_div_SE)\n",
    "cont_plot_main(MM_change,3,zero_div_MM)\n",
    "cont_plot_main(NE_change,4,zero_div_NE)\n",
    "py.tight_layout()\n",
    "\n",
    "\n",
    "d=4\n",
    "region=np.squeeze(np.where(lat_a>10))\n",
    "py.figure(figsize=(10,5))\n",
    "v=np.linspace(-300,300,50)\n",
    "def cont_plot_main(field,n,positions):\n",
    "    py.subplot(2,2,n)\n",
    "    py.contourf(range(13),lat_a[region], ((field))[d,region,...],v, cmap=cm.seismic); py.colorbar()\n",
    "    if n<=6:\n",
    "      py.plot(positions[d,:],'o-')\n",
    "    py.ylim(30,60)\n",
    "\n",
    "py.suptitle(str(depth_values[d]))\n",
    "cont_plot_main(TE_change,1,zero_div_TE)\n",
    "cont_plot_main(SE_change,2,zero_div_SE)\n",
    "cont_plot_main(MM_change,3,zero_div_MM)\n",
    "cont_plot_main(NE_change,4,zero_div_NE)\n",
    "py.tight_layout()\n",
    "\n",
    "\n",
    "d=5\n",
    "region=np.squeeze(np.where(lat_a>10))\n",
    "py.figure(figsize=(10,5))\n",
    "v=np.linspace(-300,300,50)\n",
    "def cont_plot_main(field,n,positions):\n",
    "    py.subplot(2,2,n)\n",
    "    py.contourf(range(13),lat_a[region], ((field))[d,region,...],v, cmap=cm.seismic); py.colorbar()\n",
    "    if n<=6:\n",
    "      py.plot(positions[d,:],'o-')\n",
    "    py.ylim(30,60)\n",
    "\n",
    "py.suptitle(str(depth_values[d]))    \n",
    "cont_plot_main(TE_change,1,zero_div_TE)\n",
    "cont_plot_main(SE_change,2,zero_div_SE)\n",
    "cont_plot_main(MM_change,3,zero_div_MM)\n",
    "cont_plot_main(NE_change,4,zero_div_NE)\n",
    "py.tight_layout()\n",
    "\n",
    "d=6\n",
    "region=np.squeeze(np.where(lat_a>10))\n",
    "py.figure(figsize=(10,5))\n",
    "v=np.linspace(-300,300,50)\n",
    "def cont_plot_main(field,n,positions):\n",
    "    py.subplot(2,2,n)\n",
    "    py.contourf(range(13),lat_a[region], ((field))[d,region,...],v, cmap=cm.seismic); py.colorbar()\n",
    "    if n<=6:\n",
    "      py.plot(positions[d,:],'o-')\n",
    "    py.ylim(30,60)\n",
    "\n",
    "py.suptitle(str(depth_values[d]))\n",
    "cont_plot_main(TE_change,1,zero_div_TE)\n",
    "cont_plot_main(SE_change,2,zero_div_SE)\n",
    "cont_plot_main(MM_change,3,zero_div_MM)\n",
    "cont_plot_main(NE_change,4,zero_div_NE)\n",
    "py.tight_layout()\n",
    "\n",
    "d=7\n",
    "region=np.squeeze(np.where(lat_a>10))\n",
    "py.figure(figsize=(10,5))\n",
    "v=np.linspace(-300,300,50)\n",
    "def cont_plot_main(field,n,positions):\n",
    "    py.subplot(2,2,n)\n",
    "    py.contourf(range(13),lat_a[region], ((field))[d,region,...],v, cmap=cm.seismic); py.colorbar()\n",
    "    if n<=6:\n",
    "      py.plot(positions[d,:],'o-')\n",
    "    py.ylim(30,60)\n",
    "\n",
    "py.suptitle(str(depth_values[d]))\n",
    "cont_plot_main(TE_change,1,zero_div_TE)\n",
    "cont_plot_main(SE_change,2,zero_div_SE)\n",
    "cont_plot_main(MM_change,3,zero_div_MM)\n",
    "cont_plot_main(NE_change,4,zero_div_NE)\n",
    "py.tight_layout()\n",
    "\n",
    "d=8\n",
    "region=np.squeeze(np.where(lat_a>10))\n",
    "py.figure(figsize=(10,5))\n",
    "v=np.linspace(-300,300,50)\n",
    "def cont_plot_main(field,n,positions):\n",
    "    py.subplot(2,2,n)\n",
    "    py.contourf(range(13),lat_a[region], ((field))[d,region,...],v, cmap=cm.seismic); py.colorbar()\n",
    "    if n<=6:\n",
    "      py.plot(positions[d,:],'o-')\n",
    "    py.ylim(30,60)\n",
    "\n",
    "py.suptitle(str(depth_values[d]))\n",
    "cont_plot_main(TE_change,1,zero_div_TE)\n",
    "cont_plot_main(SE_change,2,zero_div_SE)\n",
    "cont_plot_main(MM_change,3,zero_div_MM)\n",
    "cont_plot_main(NE_change,4,zero_div_NE)\n",
    "py.tight_layout()"
   ]
  },
  {
   "cell_type": "markdown",
   "metadata": {},
   "source": [
    "## Try a new way to show shift decomposition"
   ]
  },
  {
   "cell_type": "code",
   "execution_count": 24,
   "metadata": {},
   "outputs": [],
   "source": [
    "def add_month_to_end(y1) :\n",
    "    y=np.append(y1[:,-1,None],y1,axis=-1)\n",
    "    return y\n",
    "\n",
    "\n",
    "s=TE_change[:,:,1:].mean(axis=-1)[:,:,None]\n",
    "base_pos=find_zero(s)\n",
    "TE_pos             = add_month_to_end(zero_div_TE[:,1:]-base_pos)\n",
    "SE_pos             = add_month_to_end(zero_div_SE[:,1:]-base_pos)\n",
    "MM_pos             = add_month_to_end(zero_div_MM[:,1:]-base_pos)\n",
    "NE_pos             = add_month_to_end(zero_div_NE[:,1:]-base_pos)\n",
    "TE_calc_pos        = SE_pos+MM_pos+NE_pos"
   ]
  },
  {
   "cell_type": "code",
   "execution_count": null,
   "metadata": {},
   "outputs": [],
   "source": []
  },
  {
   "cell_type": "code",
   "execution_count": 43,
   "metadata": {},
   "outputs": [],
   "source": [
    "mo=np.arange(0,13,1)\n",
    "win=np.squeeze(np.where( (mo<3) | (mo>9) ))\n",
    "summ=np.squeeze(np.where( (mo>=3) & (mo<=9) ))\n",
    "from matplotlib.text import TextPath\n",
    "from pylab import *\n",
    "import scipy as sp\n",
    "depth_values=[4, 5, 8, 10,12, 16, 20,30, 50,80, 100]\n",
    "\n",
    "def plot_shift_correlation(seas, phi, ylabel, subtitle,color_code, st=-1): \n",
    "    \n",
    "    cmap = cm.get_cmap(color_code, 12)    # PiYG\n",
    "    colors = []\n",
    "    for i in range(cmap.N):\n",
    "        rgb = cmap(i)[:3] # will return rgba, we take only first 3 so we get rgb\n",
    "        colors.append(str(matplotlib.colors.rgb2hex(rgb)))\n",
    "    colors=colors[::-1][:11]\n",
    "            \n",
    "    py.rc('text', usetex=True)\n",
    "    py.rc('font', family='serif', serif='Palatino',weight='bold') \n",
    "    py.title(subtitle, fontsize=25)\n",
    "    for d in range(len(DEPTHS)):\n",
    "        py.scatter(TE_pos[d,seas], phi[d,seas], marker='o',s=50,color=colors[d]) # ,label=str(depth_values[d])+'m')\n",
    "#     if st==1:\n",
    "#          py.legend(loc='best',fontsize=15,frameon=False,bbox_to_anchor=(1, 1.0))  \n",
    "        \n",
    "        \n",
    "    x=np.squeeze(np.reshape(TE_pos[:,seas],(TE_pos[:,seas].shape[0]*TE_pos[:,seas].shape[1],1) ))\n",
    "    y=np.squeeze(np.reshape(phi[:,seas],(phi[:,seas].shape[0]*phi[:,seas].shape[1],1) ))\n",
    "    \n",
    "    mask = ~np.isnan(x) & ~np.isnan(y)    \n",
    "    print np.shape(x); #print y.shape\n",
    "    \n",
    "    slope, intercept, r_value, p_value, std_err = sp.stats.linregress(x[mask], y[mask])\n",
    "\n",
    "    py.plot(x, intercept+slope*x, '-',c=colors[3],lw=2, label=r\"r$^{2}$ value = \"+str(\"%.2f\" % r_value**2), lw=2)  \n",
    "    py.legend(loc='best',fontsize=15,frameon=False)\n",
    "        \n",
    "    py.xticks([-8,-4,0,4,8],size=10)\n",
    "    py.yticks([-8,-4,0,4,8],size=10)\n",
    "    py.tick_params(labelsize=20,size=5,width=1)\n",
    "\n",
    "    \n",
    "    py.ylim(-10,10)\n",
    "    py.xlim(-10,10)\n",
    "    py.axhline(0,color='k')\n",
    "    py.axvline(0,color='k')\n",
    "\n",
    "    py.xlabel(r'$\\Delta \\phi$',fontsize=25)\n",
    "    py.ylabel(r'$\\Delta \\phi_{MM}$'+r' $,$ '+r'$\\Delta \\phi_{NE}$',fontsize=25)"
   ]
  },
  {
   "cell_type": "code",
   "execution_count": 44,
   "metadata": {},
   "outputs": [
    {
     "data": {
      "text/plain": [
       "u'/project2/tas1/pragallva/Fall_quarter_2018/codes/python_scripts/miscellaneous'"
      ]
     },
     "execution_count": 44,
     "metadata": {},
     "output_type": "execute_result"
    }
   ],
   "source": [
    "pwd"
   ]
  },
  {
   "cell_type": "code",
   "execution_count": 46,
   "metadata": {},
   "outputs": [
    {
     "name": "stdout",
     "output_type": "stream",
     "text": [
      "(77,)\n",
      "(77,)\n",
      "(66,)\n",
      "(66,)\n"
     ]
    },
    {
     "data": {
      "image/png": "[encoded data removed]",
      "text/plain": [
       "<matplotlib.figure.Figure at 0x7f81d0438990>"
      ]
     },
     "metadata": {},
     "output_type": "display_data"
    }
   ],
   "source": [
    "py.figure(figsize=(12,6))\n",
    "py.subplot(1,2,1)\n",
    "\n",
    "plot_shift_correlation(summ, MM_pos,  \"MM\", \"summer\", 'Greens' )\n",
    "plot_shift_correlation(summ, NE_pos,  \"NE\", \"summer\", 'RdPu' )\n",
    "# plot_shift_correlation(summ, TE_pos,  \"TE\", \"summer\", 'Reds' )\n",
    "# plot_shift_correlation(summ, SE_pos,  \"SE\", \"summer\", 'Blues' )\n",
    "py.subplot(1,2,2)\n",
    "plot_shift_correlation(win, NE_pos,  \"NE\",  \"winter\", 'RdPu' )\n",
    "plot_shift_correlation(win, MM_pos,   \"MM\", \"winter\", 'Greens', 1 )\n",
    "# plot_shift_correlation(win, TE_pos,  \"TE\", \"winter\", 'Reds' )\n",
    "# plot_shift_correlation(win, SE_pos,  \"SE\",  \"winter\", 'Blues' )\n",
    "py.tight_layout()\n",
    "py.savefig('/project2/tas1/pragallva/Fall_quarter_2018/figures/shift_new_isca1.pdf')\n"
   ]
  },
  {
   "cell_type": "code",
   "execution_count": 31,
   "metadata": {},
   "outputs": [
    {
     "name": "stdout",
     "output_type": "stream",
     "text": [
      "(44,)\n",
      "(44,)\n",
      "(33,)\n",
      "(33,)\n",
      "(33,)\n",
      "(33,)\n",
      "(33,)\n",
      "(33,)\n"
     ]
    },
    {
     "data": {
      "image/png": "[encoded data removed]",
      "text/plain": [
       "<matplotlib.figure.Figure at 0x7f81d5906b50>"
      ]
     },
     "metadata": {},
     "output_type": "display_data"
    }
   ],
   "source": [
    "mo=np.arange(0,13,1)\n",
    "DJF=np.squeeze(np.where( (mo==11) | (mo<=1) | (mo==12)))\n",
    "MAM=np.squeeze(np.where( (mo>=2) & (mo<=4) ))\n",
    "JJA=np.squeeze(np.where( (mo>=5) & (mo<=7) ))\n",
    "SON=np.squeeze(np.where( (mo>=8) & (mo<=10) ))\n",
    "\n",
    "py.figure(figsize=(10,10))\n",
    "py.subplot(2,2,1)\n",
    "plot_shift_correlation(DJF, NE_pos,  \"NE\", \"DJF\", 'RdPu' )\n",
    "plot_shift_correlation(DJF, MM_pos,  \"MM\", \"DJF\", 'Greens' )\n",
    "# plot_shift_correlation(DJF, SE_pos,  \"SE\", \"DJF\", 'Blues' )\n",
    "\n",
    "py.subplot(2,2,2)\n",
    "plot_shift_correlation(MAM, NE_pos,  \"NE\", \"MAM\", 'RdPu' )\n",
    "plot_shift_correlation(MAM, MM_pos,  \"MM\", \"MAM\", 'Greens' )\n",
    "#plot_shift_correlation(MAM, SE_pos,  \"SE\", \"MAM\", 'Blues' )\n",
    "\n",
    "py.subplot(2,2,3)\n",
    "plot_shift_correlation(JJA, NE_pos,  \"NE\", \"JJA\", 'RdPu' )\n",
    "plot_shift_correlation(JJA, MM_pos,  \"MM\", \"JJA\", 'Greens' )\n",
    "#plot_shift_correlation(JJA, SE_pos,  \"SE\", \"JJA\", 'Blues' )\n",
    "\n",
    "\n",
    "py.subplot(2,2,4)\n",
    "plot_shift_correlation(SON, NE_pos,  \"NE\", \"SON\", 'RdPu' )\n",
    "plot_shift_correlation(SON, MM_pos,  \"MM\", \"SON\", 'Greens' )\n",
    "#plot_shift_correlation(SON, SE_pos,  \"SE\", \"SON\", 'Blues' )\n",
    "\n",
    "\n",
    "\n",
    "py.tight_layout()\n"
   ]
  },
  {
   "cell_type": "markdown",
   "metadata": {
    "deletable": true,
    "editable": true
   },
   "source": [
    "# Decompose Net energy in Watts/m^2"
   ]
  },
  {
   "cell_type": "code",
   "execution_count": null,
   "metadata": {},
   "outputs": [],
   "source": []
  },
  {
   "cell_type": "code",
   "execution_count": null,
   "metadata": {},
   "outputs": [],
   "source": [
    "swabs=np.array(swabs); shf=np.array(shf); ne=np.array(ne); olr=np.array(olr); dhdt=np.array(dhdt);\n",
    "SW_sfc=np.array(SW_sfc); LW_sfc=np.array(LW_sfc); SW_toa=np.array(SW_toa); shflx=np.array(shflx); lhflx=np.array(lhflx);\n",
    "sfc=np.array(sfc); toa=np.array(toa); "
   ]
  },
  {
   "cell_type": "code",
   "execution_count": null,
   "metadata": {
    "collapsed": false,
    "deletable": true,
    "editable": true
   },
   "outputs": [],
   "source": [
    "SWABS_a, SHF_a  , NE_a , OLR_a, dhdt_a, lat_a = N_S_avg( swabs,shf, ne ,olr, dhdt, lat, flux_flag=1)\n",
    "SW_toa_a, SW_sfc_a  , shflx_a , lhflx_a, LW_sfc_a, lat_a = N_S_avg( SW_toa, SW_sfc, shflx, lhflx, LW_sfc, lat,flux_flag=1)#\n",
    "\n",
    "SW_toa_a, SW_sfc_a  , shflx_a , lhflx_a, LW_sfc_a, lat_a = N_S_avg( SW_toa, SW_sfc, shflx, lhflx, LW_sfc, lat,flux_flag=1)#\n",
    "sfc_a, toa_a = N_S_avg( sfc, toa, shflx, lhflx, LW_sfc, lat,flux_flag=1)[0:2]\n"
   ]
  },
  {
   "cell_type": "code",
   "execution_count": null,
   "metadata": {
    "collapsed": true,
    "deletable": true,
    "editable": true
   },
   "outputs": [],
   "source": [
    "def inerp_at_mean(flux,lat):\n",
    "  D = np.zeros((len(DEPTHS),13))\n",
    "  for d in range(0,len(DEPTHS)):\n",
    "    for m in range(0,13):\n",
    "        l_range=((lat>=30) & (lat<=60)) \n",
    "        X=np.nanmean(zero_div_TE[d,:-1])\n",
    "        interpolation_function = interp1d(lat[l_range],flux[d,l_range,m],kind='cubic')\n",
    "        try :\n",
    "            D[d,m]=interpolation_function(X)\n",
    "        except ValueError as err:\n",
    "            D[d,m]==np.nan        \n",
    "  return D"
   ]
  },
  {
   "cell_type": "code",
   "execution_count": null,
   "metadata": {
    "collapsed": true,
    "deletable": true,
    "editable": true
   },
   "outputs": [],
   "source": [
    "P_div_TE =inerp_at_mean(div_TE_a,lat_a)\n",
    "P_div_SE =inerp_at_mean(div_SE_a,lat_a)\n",
    "P_div_NE =inerp_at_mean(div_NE_a,lat_a)\n",
    "P_div_MM =inerp_at_mean(div_MM_a,lat_a)"
   ]
  },
  {
   "cell_type": "code",
   "execution_count": null,
   "metadata": {
    "collapsed": true,
    "deletable": true,
    "editable": true
   },
   "outputs": [],
   "source": [
    "P_SWAB =inerp_at_max(SWABS_a,lat_a)\n",
    "P_SHF  =inerp_at_max(SHF_a,lat_a)\n",
    "P_NE   =inerp_at_max(NE_a,lat_a)\n",
    "P_OLR  =inerp_at_max(OLR_a,lat_a)\n",
    "P_dhdt =inerp_at_max(dhdt_a,lat_a)\n",
    "\n",
    "P_SWsfc = inerp_at_max(SW_sfc_a,lat_a)\n",
    "P_LWsfc = inerp_at_max(LW_sfc_a,lat_a)\n",
    "P_SWtoa = inerp_at_max(SW_toa_a,lat_a)\n",
    "P_shflx = inerp_at_max(shflx_a,lat_a)\n",
    "P_lhflx = inerp_at_max(lhflx_a,lat_a)\n",
    "\n",
    "P_sfc = inerp_at_max(sfc_a,lat_a)\n",
    "P_toa = inerp_at_max(toa_a,lat_a)"
   ]
  },
  {
   "cell_type": "code",
   "execution_count": null,
   "metadata": {
    "collapsed": false,
    "deletable": true,
    "editable": true
   },
   "outputs": [],
   "source": [
    "# m_to_m=0; l=6\n",
    "# fig=py.figure(figsize=(22, 15))\n",
    "# compare_plot(1,I_lhflx,'r',r'$\\Delta I_{lhfx}$',m_to_m,l)\n",
    "# compare_plot(2,I_shflx,'b',r'$\\Delta I_{shflx}$',m_to_m,l)\n",
    "# compare_plot(3,I_LWsfc,'g',r'$ \\Delta I_{LW\\:sfc}$',m_to_m,l)\n",
    "# compare_plot(4,I_SWsfc,'m',r'$\\Delta I_{SW\\:sfc}$',m_to_m,l)"
   ]
  },
  {
   "cell_type": "code",
   "execution_count": null,
   "metadata": {
    "collapsed": true,
    "deletable": true,
    "editable": true
   },
   "outputs": [],
   "source": [
    "I_SWAB =inerp_at_max(Iswabs_a,latr_a)\n",
    "I_SHF  =inerp_at_max(Ishf_a,latr_a)\n",
    "I_NE   =inerp_at_max(Ine_a,latr_a)\n",
    "I_OLR  =inerp_at_max(Iolr_a,latr_a)\n",
    "I_dhdt =inerp_at_max(Idhdt_a,latr_a)\n",
    "\n",
    "I_SWsfc = inerp_at_max(ISW_sfc_a,latr_a)\n",
    "I_LWsfc = inerp_at_max(ILW_sfc_a,latr_a)\n",
    "I_SWtoa = inerp_at_max(ISW_toa_a,latr_a)\n",
    "I_shflx = inerp_at_max(Ishflx_a,latr_a)\n",
    "I_lhflx = inerp_at_max(Ilhflx_a,latr_a)\n",
    "\n",
    "I_SFC = inerp_at_max(ISFC_a,latr_a)\n",
    "I_TOA = inerp_at_max(ITOA_a,latr_a)"
   ]
  },
  {
   "cell_type": "code",
   "execution_count": null,
   "metadata": {},
   "outputs": [],
   "source": [
    "flux_vert[0]['MM'].shape"
   ]
  },
  {
   "cell_type": "markdown",
   "metadata": {},
   "source": [
    "## Look at raw data"
   ]
  },
  {
   "cell_type": "code",
   "execution_count": null,
   "metadata": {},
   "outputs": [],
   "source": [
    "T=[]; Q=[]; U=[]; V=[]; Z=[]; EKE=[]; EMF=[];\n",
    "MMv=[]; SEv=[]; NEv=[]; TEv=[];\n",
    "divMMv=[]; divSEv=[]; divNEv=[]; divTEv=[];\n",
    "\n",
    "for depth in range(len(DEPTHS)):\n",
    "    T.append(M(raw[depth]['T']))\n",
    "    Q.append(M(raw[depth]['q']))\n",
    "    U.append(M(raw[depth]['U']))\n",
    "    V.append(M(raw[depth]['V']))\n",
    "    Z.append(M(raw[depth]['Z']))\n",
    "    \n",
    "    MMv.append(M(flux_vert[depth]['MM']))\n",
    "    SEv.append(M(flux_vert[depth]['SE']))\n",
    "    TEv.append(M(flux_vert[depth]['TE']))\n",
    "    NEv.append(M(flux_vert[depth]['NE']))\n",
    "        \n",
    "    divMMv.append(M(div_vert[depth]['MM']))\n",
    "    divSEv.append(M(div_vert[depth]['SE']))\n",
    "    divTEv.append(M(div_vert[depth]['TE']))\n",
    "    divNEv.append(M(div_vert[depth]['NE']))\n",
    "    \n",
    "T=np.array(T); U=np.array(U); V=np.array(V); Z=np.array(Z); Q=np.array(Q); EKE=np.array(EKE); EMF= np.array(EMF)\n",
    "MMv=np.array(MMv); SEv=np.array(SEv); TEv=np.array(TEv); NEv=np.array(NEv);\n",
    "divMMv=np.array(divMMv); divSEv=np.array(divSEv); divTEv=np.array(divTEv); divNEv=np.array(divNEv);"
   ]
  },
  {
   "cell_type": "code",
   "execution_count": null,
   "metadata": {},
   "outputs": [],
   "source": [
    "# print T.shape\n",
    "# print TS_a.shape"
   ]
  },
  {
   "cell_type": "code",
   "execution_count": null,
   "metadata": {},
   "outputs": [],
   "source": [
    "def N_S_avg(TE, SE, MM, NE, temp, lat, flux_flag=-1):\n",
    "    l_N=((lat>-0.1) & (lat<=90))            \n",
    "    l_S=((lat>=-90) & (lat<=0))\n",
    "    \n",
    "    avg = lambda x: (x[:,l_N,:,:]+flux_flag*np.roll(x[:,l_S,:,:][:,::-1,:,:], 6, axis=-1))/2.0\n",
    "    \n",
    "    TE1= avg(TE)\n",
    "    SE1= avg(SE)\n",
    "    NE1= avg(NE)\n",
    "    MM1= avg(MM)\n",
    "    temp= avg(temp)\n",
    "    \n",
    "    a= lambda x: np.append(x,x[...,0,None],axis=-1)\n",
    "    \n",
    "    return a(TE1), a(SE1), a(MM1), a(NE1), a(temp), lat[l_N]"
   ]
  },
  {
   "cell_type": "code",
   "execution_count": null,
   "metadata": {},
   "outputs": [],
   "source": [
    "T_a      , U_a,       V_a   , Q_a,    Z_a,  lat_a             = N_S_avg(T, U, V, Q, Z, lat,flux_flag=1)\n",
    "MMv_a    , SEv_a,     TEv_a   , NEv_a,    NEv_a,  lat_a       = N_S_avg(MMv   , SEv,     TEv  ,  NEv,   NEv, lat,flux_flag=-1)\n",
    "divMMv_a , divSEv_a,  divTEv_a  , divNEv_a,  divNEv_a,  lat_a    = N_S_avg(divMMv, divSEv,  divTEv, divNEv, divNEv, lat,flux_flag=1)\n"
   ]
  },
  {
   "cell_type": "markdown",
   "metadata": {},
   "source": [
    "### Calculate the temperature gradient"
   ]
  },
  {
   "cell_type": "code",
   "execution_count": null,
   "metadata": {},
   "outputs": [],
   "source": [
    "def spher_div_for_full_field(x,fac=1):\n",
    "       N=50\n",
    "#        fac=1 #np.cos(np.radians(lat))\n",
    "       div=np.copy(x)\n",
    "       for d in range(len(DEPTHS)):\n",
    "         for m in range(12):\n",
    "            for p in range(len(sigma_full)):\n",
    "              div[d,:,p,m]= smooth( np.gradient((x[d,:,p,m])*(fac),dtheta)/( R*np.cos(np.radians(lat[:])) ),N)\n",
    "       return div"
   ]
  },
  {
   "cell_type": "code",
   "execution_count": null,
   "metadata": {},
   "outputs": [],
   "source": [
    "sigma_full=eke[0]['sigma_full']\n",
    "\n",
    "Cp= 1004.64 # J/kg/deg\n",
    "g = 9.8\n",
    "L = 2.500e6   # J/kg"
   ]
  },
  {
   "cell_type": "code",
   "execution_count": null,
   "metadata": {},
   "outputs": [],
   "source": [
    "dtheta=np.radians(lat_a[1]-lat_a[0])\n",
    "\n",
    "def spher_div_for_full_field(x,fac=1):\n",
    "       N=50\n",
    "#        fac=1 #np.cos(np.radians(lat))\n",
    "       div=np.copy(x)\n",
    "       for d in range(len(DEPTHS)):\n",
    "         for m in range(13):\n",
    "            for p in range(len(sigma_full)):\n",
    "              div[d,:,p,m]= smooth( np.gradient((x[d,:,p,m])*(fac),dtheta)/( R*np.cos(np.radians(lat_a[:])) ),N)\n",
    "       return div\n",
    "\n",
    "\n",
    "def spher_div_for_temp(x):\n",
    "       N=50\n",
    "       fac=1 #np.cos(np.radians(lat))\n",
    "       div=np.copy(x)\n",
    "       for d in range(len(DEPTHS)):\n",
    "         for m in range(13):\n",
    "              div[d,:,m]= smooth( np.gradient((x[d,:,m])*(fac),dtheta)/( R*np.cos(np.radians(lat_a[:])) ),N )\n",
    "       return div\n",
    "\n",
    "\n",
    "divCpT_a = spher_div_for_full_field(Cp*T_a)\n",
    "divLq_a  = spher_div_for_full_field(L*Q_a)\n",
    "divgZ_a  = spher_div_for_full_field(g*Z_a)\n",
    "divMSE_a = spher_div_for_full_field(Cp*T_a+g*Z_a+L*Q_a)\n",
    "\n"
   ]
  },
  {
   "cell_type": "code",
   "execution_count": null,
   "metadata": {},
   "outputs": [],
   "source": [
    "def ann_mean(y):\n",
    "    return np.squeeze(np.dstack([y[:,:,:,:].mean(axis=-1)]))"
   ]
  },
  {
   "cell_type": "code",
   "execution_count": null,
   "metadata": {},
   "outputs": [],
   "source": [
    "zero_div_TE.shape"
   ]
  },
  {
   "cell_type": "code",
   "execution_count": null,
   "metadata": {},
   "outputs": [],
   "source": [
    "def amp(X):\n",
    "    A=np.zeros(len(DEPTHS))\n",
    "    for d in range(len(DEPTHS)):\n",
    "       A[d]=np.nanmax(X[d,:])-np.nanmin(X[d,:]) \n",
    "    return A\n",
    "\n",
    "\n",
    "Iamp=amp(Intensity_te)\n",
    "NEamp=amp(Intensity_ne)\n",
    "MMamp=amp(Intensity_mm)\n",
    "MMamp=amp(Intensity_mm)\n",
    "\n",
    "Ptoa_amp=amp\n",
    "\n",
    "Pamp=amp(zero_div_TE)\n",
    "Pseamp=amp(zero_div_SE)\n",
    "Pmmamp=amp(zero_div_MM)\n",
    "Pneamp=amp(zero_div_NE)"
   ]
  },
  {
   "cell_type": "code",
   "execution_count": null,
   "metadata": {},
   "outputs": [],
   "source": [
    "# P_SWAB =inerp_at_max(SWABS_a,lat_a)\n",
    "# P_SHF  =inerp_at_max(SHF_a,lat_a)\n",
    "# P_NE   =inerp_at_max(NE_a,lat_a)\n",
    "# P_OLR  =inerp_at_max(OLR_a,lat_a)\n",
    "# P_dhdt =inerp_at_max(dhdt_a,lat_a)\n",
    "\n",
    "# P_SWsfc = inerp_at_max(SW_sfc_a,lat_a)\n",
    "# P_LWsfc = inerp_at_max(LW_sfc_a,lat_a)\n",
    "# P_SWtoa = inerp_at_max(SW_toa_a,lat_a)\n",
    "# P_shflx = inerp_at_max(shflx_a,lat_a)\n",
    "# P_lhflx = inerp_at_max(lhflx_a,lat_a)\n",
    "\n",
    "# P_sfc = inerp_at_max(sfc_a,lat_a)\n",
    "# P_toa = inerp_at_max(toa_a,lat_a)\n",
    "amp(P_toa+P_sfc)"
   ]
  },
  {
   "cell_type": "code",
   "execution_count": null,
   "metadata": {},
   "outputs": [],
   "source": [
    "py.figure(figsize=(15,4))\n",
    "py.plot(depth_values,amp(P_toa+P_sfc),'ro',markersize=10, mfc='none')\n",
    "#py.plot(depth_values,amp(P_NE),'ko',markersize=10, mfc='none')\n",
    "py.xticks(depth_values)\n",
    "py.tick_params(labelsize=20,size=4,width=2)\n",
    "py.title(r\"Amplitude of $F_{TOA} - F_{SFC}$\",fontsize=25)\n",
    "py.ylabel(r\"$Wm^{-2}$\",fontsize=25)\n",
    "py.xlabel(\"mixed layer depth\",fontsize=25)\n",
    "# py.plot(depth_values,NEamp,'mo',markersize=10, mfc='none')\n",
    "# py.plot(depth_values,MMamp,'go',markersize=10, mfc='none')\n",
    "\n",
    "destination='/project2/tas1/pragallva/Fall_quarter_2018/figures/ISCA/'\n",
    "make_sure_path_exists(destination)\n",
    "# py.savefig(destination+\"Critical_depth.pdf\")"
   ]
  },
  {
   "cell_type": "code",
   "execution_count": null,
   "metadata": {},
   "outputs": [],
   "source": [
    "py.figure(figsize=(15,4))\n",
    "py.plot(depth_values,amp(I_TOA),'ro-',markersize=10, mfc='none')\n",
    "py.plot(depth_values,amp(I_SFC),'bo-',markersize=10, mfc='none')\n",
    "# py.plot(depth_values,amp(P_OLR),'go-',markersize=10, mfc='none')\n",
    "# py.plot(depth_values,amp(P_dhdt),'ko-',markersize=10, mfc='none')\n",
    "# py.plot(depth_values,amp(P_NE),'mo-',markersize=10, mfc='none')\n",
    "py.xticks(depth_values)\n",
    "py.tick_params(labelsize=15,size=4,width=2)\n",
    "py.title(\"Net energy amplitude\",fontsize=20)\n",
    "py.ylabel(r\"$Wm^{-2}$\",fontsize=20)\n",
    "py.xlabel(\"mixed layer depths\",fontsize=20)\n",
    "# py.plot(depth_values,NEamp,'mo',markersize=10, mfc='none')\n",
    "# py.plot(depth_values,MMamp,'go',markersize=10, mfc='none')"
   ]
  },
  {
   "cell_type": "code",
   "execution_count": null,
   "metadata": {},
   "outputs": [],
   "source": [
    "py.figure(figsize=(15,4))\n",
    "py.plot(depth_values,amp(I_SWAB),'ro-',markersize=10, mfc='none')\n",
    "py.plot(depth_values,amp(I_SHF),'bo-',markersize=10, mfc='none')\n",
    "py.plot(depth_values,amp(I_OLR),'go-',markersize=10, mfc='none')\n",
    "py.plot(depth_values,amp(I_dhdt),'ko-',markersize=10, mfc='none')\n",
    "py.plot(depth_values,amp(I_NE),'mo-',markersize=10, mfc='none')\n",
    "py.xticks(depth_values)\n",
    "py.tick_params(labelsize=15,size=4,width=2)\n",
    "py.title(\"Net energy amplitude\",fontsize=20)\n",
    "py.ylabel(r\"$PW$\",fontsize=20)\n",
    "py.xlabel(\"mixed layer depth\",fontsize=20)\n",
    "# py.plot(depth_values,NEamp,'mo',markersize=10, mfc='none')\n",
    "# py.plot(depth_values,MMamp,'go',markersize=10, mfc='none')"
   ]
  },
  {
   "cell_type": "code",
   "execution_count": null,
   "metadata": {},
   "outputs": [],
   "source": [
    "py.figure(figsize=(15,5))\n",
    "py.plot(depth_values,Iamp,'ro',markersize=10, mfc='none')\n",
    "py.xticks(depth_values)\n",
    "py.tick_params(labelsize=20,size=4,width=2)\n",
    "py.title(\"Intensity amplitude\",fontsize=25)\n",
    "py.ylabel(\"PW\",fontsize=25)\n",
    "py.xlabel(\"mixed layer depths\",fontsize=25)\n",
    "# py.plot(depth_values,NEamp,'mo',markersize=10, mfc='none')\n",
    "# py.plot(depth_values,MMamp,'go',markersize=10, mfc='none')\n",
    "py.xticks(depth_values)\n",
    "py.tick_params(labelsize=20,size=4,width=2)\n",
    "\n",
    "destination='/project2/tas1/pragallva/Fall_quarter_2018/figures/ISCA/'\n",
    "make_sure_path_exists(destination)\n",
    "py.tight_layout()\n",
    "py.savefig(destination+\"Intensity_Critical_depth.pdf\")"
   ]
  },
  {
   "cell_type": "code",
   "execution_count": null,
   "metadata": {},
   "outputs": [],
   "source": [
    "Iamp"
   ]
  },
  {
   "cell_type": "code",
   "execution_count": null,
   "metadata": {},
   "outputs": [],
   "source": [
    "py.figure(figsize=(15,5))\n",
    "py.plot(depth_values,Pamp,'ro',markersize=10, mfc='none')\n",
    "py.xticks(depth_values)\n",
    "py.tick_params(labelsize=20,size=4,width=2)\n",
    "py.title(\"Shift amplitude\",fontsize=25)\n",
    "py.ylabel(\"deg\",fontsize=25)\n",
    "py.xlabel(\"mixed layer depths\",fontsize=25)\n",
    "# py.plot(depth_values,Pneamp,'mo-',markersize=10)\n",
    "# py.plot(depth_values,Pmmamp,'go-',markersize=10)\n",
    "# py.plot(depth_values,Pseamp,'bo-',markersize=10)\n",
    "destination='/project2/tas1/pragallva/Fall_quarter_2018/figures/ISCA/'\n",
    "make_sure_path_exists(destination)\n",
    "py.tight_layout()\n",
    "py.savefig(destination+\"Critical_depth_position.pdf\")\n"
   ]
  },
  {
   "cell_type": "code",
   "execution_count": null,
   "metadata": {},
   "outputs": [],
   "source": [
    "def maxx(X):\n",
    "    A=np.zeros(len(DEPTHS))\n",
    "    for d in range(len(DEPTHS)):\n",
    "       A[d]=np.nanmax(X[d,:])\n",
    "    return A\n",
    "\n",
    "def minn(X):\n",
    "    A=np.zeros(len(DEPTHS))\n",
    "    for d in range(len(DEPTHS)):\n",
    "       A[d]=np.nanmin(X[d,:])\n",
    "    return A\n",
    "\n",
    "depth_values=[4, 5, 8, 10,12, 16, 20,30, 50,80, 100]\n",
    "\n",
    "maxpos=maxx(zero_div_TE)\n",
    "minpos=minn(zero_div_TE)\n"
   ]
  },
  {
   "cell_type": "code",
   "execution_count": null,
   "metadata": {},
   "outputs": [],
   "source": [
    "maxpos"
   ]
  },
  {
   "cell_type": "code",
   "execution_count": null,
   "metadata": {},
   "outputs": [],
   "source": [
    "py.figure(figsize=(8,4))\n",
    "py.plot(depth_values,(maxpos),'ro',markersize=10, mfc='none')\n",
    "py.plot(depth_values,(minpos),'go',markersize=10, mfc='none')\n",
    "py.xticks(depth_values)\n",
    "py.tick_params(labelsize=15,size=4,width=2)\n",
    "py.title(\"Max and minimum position\",fontsize=20)\n",
    "py.ylabel(\"deg\",fontsize=20)\n",
    "py.xlabel(\"mixed layer depths\",fontsize=20)\n",
    "# py.plot(depth_values,Pneamp,'mo-',markersize=10)\n",
    "# py.plot(depth_values,Pmmamp,'go-',markersize=10)\n",
    "# py.plot(depth_values,Pseamp,'bo-',markersize=10)"
   ]
  },
  {
   "cell_type": "code",
   "execution_count": null,
   "metadata": {},
   "outputs": [],
   "source": [
    "D=1\n",
    "for d in range(D):\n",
    "    py.plot(range(13),(zero_div_TE[d,:]),'o-')\n",
    "# py.ylim(30,54)"
   ]
  },
  {
   "cell_type": "code",
   "execution_count": null,
   "metadata": {},
   "outputs": [],
   "source": [
    "TE_a.shape"
   ]
  },
  {
   "cell_type": "code",
   "execution_count": null,
   "metadata": {},
   "outputs": [],
   "source": [
    "d=0\n",
    "py.contourf(range(13),lat_a,TE_a[d,...],20,cmap=BuRd)\n",
    "py.plot(range(13),zero_div_TE[d,:],'ro-')\n",
    "# # py.contour(range(13),lat_a,TE_a[10,...],cmap=BuRd)"
   ]
  },
  {
   "cell_type": "code",
   "execution_count": null,
   "metadata": {},
   "outputs": [],
   "source": [
    "py.figure(figsize=(8,4))\n",
    "py.plot(depth_values,zero_div_TE[:,:-1].mean(axis=-1),'ro',markersize=10, mfc='none',label=\"mean of annual positions\")\n",
    "py.plot(depth_values,ann_pos,'ko',markersize=10, mfc='none',label=\"position of annual mean\")\n",
    "py.xticks(depth_values)\n",
    "py.tick_params(labelsize=15,size=4,width=2)\n",
    "py.title(\"Mean position\",fontsize=20)\n",
    "py.legend(loc=\"best\",fontsize=15)\n",
    "py.ylabel(\"deg\",fontsize=20)\n",
    "py.xlabel(\"mixed layer depths\",fontsize=20)\n",
    "# py.plot(depth_values,Pneamp,'mo-',markersize=10)\n",
    "# py.plot(depth_values,Pmmamp,'go-',markersize=10)\n",
    "# py.plot(depth_values,Pseamp,'bo-',markersize=10)"
   ]
  },
  {
   "cell_type": "code",
   "execution_count": null,
   "metadata": {},
   "outputs": [],
   "source": [
    "py.figure(figsize=(8,4))\n",
    "py.plot(depth_values,Intensity_te[:,:-1].mean(axis=-1),'ro',markersize=10, mfc='none')\n",
    "py.xticks(depth_values)\n",
    "py.tick_params(labelsize=15,size=4,width=2)\n",
    "py.title(\"Mean intensity\",fontsize=20)\n",
    "py.ylabel(\"PW\",fontsize=20)\n",
    "py.xlabel(\"mixed layer depths\",fontsize=20)\n",
    "# py.plot(depth_values,Pneamp,'mo-',markersize=10)\n",
    "# py.plot(depth_values,Pmmamp,'go-',markersize=10)\n",
    "# py.plot(depth_values,Pseamp,'bo-',markersize=10)"
   ]
  },
  {
   "cell_type": "code",
   "execution_count": null,
   "metadata": {},
   "outputs": [],
   "source": [
    "for d in ([3,4,5]):\n",
    "    py.plot(range(13),(zero_div_TE[d,:]),'o-')\n",
    "# py.ylim(30,54)"
   ]
  },
  {
   "cell_type": "code",
   "execution_count": null,
   "metadata": {},
   "outputs": [],
   "source": [
    "for d in range(7):\n",
    "    py.plot(range(13),(zero_div_NE[d,:]),'mo-')\n",
    "# py.ylim(30,54)"
   ]
  },
  {
   "cell_type": "code",
   "execution_count": null,
   "metadata": {},
   "outputs": [],
   "source": [
    "for d in range(7):\n",
    "    py.plot(range(13),(zero_div_MM[d,:]),'go-')\n",
    "# py.ylim(30,54)"
   ]
  },
  {
   "cell_type": "code",
   "execution_count": null,
   "metadata": {},
   "outputs": [],
   "source": [
    "def di(x,d):\n",
    "    return x-ann_pos[d]"
   ]
  },
  {
   "cell_type": "code",
   "execution_count": null,
   "metadata": {},
   "outputs": [],
   "source": [
    "for d in range(1):\n",
    "    py.plot(range(13),di(zero_div_TE[d,:],d),'ro-')\n",
    "    py.plot(range(13),di(zero_div_SE[d,:],d),'bo-')\n",
    "    py.plot(range(13),di(zero_div_MM[d,:],d),'go-')\n",
    "    py.plot(range(13),di(zero_div_NE[d,:],d),'mo-')\n",
    "#     py.axhline(ann_pos[d],c='k')\n",
    "py.ylim(-10,10)"
   ]
  },
  {
   "cell_type": "code",
   "execution_count": null,
   "metadata": {},
   "outputs": [],
   "source": [
    "for d in range(1,2):\n",
    "    py.plot(range(13),di(zero_div_TE[d,:],d),'ro-')\n",
    "    py.plot(range(13),di(zero_div_SE[d,:],d),'bo-')\n",
    "    py.plot(range(13),di(zero_div_MM[d,:],d),'go-')\n",
    "    py.plot(range(13),di(zero_div_NE[d,:],d),'mo-')\n",
    "#     py.axhline(ann_pos[d],c='k')\n",
    "py.ylim(-10,10)"
   ]
  },
  {
   "cell_type": "code",
   "execution_count": null,
   "metadata": {},
   "outputs": [],
   "source": [
    "for d in range(2,3):\n",
    "    py.plot(range(13),di(zero_div_TE[d,:],d),'ro-')\n",
    "    py.plot(range(13),di(zero_div_SE[d,:],d),'bo-')\n",
    "    py.plot(range(13),di(zero_div_MM[d,:],d),'go-')\n",
    "    py.plot(range(13),di(zero_div_NE[d,:],d),'mo-')\n",
    "    py.axhline(ann_pos[d],c='k')\n",
    "py.ylim(-10,10)"
   ]
  },
  {
   "cell_type": "code",
   "execution_count": null,
   "metadata": {},
   "outputs": [],
   "source": [
    "for d in range(3,4):\n",
    "    py.plot(range(13),di(zero_div_TE[d,:],d),'ro-')\n",
    "    py.plot(range(13),di(zero_div_SE[d,:],d),'bo-')\n",
    "    py.plot(range(13),di(zero_div_MM[d,:],d),'go-')\n",
    "    py.plot(range(13),di(zero_div_NE[d,:],d),'mo-')\n",
    "    py.axhline(ann_pos[d],c='k')\n",
    "py.ylim(-10,10)"
   ]
  },
  {
   "cell_type": "code",
   "execution_count": null,
   "metadata": {},
   "outputs": [],
   "source": [
    "for d in range(4,5):\n",
    "    py.plot(range(13),di(zero_div_TE[d,:],d),'ro-')\n",
    "    py.plot(range(13),di(zero_div_SE[d,:],d),'bo-')\n",
    "    py.plot(range(13),di(zero_div_MM[d,:],d),'go-')\n",
    "    py.plot(range(13),di(zero_div_NE[d,:],d),'mo-')\n",
    "    py.axhline(ann_pos[d],c='k')\n",
    "py.ylim(-10,10)"
   ]
  },
  {
   "cell_type": "code",
   "execution_count": null,
   "metadata": {},
   "outputs": [],
   "source": [
    "for d in range(5,6):\n",
    "    py.plot(range(13),di(zero_div_TE[d,:],d),'ro-')\n",
    "    py.plot(range(13),di(zero_div_SE[d,:],d),'bo-')\n",
    "    py.plot(range(13),di(zero_div_MM[d,:],d),'go-')\n",
    "    py.plot(range(13),di(zero_div_NE[d,:],d),'mo-')\n",
    "    py.axhline(ann_pos[d],c='k')\n",
    "py.ylim(-10,10)"
   ]
  },
  {
   "cell_type": "code",
   "execution_count": null,
   "metadata": {},
   "outputs": [],
   "source": [
    "for d in range(6,7):\n",
    "    py.plot(range(13),di(zero_div_TE[d,:],d),'ro-')\n",
    "    py.plot(range(13),di(zero_div_SE[d,:],d),'bo-')\n",
    "    py.plot(range(13),di(zero_div_MM[d,:],d),'go-')\n",
    "    py.plot(range(13),di(zero_div_NE[d,:],d),'mo-')\n",
    "    py.axhline(ann_pos[d],c='k')\n",
    "py.ylim(-10,10)"
   ]
  },
  {
   "cell_type": "code",
   "execution_count": null,
   "metadata": {},
   "outputs": [],
   "source": [
    "for d in range(7,8):\n",
    "    py.plot(range(13),di(zero_div_TE[d,:],d),'ro-')\n",
    "    py.plot(range(13),di(zero_div_SE[d,:],d),'bo-')\n",
    "    py.plot(range(13),di(zero_div_MM[d,:],d),'go-')\n",
    "    py.plot(range(13),di(zero_div_NE[d,:],d),'mo-')\n",
    "    py.axhline(ann_pos[d],c='k')\n",
    "py.ylim(-10,10)"
   ]
  },
  {
   "cell_type": "code",
   "execution_count": null,
   "metadata": {},
   "outputs": [],
   "source": [
    "for d in range(len(DEPTHS)):\n",
    "    py.plot(range(13),Intensity_te[d,:],'ro-')\n",
    "py.ylim(0,12)"
   ]
  },
  {
   "cell_type": "code",
   "execution_count": null,
   "metadata": {},
   "outputs": [],
   "source": [
    "for d in range(len(DEPTHS)):\n",
    "    py.plot(range(13),Intensity_ne[d,:],'mo-')\n",
    "py.ylim(0,12)"
   ]
  },
  {
   "cell_type": "code",
   "execution_count": null,
   "metadata": {},
   "outputs": [],
   "source": [
    "for d in range(len(DEPTHS)):\n",
    "    py.plot(range(13),-Intensity_mm[d,:],'go-')\n",
    "py.ylim(0,12)"
   ]
  },
  {
   "cell_type": "code",
   "execution_count": null,
   "metadata": {},
   "outputs": [],
   "source": [
    "alldepths=[4,5,8,10,12,16,20,30,50,80,100]\n",
    "py.figure(figsize=(15,8))\n",
    "def a(x):\n",
    "    return x-x[:-1].mean(axis=-1)\n",
    "for i in range(len(DEPTHS)):\n",
    "    py.subplot(3,4,i+1)\n",
    "    d=i; py.title(str(alldepths[d])+\"m\")\n",
    "    py.plot(range(13),a(I_SWAB[d,:]),'ro-',label=\"Iswabs\")\n",
    "    py.plot(range(13),a(I_SHF[d,:]),'bo-',label=\"Ishf\")\n",
    "    py.axhline(0)\n",
    "    py.legend(loc='best')\n",
    "py.tight_layout()\n",
    "# py.ylim(35,54)"
   ]
  },
  {
   "cell_type": "code",
   "execution_count": null,
   "metadata": {},
   "outputs": [],
   "source": [
    "alldepths=[4,5,8,10,12,16,20,30,50,80,100]\n",
    "py.figure(figsize=(15,8))\n",
    "def a(x):\n",
    "    return x-x[:-1].mean(axis=-1)\n",
    "for i in range(len(DEPTHS)):\n",
    "    py.subplot(3,4,i+1)\n",
    "    d=i; py.title(str(alldepths[d])+\"m\")\n",
    "    py.plot(range(13),a(P_SWAB[d,:]),'ro-',label=\"swabs\")\n",
    "    py.plot(range(13),a(P_SHF[d,:]),'bo-',label=\"shf\")\n",
    "    py.axhline(0)\n",
    "    py.legend(loc='best')\n",
    "py.tight_layout()\n",
    "# py.ylim(35,54)"
   ]
  },
  {
   "cell_type": "code",
   "execution_count": null,
   "metadata": {},
   "outputs": [],
   "source": []
  },
  {
   "cell_type": "code",
   "execution_count": null,
   "metadata": {},
   "outputs": [],
   "source": []
  },
  {
   "cell_type": "code",
   "execution_count": null,
   "metadata": {},
   "outputs": [],
   "source": []
  },
  {
   "cell_type": "code",
   "execution_count": null,
   "metadata": {},
   "outputs": [],
   "source": []
  },
  {
   "cell_type": "code",
   "execution_count": null,
   "metadata": {},
   "outputs": [],
   "source": []
  },
  {
   "cell_type": "code",
   "execution_count": null,
   "metadata": {},
   "outputs": [],
   "source": []
  },
  {
   "cell_type": "code",
   "execution_count": null,
   "metadata": {},
   "outputs": [],
   "source": []
  }
 ],
 "metadata": {
  "kernelspec": {
   "display_name": "Python 2",
   "language": "python",
   "name": "python2"
  },
  "language_info": {
   "codemirror_mode": {
    "name": "ipython",
    "version": 2
   },
   "file_extension": ".py",
   "mimetype": "text/x-python",
   "name": "python",
   "nbconvert_exporter": "python",
   "pygments_lexer": "ipython2",
   "version": "2.7.11"
  }
 },
 "nbformat": 4,
 "nbformat_minor": 2
}
