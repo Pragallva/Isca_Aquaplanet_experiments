{
 "cells": [
  {
   "cell_type": "code",
   "execution_count": null,
   "metadata": {},
   "outputs": [],
   "source": [
    "import netCDF4 as nc\n",
    "import pylab as py\n",
    "import numpy as np\n",
    "from scipy.interpolate import interp1d\n",
    "import matplotlib as mpl\n",
    "import matplotlib.cm as cm\n",
    "import sys\n",
    "import os\n",
    "import errno\n",
    "\n",
    "\n",
    "import hickle as hkl\n",
    "\n",
    "## A function to save a dictionary ##\n",
    "def save(filename,dictionary):\n",
    "    hkl.dump(dictionary, filename, mode='w')\n",
    "    \n",
    "## A function to load a dictionary ## \n",
    "def load(filename):\n",
    "    dictionary = hkl.load(filename)\n",
    "    return dictionary\n",
    "\n",
    "def make_sure_path_exists(path):\n",
    "    try:\n",
    "        os.makedirs(path)\n",
    "        logging.debug('destination folder created !')\n",
    "    except OSError as exception:\n",
    "        if exception.errno != errno.EEXIST:\n",
    "            logging.debug('destination folder exists already!')\n",
    "            raise\n",
    "\n",
    "####################\n",
    "#### soomthening ###\n",
    "####################\n",
    "\n",
    "def smooth(y, box_pts):\n",
    "    box = np.ones(box_pts)/box_pts\n",
    "    y_smooth = np.convolve(y, box, mode='same')\n",
    "    return y_smooth            \n",
    "\n",
    "dirc=np.array([0,str('aqua'),str('isca5m')])\n",
    "num=1 ## represents an annual year of data\n",
    "#source='/project2/tas1/pragallvaring_quarter_2018/post_process_data/'+dirc[1]+'_'+dirc[2]+str(i)+'/'\n",
    "\n",
    "source1='/project2/tas1/pragallva/Spring_quarter_2018/exp_data/'+dirc[1]+'_'+dirc[2]+'/'\n",
    "one_year=dirc[1]+'_'+dirc[2]+str(num)+'.nc'\n",
    "ncfile=source1+one_year\n",
    "lat=nc.Dataset(ncfile,'r').variables['lat'][:]\n",
    "\n",
    "stream_data=[]\n",
    "uv_data=[]\n",
    "Z_T_Q_data=[]\n",
    "T=[]\n",
    "Z=[]\n",
    "U=[]"
   ]
  },
  {
   "cell_type": "code",
   "execution_count": null,
   "metadata": {},
   "outputs": [],
   "source": [
    "for i in range(0,int(num)):\n",
    " \n",
    " source='/project2/tas1/pragallva/Summer_quarter_2018/post_process_data/data_in_pres_coord/'+dirc[1]+'_'+dirc[2]+str(i)+'/'\n",
    " Z_T_Q_data.append(load(source+\"ht_temp_sphum.hkl\"))   \n",
    " uv_data.append(load(source+\"u_v.hkl\"))   \n",
    " T.append(Z_T_Q_data[i]['temp'])\n",
    " Z.append(Z_T_Q_data[i]['ht'])\n",
    " U.append(uv_data[i]['u'])\n",
    "  "
   ]
  },
  {
   "cell_type": "code",
   "execution_count": null,
   "metadata": {},
   "outputs": [],
   "source": [
    "def M(x):\n",
    "    return np.mean(x,axis=0)\n",
    "\n",
    "T=M(T) ; Z=M(Z); U=M(U)\n",
    "\n",
    "Pres = np.array([0.5 ,10.0, 30.0, 50.0, 70.0, 100.0, 150.0, 200.0, 250.0, 300.0, 400.0, 500.0, 600.0, 700.0, 750.0, 800.0, 850.0, 900.0, 950.0, 1000.0])\n",
    "no_of_plevels = len(Pres)\n",
    "P_half=np.append(0,Pres)\n",
    "\n",
    "\n",
    "Rk=287 # --> Gas constant\n",
    "Cp= 1004.64 # J/kg/deg\n",
    "g = 9.8\n",
    "L = 2.500e6   # J/kg\n",
    "omega = 7.2921*10**-5 # ---> Rotation rate of earth rad/s\n",
    "#f = 2*omega*np.sin(np.deg2rad(lat_a)) # --> Coriolis frequency\n",
    "a=6371.0e3\n",
    "R=a\n",
    "\n",
    "\n",
    "#### Interpolation ####\n",
    "\n",
    "latn=np.arange(-87.0,87.1,0.1).astype(np.float64)\n",
    "LATN=len(latn)  \n",
    "        \n",
    "def interpolate_plevels(X):\n",
    "    interp=np.zeros((LATN,no_of_plevels,X.shape[0]))\n",
    "    for m in range(X.shape[0]):\n",
    "        for p in range(no_of_plevels):\n",
    "            interpolation_function = interp1d(lat, X[m,p,:],kind='linear')\n",
    "            interp[:,p,m]=interpolation_function(latn)\n",
    "    return interp\n",
    "\n",
    "\n",
    "T_interp =interpolate_plevels(T)  #lat, plev, time\n",
    "U_interp =interpolate_plevels(U)  #lat, plev, time\n",
    "Z_interp =interpolate_plevels(Z)  #lat, plev, time\n",
    "\n",
    "theta = T_interp*((Pres/1000.0)**(-Rk/Cp))[None,:,None] ## Potential temperature\n",
    "\n",
    "def P(p):\n",
    "    mini=np.min(np.abs(Pres-p))\n",
    "    y=np.squeeze(np.where( np.abs(Pres-p)==mini  ) )\n",
    "    return y\n",
    "\n",
    "def weighted(arg):\n",
    "    weights= (P_half[1:]-P_half[:-1])[None,:,None] \n",
    "    w      = arg*weights\n",
    "    return w\n",
    "\n",
    "pmin = 700.0; pmax=850.0\n",
    "pmean       = lambda pmin, pmax: (pmin+pmax)/2.0\n",
    "deltap      = lambda pmin, pmax: (pmax-pmin)\n",
    "p00         = 1000.0\n",
    "                \n",
    "delta_theta = lambda pmin, pmax: theta[:,P(pmax),:]-theta[:,P(pmin),:]\n",
    "           \n",
    "def theta_avg(pmin, pmax):\n",
    "    y          = weighted(theta)\n",
    "    integrated = y[:,P(pmin):P(pmax),:].sum(axis=1)\n",
    "    delta_p    = Pres[P(pmax)]-Pres[P(pmin)]\n",
    "    return integrated/delta_p # (lat, time)\n",
    "\n",
    "def spher_div(x):\n",
    "       dtheta=np.deg2rad(latn[1]-latn[0])\n",
    "       N=50\n",
    "       div=np.copy(x)\n",
    "       for t in range( (x.shape[-1]) ):\n",
    "          div[:,t]= smooth( np.gradient((x[:,t]),dtheta)/( R*np.cos(np.radians(latn)) ),N) \n",
    "       return div # (lat, time)\n",
    "           \n",
    "def vert_grad(x):\n",
    "       N=1\n",
    "       div=np.copy(x)\n",
    "       for t in range( (x.shape[-1]) ):\n",
    "           for l in range( (x.shape[0]) ):\n",
    "              div[l,:,t]= smooth( np.gradient((x[l,:,t]),Pres),N)\n",
    "       return div"
   ]
  },
  {
   "cell_type": "code",
   "execution_count": null,
   "metadata": {},
   "outputs": [],
   "source": [
    "N_sq_sfc = -(g**2/Rk)* (pmean(pmin,pmax)/deltap(pmin,pmax)) * (p00/pmean(pmin,pmax))**(Rk/Cp) * (delta_theta(pmin,pmax))/(theta_avg(pmin,pmax)) # (lat, time)"
   ]
  },
  {
   "cell_type": "code",
   "execution_count": null,
   "metadata": {},
   "outputs": [],
   "source": [
    "dtheta_dy    = spher_div( theta_avg(pmin,pmax) ) # (lat, time)"
   ]
  },
  {
   "cell_type": "code",
   "execution_count": null,
   "metadata": {},
   "outputs": [],
   "source": [
    "fo_dUdz_sfc  = -1*g*dtheta_dy/theta_avg(pmin,pmax)  ## Have not divided by f0 (lat, time)\n",
    "# sfc_baroclinicity = {'N_sq':N_sq_sfc,'fo_dUdz': fo_dUdz_sfc, 'latn': latn } # (lat, time)\n"
   ]
  },
  {
   "cell_type": "code",
   "execution_count": null,
   "metadata": {},
   "outputs": [],
   "source": [
    "### From formula  ####\n",
    "dUdp      = vert_grad(U_interp)  # (lat, plev, time)"
   ]
  },
  {
   "cell_type": "code",
   "execution_count": null,
   "metadata": {},
   "outputs": [],
   "source": [
    "dZdp      = vert_grad(Z_interp)  # (lat, plev, time)"
   ]
  },
  {
   "cell_type": "code",
   "execution_count": null,
   "metadata": {},
   "outputs": [],
   "source": [
    "dUdZ      = dUdp/dZdp            # (lat, plev, time)"
   ]
  },
  {
   "cell_type": "code",
   "execution_count": null,
   "metadata": {},
   "outputs": [],
   "source": [
    "dthetadp = vert_grad(theta)  \n"
   ]
  },
  {
   "cell_type": "code",
   "execution_count": null,
   "metadata": {},
   "outputs": [],
   "source": [
    "N_sq = -1*(g**2*P[:,None,:]/(R*T_interp))* dthetadp/(theta)"
   ]
  },
  {
   "cell_type": "code",
   "execution_count": null,
   "metadata": {},
   "outputs": [],
   "source": []
  },
  {
   "cell_type": "code",
   "execution_count": null,
   "metadata": {},
   "outputs": [],
   "source": []
  },
  {
   "cell_type": "code",
   "execution_count": null,
   "metadata": {},
   "outputs": [],
   "source": []
  },
  {
   "cell_type": "code",
   "execution_count": null,
   "metadata": {},
   "outputs": [],
   "source": []
  }
 ],
 "metadata": {
  "kernelspec": {
   "display_name": "Python 2",
   "language": "python",
   "name": "python2"
  },
  "language_info": {
   "codemirror_mode": {
    "name": "ipython",
    "version": 2
   },
   "file_extension": ".py",
   "mimetype": "text/x-python",
   "name": "python",
   "nbconvert_exporter": "python",
   "pygments_lexer": "ipython2",
   "version": "2.7.11"
  }
 },
 "nbformat": 4,
 "nbformat_minor": 2
}
