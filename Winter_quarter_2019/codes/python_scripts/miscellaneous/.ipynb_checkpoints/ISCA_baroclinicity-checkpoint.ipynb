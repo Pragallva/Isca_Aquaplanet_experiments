{
 "cells": [
  {
   "cell_type": "code",
   "execution_count": 29,
   "metadata": {
    "collapsed": false,
    "deletable": true,
    "editable": true
   },
   "outputs": [],
   "source": [
    "%matplotlib inline\n",
    "import matplotlib as mpl\n",
    "#mpl.use('Agg')\n",
    "import numpy as np\n",
    "import pylab as py\n",
    "import matplotlib.cm as cm\n",
    "from reverse_cmap import rcmap\n",
    "import sys\n",
    "import os\n",
    "import errno\n",
    "import netCDF4 as nc\n",
    "\n",
    "BuRd = rcmap(cm.RdBu)\n",
    "\n",
    "import hickle as hkl\n",
    "\n",
    "## A function to save a dictionary ##\n",
    "def save(filename,dictionary):\n",
    "    hkl.dump(dictionary, filename, mode='w')\n",
    "\n",
    "## A function to load a dictionary ## \n",
    "def load(filename):\n",
    "    dictionary = hkl.load(filename)\n",
    "    return dictionary\n",
    "\n",
    "\n",
    "def make_sure_path_exists(path):\n",
    "    try:\n",
    "        os.makedirs(path)\n",
    "    except OSError as exception:\n",
    "        if exception.errno != errno.EEXIST:\n",
    "            raise\n",
    "####################\n",
    "#### smoothening ###\n",
    "####################\n",
    "\n",
    "def smooth(y, box_pts):\n",
    "    box = np.ones(box_pts)/box_pts\n",
    "    y_smooth = np.convolve(y, box, mode='same')\n",
    "    return y_smooth\n",
    "\n",
    "a=6371.0e3\n",
    "R=a\n",
    "\n",
    "c=5\n",
    "ncfile='/project2/tas1/pragallva/Spring_quarter_2018/exp_data/aqua_isca5m/aqua_isca5m0.nc'\n",
    "v_var=nc.Dataset(ncfile,'r')\n",
    "sigma_full=v_var['pfull'][::-1]\n",
    "sigma_half=v_var['phalf'][::-1]\n",
    "lat_o=v_var['lat'][:]"
   ]
  },
  {
   "cell_type": "code",
   "execution_count": 30,
   "metadata": {},
   "outputs": [
    {
     "data": {
      "text/plain": [
       "array([-87.86379884, -85.09652699, -82.31291295, -79.52560657,\n",
       "       -76.73689968, -73.94751515, -71.15775201, -68.36775611,\n",
       "       -65.57760701, -62.7873518 , -59.99702011, -57.20663153,\n",
       "       -54.41619953, -51.62573367, -48.83524097, -46.04472663,\n",
       "       -43.25419467, -40.46364818, -37.67308963, -34.88252099,\n",
       "       -32.09194388, -29.30135962, -26.51076933, -23.72017393,\n",
       "       -20.92957425, -18.13897099, -15.34836476, -12.55775612,\n",
       "        -9.76714556,  -6.97653355,  -4.18592053,  -1.39530691,\n",
       "         1.39530691,   4.18592053,   6.97653355,   9.76714556,\n",
       "        12.55775612,  15.34836476,  18.13897099,  20.92957425,\n",
       "        23.72017393,  26.51076933,  29.30135962,  32.09194388,\n",
       "        34.88252099,  37.67308963,  40.46364818,  43.25419467,\n",
       "        46.04472663,  48.83524097,  51.62573367,  54.41619953,\n",
       "        57.20663153,  59.99702011,  62.7873518 ,  65.57760701,\n",
       "        68.36775611,  71.15775201,  73.94751515,  76.73689968,\n",
       "        79.52560657,  82.31291295,  85.09652699,  87.86379884])"
      ]
     },
     "execution_count": 30,
     "metadata": {},
     "output_type": "execute_result"
    }
   ],
   "source": [
    "lat_o"
   ]
  },
  {
   "cell_type": "code",
   "execution_count": 7,
   "metadata": {
    "collapsed": false,
    "deletable": true,
    "editable": true
   },
   "outputs": [],
   "source": [
    "import glob\n",
    "import numpy as np\n",
    "import scipy.io as sio\n",
    "import pylab as py\n",
    "from scipy import interpolate\n",
    "from scipy.interpolate import interp1d\n",
    "from scipy import stats\n",
    "\n",
    "#### Invoke all the files\n",
    "\n",
    "m5 =(glob.glob('/project2/tas1/pragallva/Fall_quarter_2018/post_process_data/HC0_la5m_oc5m/*.hkl'))\n",
    "m8 =(glob.glob('/project2/tas1/pragallva/Fall_quarter_2018/post_process_data/HC0_la8m_oc8m/*.hkl'))\n",
    "m10 =(glob.glob('/project2/tas1/pragallva/Summer_quarter_2018/post_process_data/aqua_isca10m/*.hkl'))\n",
    "m30 =(glob.glob('/project2/tas1/pragallva/Fall_quarter_2018/post_process_data/HC0_la30m_oc30m/*.hkl'))\n",
    "m50 =(glob.glob('/project2/tas1/pragallva/Fall_quarter_2018/post_process_data/HC0_la50m_oc50m/*.hkl'))\n",
    "m80 =(glob.glob('/project2/tas1/pragallva/Fall_quarter_2018/post_process_data/HC0_la80m_oc80m/*.hkl'))\n",
    "m100 =(glob.glob('/project2/tas1/pragallva/Summer_quarter_2018/post_process_data/aqua_isca100m/*.hkl'))"
   ]
  },
  {
   "cell_type": "code",
   "execution_count": 8,
   "metadata": {},
   "outputs": [],
   "source": [
    "m5p =(glob.glob('/project2/tas1/pragallva/Fall_quarter_2018/post_process_data/data_in_pres_coord/HC0_la5m_oc5m/*.hkl'))\n",
    "m8p =(glob.glob('/project2/tas1/pragallva/Fall_quarter_2018/post_process_data/data_in_pres_coord/HC0_la8m_oc8m/*.hkl'))\n",
    "#m10p =(glob.glob('/project2/tas1/pragallva/Summer_quarter_2018/post_process_data/aqua_isca10m/*.hkl'))\n",
    "m30p =(glob.glob('/project2/tas1/pragallva/Fall_quarter_2018/post_process_data/data_in_pres_coord/HC0_la30m_oc30m/*.hkl'))\n",
    "m50p =(glob.glob('/project2/tas1/pragallva/Fall_quarter_2018/post_process_data/data_in_pres_coord/HC0_la50m_oc50m/*.hkl'))\n",
    "m80p =(glob.glob('/project2/tas1/pragallva/Fall_quarter_2018/post_process_data/data_in_pres_coord/HC0_la80m_oc80m/*.hkl'))\n",
    "#m100p =(glob.glob('/project2/tas1/pragallva/Summer_quarter_2018/post_process_data/aqua_isca100m/*.hkl'))"
   ]
  },
  {
   "cell_type": "code",
   "execution_count": 38,
   "metadata": {
    "collapsed": false,
    "deletable": true,
    "editable": true
   },
   "outputs": [],
   "source": [
    "DEPTHS=[m5, m8, m10, m30, m50, m80, m100]\n",
    "flux=[]\n",
    "flux_vert=[]\n",
    "div=[]\n",
    "div_vert=[]\n",
    "eke=[]\n",
    "raw=[]\n",
    "tsurf=[]\n",
    "mmc_decomp=[]\n",
    "mmc_decomp_vert=[]\n",
    "c=5\n",
    "coord=load(m5[c])\n",
    "for depth in DEPTHS:\n",
    "    if ( (depth==m10) or (depth==m100)) :\n",
    "        f=0; e=1; r=2; fv=3; c=4; d=5; dv=6;\n",
    "    else :\n",
    "        f=0; e=1; mmcv=2; r=3; fv=4; c=5; d=6; dv=7; mmc=8;\n",
    "        mmc_decomp.append(load(depth[mmc]))\n",
    "        eke.append(load(depth[e]))\n",
    "        mmc_decomp.append(load(depth[mmc]))\n",
    "        mmc_decomp_vert.append(load(depth[mmcv]))\n",
    "    raw.append(load(depth[r]))\n",
    "    flux.append(load(depth[f]))\n",
    "    flux_vert.append(load(depth[fv]))\n",
    "    div.append(load(depth[d])) \n",
    "    div_vert.append(load(depth[dv]))\n",
    "lat=div[0]['latn']"
   ]
  },
  {
   "cell_type": "code",
   "execution_count": 12,
   "metadata": {},
   "outputs": [],
   "source": [
    "DEPTHSp=[m5p, m8p, m30p, m50p, m80p]\n",
    "baro=[]\n",
    "baro_vert=[]\n",
    "for depth in DEPTHSp:\n",
    "    b=0; bv=1;\n",
    "    baro.append(load(depth[b])) \n",
    "    baro_vert.append(load(depth[bv]))"
   ]
  },
  {
   "cell_type": "code",
   "execution_count": 107,
   "metadata": {},
   "outputs": [],
   "source": [
    "# py.contourf(range(12),lat, baro[3]['fo_dUdz']/np.sqrt(baro[0]['N_sq']) ) ;py.colorbar()"
   ]
  },
  {
   "cell_type": "code",
   "execution_count": 61,
   "metadata": {},
   "outputs": [
    {
     "data": {
      "text/plain": [
       "['fo_dUdz', 'N_sq', 'latn']"
      ]
     },
     "execution_count": 61,
     "metadata": {},
     "output_type": "execute_result"
    }
   ],
   "source": [
    "baro[0].keys()"
   ]
  },
  {
   "cell_type": "code",
   "execution_count": 59,
   "metadata": {
    "collapsed": false,
    "deletable": true,
    "editable": true
   },
   "outputs": [],
   "source": [
    "# def save(X,name): \n",
    "#     Y={'d5':X[d5], 'd10':X[d10],'d50':X[d50], 'd100':X[d100]}\n",
    "#     sio.savemat(name, Y)\n",
    "# dest= '/project2/tas1/pragallva/Summer_quarter_2018/MAT_files/'  \n",
    "# make_sure_path_exists(dest)\n",
    "# save(flux,dest+\"Isca_depths_FLUX_in_PW.mat\")\n",
    "# save(div, dest+\"Isca_depths_DIV_in_W_m2.mat\")\n",
    "# save(raw, dest+\"Isca_depths_RAW_data_all_levels.mat\")\n",
    "# sio.savemat(dest+\"coordinates.mat\", coord)"
   ]
  },
  {
   "cell_type": "code",
   "execution_count": 68,
   "metadata": {},
   "outputs": [],
   "source": [
    "def M(x):\n",
    "    return np.array(x)\n",
    "lat=div[0]['latn']\n",
    "Iswabs=[]; Ishf=[]; Idhdt=[]; Iolr=[]; Ine=[];\n",
    "ISW_sfc=[]; ISW_toa=[]; ILW_sfc=[]; Ishflx=[]; Ilhflx=[]; ISFC=[]; ITOA=[]; TS=[]; precip=[]\n",
    "fo_dUdz=[]; N_sq=[]\n",
    "for depth in range(len(DEPTHS)):\n",
    "    Iswabs.append(M(flux[depth]['SWABS']))\n",
    "    Ishf.append(M(flux[depth]['SHF']))\n",
    "    Idhdt.append(M(flux[depth]['dhdt']))\n",
    "    Iolr.append(M(flux[depth]['olr']))\n",
    "    ISW_sfc.append(-1*M(flux[depth]['SW_sfc_d'])) ## up\n",
    "    ILW_sfc.append(M(-1*flux[depth]['LW_sfc_d'])) ## up\n",
    "    ISW_toa.append(M(flux[depth]['SW_toa_d']))    ## dn\n",
    "    Ishflx.append(M(flux[depth]['shflx_u']))      ## up\n",
    "    Ilhflx.append(M(flux[depth]['lhflx_u']))      ## up\n",
    "    \n",
    "    ISFC.append(M(flux[depth]['SFC_u']))\n",
    "    ITOA.append(M(flux[depth]['TOA_d']))\n",
    "    Ine.append(Iswabs[depth]+Ishf[depth]-Iolr[depth]-Idhdt[depth])\n"
   ]
  },
  {
   "cell_type": "code",
   "execution_count": 69,
   "metadata": {
    "collapsed": false,
    "deletable": true,
    "editable": true
   },
   "outputs": [],
   "source": [
    "TE=[]; MM=[]; SE=[]; INE=[]; EKE_vert=[]; EMF_vert=[]; del_m_mmc=[]; del_v_mmc=[]\n",
    "del_m_mmc_vert=[]; del_v_mmc_vert=[]\n",
    "for depth in range(len(DEPTHS)):\n",
    "    TE.append(M(flux[depth]['TE']))\n",
    "    SE.append(M(flux[depth]['SE']))\n",
    "    MM.append(M(flux[depth]['MM']))\n",
    "    INE.append(TE[depth]+SE[depth]+MM[depth])"
   ]
  },
  {
   "cell_type": "code",
   "execution_count": 70,
   "metadata": {},
   "outputs": [],
   "source": [
    "def M(x):\n",
    "    return np.array(x)\n",
    "lat=div[0]['latn']\n",
    "fo_dUdz=[]; N_sq=[]\n",
    "for depth in range(len(DEPTHSp)):\n",
    "    fo_dUdz.append(M(baro[depth]['fo_dUdz']))\n",
    "    N_sq.append(M(baro[depth]['N_sq']))"
   ]
  },
  {
   "cell_type": "code",
   "execution_count": 71,
   "metadata": {
    "collapsed": true,
    "deletable": true,
    "editable": true
   },
   "outputs": [],
   "source": [
    "import scipy.integrate as integrate \n",
    "def interad(x):\n",
    "    l=np.deg2rad(lat[:,None])\n",
    "    x=x*np.cos(l)\n",
    "    #int_x  =integrate.cumtrapz(x[::-1,:],l[::-1],axis=0,initial=None) #  (This is basically integration from - 90 deg)\n",
    "    int_x_r=integrate.cumtrapz(x        ,l      ,axis=0,initial=None) #  (This is basically integration from + 90 deg) \n",
    "    avg_int_r=2*np.pi*a**2*(int_x_r[:])#int_x_r[:-1,:]) #int_x[::-1,:][1:,:]+\n",
    "    return avg_int_r/10**15"
   ]
  },
  {
   "cell_type": "code",
   "execution_count": 72,
   "metadata": {
    "collapsed": false,
    "deletable": true,
    "editable": true
   },
   "outputs": [],
   "source": [
    "div_TE=[]; div_MM=[]; div_SE=[]; div_NE=[];\n",
    "swabs=[]; shf=[]; olr=[];dhdt=[];ne=[];\n",
    "SW_sfc=[]; SW_toa=[]; LW_sfc=[]; shflx=[]; lhflx=[]; sfc=[]; toa=[]\n",
    "\n",
    "for depth in range(len(DEPTHS)):\n",
    "    div_TE.append(div[depth]['TE'])\n",
    "    div_SE.append(div[depth]['SE'])\n",
    "    div_MM.append(div[depth]['MM'])\n",
    "    div_NE.append(div_TE[depth]+div_SE[depth]+div_MM[depth])\n",
    "    \n",
    "    swabs.append(div[depth]['SWABS'])\n",
    "    shf.append(div[depth]['SHF'])\n",
    "    dhdt.append(div[depth]['dhdt'])\n",
    "    olr.append(div[depth]['olr'])\n",
    "    ne.append(swabs[depth]+shf[depth]-olr[depth]-dhdt[depth])\n",
    "    \n",
    "    SW_sfc.append(-1*div[depth]['SW_sfc_d'])\n",
    "    LW_sfc.append(-1*div[depth]['LW_sfc_d'])\n",
    "    SW_toa.append(div[depth]['SW_toa_d'])\n",
    "    shflx.append(div[depth]['shflx_u'])\n",
    "    lhflx.append(div[depth]['lhflx_u'])\n",
    "    sfc.append(div[depth]['SFC_u'])\n",
    "    toa.append(div[depth]['TOA_d'])\n",
    "    "
   ]
  },
  {
   "cell_type": "markdown",
   "metadata": {
    "deletable": true,
    "editable": true
   },
   "source": [
    "# Average Northern and Southern Hemispheres"
   ]
  },
  {
   "cell_type": "code",
   "execution_count": 81,
   "metadata": {
    "collapsed": false,
    "deletable": true,
    "editable": true
   },
   "outputs": [],
   "source": [
    "TE=np.array(TE); SE=np.array(SE); MM=np.array(MM); NE=np.array(INE); EKE_vert=np.array(EKE_vert); EMF_vert=np.array(EMF_vert)\n",
    "Iswabs=np.array(Iswabs); Ishf=np.array(Ishf); Ine=np.array(Ine); Iolr=np.array(Iolr); Idhdt=np.array(Idhdt);\n",
    "ISW_sfc=np.array(ISW_sfc); ILW_sfc=np.array(ILW_sfc); ISW_toa=np.array(ISW_toa); Ishflx=np.array(Ishflx); Ilhflx=np.array(Ilhflx);\n",
    "ISFC=np.array(ISFC); ITOA=np.array(ITOA); \n",
    "# mmc_decomp=np.array(mmc_decomp)\n",
    "fo_dUdz=np.array(fo_dUdz); N_sq=np.array(N_sq)\n",
    "fo_baro=fo_dUdz/np.sqrt(N_sq)"
   ]
  },
  {
   "cell_type": "code",
   "execution_count": 82,
   "metadata": {
    "collapsed": false,
    "deletable": true,
    "editable": true
   },
   "outputs": [],
   "source": [
    "def N_S_avg(TE, SE, MM, NE, temp, lat, flux_flag=-1):\n",
    "    l_N=((lat>-0.1) & (lat<=90))            \n",
    "    l_S=((lat>=-90) & (lat<=0))\n",
    "    \n",
    "    avg = lambda x: (x[:,l_N,:]+flux_flag*np.roll(x[:,l_S,:][:,::-1,:], 6, axis=-1))/2.0\n",
    "    \n",
    "    TE1= avg(TE)\n",
    "    SE1= avg(SE)\n",
    "    NE1= avg(NE)\n",
    "    MM1= avg(MM)\n",
    "    temp= avg(temp)\n",
    "    \n",
    "    a= lambda x: np.append(x,x[:,:,0,None],axis=-1)\n",
    "    \n",
    "    return a(TE1), a(SE1), a(MM1), a(NE1), a(temp), lat[l_N]"
   ]
  },
  {
   "cell_type": "code",
   "execution_count": 84,
   "metadata": {
    "collapsed": false,
    "deletable": true,
    "editable": true
   },
   "outputs": [],
   "source": [
    "TE_a   ,SE_a     , MM_a  , NE_a  , fo_baro_a,   lat_a  = N_S_avg(TE, SE, MM, NE, fo_baro, lat)\n",
    "Iswabs_a,Ishf_a  , Ine_a , Iolr_a, Idhdt_a, latr_a = N_S_avg( Iswabs,Ishf,Ine,Iolr,Idhdt, lat[1:-1] )\n",
    "ISW_sfc_a, ILW_sfc_a  , ISW_toa_a , Ishflx_a, Ilhflx_a, latr_a = N_S_avg( ISW_sfc,ILW_sfc,ISW_toa, Ishflx, Ilhflx, lat[1:-1] )\n",
    "ISFC_a = N_S_avg( ISFC,ISFC,ISFC,ISFC,ISFC, lat[1:-1] )[0]\n",
    "ITOA_a = N_S_avg( ITOA,ITOA,ITOA,ITOA,ITOA, lat[1:-1] )[0]"
   ]
  },
  {
   "cell_type": "code",
   "execution_count": 85,
   "metadata": {
    "collapsed": false,
    "deletable": true,
    "editable": true
   },
   "outputs": [],
   "source": [
    "dtheta=np.radians(lat_a[1]-lat_a[0])\n",
    "\n",
    "def spher_div(x,fac=1):\n",
    "       N=100\n",
    "#        fac=1 #np.cos(np.radians(lat))\n",
    "       div=np.copy(x)\n",
    "       for d in range(len(DEPTHS)):\n",
    "        for m in range(13):\n",
    "           div[d,:,m]= smooth( np.gradient((x[d,:,m])*(fac),dtheta)/( 2*np.pi*R**2*np.cos(np.radians(lat_a[:])) ),N)\n",
    "       return div\n",
    "\n",
    "div_TE_a=spher_div(TE_a*10**15)\n",
    "div_SE_a=spher_div(SE_a*10**15)\n",
    "div_MM_a=spher_div(MM_a*10**15)\n",
    "div_NE_a=div_TE_a+div_SE_a+div_MM_a"
   ]
  },
  {
   "cell_type": "code",
   "execution_count": 86,
   "metadata": {
    "collapsed": false,
    "deletable": true,
    "editable": true
   },
   "outputs": [],
   "source": [
    "lat=div[0]['latn']\n",
    "\n",
    "from scipy.interpolate import interp1d\n",
    "\n",
    "def find_zero(div):\n",
    "  zero_loc = np.zeros((len(DEPTHS),13))\n",
    "  for d in range(0,len(DEPTHS)):\n",
    "      for m in range(0,13):\n",
    "            l_range=((lat_a>=30) & (lat_a<=60))            \n",
    "            interpolation_function = interp1d(div[d,l_range,m],lat_a[l_range],kind='linear')\n",
    "            try :\n",
    "                zero_loc[d,m]=interpolation_function(0)\n",
    "            except ValueError as err:\n",
    "                zero_loc[d,m]=np.nan        \n",
    "  return zero_loc\n",
    "\n",
    "storm_pos=find_zero(div_TE_a)"
   ]
  },
  {
   "cell_type": "code",
   "execution_count": 87,
   "metadata": {},
   "outputs": [],
   "source": [
    "import numpy as np\n",
    "def calculate_shift_just_by_adding_individual_flux_divergences(month_to_month=1):\n",
    "    \n",
    "    div_TE_a=spher_div(TE_a*10**15)\n",
    "    div_SE_a=spher_div(SE_a*10**15)\n",
    "    div_MM_a=spher_div(MM_a*10**15)\n",
    "    div_NE_a=div_TE_a+div_SE_a+div_MM_a\n",
    "    \n",
    "    se=np.array(div_SE_a); te=np.array(div_TE_a); mm=np.array(div_MM_a); ne=np.array(div_NE_a)\n",
    "    \n",
    "    def diff(x):\n",
    "        return x[:,:,1:]-x[:,:,:-1] \n",
    "    base_pos=te[...,:-1]\n",
    "    \n",
    "    if month_to_month==0 :\n",
    "      def diff(x):\n",
    "         return x[:,:,1:]-x[...,1:,None].mean(axis=2)    \n",
    "      base_pos=te[...,1:,None].mean(axis=2)\n",
    "        \n",
    "    TE_change=base_pos+diff(te)\n",
    "    NE_change=base_pos+diff(ne)\n",
    "    SE_change=base_pos-diff(se)\n",
    "    MM_change=base_pos-diff(mm)\n",
    "    \n",
    "    a = lambda x: np.append(x[:,:,-1,None],x,axis=-1)\n",
    "    \n",
    "    return a(SE_change), a(MM_change), a(TE_change), a(NE_change)\n",
    "\n",
    "SE_change, MM_change, TE_change, NE_change = calculate_shift_just_by_adding_individual_flux_divergences(month_to_month=0)"
   ]
  },
  {
   "cell_type": "code",
   "execution_count": 88,
   "metadata": {},
   "outputs": [],
   "source": [
    "def find_zero(div,lower_limit=30,specific_month=-1):\n",
    "  depths=div.shape[0];\n",
    "  months=div.shape[-1];\n",
    "  zero_loc = np.zeros((depths,months))\n",
    "  for d in range(0,depths):\n",
    "      for m in range(0,months):\n",
    "            l_range=((lat_a>=30) & (lat_a<=60))   \n",
    "            if m==specific_month:\n",
    "                l_range=((lat_a>=lower_limit) & (lat_a<=60))\n",
    "            interpolation_function = interp1d(div[d,l_range,m],lat_a[l_range],kind='linear')\n",
    "            try :\n",
    "                zero_loc[d,m]=interpolation_function(0)\n",
    "            except ValueError as err:\n",
    "                zero_loc[d,m]=np.nan        \n",
    "  return zero_loc"
   ]
  },
  {
   "cell_type": "code",
   "execution_count": 89,
   "metadata": {},
   "outputs": [],
   "source": [
    "def find_zero_for_ann_mean(div):\n",
    "  depths=div.shape[0];\n",
    "  zero_loc = np.zeros(depths)\n",
    "  for d in range(0,depths):\n",
    "        l_range=((lat_a>=30) & (lat_a<=60))   \n",
    "        interpolation_function = interp1d(div[d,l_range,:-1].mean(axis=-1),lat_a[l_range],kind='linear')\n",
    "        try :\n",
    "                zero_loc[d]=interpolation_function(0)\n",
    "        except ValueError as err:\n",
    "                zero_loc[d]=np.nan        \n",
    "  return zero_loc\n",
    "ann_pos=find_zero_for_ann_mean(TE_change)"
   ]
  },
  {
   "cell_type": "code",
   "execution_count": 90,
   "metadata": {},
   "outputs": [],
   "source": [
    "# pick the storm track position and identify the index\n",
    "from scipy.interpolate import interp1d\n",
    "def inerp_at_max(flux,lat):\n",
    "  D = np.zeros((len(DEPTHS),13))\n",
    "  for d in range(0,len(DEPTHS)):\n",
    "    for m in range(0,13):\n",
    "        l_range=((lat>=30) & (lat<=60)) \n",
    "        X=storm_pos\n",
    "        interpolation_function = interp1d(lat[l_range],flux[d,l_range,m],kind='cubic')\n",
    "        try :\n",
    "            D[d,m]=interpolation_function(X[d,m])\n",
    "        except ValueError as err:\n",
    "            D[d,m]==np.nan        \n",
    "  return D\n",
    "\n",
    "Intensity_te=inerp_at_max(TE_a,lat_a)\n",
    "Intensity_se=inerp_at_max(SE_a,lat_a)\n",
    "Intensity_mm=inerp_at_max(MM_a,lat_a)\n",
    "Intensity_ne=inerp_at_max(NE_a,lat_a)\n",
    "\n",
    "\n",
    "I_SWAB =inerp_at_max(Iswabs_a,latr_a)\n",
    "I_SHF  =inerp_at_max(Ishf_a,latr_a)\n",
    "I_NE   =inerp_at_max(Ine_a,latr_a)\n",
    "I_OLR  =inerp_at_max(Iolr_a,latr_a)\n",
    "I_dhdt =inerp_at_max(Idhdt_a,latr_a)\n",
    "\n",
    "I_SWsfc = inerp_at_max(ISW_sfc_a,latr_a)\n",
    "I_LWsfc = inerp_at_max(ILW_sfc_a,latr_a)\n",
    "I_SWtoa = inerp_at_max(ISW_toa_a,latr_a)\n",
    "I_shflx = inerp_at_max(Ishflx_a,latr_a)\n",
    "I_lhflx = inerp_at_max(Ilhflx_a,latr_a)\n",
    "\n",
    "I_SFC = inerp_at_max(ISFC_a,latr_a)\n",
    "I_TOA = inerp_at_max(ITOA_a,latr_a)\n"
   ]
  },
  {
   "cell_type": "code",
   "execution_count": 91,
   "metadata": {},
   "outputs": [],
   "source": [
    "def threshold(I,value, pos1, pos2, pos3, pos4):\n",
    "      for d in range(len(DEPTHS)):  \n",
    "        for m in range(13):\n",
    "            if (np.abs(I[d,m])<value) :\n",
    "                #N[d,m]=np.nan\n",
    "                pos1[d,m]=np.nan\n",
    "                pos2[d,m]=np.nan\n",
    "                pos3[d,m]=np.nan\n",
    "                pos4[d,m]=np.nan                \n",
    "      return pos1, pos2, pos3, pos4\n",
    "zero_div_TE, zero_div_SE, zero_div_MM, zero_div_NE = threshold(Intensity_te, 0.0, find_zero(TE_change), find_zero(SE_change), find_zero(MM_change), find_zero(NE_change))"
   ]
  },
  {
   "cell_type": "code",
   "execution_count": 92,
   "metadata": {},
   "outputs": [],
   "source": [
    "py.rc('text', usetex=True)\n",
    "py.rc('font', family='serif', serif='Palatino',weight='bold')\n"
   ]
  },
  {
   "cell_type": "markdown",
   "metadata": {
    "deletable": true,
    "editable": true
   },
   "source": [
    "# Decompose Net energy in Watts/m^2"
   ]
  },
  {
   "cell_type": "code",
   "execution_count": 93,
   "metadata": {},
   "outputs": [],
   "source": [
    "swabs=np.array(swabs); shf=np.array(shf); ne=np.array(ne); olr=np.array(olr); dhdt=np.array(dhdt);\n",
    "SW_sfc=np.array(SW_sfc); LW_sfc=np.array(LW_sfc); SW_toa=np.array(SW_toa); shflx=np.array(shflx); lhflx=np.array(lhflx);\n",
    "sfc=np.array(sfc); toa=np.array(toa); "
   ]
  },
  {
   "cell_type": "code",
   "execution_count": 94,
   "metadata": {
    "collapsed": false,
    "deletable": true,
    "editable": true
   },
   "outputs": [],
   "source": [
    "SWABS_a, SHF_a  , NE_a , OLR_a, dhdt_a, lat_a = N_S_avg( swabs,shf, ne ,olr, dhdt, lat, flux_flag=1)\n",
    "SW_toa_a, SW_sfc_a  , shflx_a , lhflx_a, LW_sfc_a, lat_a = N_S_avg( SW_toa, SW_sfc, shflx, lhflx, LW_sfc, lat,flux_flag=1)#\n",
    "\n",
    "SW_toa_a, SW_sfc_a  , shflx_a , lhflx_a, LW_sfc_a, lat_a = N_S_avg( SW_toa, SW_sfc, shflx, lhflx, LW_sfc, lat,flux_flag=1)#\n",
    "sfc_a, toa_a = N_S_avg( sfc, toa, shflx, lhflx, LW_sfc, lat,flux_flag=1)[0:2]\n"
   ]
  },
  {
   "cell_type": "code",
   "execution_count": 95,
   "metadata": {
    "collapsed": true,
    "deletable": true,
    "editable": true
   },
   "outputs": [],
   "source": [
    "def inerp_at_mean(flux,lat):\n",
    "  D = np.zeros((len(DEPTHS),13))\n",
    "  for d in range(0,len(DEPTHS)):\n",
    "    for m in range(0,13):\n",
    "        l_range=((lat>=30) & (lat<=60)) \n",
    "        X=np.nanmean(zero_div_TE[d,:-1])\n",
    "        interpolation_function = interp1d(lat[l_range],flux[d,l_range,m],kind='cubic')\n",
    "        try :\n",
    "            D[d,m]=interpolation_function(X)\n",
    "        except ValueError as err:\n",
    "            D[d,m]==np.nan        \n",
    "  return D"
   ]
  },
  {
   "cell_type": "code",
   "execution_count": 96,
   "metadata": {
    "collapsed": true,
    "deletable": true,
    "editable": true
   },
   "outputs": [],
   "source": [
    "P_div_TE =inerp_at_mean(div_TE_a,lat_a)\n",
    "P_div_SE =inerp_at_mean(div_SE_a,lat_a)\n",
    "P_div_NE =inerp_at_mean(div_NE_a,lat_a)\n",
    "P_div_MM =inerp_at_mean(div_MM_a,lat_a)"
   ]
  },
  {
   "cell_type": "code",
   "execution_count": 97,
   "metadata": {
    "collapsed": true,
    "deletable": true,
    "editable": true
   },
   "outputs": [],
   "source": [
    "P_SWAB =inerp_at_max(SWABS_a,lat_a)\n",
    "P_SHF  =inerp_at_max(SHF_a,lat_a)\n",
    "P_NE   =inerp_at_max(NE_a,lat_a)\n",
    "P_OLR  =inerp_at_max(OLR_a,lat_a)\n",
    "P_dhdt =inerp_at_max(dhdt_a,lat_a)\n",
    "\n",
    "P_SWsfc = inerp_at_max(SW_sfc_a,lat_a)\n",
    "P_LWsfc = inerp_at_max(LW_sfc_a,lat_a)\n",
    "P_SWtoa = inerp_at_max(SW_toa_a,lat_a)\n",
    "P_shflx = inerp_at_max(shflx_a,lat_a)\n",
    "P_lhflx = inerp_at_max(lhflx_a,lat_a)\n",
    "\n",
    "P_sfc = inerp_at_max(sfc_a,lat_a)\n",
    "P_toa = inerp_at_max(toa_a,lat_a)"
   ]
  },
  {
   "cell_type": "code",
   "execution_count": 98,
   "metadata": {
    "collapsed": false,
    "deletable": true,
    "editable": true
   },
   "outputs": [],
   "source": [
    "# m_to_m=0; l=6\n",
    "# fig=py.figure(figsize=(22, 15))\n",
    "# compare_plot(1,I_lhflx,'r',r'$\\Delta I_{lhfx}$',m_to_m,l)\n",
    "# compare_plot(2,I_shflx,'b',r'$\\Delta I_{shflx}$',m_to_m,l)\n",
    "# compare_plot(3,I_LWsfc,'g',r'$ \\Delta I_{LW\\:sfc}$',m_to_m,l)\n",
    "# compare_plot(4,I_SWsfc,'m',r'$\\Delta I_{SW\\:sfc}$',m_to_m,l)"
   ]
  },
  {
   "cell_type": "code",
   "execution_count": 99,
   "metadata": {
    "collapsed": true,
    "deletable": true,
    "editable": true
   },
   "outputs": [],
   "source": [
    "I_SWAB =inerp_at_max(Iswabs_a,latr_a)\n",
    "I_SHF  =inerp_at_max(Ishf_a,latr_a)\n",
    "I_NE   =inerp_at_max(Ine_a,latr_a)\n",
    "I_OLR  =inerp_at_max(Iolr_a,latr_a)\n",
    "I_dhdt =inerp_at_max(Idhdt_a,latr_a)\n",
    "\n",
    "I_SWsfc = inerp_at_max(ISW_sfc_a,latr_a)\n",
    "I_LWsfc = inerp_at_max(ILW_sfc_a,latr_a)\n",
    "I_SWtoa = inerp_at_max(ISW_toa_a,latr_a)\n",
    "I_shflx = inerp_at_max(Ishflx_a,latr_a)\n",
    "I_lhflx = inerp_at_max(Ilhflx_a,latr_a)\n",
    "\n",
    "I_SFC = inerp_at_max(ISFC_a,latr_a)\n",
    "I_TOA = inerp_at_max(ITOA_a,latr_a)"
   ]
  },
  {
   "cell_type": "code",
   "execution_count": 100,
   "metadata": {},
   "outputs": [
    {
     "data": {
      "text/plain": [
       "(1741, 40, 12)"
      ]
     },
     "execution_count": 100,
     "metadata": {},
     "output_type": "execute_result"
    }
   ],
   "source": [
    "flux_vert[0]['MM'].shape"
   ]
  },
  {
   "cell_type": "markdown",
   "metadata": {},
   "source": [
    "## Look at raw data"
   ]
  },
  {
   "cell_type": "code",
   "execution_count": 101,
   "metadata": {},
   "outputs": [],
   "source": [
    "T=[]; Q=[]; U=[]; V=[]; Z=[]; EKE=[]; EMF=[];\n",
    "MMv=[]; SEv=[]; NEv=[]; TEv=[];\n",
    "divMMv=[]; divSEv=[]; divNEv=[]; divTEv=[];\n",
    "\n",
    "for depth in range(len(DEPTHS)):\n",
    "    T.append(M(raw[depth]['T']))\n",
    "    Q.append(M(raw[depth]['q']))\n",
    "    U.append(M(raw[depth]['U']))\n",
    "    V.append(M(raw[depth]['V']))\n",
    "    Z.append(M(raw[depth]['Z']))\n",
    "    \n",
    "    MMv.append(M(flux_vert[depth]['MM']))\n",
    "    SEv.append(M(flux_vert[depth]['SE']))\n",
    "    TEv.append(M(flux_vert[depth]['TE']))\n",
    "    NEv.append(M(flux_vert[depth]['NE']))\n",
    "        \n",
    "    divMMv.append(M(div_vert[depth]['MM']))\n",
    "    divSEv.append(M(div_vert[depth]['SE']))\n",
    "    divTEv.append(M(div_vert[depth]['TE']))\n",
    "    divNEv.append(M(div_vert[depth]['NE']))\n",
    "    \n",
    "T=np.array(T); U=np.array(U); V=np.array(V); Z=np.array(Z); Q=np.array(Q); EKE=np.array(EKE); EMF= np.array(EMF)\n",
    "MMv=np.array(MMv); SEv=np.array(SEv); TEv=np.array(TEv); NEv=np.array(NEv);\n",
    "divMMv=np.array(divMMv); divSEv=np.array(divSEv); divTEv=np.array(divTEv); divNEv=np.array(divNEv);"
   ]
  },
  {
   "cell_type": "code",
   "execution_count": 108,
   "metadata": {},
   "outputs": [
    {
     "data": {
      "text/plain": [
       "['N_sq', 'latn', 'dUdz', 'Pres']"
      ]
     },
     "execution_count": 108,
     "metadata": {},
     "output_type": "execute_result"
    }
   ],
   "source": [
    "baro_vert[0].keys()"
   ]
  },
  {
   "cell_type": "code",
   "execution_count": 114,
   "metadata": {},
   "outputs": [],
   "source": [
    "DEPTHSp=[m5p, m8p, m30p, m50p, m80p]\n",
    "dUdzv=[]; N_sqv=[]\n",
    "pres=baro_vert[0]['Pres']\n",
    "    \n",
    "for depth in range(len(DEPTHSp)):\n",
    "    dUdzv.append(M(baro_vert[depth]['dUdz']))\n",
    "    N_sqv.append(M(baro_vert[depth]['N_sq']))\n",
    "    \n",
    "dUdzv=np.array(dUdzv); N_sqv=np.array(N_sqv);\n",
    "barov=dUdzv/np.sqrt(N_sqv)"
   ]
  },
  {
   "cell_type": "code",
   "execution_count": 115,
   "metadata": {},
   "outputs": [],
   "source": [
    "def N_S_avg(TE, SE, MM, NE, temp, lat, flux_flag=-1):\n",
    "    l_N=((lat>-0.1) & (lat<=90))            \n",
    "    l_S=((lat>=-90) & (lat<=0))\n",
    "    \n",
    "    avg = lambda x: (x[:,l_N,:,:]+flux_flag*np.roll(x[:,l_S,:,:][:,::-1,:,:], 6, axis=-1))/2.0\n",
    "    \n",
    "    TE1= avg(TE)\n",
    "    SE1= avg(SE)\n",
    "    NE1= avg(NE)\n",
    "    MM1= avg(MM)\n",
    "    temp= avg(temp)\n",
    "    \n",
    "    a= lambda x: np.append(x,x[...,0,None],axis=-1)\n",
    "    \n",
    "    return a(TE1), a(SE1), a(MM1), a(NE1), a(temp), lat[l_N]"
   ]
  },
  {
   "cell_type": "code",
   "execution_count": 116,
   "metadata": {},
   "outputs": [],
   "source": [
    "T_a      , U_a,       V_a   , Q_a,    Z_a,  lat_a             = N_S_avg(T, U, V, Q, Z, lat,flux_flag=1)\n",
    "MMv_a    , SEv_a,     TEv_a   , NEv_a,    barov_a,  lat_a       = N_S_avg(MMv   , SEv,     TEv  ,  NEv,   barov, lat,flux_flag=-1)\n",
    "divMMv_a , divSEv_a,  divTEv_a  , divNEv_a,  divNEv_a,  lat_a    = N_S_avg(divMMv, divSEv,  divTEv, divNEv, divNEv, lat,flux_flag=1)\n"
   ]
  },
  {
   "cell_type": "markdown",
   "metadata": {},
   "source": [
    "# fo_baro_a and barov_a"
   ]
  },
  {
   "cell_type": "code",
   "execution_count": 129,
   "metadata": {},
   "outputs": [
    {
     "data": {
      "text/plain": [
       "(5, 871, 13)"
      ]
     },
     "execution_count": 129,
     "metadata": {},
     "output_type": "execute_result"
    }
   ],
   "source": [
    "fo_baro_a.shape"
   ]
  },
  {
   "cell_type": "code",
   "execution_count": 131,
   "metadata": {},
   "outputs": [],
   "source": [
    "omega=7.29e-5\n",
    "# pick the storm track position and identify the index\n",
    "from scipy.interpolate import interp1d\n",
    "def inerp_at_maxp(flux,lat):\n",
    "  D = np.zeros((len(DEPTHSp),13))\n",
    "  for d in range(0,len(DEPTHSp)):\n",
    "    for m in range(0,13):\n",
    "        l_range=((lat>=30) & (lat<=60)) \n",
    "        X=storm_pos\n",
    "        interpolation_function = interp1d(lat[l_range],flux[d,l_range,m],kind='cubic')\n",
    "        try :\n",
    "            D[d,m]=interpolation_function(X[d,m])\n",
    "        except ValueError as err:\n",
    "            D[d,m]==np.nan \n",
    "        fo=2*omega*np.sin(np.deg2rad(X[d,m]))\n",
    "  return D/fo\n",
    "\n",
    "baro=inerp_at_maxp(fo_baro_a,lat_a)\n",
    "5,8,10,30,50,80,100"
   ]
  },
  {
   "cell_type": "code",
   "execution_count": 196,
   "metadata": {},
   "outputs": [
    {
     "name": "stdout",
     "output_type": "stream",
     "text": [
      "[-7 -6 -5 -4 -3 -2 -1  0  1  2  3  4  5  6  7]\n"
     ]
    }
   ],
   "source": [
    "vi=np.arange(-7,8,1)\n",
    "print vi"
   ]
  },
  {
   "cell_type": "code",
   "execution_count": 211,
   "metadata": {},
   "outputs": [
    {
     "data": {
      "text/plain": [
       "<matplotlib.colorbar.Colorbar at 0x7f9019164750>"
      ]
     },
     "execution_count": 211,
     "metadata": {},
     "output_type": "execute_result"
    },
    {
     "data": {
      "image/png": "[encoded data removed]",
      "text/plain": [
       "<matplotlib.figure.Figure at 0x7f902bb9c510>"
      ]
     },
     "metadata": {},
     "output_type": "display_data"
    }
   ],
   "source": [
    "def D(y,d):\n",
    "      y1=y[d,:]-y[d,:-1,None].mean(axis=0)\n",
    "      x2=y1\n",
    "      return x2\n",
    "i=0\n",
    "ls=['-','--','-.',':']\n",
    "depth_range=['5m','8m','50m','80m']\n",
    "mticks = np.roll(np.array(['J','F','M','A','M','J','J','A','S','O','N','D','J']),0)\n",
    "d1=[0,1,4,5]\n",
    "d2=[0,1,2,3]\n",
    "py.figure(figsize=(15,25))\n",
    "vb=np.arange(-0.050,0.055,0.005)\n",
    "vi=np.arange(-12,13,1)\n",
    "\n",
    "py.subplot(5,2,1)\n",
    "for d in d2:\n",
    "    py.plot(range(13),D(baro,d),'ro'+ls[d],label=depth_range[d])\n",
    "    py.xticks(range(13), (mticks),fontsize=15)\n",
    "    py.tick_params(labelsize=15,size=4,width=2)\n",
    "    py.legend(loc='best',fontsize=20,ncol=2)\n",
    "    py.ylim(-0.018,0.018)\n",
    "    py.title(\"surface baroclinicity = \"+r\"$Ri^{-\\frac{1}{2}}=\\frac{1}{N}\\frac{dU}{dz}$\",fontsize=22)\n",
    "py.subplot(5,2,2)\n",
    "for d in d1:\n",
    "    py.plot(range(13),D(Intensity_te,d),'ro'+ls[i],label=depth_range[i])\n",
    "    i=i+1\n",
    "    py.xticks(range(13), (mticks),fontsize=15)\n",
    "    py.legend(loc='best',fontsize=20,ncol=2)\n",
    "    py.tick_params(labelsize=15,size=4,width=2)\n",
    "    py.ylim(-7.0,7.0)\n",
    "    py.title(r\"$\\Delta I$\",fontsize=22)\n",
    "d=0\n",
    "py.subplot(5,2,3)\n",
    "l_range=((lat_a>=25) & (lat_a<=60))\n",
    "py.contourf(range(13), lat_a[l_range] ,fo_baro_a[d2[d],l_range,:]/(2*omega*np.sin(np.deg2rad(lat_a[l_range,None]))),vb,cmap=BuRd)\n",
    "py.tick_params(labelsize=15,size=4,width=2)\n",
    "py.title(depth_range[d],fontsize=20)\n",
    "py.xticks(range(13), (mticks),fontsize=15)\n",
    "py.plot(range(13),zero_div_TE[d,:],'ro-')\n",
    "py.colorbar()\n",
    "\n",
    "py.subplot(5,2,4)\n",
    "l_range=((lat_a>=25) & (lat_a<=60))\n",
    "py.contourf(range(13), lat_a[l_range] ,TE_a[d1[d],l_range,:],vi, cmap=BuRd)\n",
    "py.tick_params(labelsize=15,size=4,width=2)\n",
    "py.title(depth_range[d],fontsize=20)\n",
    "py.xticks(range(13), (mticks),fontsize=15)\n",
    "py.plot(range(13),zero_div_TE[d,:],'ro-')\n",
    "py.colorbar()\n",
    "\n",
    "d=1\n",
    "py.subplot(5,2,5)\n",
    "l_range=((lat_a>=25) & (lat_a<=60))\n",
    "py.contourf(range(13), lat_a[l_range] ,fo_baro_a[d2[d],l_range,:]/(2*omega*np.sin(np.deg2rad(lat_a[l_range,None]))),vb,cmap=BuRd)\n",
    "py.tick_params(labelsize=15,size=4,width=2)\n",
    "py.title(depth_range[d],fontsize=20)\n",
    "py.xticks(range(13), (mticks),fontsize=15)\n",
    "py.plot(range(13),zero_div_TE[d,:],'ro-')\n",
    "py.colorbar()\n",
    "\n",
    "py.subplot(5,2,6)\n",
    "l_range=((lat_a>=25) & (lat_a<=60))\n",
    "py.contourf(range(13), lat_a[l_range] ,TE_a[d1[d],l_range,:],vi, cmap=BuRd)\n",
    "py.tick_params(labelsize=15,size=4,width=2)\n",
    "py.title(depth_range[d],fontsize=20)\n",
    "py.plot(range(13),zero_div_TE[d,:],'ro-')\n",
    "py.colorbar()\n",
    "\n",
    "d=2\n",
    "py.subplot(5,2,7)\n",
    "l_range=((lat_a>=25) & (lat_a<=60))\n",
    "py.contourf(range(13), lat_a[l_range] ,fo_baro_a[d2[d],l_range,:]/(2*omega*np.sin(np.deg2rad(lat_a[l_range,None]))),vb,cmap=BuRd)\n",
    "py.tick_params(labelsize=15,size=4,width=2)\n",
    "py.title(depth_range[d],fontsize=20)\n",
    "py.xticks(range(13), (mticks),fontsize=15)\n",
    "py.plot(range(13),zero_div_TE[d,:],'ro-')\n",
    "py.colorbar()\n",
    "\n",
    "py.subplot(5,2,8)\n",
    "l_range=((lat_a>=25) & (lat_a<=60))\n",
    "py.contourf(range(13), lat_a[l_range] ,TE_a[d1[d],l_range,:],vi, cmap=BuRd)\n",
    "py.tick_params(labelsize=15,size=4,width=2)\n",
    "py.title(depth_range[d],fontsize=20)\n",
    "py.xticks(range(13), (mticks),fontsize=15)\n",
    "py.plot(range(13),zero_div_TE[d,:],'ro-')\n",
    "py.colorbar()\n",
    "\n",
    "d=3\n",
    "py.subplot(5,2,9)\n",
    "l_range=((lat_a>=25) & (lat_a<=60))\n",
    "py.contourf(range(13), lat_a[l_range] ,fo_baro_a[d2[d],l_range,:]/(2*omega*np.sin(np.deg2rad(lat_a[l_range,None]))),vb,cmap=BuRd)\n",
    "py.tick_params(labelsize=15,size=4,width=2)\n",
    "py.title(depth_range[d],fontsize=20)\n",
    "py.xticks(range(13), (mticks),fontsize=15)\n",
    "py.plot(range(13),zero_div_TE[d,:],'ro-')\n",
    "py.colorbar()\n",
    "\n",
    "py.subplot(5,2,10)\n",
    "l_range=((lat_a>=25) & (lat_a<=60))\n",
    "py.contourf(range(13), lat_a[l_range] ,TE_a[d1[d],l_range,:],vi, cmap=BuRd)\n",
    "py.tick_params(labelsize=15,size=4,width=2)\n",
    "py.title(depth_range[d],fontsize=20)\n",
    "py.xticks(range(13), (mticks),fontsize=15)\n",
    "py.plot(range(13),zero_div_TE[d,:],'ro-')\n",
    "py.colorbar()"
   ]
  },
  {
   "cell_type": "code",
   "execution_count": null,
   "metadata": {},
   "outputs": [],
   "source": []
  },
  {
   "cell_type": "code",
   "execution_count": 137,
   "metadata": {},
   "outputs": [
    {
     "data": {
      "text/plain": [
       "[<matplotlib.lines.Line2D at 0x7f909f7b42d0>]"
      ]
     },
     "execution_count": 137,
     "metadata": {},
     "output_type": "execute_result"
    },
    {
     "data": {
      "image/png": "[encoded data removed]",
      "text/plain": [
       "<matplotlib.figure.Figure at 0x7f909f82fa50>"
      ]
     },
     "metadata": {},
     "output_type": "display_data"
    }
   ],
   "source": [
    "### radiation\n",
    "\n",
    "def plot_intensity(d,l,month_to_month=1):\n",
    "    \n",
    "    DEPTHS_title=[\"5m\",\"HC10 trop-50 extra-5\",\"HC20 trop-50 extra-5\",\"HC30 trop-50 extra-5\", \"50m\", \"HC10 trop-5 extra-50\",\"HC20 trop-5 extra-50\",\"HC30 trop-5 extra-50\"]\n",
    "     \n",
    "    py.rc('text', usetex=True)\n",
    "    py.rc('font', family='serif', serif='Palatino',weight='bold')\n",
    "    \n",
    "    mticks = ['J','F','M','A','M','J','J','A','S','O','N','D','J']\n",
    "    def D(y,d):\n",
    "        if month_to_month==1 :\n",
    "            y1=y#np.append(y,y[:,0,np.newaxis],axis=1)\n",
    "            x1=y1[d,1:]-y1[d,:-1]\n",
    "            x2=np.append(x1[-1],x1)\n",
    "            mticks = ['J-D','F-J','M-F','A-M','M-A','J-M','J-J','A-J','S-A','O-S','N-O','D-N','J-D']\n",
    "        else :\n",
    "            y1=y[d,:]-y[d,:-1,None].mean(axis=0)\n",
    "            x2=y1\n",
    "            mticks = ['J','F','M','A','M','J','J','A','S','O','N','D','J']\n",
    "        return x2\n",
    "    \n",
    "    if month_to_month==1 :\n",
    "        mticks = ['J-D','F-J','M-F','A-M','M-A','J-M','J-J','A-J','S-A','O-S','N-O','D-N','J-D']\n",
    "    else :\n",
    "        mticks = ['J','F','M','A','M','J','J','A','S','O','N','D','J']\n",
    "        \n",
    "           \n",
    "    py.plot(D(Intensity_te,d),'ro-',label=r'$\\Delta I$',lw=3.5)\n",
    "    py.plot(D(baro,d),'mo-',label=r'$\\Delta I_{NE}$',lw=3.5)   \n",
    "    py.plot(-D(Intensity_se,d),'bo-',label=r'$ - \\Delta I_{SE}$',lw=3.5)\n",
    "    py.plot(-D(Intensity_mm,d),'go-',label=r'$ - \\Delta I_{MM}$',lw=3.5)\n",
    "                                              \n",
    "    py.axhline(0, color='k',linewidth=1.5)\n",
    "    py.xlim(0,12)\n",
    "    py.ylim(-1*l,l)\n",
    "    py.ylabel(\"PW\", fontsize=40)\n",
    "    title=\"\"+\" \"+\" \"+str(depth)+\"m\"\n",
    "    title1=\"Intensity_decomposition_\"+\"_\"+str(depth)+\"m\"\n",
    "    py.title(str(DEPTHS_title[d]),fontsize=44,y=1.03)\n",
    "    py.xticks(range(13), mticks,size=37)\n",
    "    py.tick_params(labelsize=30,size=5,width=1)\n",
    "#     py.axhspan(-0.5, 0.5, facecolor='0.5', alpha=0.3)\n",
    "    if d==0:\n",
    "        py.legend(loc='best',fontsize=32,ncol=2,frameon=False)\n",
    "    #py.savefig(fig_dest+title1+'.pdf')\n",
    "    #print fig_dest+title1+'.pdf'\n",
    "\n",
    "    \n",
    "#     py.tight_layout()"
   ]
  },
  {
   "cell_type": "code",
   "execution_count": 124,
   "metadata": {},
   "outputs": [
    {
     "data": {
      "text/plain": [
       "(30, 80)"
      ]
     },
     "execution_count": 124,
     "metadata": {},
     "output_type": "execute_result"
    },
    {
     "data": {
      "image/png": "[encoded data removed]",
      "text/plain": [
       "<matplotlib.figure.Figure at 0x7f903383b3d0>"
      ]
     },
     "metadata": {},
     "output_type": "display_data"
    }
   ],
   "source": [
    "depthsp=[5, 8, 30, 50, 80]\n",
    "py.contourf(range(13), lat_a, fo_baro_a[0,...] );  py.colorbar()\n",
    "py.ylim(30,80)"
   ]
  },
  {
   "cell_type": "code",
   "execution_count": null,
   "metadata": {},
   "outputs": [],
   "source": []
  }
 ],
 "metadata": {
  "kernelspec": {
   "display_name": "Python 2",
   "language": "python",
   "name": "python2"
  },
  "language_info": {
   "codemirror_mode": {
    "name": "ipython",
    "version": 2
   },
   "file_extension": ".py",
   "mimetype": "text/x-python",
   "name": "python",
   "nbconvert_exporter": "python",
   "pygments_lexer": "ipython2",
   "version": "2.7.11"
  }
 },
 "nbformat": 4,
 "nbformat_minor": 2
}
