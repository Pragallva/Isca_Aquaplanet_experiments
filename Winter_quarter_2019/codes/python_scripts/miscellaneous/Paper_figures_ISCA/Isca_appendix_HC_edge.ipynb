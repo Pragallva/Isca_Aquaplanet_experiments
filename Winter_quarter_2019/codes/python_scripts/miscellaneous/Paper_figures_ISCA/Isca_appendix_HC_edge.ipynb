{
 "cells": [
  {
   "cell_type": "code",
   "execution_count": 1,
   "metadata": {
    "collapsed": false,
    "deletable": true,
    "editable": true
   },
   "outputs": [],
   "source": [
    "%matplotlib inline\n",
    "import matplotlib as mpl\n",
    "#mpl.use('Agg')\n",
    "import numpy as np\n",
    "import pylab as py\n",
    "#import Extract_ncfile_save_fluxes_radiation\n",
    "#import Reload_save_interpolated as svintp\n",
    "import matplotlib.cm as cm\n",
    "from reverse_cmap import rcmap\n",
    "import sys\n",
    "import os\n",
    "import errno\n",
    "import netCDF4 as nc\n",
    "\n",
    "BuRd = rcmap(cm.RdBu)\n",
    "\n",
    "import hickle as hkl\n",
    "\n",
    "## A function to save a dictionary ##\n",
    "def save(filename,dictionary):\n",
    "    hkl.dump(dictionary, filename, mode='w')\n",
    "\n",
    "## A function to load a dictionary ## \n",
    "def load(filename):\n",
    "    dictionary = hkl.load(filename)\n",
    "    return dictionary\n",
    "\n",
    "def make_sure_path_exists(path):\n",
    "    try:\n",
    "        os.makedirs(path)\n",
    "    except OSError as exception:\n",
    "        if exception.errno != errno.EEXIST:\n",
    "            raise\n",
    "\n",
    "            ####################\n",
    "#### smoothening ###\n",
    "####################\n",
    "\n",
    "def smooth(y, box_pts):\n",
    "    box = np.ones(box_pts)/box_pts\n",
    "    y_smooth = np.convolve(y, box, mode='same')\n",
    "    return y_smooth\n",
    "\n",
    "a=6371.0e3\n",
    "R=a\n",
    "\n",
    "ncfile='/project2/tas1/pragallva/Spring_quarter_2018/exp_data/aqua_isca5m/aqua_isca5m0.nc'\n",
    "v_var=nc.Dataset(ncfile,'r')\n",
    "sigma_full=v_var['pfull'][::-1]\n",
    "sigma_half=v_var['phalf'][::-1]\n",
    "lat_nc=v_var['lat']"
   ]
  },
  {
   "cell_type": "markdown",
   "metadata": {},
   "source": [
    "#### Load files"
   ]
  },
  {
   "cell_type": "code",
   "execution_count": 2,
   "metadata": {
    "collapsed": false,
    "deletable": true,
    "editable": true
   },
   "outputs": [],
   "source": [
    "import glob\n",
    "import numpy as np\n",
    "import scipy.io as sio\n",
    "import pylab as py\n",
    "from scipy import interpolate\n",
    "from scipy.interpolate import interp1d\n",
    "from scipy import stats\n",
    "\n",
    "#### Invoke all the files\n",
    "\n",
    "m50      =(glob.glob('/project2/tas1/pragallva/Fall_quarter_2018/post_process_data/HC0_la5m_oc5m/*.hkl'))\n",
    "m5       =(glob.glob('/project2/tas1/pragallva/Fall_quarter_2018/post_process_data/HC0_la50m_oc50m/*.hkl'))\n",
    "HC10_50_5=(glob.glob('/project2/tas1/pragallva/Fall_quarter_2018/post_process_data/HC10_la50m_oc5m/*.hkl'))\n",
    "HC20_50_5=(glob.glob('/project2/tas1/pragallva/Fall_quarter_2018/post_process_data/HC20_la50m_oc5m/*.hkl'))\n",
    "HC30_50_5=(glob.glob('/project2/tas1/pragallva/Fall_quarter_2018/post_process_data/HC30_la50m_oc5m/*.hkl'))\n",
    "\n",
    "HC10_5_50=(glob.glob('/project2/tas1/pragallva/Fall_quarter_2018/post_process_data/HC10_la5m_oc50m/*.hkl'))\n",
    "HC20_5_50=(glob.glob('/project2/tas1/pragallva/Fall_quarter_2018/post_process_data/HC20_la5m_oc50m/*.hkl'))\n",
    "HC30_5_50=(glob.glob('/project2/tas1/pragallva/Fall_quarter_2018/post_process_data/HC30_la5m_oc50m/*.hkl'))\n"
   ]
  },
  {
   "cell_type": "markdown",
   "metadata": {},
   "source": [
    "#### Combine all depths"
   ]
  },
  {
   "cell_type": "code",
   "execution_count": 3,
   "metadata": {
    "collapsed": false,
    "deletable": true,
    "editable": true
   },
   "outputs": [],
   "source": [
    "DEPTHS       =[m50, HC10_50_5,HC20_50_5, HC30_50_5, m5, HC10_5_50, HC20_5_50, HC30_5_50]\n",
    "depth_values =[50,  1050,     2050,      3050,      5,  105,       205,       305,     ]\n",
    "depth_title  =['50m',  'HCe10d5m', 'HCe20d5m', 'HCe30d5m', '5m', \"HCe10d50m\", 'HCe20d50m', 'HCe30d50m']\n",
    "\n",
    "flux=[]\n",
    "flux_vert=[]\n",
    "div=[]\n",
    "div_vert=[]\n",
    "eke=[]\n",
    "raw=[]\n",
    "tsurf=[]\n",
    "mmc_decomp=[]\n",
    "mmc_decomp_vert=[]\n",
    "c=5\n",
    "coord=load(HC10_50_5[c])\n",
    "for depth in DEPTHS:\n",
    "    f=0; e=1; mmcv=2; r=3; fv=4; c=5; d=6; dv=7; mmc=8;\n",
    "    raw.append(load(depth[r]))\n",
    "    mmc_decomp.append(load(depth[mmc]))\n",
    "    flux.append(load(depth[f]))\n",
    "    flux_vert.append(load(depth[fv]))\n",
    "    div.append(load(depth[d])) \n",
    "    div_vert.append(load(depth[dv]))\n",
    "    eke.append(load(depth[e]))\n",
    "    mmc_decomp.append(load(depth[mmc]))\n",
    "    mmc_decomp_vert.append(load(depth[mmcv]))\n",
    "    mmc_decomp.append(load(depth[mmc]))\n",
    "        "
   ]
  },
  {
   "cell_type": "markdown",
   "metadata": {},
   "source": [
    "#### Load all net energy terms in PW"
   ]
  },
  {
   "cell_type": "code",
   "execution_count": 4,
   "metadata": {
    "collapsed": false,
    "deletable": true,
    "editable": true
   },
   "outputs": [],
   "source": [
    "lat=div[0]['latn']\n",
    "def M(X):\n",
    "    #X=X-X.mean(axis=0)[None,:]\n",
    "    return X\n",
    "Iswabs=[]; Ishf=[]; Idhdt=[]; Iolr=[]; Ine=[];\n",
    "ISW_sfc=[]; ISW_toa=[]; ILW_sfc=[]; Ishflx=[]; Ilhflx=[]; ISFC=[]; ITOA=[]; TS=[]\n",
    "for depth in range(len(DEPTHS)):\n",
    "    Iswabs.append(M(flux[depth]['SWABS']))\n",
    "    Ishf.append(M(flux[depth]['SHF']))\n",
    "    Idhdt.append(M(flux[depth]['dhdt']))\n",
    "    Iolr.append(M(flux[depth]['olr']))\n",
    "    ISW_sfc.append(-1*M(flux[depth]['SW_sfc_d'])) ## up\n",
    "    ILW_sfc.append(M(-1*flux[depth]['LW_sfc_d'])) ## up\n",
    "    ISW_toa.append(M(flux[depth]['SW_toa_d']))    ## dn\n",
    "    Ishflx.append(M(flux[depth]['shflx_u']))      ## up\n",
    "    Ilhflx.append(M(flux[depth]['lhflx_u']))      ## up    \n",
    "    ISFC.append(M(flux[depth]['SFC_u']))\n",
    "    ITOA.append(M(flux[depth]['TOA_d']))    \n",
    "    Ine.append(Iswabs[depth]+Ishf[depth]-Iolr[depth]-Idhdt[depth])"
   ]
  },
  {
   "cell_type": "markdown",
   "metadata": {},
   "source": [
    "#### Load all MSE transport in PW"
   ]
  },
  {
   "cell_type": "code",
   "execution_count": 5,
   "metadata": {
    "collapsed": false,
    "deletable": true,
    "editable": true
   },
   "outputs": [],
   "source": [
    "TE=[]; MM=[]; SE=[]; INE=[]; EKE_vert=[]; EMF_vert=[]; TEv=[]; MMv=[]; SEv=[]; NEv=[]\n",
    "for depth in range(len(DEPTHS)):\n",
    "    TE.append(M(flux[depth]['TE']))\n",
    "    SE.append(M(flux[depth]['SE']))\n",
    "    MM.append(M(flux[depth]['MM']))\n",
    "    INE.append(TE[depth]+SE[depth]+MM[depth])\n",
    "    MMv.append(M(flux_vert[depth]['MM']))\n",
    "    SEv.append(M(flux_vert[depth]['SE']))\n",
    "    TEv.append(M(flux_vert[depth]['TE']))\n",
    "    NEv.append(M(flux_vert[depth]['NE']))\n",
    "    if (depth < len(DEPTHS)-1) :\n",
    "        EKE_vert.append(eke[depth]['EKE_vert'])\n",
    "        EMF_vert.append(eke[depth]['EMF_vert'])"
   ]
  },
  {
   "cell_type": "markdown",
   "metadata": {},
   "source": [
    "#### Load all raw data"
   ]
  },
  {
   "cell_type": "code",
   "execution_count": 6,
   "metadata": {},
   "outputs": [],
   "source": [
    "Cp=1000; L=2260*1000; g=10\n",
    "Z=[]; q=[]; U=[]; T=[]; V=[]; MSE=[];\n",
    "for depth in range(len(DEPTHS)):\n",
    "    Z.append(M(raw[depth]['Z']))\n",
    "    q.append(M(raw[depth]['q']))\n",
    "    U.append(M(raw[depth]['U']))\n",
    "    T.append(M(raw[depth]['T']))\n",
    "    MSE.append(M(raw[depth]['MSE']))"
   ]
  },
  {
   "cell_type": "markdown",
   "metadata": {},
   "source": [
    "#### Integrate function"
   ]
  },
  {
   "cell_type": "code",
   "execution_count": 7,
   "metadata": {
    "collapsed": true,
    "deletable": true,
    "editable": true
   },
   "outputs": [],
   "source": [
    "import scipy.integrate as integrate\n",
    "def interad(x):\n",
    "    l=np.deg2rad(lat[:,None])\n",
    "    x=x*np.cos(l)\n",
    "    #int_x  =integrate.cumtrapz(x[::-1,:],l[::-1],axis=0,initial=None) #  (This is basically integration from - 90 deg)\n",
    "    int_x_r=integrate.cumtrapz(x        ,l      ,axis=0,initial=None) #  (This is basically integration from + 90 deg) \n",
    "    avg_int_r=2*np.pi*a**2*(int_x_r[:])#int_x_r[:-1,:]) #int_x[::-1,:][1:,:]+\n",
    "    return avg_int_r/10**15"
   ]
  },
  {
   "cell_type": "markdown",
   "metadata": {},
   "source": [
    "#### Load terms in $Wm^{-2}$"
   ]
  },
  {
   "cell_type": "code",
   "execution_count": 8,
   "metadata": {
    "collapsed": false,
    "deletable": true,
    "editable": true
   },
   "outputs": [],
   "source": [
    "div_TE=[]; div_MM=[]; div_SE=[]; div_NE=[]; div_TEv=[]; div_MMv=[]; div_SEv=[]; div_NEv=[]\n",
    "swabs=[]; shf=[]; olr=[];dhdt=[];ne=[];\n",
    "SW_sfc=[]; SW_toa=[]; LW_sfc=[]; shflx=[]; lhflx=[]; sfc=[]; toa=[]\n",
    "\n",
    "for depth in range(len(DEPTHS)):\n",
    "    div_TE.append(div[depth]['TE'])\n",
    "    div_SE.append(div[depth]['SE'])\n",
    "    div_MM.append(div[depth]['MM'])\n",
    "    div_NE.append(div_TE[depth]+div_SE[depth]+div_MM[depth])\n",
    "        \n",
    "    div_TEv.append(div_vert[depth]['TE'])\n",
    "    div_SEv.append(div_vert[depth]['SE'])\n",
    "    div_MMv.append(div_vert[depth]['MM'])\n",
    "    div_NEv.append(div_vert[depth]['NE'])\n",
    "    \n",
    "    swabs.append(div[depth]['SWABS'])\n",
    "    shf.append(div[depth]['SHF'])\n",
    "    dhdt.append(div[depth]['dhdt'])\n",
    "    olr.append(div[depth]['olr'])\n",
    "    ne.append(swabs[depth]+shf[depth]-olr[depth]-dhdt[depth])\n",
    "    \n",
    "    SW_sfc.append(-1*div[depth]['SW_sfc_d'])\n",
    "    LW_sfc.append(-1*div[depth]['LW_sfc_d'])\n",
    "    SW_toa.append(div[depth]['SW_toa_d'])\n",
    "    shflx.append(div[depth]['shflx_u'])\n",
    "    lhflx.append(div[depth]['lhflx_u'])\n",
    "    sfc.append(div[depth]['SFC_u'])\n",
    "    toa.append(div[depth]['TOA_d'])\n",
    "    "
   ]
  },
  {
   "cell_type": "markdown",
   "metadata": {
    "deletable": true,
    "editable": true
   },
   "source": [
    "# Average Northern and Southern Hemispheres"
   ]
  },
  {
   "cell_type": "code",
   "execution_count": 9,
   "metadata": {
    "collapsed": false,
    "deletable": true,
    "editable": true
   },
   "outputs": [],
   "source": [
    "TE=np.array(TE); SE=np.array(SE); MM=np.array(MM); NE=np.array(INE); EKE_vert=np.array(EKE_vert); EMF_vert=np.array(EMF_vert)\n",
    "Iswabs=np.array(Iswabs); Ishf=np.array(Ishf); Ine=np.array(Ine); Iolr=np.array(Iolr); Idhdt=np.array(Idhdt);\n",
    "ISW_sfc=np.array(ISW_sfc); ILW_sfc=np.array(ILW_sfc); ISW_toa=np.array(ISW_toa); Ishflx=np.array(Ishflx); Ilhflx=np.array(Ilhflx);\n",
    "ISFC=np.array(ISFC); ITOA=np.array(ITOA); TS=np.array(TS)\n",
    "TEv=np.array(TEv); SEv=np.array(SEv); MMv=np.array(MMv); NEv=np.array(NEv)\n",
    "div_TEv=np.array(div_TEv); div_SEv=np.array(div_SEv); div_MMv=np.array(div_MMv); div_NEv=np.array(div_NEv)\n",
    "Z=np.array(Z); q=np.array(q); U=np.array(U); T=np.array(T); V=np.array(V); MSE=np.array(MSE);\n",
    "\n"
   ]
  },
  {
   "cell_type": "code",
   "execution_count": 10,
   "metadata": {
    "collapsed": false,
    "deletable": true,
    "editable": true
   },
   "outputs": [],
   "source": [
    "def N_S_avg(TE, SE, MM, NE, temp, lat, flux_flag=-1):\n",
    "    l_N=((lat>-0.1) & (lat<=90))            \n",
    "    l_S=((lat>=-90) & (lat<=0))\n",
    "    \n",
    "    avg = lambda x: (x[:,l_N,...]+flux_flag*np.roll(x[:,l_S,...][:,::-1,...], 6, axis=-1))/2.0\n",
    "    \n",
    "    TE1= avg(TE)\n",
    "    SE1= avg(SE)\n",
    "    NE1= avg(NE)\n",
    "    MM1= avg(MM)\n",
    "    temp= avg(temp)\n",
    "    \n",
    "    a= lambda x: np.append(x,x[...,0,None],axis=-1)\n",
    "    \n",
    "    return a(TE1), a(SE1), a(MM1), a(NE1), a(temp), lat[l_N]"
   ]
  },
  {
   "cell_type": "code",
   "execution_count": 11,
   "metadata": {
    "collapsed": false,
    "deletable": true,
    "editable": true
   },
   "outputs": [],
   "source": [
    "TE_a   ,SE_a     , MM_a  , NE_a  , EMF_vert_a,   lat_a  = N_S_avg(TE, SE, MM, NE, EMF_vert, lat)\n",
    "Iswabs_a,Ishf_a  , Ine_a , Iolr_a, Idhdt_a, latr_a = N_S_avg( Iswabs,Ishf,Ine,Iolr,Idhdt, lat[1:-1] )\n",
    "ISW_sfc_a, ILW_sfc_a  , ISW_toa_a , Ishflx_a, Ilhflx_a, latr_a = N_S_avg( ISW_sfc,ILW_sfc,ISW_toa, Ishflx, Ilhflx, lat[1:-1] )\n",
    "ISFC_a = N_S_avg( ISFC,ISFC,ISFC,ISFC,ISFC, lat[1:-1] )[0]\n",
    "ITOA_a = N_S_avg( ITOA,ITOA,ITOA,ITOA,ITOA, lat[1:-1] )[0]\n",
    "EKE_vert_a  = N_S_avg( EKE_vert  ,EKE_vert,EKE_vert ,EKE_vert ,EKE_vert , lat, flux_flag=1 )[0]\n",
    "\n",
    "TEv_a  ,SEv_a    , MMv_a  , NEv_a    ,ignore,  lat_a = N_S_avg(TEv, SEv, MMv, NEv,NEv, lat)\n",
    "CpTv_a  ,gZv_a    , Lqv_a  , MSEv_a    ,ignore,  lat_a = N_S_avg(Cp*T, g*Z, L*q, Cp*T+g*Z+L*q,Cp*T, lat, 1)\n"
   ]
  },
  {
   "cell_type": "code",
   "execution_count": 12,
   "metadata": {},
   "outputs": [],
   "source": [
    "dtheta=np.radians(lat_a[1]-lat_a[0])\n",
    "\n",
    "def spher_div_vert(x):\n",
    "       N=50\n",
    "       fac=1 #np.cos(np.radians(lat))\n",
    "       div=np.copy(x)\n",
    "       for d in range(len(DEPTHS)):\n",
    "        for p in range(len(sigma_full)):\n",
    "          for m in range(13):\n",
    "            div[d,:,p,m]= smooth( np.gradient((x[d,:,p,m])*(fac)/R,dtheta),N)\n",
    "       return div\n",
    "\n",
    "\n",
    "div_CpT=spher_div_vert(CpTv_a)\n",
    "div_gZ=spher_div_vert(gZv_a)\n",
    "div_Lq=spher_div_vert(Lqv_a)\n",
    "div_MSE=spher_div_vert(MSEv_a)\n",
    "\n",
    "# div_TEv_a, div_SEv_a, div_MMv_a, div_NEv_a,ignore,lat_a = N_S_avg(div_TEv, div_SEv, div_MMv, div_NEv,div_NEv, lat,flux_flag=1)"
   ]
  },
  {
   "cell_type": "markdown",
   "metadata": {},
   "source": [
    "#### Calculate divergence"
   ]
  },
  {
   "cell_type": "code",
   "execution_count": 13,
   "metadata": {
    "collapsed": false,
    "deletable": true,
    "editable": true
   },
   "outputs": [],
   "source": [
    "dtheta=np.radians(lat_a[1]-lat_a[0])\n",
    "\n",
    "def spher_div(x,fac=1):\n",
    "       N=100\n",
    "#        fac=1 #np.cos(np.radians(lat))\n",
    "       div=np.copy(x)\n",
    "       for d in range(x.shape[0]):\n",
    "        for m in range(13):\n",
    "           div[d,:,m]= smooth( np.gradient((x[d,:,m])*(fac),dtheta)/( 2*np.pi*R**2*np.cos(np.radians(lat_a[:])) ),N)\n",
    "       return div\n",
    "\n",
    "\n",
    "div_TE_a=spher_div(TE_a*10**15)\n",
    "div_SE_a=spher_div(SE_a*10**15)\n",
    "div_MM_a=spher_div(MM_a*10**15)\n",
    "div_NE_a=div_TE_a+div_SE_a+div_MM_a\n",
    "div_EMF_vert_a=spher_div(EMF_vert_a*10**10, np.cos(np.radians(lat_a)) )"
   ]
  },
  {
   "cell_type": "markdown",
   "metadata": {},
   "source": [
    "#### Find the storm track position"
   ]
  },
  {
   "cell_type": "code",
   "execution_count": 14,
   "metadata": {
    "collapsed": false,
    "deletable": true,
    "editable": true
   },
   "outputs": [],
   "source": [
    "lat=div[0]['latn']\n",
    "\n",
    "from scipy.interpolate import interp1d\n",
    "\n",
    "def find_zero(div):\n",
    "  zero_loc = np.zeros((len(DEPTHS),13))\n",
    "  for d in range(0,len(DEPTHS)):\n",
    "      for m in range(0,13):           \n",
    "            l_range=((lat_a>=30) & (lat_a<=60))                \n",
    "            interpolation_function = interp1d(div[d,l_range,m],lat_a[l_range],kind='linear')\n",
    "            try :\n",
    "                zero_loc[d,m]=interpolation_function(0)\n",
    "            except ValueError as err:\n",
    "                zero_loc[d,m]=np.nan        \n",
    "  return zero_loc\n",
    "\n",
    "storm_pos=find_zero(div_TE_a)"
   ]
  },
  {
   "cell_type": "code",
   "execution_count": 15,
   "metadata": {},
   "outputs": [],
   "source": [
    "# pick the storm track position and identify the index\n",
    "from scipy.interpolate import interp1d\n",
    "def inerp_at_max(flux,lat):\n",
    "  D = np.zeros((len(DEPTHS),13))\n",
    "  for d in range(0,len(DEPTHS)):\n",
    "    for m in range(0,13):\n",
    "        l_range=((lat>=30) & (lat<=60)) \n",
    "        X= storm_pos\n",
    "        interpolation_function = interp1d(lat[l_range],flux[d,l_range,m],kind='cubic')\n",
    "        try :\n",
    "            D[d,m]=interpolation_function(X[d,m])\n",
    "        except ValueError as err:\n",
    "            D[d,m]==np.nan        \n",
    "  return D\n",
    "\n",
    "Intensity_te=inerp_at_max(TE_a,lat_a)\n",
    "Intensity_se=inerp_at_max(SE_a,lat_a)\n",
    "Intensity_mm=inerp_at_max(MM_a,lat_a)\n",
    "Intensity_ne=inerp_at_max(NE_a,lat_a)\n",
    "\n",
    "I_SWAB =inerp_at_max(Iswabs_a,latr_a)\n",
    "I_SHF  =inerp_at_max(Ishf_a,latr_a)\n",
    "I_NE   =inerp_at_max(Ine_a,latr_a)\n",
    "I_OLR  =inerp_at_max(Iolr_a,latr_a)\n",
    "I_dhdt =inerp_at_max(Idhdt_a,latr_a)\n",
    "\n",
    "I_SWsfc = inerp_at_max(ISW_sfc_a,latr_a)\n",
    "I_LWsfc = inerp_at_max(ILW_sfc_a,latr_a)\n",
    "I_SWtoa = inerp_at_max(ISW_toa_a,latr_a)\n",
    "I_shflx = inerp_at_max(Ishflx_a,latr_a)\n",
    "I_lhflx = inerp_at_max(Ilhflx_a,latr_a)\n",
    "\n",
    "I_SFC = inerp_at_max(ISFC_a,latr_a)\n",
    "I_TOA = inerp_at_max(ITOA_a,latr_a)"
   ]
  },
  {
   "cell_type": "markdown",
   "metadata": {},
   "source": [
    "# Shift decompose"
   ]
  },
  {
   "cell_type": "code",
   "execution_count": 16,
   "metadata": {},
   "outputs": [],
   "source": [
    "import numpy as np\n",
    "def calculate_shift_just_by_adding_individual_flux_divergences(month_to_month=1):\n",
    "    \n",
    "    div_TE_a=spher_div(TE_a*10**15)\n",
    "    div_SE_a=spher_div(SE_a*10**15)\n",
    "    div_MM_a=spher_div(MM_a*10**15)\n",
    "    div_NE_a=div_TE_a+div_SE_a+div_MM_a\n",
    "    \n",
    "    se=np.array(div_SE_a); te=np.array(div_TE_a); mm=np.array(div_MM_a); ne=np.array(div_NE_a)\n",
    "    \n",
    "    def diff(x):\n",
    "        return x[:,:,1:]-x[:,:,:-1] \n",
    "    base_pos=te[...,:-1]\n",
    "    \n",
    "    if month_to_month==0 :\n",
    "      def diff(x):\n",
    "         return x[:,:,1:]-x[...,1:,None].mean(axis=2)    \n",
    "      base_pos=te[...,1:,None].mean(axis=2)\n",
    "        \n",
    "    TE_change=base_pos+diff(te)\n",
    "    NE_change=base_pos+diff(ne)\n",
    "    SE_change=base_pos-diff(se)\n",
    "    MM_change=base_pos-diff(mm)\n",
    "    \n",
    "    a = lambda x: np.append(x[:,:,-1,None],x,axis=-1)\n",
    "    \n",
    "    return a(SE_change), a(MM_change), a(TE_change), a(NE_change)\n",
    "\n",
    "SE_change, MM_change, TE_change, NE_change = calculate_shift_just_by_adding_individual_flux_divergences(month_to_month=0)"
   ]
  },
  {
   "cell_type": "code",
   "execution_count": 17,
   "metadata": {},
   "outputs": [],
   "source": [
    "def find_zero(div,lower_limit=30,specific_month=-1):\n",
    "  depths=div.shape[0];\n",
    "  months=div.shape[-1];\n",
    "  zero_loc = np.zeros((depths,months))\n",
    "  for d in range(0,depths):\n",
    "      for m in range(0,months):\n",
    "            l_range=((lat_a>=30) & (lat_a<=60))   \n",
    "            if m==specific_month:\n",
    "                l_range=((lat_a>=lower_limit) & (lat_a<=60))\n",
    "            interpolation_function = interp1d(div[d,l_range,m],lat_a[l_range],kind='linear')\n",
    "            try :\n",
    "                zero_loc[d,m]=interpolation_function(-1.0)\n",
    "            except ValueError as err:\n",
    "                zero_loc[d,m]=np.nan        \n",
    "  return zero_loc"
   ]
  },
  {
   "cell_type": "code",
   "execution_count": 18,
   "metadata": {},
   "outputs": [],
   "source": [
    "def threshold(I,value, pos1, pos2, pos3, pos4):\n",
    "      for d in range(len(DEPTHS)):  \n",
    "        for m in range(13):\n",
    "            if (np.abs(I[d,m])<value) :\n",
    "                #N[d,m]=np.nan\n",
    "                pos1[d,m]=np.nan\n",
    "                pos2[d,m]=np.nan\n",
    "                pos3[d,m]=np.nan\n",
    "                pos4[d,m]=np.nan                \n",
    "      return pos1, pos2, pos3, pos4\n",
    "zero_div_TE, zero_div_SE, zero_div_MM, zero_div_NE = threshold(Intensity_te, 0.0, find_zero(TE_change), find_zero(SE_change), find_zero(MM_change), find_zero(NE_change))"
   ]
  },
  {
   "cell_type": "code",
   "execution_count": 19,
   "metadata": {
    "collapsed": false,
    "deletable": true,
    "editable": true
   },
   "outputs": [],
   "source": [
    "def plot_flux(d,threshold_value) :\n",
    "    \n",
    "    n=d+1\n",
    "    pos=storm_pos\n",
    "    \n",
    "    mticks = np.roll(np.array(['J','F','M','A','M','J','J','A','S','O','N','D','J']),0)\n",
    "    def add(y):\n",
    "       y1 = y#np.append(y,y[:,0,np.newaxis],axis=1)\n",
    "       y= np.roll(y,0,axis=-1)  \n",
    "       return y\n",
    "    \n",
    "    def a(y):\n",
    "       y1 = y#np.append(y,y[0])\n",
    "       return y1 \n",
    "    \n",
    "    v = np.arange(-12.0, 13.0, threshold_value)\n",
    "    latns=lat\n",
    "\n",
    "    py.subplot(3,4,n)\n",
    "    b = py.contourf(range(13),lat_a,add(TE_a[d,...]), v, cmap=BuRd); \n",
    "    c=py.contour(range(13),lat_a, add(TE_a[d,...]), v, colors='k',linewidths=1.0);    \n",
    "    py.plot(range(13), np.roll((pos[d,:]),0), 'ro-')\n",
    "    py.clabel(c,  inline=1,fmt = '%1.1f',inline_spacing=40, fontsize=15)\n",
    "    \n",
    "    py.xticks(range(13), (mticks),fontsize=15)\n",
    "    py.yticks(range(-0,81,20),fontsize=15)\n",
    "    py.tick_params(labelsize=18,size=4,width=2)\n",
    "    py.title(str(depth_values[d])+' m',fontsize=30)\n",
    "    py.subplots_adjust(left=0.12, right=0.88, top=0.88, bottom=0.10, wspace=0.15, hspace=0.3)\n",
    "    py.ylim(0,80)"
   ]
  },
  {
   "cell_type": "code",
   "execution_count": 20,
   "metadata": {
    "collapsed": false,
    "deletable": true,
    "editable": true
   },
   "outputs": [],
   "source": [
    "# fig=py.figure(figsize=(20, 10))\n",
    "# for d in range(len(DEPTHS)):\n",
    "#     plot_flux(d,1.0)"
   ]
  },
  {
   "cell_type": "markdown",
   "metadata": {},
   "source": [
    "# Decompose Net energy in Watts/m^2"
   ]
  },
  {
   "cell_type": "code",
   "execution_count": 21,
   "metadata": {},
   "outputs": [],
   "source": [
    "swabs=np.array(swabs); shf=np.array(shf); ne=np.array(ne); olr=np.array(olr); dhdt=np.array(dhdt);\n",
    "SW_sfc=np.array(SW_sfc); LW_sfc=np.array(LW_sfc); SW_toa=np.array(SW_toa); shflx=np.array(shflx); lhflx=np.array(lhflx);\n",
    "sfc=np.array(sfc); toa=np.array(toa); "
   ]
  },
  {
   "cell_type": "code",
   "execution_count": 22,
   "metadata": {},
   "outputs": [],
   "source": [
    "SWABS_a, SHF_a  , NE_a , OLR_a, dhdt_a, lat_a = N_S_avg( swabs,shf, ne ,olr, dhdt, lat, flux_flag=1)\n",
    "SW_toa_a, SW_sfc_a  , shflx_a , lhflx_a, LW_sfc_a, lat_a = N_S_avg( SW_toa, SW_sfc, shflx, lhflx, LW_sfc, lat,flux_flag=1)#\n",
    "sfc_a, toa_a = N_S_avg( sfc, toa, shflx, lhflx, LW_sfc, lat,flux_flag=1)[0:2]"
   ]
  },
  {
   "cell_type": "code",
   "execution_count": 23,
   "metadata": {},
   "outputs": [],
   "source": [
    "def inerp_at_mean(flux,lat):\n",
    "  D = np.zeros(((len(DEPTHS),13)))\n",
    "  for d in range(0,(len(DEPTHS))):\n",
    "    for m in range(0,13):\n",
    "        l_range=((lat>=30) & (lat<=60)) \n",
    "        X=np.nanmean(zero_div_TE[d,:-1])\n",
    "        interpolation_function = interp1d(lat[l_range],flux[d,l_range,m],kind='cubic')\n",
    "        try :\n",
    "            D[d,m]=interpolation_function(X)\n",
    "        except ValueError as err:\n",
    "            D[d,m]==np.nan        \n",
    "  return D"
   ]
  },
  {
   "cell_type": "code",
   "execution_count": 24,
   "metadata": {},
   "outputs": [],
   "source": [
    "P_div_TE =inerp_at_mean(div_TE_a,lat_a)\n",
    "P_div_SE =inerp_at_mean(div_SE_a,lat_a)\n",
    "P_div_NE =inerp_at_mean(div_NE_a,lat_a)\n",
    "P_div_MM =inerp_at_mean(div_MM_a,lat_a)"
   ]
  },
  {
   "cell_type": "code",
   "execution_count": 25,
   "metadata": {},
   "outputs": [],
   "source": [
    "P_SWAB =inerp_at_max(SWABS_a,lat_a)\n",
    "P_SHF  =inerp_at_max(SHF_a,lat_a)\n",
    "P_NE   =inerp_at_max(NE_a,lat_a)\n",
    "P_OLR  =inerp_at_max(OLR_a,lat_a)\n",
    "P_dhdt =inerp_at_max(dhdt_a,lat_a)\n",
    "\n",
    "P_SWsfc = inerp_at_max(SW_sfc_a,lat_a)\n",
    "P_LWsfc = inerp_at_max(LW_sfc_a,lat_a)\n",
    "P_SWtoa = inerp_at_max(SW_toa_a,lat_a)\n",
    "P_shflx = inerp_at_max(shflx_a,lat_a)\n",
    "P_lhflx = inerp_at_max(lhflx_a,lat_a)\n",
    "\n",
    "P_sfc = inerp_at_max(sfc_a,lat_a)\n",
    "P_toa = inerp_at_max(toa_a,lat_a)"
   ]
  },
  {
   "cell_type": "code",
   "execution_count": null,
   "metadata": {},
   "outputs": [],
   "source": []
  },
  {
   "cell_type": "code",
   "execution_count": null,
   "metadata": {},
   "outputs": [],
   "source": []
  },
  {
   "cell_type": "markdown",
   "metadata": {},
   "source": [
    "# First figure"
   ]
  },
  {
   "cell_type": "code",
   "execution_count": 34,
   "metadata": {},
   "outputs": [],
   "source": [
    "def compare_plot(de1,de2,X,c,T,month_to_month=1,l=3,d=0):\n",
    "    \n",
    "    de_values=np.array(depth_values)\n",
    "    d1=np.squeeze(np.where((de_values)==de1))\n",
    "    d2=np.squeeze(np.where((de_values)==de2))\n",
    "    depth_title  =['50m',  'HCe10d5m', 'HCe20d5m', 'HCe30d5m', '5m', \"HCe10d50m\", 'HCe20d50m', 'HCe30d50m']\n",
    "    \n",
    "    py.rc('text', usetex=True)\n",
    "    py.rc('font', family='serif', serif='Palatino',weight='bold')\n",
    "    \n",
    "    def D(y):\n",
    "        if month_to_month==1 :\n",
    "            x1=y[1:]-y[:-1]\n",
    "            x2=np.append(x1[-1],x1)\n",
    "        else :\n",
    "            y1=y[:]-y[:-1,None].mean(axis=0)\n",
    "            x2=y1\n",
    "        return x2\n",
    "    \n",
    "    if month_to_month==1 :\n",
    "        mticks = ['J-D','F-J','M-F','A-M','M-A','J-M','J-J','A-J','S-A','O-S','N-O','D-N','J-D']\n",
    "    else :\n",
    "        mticks = ['J','F','M','A','M','J','J','A','S','O','N','D','J']\n",
    "        \n",
    "        \n",
    "    py.plot(range(13),D(X[d1,:]),c+'o-'   ,label=(depth_title[d1]),lw=3.5)             \n",
    "    py.plot(range(13),D(X[d2,:]),c+'o--'  ,label=(depth_title[d2]),lw=3.5)\n",
    "       \n",
    "    py.tick_params(labelsize=18,size=4,width=2)\n",
    "    py.ylabel('PW',fontsize=35)\n",
    "    #if n==1:\n",
    "    py.legend(loc='best',fontsize=32,ncol=1,frameon=False)    \n",
    "    py.axhline(0,color='k')\n",
    "    py.ylim(-1*l,1*l)\n",
    "    py.title(T,fontsize=40)\n",
    "    py.xticks(range(13), mticks,size=37)\n",
    "    py.yticks(np.arange(-6,6+2,2),size=37)\n",
    "    py.tick_params(labelsize=30,size=5,width=1)\n",
    "    py.xlim(0,12)\n",
    "    py.subplots_adjust(left=0.12, right=0.88, top=0.88, bottom=0.10, wspace=0.40, hspace=0.3)\n",
    "    py.tight_layout()\n"
   ]
  },
  {
   "cell_type": "code",
   "execution_count": 36,
   "metadata": {},
   "outputs": [
    {
     "data": {
      "image/png": "[encoded data removed]",
      "text/plain": [
       "<matplotlib.figure.Figure at 0x7fa12e6bec90>"
      ]
     },
     "metadata": {},
     "output_type": "display_data"
    }
   ],
   "source": [
    "py.figure(figsize=(20,14))\n",
    "\n",
    "py.rc('text', usetex=True)\n",
    "py.rc('font', family='serif', serif='Palatino',weight='bold')\n",
    "\n",
    "py.subplot(2,2,1)\n",
    "compare_plot(50,2050,Intensity_te,'r',r'$\\Delta I$',month_to_month=0,l=7)\n",
    "py.subplot(2,2,3)\n",
    "compare_plot(50,2050,-Intensity_mm,'g',r'$\\Delta I_{MM}$',month_to_month=0,l=7)\n",
    "py.subplot(2,2,2)\n",
    "compare_plot(5,205,Intensity_te,'r',r'$\\Delta I$',month_to_month=0,l=7)\n",
    "py.subplot(2,2,4)\n",
    "compare_plot(5,205,-Intensity_mm,'g',r'$\\Delta I_{MM}$',month_to_month=0,l=7)\n",
    "py.tight_layout()\n",
    "\n",
    "py.savefig('Jan7/Appendix_HC_edge.pdf')"
   ]
  },
  {
   "cell_type": "code",
   "execution_count": null,
   "metadata": {},
   "outputs": [],
   "source": []
  }
 ],
 "metadata": {
  "kernelspec": {
   "display_name": "Python 2",
   "language": "python",
   "name": "python2"
  },
  "language_info": {
   "codemirror_mode": {
    "name": "ipython",
    "version": 2
   },
   "file_extension": ".py",
   "mimetype": "text/x-python",
   "name": "python",
   "nbconvert_exporter": "python",
   "pygments_lexer": "ipython2",
   "version": "2.7.11"
  }
 },
 "nbformat": 4,
 "nbformat_minor": 2
}
