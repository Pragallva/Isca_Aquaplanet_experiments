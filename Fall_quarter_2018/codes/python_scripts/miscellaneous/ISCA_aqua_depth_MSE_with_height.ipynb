{
 "cells": [
  {
   "cell_type": "code",
   "execution_count": 1,
   "metadata": {
    "collapsed": false,
    "deletable": true,
    "editable": true
   },
   "outputs": [],
   "source": [
    "%matplotlib inline\n",
    "import matplotlib as mpl\n",
    "#mpl.use('Agg')\n",
    "import numpy as np\n",
    "import pylab as py\n",
    "#import Extract_ncfile_save_fluxes_radiation\n",
    "#import Reload_save_interpolated as svintp\n",
    "import matplotlib.cm as cm\n",
    "from reverse_cmap import rcmap\n",
    "import sys\n",
    "import os\n",
    "import errno\n",
    "import netCDF4 as nc\n",
    "from mpl_toolkits import mplot3d\n",
    "# from mayavi import mlab\n",
    "\n",
    "BuRd = rcmap(cm.RdBu)\n",
    "\n",
    "import hickle as hkl\n",
    "\n",
    "#source_dirc=svintp.source\n",
    "#exp_dirc=[\"aqua_2m/\",\"aqua_20m/\",\"land_rec20m/\"]\n",
    "\n",
    "## A function to save a dictionary ##\n",
    "def save(filename,dictionary):\n",
    "    hkl.dump(dictionary, filename, mode='w')\n",
    "\n",
    "## A function to load a dictionary ## \n",
    "def load(filename):\n",
    "    dictionary = hkl.load(filename)\n",
    "    return dictionary\n",
    "\n",
    "def make_sure_path_exists(path):\n",
    "    try:\n",
    "        os.makedirs(path)\n",
    "    except OSError as exception:\n",
    "        if exception.errno != errno.EEXIST:\n",
    "            raise\n",
    "\n",
    "# dirc=sys.argv\n",
    "\n",
    "####################\n",
    "#### smoothening ###\n",
    "####################\n",
    "\n",
    "def smooth(y, box_pts):\n",
    "    box = np.ones(box_pts)/box_pts\n",
    "    y_smooth = np.convolve(y, box, mode='same')\n",
    "    return y_smooth\n",
    "\n",
    "#source='/project2/tas1/pragallva/Fall_quarter_2017/post_process_data/land_realtest/'\n",
    "source_dir='/project2/tas1/pragallva/Spring_quarter/post_process_data/'\n",
    "source = source_dir+'aqua_2m/'\n",
    "            \n",
    "make_sure_path_exists(\"/project2/tas1/pragallva/Spring_quarter_2018/figures/\")\n",
    "make_sure_path_exists(\"/project2/tas1/pragallva/Spring_quarter_2018/figures/intensity/ISCA/\")\n",
    "\n",
    "fig_dest=\"/project2/tas1/pragallva/Spring_quarter_2018/figures/intensity/ISCA/\"\n",
    "\n",
    "a=6371.0e3\n",
    "R=a"
   ]
  },
  {
   "cell_type": "code",
   "execution_count": 2,
   "metadata": {},
   "outputs": [],
   "source": [
    "# import plotly.plotly as ply\n",
    "# import plotly.graph_objs as go\n",
    "# import plotly.figure_factory as ff\n",
    "# import numpy as np\n",
    "# from skimage import measure"
   ]
  },
  {
   "cell_type": "code",
   "execution_count": 3,
   "metadata": {},
   "outputs": [],
   "source": [
    "# import plotly\n",
    "# plotly.tools.set_credentials_file(username='pragallva', api_key='SeoXyEAqz84T4oNyYCQm')"
   ]
  },
  {
   "cell_type": "code",
   "execution_count": 4,
   "metadata": {},
   "outputs": [],
   "source": [
    "# import numpy as np\n",
    "# from skimage import measure\n",
    "\n",
    "# X,Y,Z = np.mgrid[-2:2:40j, -2:2:40j, -2:2:40j]\n",
    "# surf_eq = X**4 + Y**4 + Z**4 - (X**2+Y**2+Z**2)**2 + 3*(X**2+Y**2+Z**2) - 3   "
   ]
  },
  {
   "cell_type": "code",
   "execution_count": 5,
   "metadata": {},
   "outputs": [],
   "source": [
    "# vertices, simplices = measure.marching_cubes_classic(surf_eq, 0)\n",
    "# x,y,z = zip(*vertices)  "
   ]
  },
  {
   "cell_type": "code",
   "execution_count": 6,
   "metadata": {},
   "outputs": [],
   "source": [
    "# colormap=['rgb(255,105,180)','rgb(255,255,51)','rgb(0,191,255)']\n",
    "# fig = ff.create_trisurf(x=x,y=y,z=z, plot_edges=False,colormap=colormap,simplices=simplices,title=\"Isosurface\")\n",
    "# ply.iplot(fig)"
   ]
  },
  {
   "cell_type": "code",
   "execution_count": 7,
   "metadata": {
    "collapsed": false,
    "deletable": true,
    "editable": true
   },
   "outputs": [],
   "source": [
    "import glob\n",
    "import numpy as np\n",
    "import scipy.io as sio\n",
    "import pylab as py\n",
    "from scipy import interpolate\n",
    "from scipy.interpolate import interp1d\n",
    "from scipy import stats\n",
    "\n",
    "#### Invoke all the files\n",
    "\n",
    "m5=(glob.glob('/project2/tas1/pragallva/Spring_quarter_2018/post_process_data/aqua_isca5m/*.hkl'))\n",
    "m10=(glob.glob('/project2/tas1/pragallva/Spring_quarter_2018/post_process_data/aqua_isca10m/*.hkl'))\n",
    "m50=(glob.glob('/project2/tas1/pragallva/Spring_quarter_2018/post_process_data/aqua_isca50m/*.hkl'))\n",
    "m100=(glob.glob('/project2/tas1/pragallva/Spring_quarter_2018/post_process_data/aqua_isca100m/*.hkl'))"
   ]
  },
  {
   "cell_type": "code",
   "execution_count": 8,
   "metadata": {
    "collapsed": false,
    "deletable": true,
    "editable": true
   },
   "outputs": [
    {
     "data": {
      "text/plain": [
       "['/project2/tas1/pragallva/Spring_quarter_2018/post_process_data/aqua_isca5m/temp_dic.hkl',\n",
       " '/project2/tas1/pragallva/Spring_quarter_2018/post_process_data/aqua_isca5m/flux_interp_dict.hkl',\n",
       " '/project2/tas1/pragallva/Spring_quarter_2018/post_process_data/aqua_isca5m/EKE_interp.hkl',\n",
       " '/project2/tas1/pragallva/Spring_quarter_2018/post_process_data/aqua_isca5m/raw_data_dict.hkl',\n",
       " '/project2/tas1/pragallva/Spring_quarter_2018/post_process_data/aqua_isca5m/flux_vert_interp_dict.hkl',\n",
       " '/project2/tas1/pragallva/Spring_quarter_2018/post_process_data/aqua_isca5m/coord_dic.hkl',\n",
       " '/project2/tas1/pragallva/Spring_quarter_2018/post_process_data/aqua_isca5m/div_flux_dict.hkl',\n",
       " '/project2/tas1/pragallva/Spring_quarter_2018/post_process_data/aqua_isca5m/div_vert_interp_dict.hkl',\n",
       " '/project2/tas1/pragallva/Spring_quarter_2018/post_process_data/aqua_isca5m/tsurf_interp.hkl']"
      ]
     },
     "execution_count": 8,
     "metadata": {},
     "output_type": "execute_result"
    }
   ],
   "source": [
    "m5"
   ]
  },
  {
   "cell_type": "code",
   "execution_count": 9,
   "metadata": {
    "collapsed": false,
    "deletable": true,
    "editable": true
   },
   "outputs": [
    {
     "name": "stderr",
     "output_type": "stream",
     "text": [
      "/home/pragallva/Project1/lib/python2.7/site-packages/hickle/hickle.py:522: UserWarning: Hickle file appears to be old version (v2.1.0), attempting legacy loading...\n",
      "  warnings.warn(\"Hickle file appears to be old version (v2.1.0), attempting legacy loading...\")\n"
     ]
    }
   ],
   "source": [
    "t=0;f=1;r=3;c=5;d=6; fv=4; dv=7; e=2;\n",
    "\n",
    "DEPTHS=[m5,m10,m50,m100]\n",
    "flux=[]\n",
    "flux_vert=[]\n",
    "div=[]\n",
    "div_vert=[]\n",
    "eke=[]\n",
    "temp=[]\n",
    "raw=[]\n",
    "coord=load(m5[c])\n",
    "for depth in DEPTHS:\n",
    "    flux.append(load(depth[f]))\n",
    "    flux_vert.append(load(depth[fv]))\n",
    "    div.append(load(depth[d])) \n",
    "    div_vert.append(load(depth[dv]))\n",
    "    temp.append(load(depth[t]))\n",
    "    raw.append(load(depth[r]))\n",
    "    eke.append(load(depth[e]))"
   ]
  },
  {
   "cell_type": "code",
   "execution_count": 10,
   "metadata": {},
   "outputs": [
    {
     "name": "stdout",
     "output_type": "stream",
     "text": [
      "['plev', 'lon', 'p_sfc', 'no_of_plevels', 'time', 'lat']\n"
     ]
    },
    {
     "data": {
      "text/plain": [
       "['MM', 'TE', 'NE', 'SE']"
      ]
     },
     "execution_count": 10,
     "metadata": {},
     "output_type": "execute_result"
    }
   ],
   "source": [
    "print coord.keys()\n",
    "flux_vert[0].keys()\n",
    "div_vert[0].keys()"
   ]
  },
  {
   "cell_type": "code",
   "execution_count": 11,
   "metadata": {},
   "outputs": [],
   "source": [
    "ncfile='/project2/tas1/pragallva/Spring_quarter_2018/exp_data/aqua_isca5m/aqua_isca5m0.nc'\n",
    "v_var=nc.Dataset(ncfile,'r')\n",
    "sigma_full=v_var['pfull'][::-1]\n",
    "sigma_half=v_var['phalf'][::-1]\n",
    "lat_nc=v_var['lat']"
   ]
  },
  {
   "cell_type": "code",
   "execution_count": 12,
   "metadata": {},
   "outputs": [
    {
     "data": {
      "text/plain": [
       "(40, 1741)"
      ]
     },
     "execution_count": 12,
     "metadata": {},
     "output_type": "execute_result"
    }
   ],
   "source": [
    "d=0\n",
    "raw[d]['T'][:,:,:].mean(axis=-1).transpose().shape"
   ]
  },
  {
   "cell_type": "code",
   "execution_count": 13,
   "metadata": {},
   "outputs": [
    {
     "data": {
      "image/png": "[encoded data removed]",
      "text/plain": [
       "<matplotlib.figure.Figure at 0x7fec54f6d250>"
      ]
     },
     "metadata": {},
     "output_type": "display_data"
    }
   ],
   "source": [
    "m=0\n",
    "lat=div[0]['latn']\n",
    "ind=np.squeeze(np.where((lat>0) & (lat<90)))\n",
    "py.figure(figsize=(10,5))\n",
    "for d in range(4):\n",
    "    py.subplot(2,2,d+1)\n",
    "    x=np.squeeze(raw[d]['U'][:,:,:].mean(axis=-1).transpose())\n",
    "    py.contourf(lat, (-sigma_full/1000), x,vmin=-60,vmax=60,cmap=cm.seismic); py.colorbar()"
   ]
  },
  {
   "cell_type": "code",
   "execution_count": 25,
   "metadata": {},
   "outputs": [
    {
     "data": {
      "text/plain": [
       "<matplotlib.lines.Line2D at 0x7fec0ad1d850>"
      ]
     },
     "execution_count": 25,
     "metadata": {},
     "output_type": "execute_result"
    },
    {
     "data": {
      "image/png": "[encoded data removed]",
      "text/plain": [
       "<matplotlib.figure.Figure at 0x7fec0095de10>"
      ]
     },
     "metadata": {},
     "output_type": "display_data"
    }
   ],
   "source": [
    "u5=raw[0]['U'][:,:,:].mean(axis=-1).transpose()[0,:]\n",
    "u10=raw[1]['U'][:,:,:].mean(axis=-1).transpose()[0,:]\n",
    "u50=raw[2]['U'][:,:,:].mean(axis=-1).transpose()[0,:]\n",
    "u100=raw[3]['U'][:,:,:].mean(axis=-1).transpose()[0,:]\n",
    "\n",
    "py.plot(lat, u5,'r')\n",
    "py.axvline(35)\n",
    "py.plot(lat, u10,'b')\n",
    "py.axvline(28)\n",
    "py.plot(lat, u50,'g')\n",
    "py.plot(lat, u100,'m')\n",
    "py.axvline(25)\n",
    "py.axhline(0)"
   ]
  },
  {
   "cell_type": "code",
   "execution_count": 14,
   "metadata": {},
   "outputs": [],
   "source": [
    "M = lambda x, y: x + y"
   ]
  },
  {
   "cell_type": "code",
   "execution_count": 15,
   "metadata": {
    "collapsed": false,
    "deletable": true,
    "editable": true
   },
   "outputs": [
    {
     "ename": "TypeError",
     "evalue": "<lambda>() takes exactly 2 arguments (1 given)",
     "output_type": "error",
     "traceback": [
      "\u001b[0;31m---------------------------------------------------------------------------\u001b[0m",
      "\u001b[0;31mTypeError\u001b[0m                                 Traceback (most recent call last)",
      "\u001b[0;32m<ipython-input-15-7fb47cf8f71f>\u001b[0m in \u001b[0;36m<module>\u001b[0;34m()\u001b[0m\n\u001b[1;32m      1\u001b[0m \u001b[0mTE\u001b[0m\u001b[0;34m=\u001b[0m\u001b[0;34m[\u001b[0m\u001b[0;34m]\u001b[0m\u001b[0;34m;\u001b[0m \u001b[0mMM\u001b[0m\u001b[0;34m=\u001b[0m\u001b[0;34m[\u001b[0m\u001b[0;34m]\u001b[0m\u001b[0;34m;\u001b[0m \u001b[0mSE\u001b[0m\u001b[0;34m=\u001b[0m\u001b[0;34m[\u001b[0m\u001b[0;34m]\u001b[0m\u001b[0;34m;\u001b[0m \u001b[0mINE\u001b[0m\u001b[0;34m=\u001b[0m\u001b[0;34m[\u001b[0m\u001b[0;34m]\u001b[0m\u001b[0;34m;\u001b[0m \u001b[0mTEv\u001b[0m\u001b[0;34m=\u001b[0m\u001b[0;34m[\u001b[0m\u001b[0;34m]\u001b[0m\u001b[0;34m;\u001b[0m \u001b[0mMMv\u001b[0m\u001b[0;34m=\u001b[0m\u001b[0;34m[\u001b[0m\u001b[0;34m]\u001b[0m\u001b[0;34m;\u001b[0m \u001b[0mSEv\u001b[0m\u001b[0;34m=\u001b[0m\u001b[0;34m[\u001b[0m\u001b[0;34m]\u001b[0m\u001b[0;34m;\u001b[0m \u001b[0mNEv\u001b[0m\u001b[0;34m=\u001b[0m\u001b[0;34m[\u001b[0m\u001b[0;34m]\u001b[0m\u001b[0;34m\u001b[0m\u001b[0m\n\u001b[1;32m      2\u001b[0m \u001b[0;32mfor\u001b[0m \u001b[0mdepth\u001b[0m \u001b[0;32min\u001b[0m \u001b[0mrange\u001b[0m\u001b[0;34m(\u001b[0m\u001b[0;36m4\u001b[0m\u001b[0;34m)\u001b[0m\u001b[0;34m:\u001b[0m\u001b[0;34m\u001b[0m\u001b[0m\n\u001b[0;32m----> 3\u001b[0;31m     \u001b[0mTE\u001b[0m\u001b[0;34m.\u001b[0m\u001b[0mappend\u001b[0m\u001b[0;34m(\u001b[0m\u001b[0mM\u001b[0m\u001b[0;34m(\u001b[0m\u001b[0mflux\u001b[0m\u001b[0;34m[\u001b[0m\u001b[0mdepth\u001b[0m\u001b[0;34m]\u001b[0m\u001b[0;34m[\u001b[0m\u001b[0;34m'TE'\u001b[0m\u001b[0;34m]\u001b[0m\u001b[0;34m)\u001b[0m\u001b[0;34m)\u001b[0m\u001b[0;34m\u001b[0m\u001b[0m\n\u001b[0m\u001b[1;32m      4\u001b[0m     \u001b[0mSE\u001b[0m\u001b[0;34m.\u001b[0m\u001b[0mappend\u001b[0m\u001b[0;34m(\u001b[0m\u001b[0mM\u001b[0m\u001b[0;34m(\u001b[0m\u001b[0mflux\u001b[0m\u001b[0;34m[\u001b[0m\u001b[0mdepth\u001b[0m\u001b[0;34m]\u001b[0m\u001b[0;34m[\u001b[0m\u001b[0;34m'SE'\u001b[0m\u001b[0;34m]\u001b[0m\u001b[0;34m)\u001b[0m\u001b[0;34m)\u001b[0m\u001b[0;34m\u001b[0m\u001b[0m\n\u001b[1;32m      5\u001b[0m     \u001b[0mMM\u001b[0m\u001b[0;34m.\u001b[0m\u001b[0mappend\u001b[0m\u001b[0;34m(\u001b[0m\u001b[0mM\u001b[0m\u001b[0;34m(\u001b[0m\u001b[0mflux\u001b[0m\u001b[0;34m[\u001b[0m\u001b[0mdepth\u001b[0m\u001b[0;34m]\u001b[0m\u001b[0;34m[\u001b[0m\u001b[0;34m'MM'\u001b[0m\u001b[0;34m]\u001b[0m\u001b[0;34m)\u001b[0m\u001b[0;34m)\u001b[0m\u001b[0;34m\u001b[0m\u001b[0m\n",
      "\u001b[0;31mTypeError\u001b[0m: <lambda>() takes exactly 2 arguments (1 given)"
     ]
    }
   ],
   "source": [
    "TE=[]; MM=[]; SE=[]; INE=[]; TEv=[]; MMv=[]; SEv=[]; NEv=[]\n",
    "for depth in range(4):\n",
    "    TE.append(M(flux[depth]['TE']))\n",
    "    SE.append(M(flux[depth]['SE']))\n",
    "    MM.append(M(flux[depth]['MM']))\n",
    "    INE.append(TE[depth]+SE[depth]+MM[depth])\n",
    "    MMv.append(M(flux_vert[depth]['MM']))\n",
    "    SEv.append(M(flux_vert[depth]['SE']))\n",
    "    TEv.append(M(flux_vert[depth]['TE']))\n",
    "    NEv.append(M(flux_vert[depth]['NE']))"
   ]
  },
  {
   "cell_type": "code",
   "execution_count": null,
   "metadata": {
    "collapsed": false,
    "deletable": true,
    "editable": true
   },
   "outputs": [],
   "source": [
    "div_TE=[]; div_MM=[]; div_SE=[]; div_NE=[]; div_TEv=[]; div_MMv=[]; div_SEv=[]; div_NEv=[]\n",
    "swabs=[]; shf=[]; olr=[];dhdt=[];ne=[];\n",
    "SW_sfc=[]; SW_toa=[]; LW_sfc=[]; shflx=[]; lhflx=[]; sfc=[]; toa=[]\n",
    "\n",
    "for depth in range(4):\n",
    "    div_TE.append(div[depth]['TE'])\n",
    "    div_SE.append(div[depth]['SE'])\n",
    "    div_MM.append(div[depth]['MM'])\n",
    "    div_NE.append(div_TE[depth]+div_SE[depth]+div_MM[depth])\n",
    "    \n",
    "    div_TEv.append(div_vert[depth]['TE'])\n",
    "    div_SEv.append(div_vert[depth]['SE'])\n",
    "    div_MMv.append(div_vert[depth]['MM'])\n",
    "    div_NEv.append(div_vert[depth]['NE'])\n",
    "    \n",
    "    swabs.append(div[depth]['SWABS'])\n",
    "    shf.append(div[depth]['SHF'])\n",
    "    dhdt.append(div[depth]['dhdt'])\n",
    "    olr.append(div[depth]['olr'])\n",
    "    ne.append(swabs[depth]+shf[depth]-olr[depth]-dhdt[depth])\n",
    "    \n",
    "    SW_sfc.append(-1*div[depth]['SW_sfc_d'])\n",
    "    LW_sfc.append(-1*div[depth]['LW_sfc_d'])\n",
    "    SW_toa.append(div[depth]['SW_toa_d'])\n",
    "    shflx.append(div[depth]['shflx_u'])\n",
    "    lhflx.append(div[depth]['lhflx_u'])\n",
    "    sfc.append(div[depth]['SFC_u'])\n",
    "    toa.append(div[depth]['TOA_d'])\n",
    "    "
   ]
  },
  {
   "cell_type": "markdown",
   "metadata": {
    "deletable": true,
    "editable": true
   },
   "source": [
    "# Average Northern and Southern Hemispheres"
   ]
  },
  {
   "cell_type": "code",
   "execution_count": null,
   "metadata": {
    "collapsed": false,
    "deletable": true,
    "editable": true
   },
   "outputs": [],
   "source": [
    "TE=np.array(TE); SE=np.array(SE); MM=np.array(MM); NE=np.array(INE)\n",
    "TEv=np.array(TEv); SEv=np.array(SEv); MMv=np.array(MMv); NEv=np.array(NEv)\n",
    "div_TEv=np.array(div_TEv); div_SEv=np.array(div_SEv); div_MMv=np.array(div_MMv); div_NEv=np.array(div_NEv)\n",
    "\n",
    "Iswabs=np.array(Iswabs); Ishf=np.array(Ishf); Ine=np.array(Ine); Iolr=np.array(Iolr); Idhdt=np.array(Idhdt);\n",
    "ISW_sfc=np.array(ISW_sfc); ILW_sfc=np.array(ILW_sfc); ISW_toa=np.array(ISW_toa); Ishflx=np.array(Ishflx); Ilhflx=np.array(Ilhflx);\n",
    "\n",
    "ISFC=np.array(ISFC); ITOA=np.array(ITOA)"
   ]
  },
  {
   "cell_type": "code",
   "execution_count": null,
   "metadata": {},
   "outputs": [],
   "source": [
    "TEv.shape"
   ]
  },
  {
   "cell_type": "code",
   "execution_count": null,
   "metadata": {
    "collapsed": false,
    "deletable": true,
    "editable": true
   },
   "outputs": [],
   "source": [
    "def N_S_avg(TE, SE, MM, NE, temp, lat, flux_flag=-1):\n",
    "    l_N=((lat>-0.1) & (lat<=90))            \n",
    "    l_S=((lat>=-90) & (lat<=0))\n",
    "    \n",
    "    avg = lambda x: (x[:,l_N,...]+flux_flag*np.roll(x[:,l_S,...][:,::-1,...], 6, axis=-1))/2.0\n",
    "    \n",
    "    TE1= avg(TE)\n",
    "    SE1= avg(SE)\n",
    "    NE1= avg(NE)\n",
    "    MM1= avg(MM)\n",
    "    temp= avg(temp)\n",
    "    \n",
    "    a= lambda x: np.append(x,x[...,0,None],axis=-1)\n",
    "    \n",
    "    return a(TE1), a(SE1), a(MM1), a(NE1), a(temp), lat[l_N]"
   ]
  },
  {
   "cell_type": "code",
   "execution_count": null,
   "metadata": {
    "collapsed": false,
    "deletable": true,
    "editable": true
   },
   "outputs": [],
   "source": [
    "TE_a   ,SE_a     , MM_a   , NE_a     ,ignore,  lat_a = N_S_avg(TE, SE, MM, NE,NE, lat)\n",
    "TEv_a  ,SEv_a    , MMv_a  , NEv_a    ,ignore,  lat_a = N_S_avg(TEv, SEv, MMv, NEv,NEv, lat)\n",
    "Iswabs_a,Ishf_a  , Ine_a , Iolr_a, Idhdt_a, latr_a = N_S_avg( Iswabs,Ishf,Ine,Iolr,Idhdt, lat[1:-1] )\n",
    "ISW_sfc_a, ILW_sfc_a  , ISW_toa_a , Ishflx_a, Ilhflx_a, latr_a = N_S_avg( ISW_sfc,ILW_sfc,ISW_toa, Ishflx, Ilhflx, lat[1:-1] )\n",
    "ISFC_a = N_S_avg( ISFC,ISFC,ISFC,ISFC,ISFC, lat[1:-1] )[0]\n",
    "ITOA_a = N_S_avg( ITOA,ITOA,ITOA,ITOA,ITOA, lat[1:-1] )[0]"
   ]
  },
  {
   "cell_type": "code",
   "execution_count": null,
   "metadata": {
    "collapsed": false,
    "deletable": true,
    "editable": true
   },
   "outputs": [],
   "source": [
    "dtheta=np.radians(lat_a[1]-lat_a[0])\n",
    "\n",
    "def spher_div(x):\n",
    "       N=1\n",
    "       fac=1 #np.cos(np.radians(lat))\n",
    "       div=np.copy(x)\n",
    "       for d in range(4):\n",
    "        for m in range(13):\n",
    "           div[d,:,m]= smooth( np.gradient((x[d,:,m])*(fac),dtheta)/( 2*np.pi*R**2*np.cos(np.radians(lat_a[:])) ),N)\n",
    "       return div\n",
    "\n",
    "\n",
    "div_TE_a=spher_div(TE_a*10**15)\n",
    "div_SE_a=spher_div(SE_a*10**15)\n",
    "div_MM_a=spher_div(MM_a*10**15)\n",
    "div_NE_a=div_TE_a+div_SE_a+div_MM_a\n",
    "\n",
    "div_TEv_a, div_SEv_a, div_MMv_a, div_NEv_a,ignore,lat_a = N_S_avg(div_TEv, div_SEv, div_MMv, div_NEv,div_NEv, lat,flux_flag=1)"
   ]
  },
  {
   "cell_type": "code",
   "execution_count": null,
   "metadata": {
    "collapsed": false,
    "deletable": true,
    "editable": true
   },
   "outputs": [],
   "source": [
    "lat=div[0]['latn']\n",
    "\n",
    "from scipy.interpolate import interp1d\n",
    "\n",
    "def find_zero(div):\n",
    "  zero_loc = np.zeros((4,13))\n",
    "  for d in range(0,4):\n",
    "      for m in range(0,13):\n",
    "            l_range=((lat_a>=30) & (lat_a<=60))            \n",
    "            interpolation_function = interp1d(div[d,l_range,m],lat_a[l_range],kind='linear')\n",
    "            try :\n",
    "                zero_loc[d,m]=interpolation_function(0)\n",
    "            except ValueError as err:\n",
    "                zero_loc[d,m]=np.nan        \n",
    "  return zero_loc\n",
    "\n",
    "storm_pos=find_zero(div_TE_a)"
   ]
  },
  {
   "cell_type": "code",
   "execution_count": null,
   "metadata": {},
   "outputs": [],
   "source": [
    "d=3\n",
    "py.figure(figsize=(15,6))\n",
    "v=np.linspace(-0.7,0.7,30)\n",
    "for m in range(12):\n",
    "    py.subplot(3,4,m+1)\n",
    "    py.contourf(lat_a,sigma_full, (TEv_a[d,...,m]).transpose(),v,cmap=cm.seismic);py.colorbar()\n",
    "    py.gca().invert_yaxis()\n",
    "#     py.xlim(20,70)\n",
    "py.tight_layout()"
   ]
  },
  {
   "cell_type": "code",
   "execution_count": null,
   "metadata": {},
   "outputs": [],
   "source": [
    "la=2\n",
    "ind=np.squeeze(np.where( (lat_a>la) & (lat_a<la+1) ))\n",
    "d=0; v=np.linspace(-15,15,30)\n",
    "vv=np.linspace(-60,60,30)\n",
    "depths=np.array([5,10,50,100])\n",
    "py.figure(figsize=(12,5))\n",
    "for d in range(4):\n",
    "    py.subplot(2,4,2*d+1)\n",
    "    py.title(str(depths[d])+'m',fontsize=18)\n",
    "    py.contourf(range(13),lat_a,MM_a[d,...],v,cmap=cm.seismic);py.colorbar()\n",
    "    py.axhspan(la,la+1,color='k')\n",
    "    \n",
    "    py.subplot(2,4,2*(d+1))\n",
    "    py.contourf(range(13),sigma_full, MMv_a[d,ind,:,:].mean(axis=0),vv,cmap=cm.seismic);py.colorbar()\n",
    "#    c=py.contour(range(13),sigma_full, MMv_a[d,ind,:,:].mean(axis=0),np.linspace(-60,60,12),colors='k')\n",
    "#    py.clabel(c, fontsize=9, inline=1,color='k')\n",
    "    py.gca().invert_yaxis()\n",
    "    py.title(str(depths[d])+'m',fontsize=18)\n",
    "py.tight_layout()\n",
    "print la"
   ]
  },
  {
   "cell_type": "code",
   "execution_count": null,
   "metadata": {},
   "outputs": [],
   "source": [
    "d=1;m=m+1\n",
    "if m==12 : m=0\n",
    "print lat_a[np.squeeze(np.where( (lat_a>storm_pos[d,m]-0.1) & (lat_a<storm_pos[d,m]+0.1) ) )[-1]]\n",
    "print storm_pos[d,m]"
   ]
  },
  {
   "cell_type": "code",
   "execution_count": null,
   "metadata": {},
   "outputs": [],
   "source": [
    "print TEv_a.shape\n",
    "t=np.zeros((40,13))"
   ]
  },
  {
   "cell_type": "code",
   "execution_count": null,
   "metadata": {},
   "outputs": [],
   "source": [
    "lat_a[int(ind[0])]\n",
    "# TEv_a[0,0,:,0].shape"
   ]
  },
  {
   "cell_type": "code",
   "execution_count": null,
   "metadata": {},
   "outputs": [],
   "source": [
    "t=np.zeros((40,13))\n",
    "t1=TE_a\n",
    "la=la+2\n",
    "\n",
    "d=0; v=np.linspace(-15,15,30)\n",
    "vv=np.linspace(-2,2,50)\n",
    "depths=np.array([5,10,50,100])\n",
    "py.figure(figsize=(12,5))\n",
    "t=np.zeros((40,13))\n",
    "ind=np.zeros(13)\n",
    "for d in range(4):\n",
    "    \n",
    "    for m in range(13):\n",
    "        ind[m]=np.squeeze(np.where( (lat_a>storm_pos[d,m]-0.1) & (lat_a<storm_pos[d,m]+0.1) ) )[-1]\n",
    "        t[:,m]=TEv_a[d,int(ind[m]),:,m]\n",
    "    \n",
    "    py.subplot(2,4,2*d+1)\n",
    "    py.title(str(depths[d])+'m',fontsize=18)\n",
    "    py.contourf(range(13),lat_a,t1[d,...],v,cmap=cm.seismic);py.colorbar()\n",
    "    py.plot(range(13),storm_pos[d,:]) \n",
    "    py.subplot(2,4,2*(d+1))\n",
    "    py.contourf(range(13),sigma_full, t,vv,cmap=cm.seismic);py.colorbar()\n",
    "#    c=py.contour(range(13),sigma_full, MMv_a[d,ind,:,:].mean(axis=0),np.linspace(-60,60,12),colors='k')\n",
    "#    py.clabel(c, fontsize=9, inline=1,color='k')\n",
    "    py.gca().invert_yaxis()\n",
    "    py.title(str(depths[d])+'m',fontsize=18)\n",
    "py.tight_layout()"
   ]
  },
  {
   "cell_type": "code",
   "execution_count": null,
   "metadata": {},
   "outputs": [],
   "source": [
    "t=np.zeros((40,13))\n",
    "t1=MM_a\n",
    "d=0; v=np.linspace(-15,15,30)\n",
    "vv=np.linspace(-10,10,50)\n",
    "depths=np.array([5,10,50,100])\n",
    "py.figure(figsize=(12,5))\n",
    "t=np.zeros((40,13))\n",
    "ind=np.zeros(13)\n",
    "for d in range(4):\n",
    "\n",
    "    for m in range(13):\n",
    "        ind[m]=np.squeeze(np.where( (lat_a>storm_pos[d,m]-0.1) & (lat_a<storm_pos[d,m]+0.1) ) )[-1]\n",
    "        t[:,m]=MMv_a[d,int(ind[m]),:,m]    \n",
    "        \n",
    "    py.subplot(2,4,2*d+1)\n",
    "    py.title(str(depths[d])+'m',fontsize=18)\n",
    "    py.contourf(range(13),lat_a,t1[d,...],v,cmap=cm.seismic);py.colorbar()\n",
    "    py.plot(range(13),storm_pos[d,:],color='k') \n",
    "    py.subplot(2,4,2*(d+1))\n",
    "    py.contourf(range(13),sigma_full, t,vv,cmap=cm.seismic);py.colorbar()\n",
    "    py.gca().invert_yaxis()\n",
    "    py.title(str(depths[d])+'m',fontsize=18)\n",
    "py.tight_layout()"
   ]
  },
  {
   "cell_type": "code",
   "execution_count": null,
   "metadata": {},
   "outputs": [],
   "source": [
    "print TE_a.shape\n",
    "print TEv_a.shape"
   ]
  },
  {
   "cell_type": "code",
   "execution_count": null,
   "metadata": {},
   "outputs": [],
   "source": [
    "def AM(y):\n",
    "    return np.squeeze(np.dstack([np.mean(y, axis=-1)]*13))\n"
   ]
  },
  {
   "cell_type": "code",
   "execution_count": null,
   "metadata": {},
   "outputs": [],
   "source": []
  },
  {
   "cell_type": "code",
   "execution_count": null,
   "metadata": {},
   "outputs": [],
   "source": [
    "t=np.zeros((40,13))\n",
    "t1=TE_a\n",
    "la=la+2\n",
    "\n",
    "d=0; v=np.linspace(-15,15,30)\n",
    "vv=np.linspace(-1,1,50)\n",
    "depths=np.array([5,10,50,100])\n",
    "py.figure(figsize=(12,5))\n",
    "t=np.zeros((40,13))\n",
    "ind=np.zeros(13)\n",
    "for d in range(4):\n",
    "    \n",
    "    for m in range(13):\n",
    "        ind[m]=np.squeeze(np.where( (lat_a>storm_pos[d,m]-0.1) & (lat_a<storm_pos[d,m]+0.1) ) )[-1]\n",
    "        t[:,m]=TEv_a[d,int(ind[m]),:,m]\n",
    "    \n",
    "    py.subplot(2,4,2*d+1)\n",
    "    py.title(str(depths[d])+'m',fontsize=18)\n",
    "    py.contourf(range(13), lat_a, AM(t1[d,...]) ,v,cmap=cm.seismic);py.colorbar()\n",
    "    py.contour(range(13),  lat_a, t1[d,...]-AM(t1[d,...]),v,cmap=cm.seismic)\n",
    "    py.plot(range(13),storm_pos[d,:]) \n",
    "    \n",
    "    py.subplot(2,4,2*(d+1))\n",
    "    py.contourf(range(13),sigma_full, AM(t),vv,cmap=cm.seismic);py.colorbar()\n",
    "    py.contour(range(13),sigma_full, t-AM(t),vv,cmap=cm.seismic)\n",
    "    py.gca().invert_yaxis()\n",
    "    py.title(str(depths[d])+'m',fontsize=18)\n",
    "\n",
    "py.tight_layout()"
   ]
  },
  {
   "cell_type": "code",
   "execution_count": null,
   "metadata": {},
   "outputs": [],
   "source": [
    "t=np.zeros((40,13))\n",
    "t1=MM_a\n",
    "la=la+2\n",
    "\n",
    "d=0; v=np.linspace(-15,15,30)\n",
    "vv=np.linspace(-5,5,50)\n",
    "depths=np.array([5,10,50,100])\n",
    "py.figure(figsize=(12,5))\n",
    "t=np.zeros((40,13))\n",
    "ind=np.zeros(13)\n",
    "for d in range(4):\n",
    "    \n",
    "    for m in range(13):\n",
    "        ind[m]=np.squeeze(np.where( (lat_a>storm_pos[d,m]-0.1) & (lat_a<storm_pos[d,m]+0.1) ) )[-1]\n",
    "        t[:,m]=MMv_a[d,int(ind[m]),:,m]\n",
    "    \n",
    "    py.subplot(2,4,2*d+1)\n",
    "    py.title(str(depths[d])+'m',fontsize=18)\n",
    "    py.contourf(range(13), lat_a, AM(t1[d,...]) ,v,cmap=cm.seismic);py.colorbar()\n",
    "    py.contour(range(13),  lat_a, t1[d,...]-AM(t1[d,...]),v,cmap=cm.seismic)\n",
    "    py.plot(range(13),storm_pos[d,:]) \n",
    "    \n",
    "    py.subplot(2,4,2*(d+1))\n",
    "    py.contourf(range(13),sigma_full, AM(t),vv,cmap=cm.seismic);py.colorbar()\n",
    "    py.contour(range(13),sigma_full, t-AM(t),vv,cmap=cm.seismic)\n",
    "    py.gca().invert_yaxis()\n",
    "    py.title(str(depths[d])+'m',fontsize=18)\n",
    "\n",
    "py.tight_layout()"
   ]
  },
  {
   "cell_type": "code",
   "execution_count": null,
   "metadata": {},
   "outputs": [],
   "source": [
    "t=np.zeros((40,13))\n",
    "t1=MM_a\n",
    "la=la+2\n",
    "\n",
    "d=0; v=np.linspace(-15,15,30)\n",
    "vv=np.linspace(-10,10,50)\n",
    "depths=np.array([5,10,50,100])\n",
    "py.figure(figsize=(12,5))\n",
    "t=np.zeros((40,13))\n",
    "ind=np.zeros(13)\n",
    "for d in range(4):\n",
    "    \n",
    "    for m in range(13):\n",
    "        ind[m]=np.squeeze(np.where( (lat_a>storm_pos[d,m]-0.1) & (lat_a<storm_pos[d,m]+0.1) ) )[-1]\n",
    "        t[:,m]=MMv_a[d,int(ind[m]),:,m]\n",
    "    \n",
    "    py.subplot(2,4,2*d+1)\n",
    "    py.title(str(depths[d])+'m',fontsize=18)\n",
    "    py.contourf(range(13),lat_a,t1[d,...]-AM(t1[d,...]),v,cmap=cm.seismic);py.colorbar()\n",
    "    py.plot(range(13),storm_pos[d,:]) \n",
    "    py.subplot(2,4,2*(d+1))\n",
    "    py.contourf(range(13),sigma_full, t-AM(t[d,...]),vv,cmap=cm.seismic);py.colorbar()\n",
    "#    c=py.contour(range(13),sigma_full, MMv_a[d,ind,:,:].mean(axis=0),np.linspace(-60,60,12),colors='k')\n",
    "#    py.clabel(c, fontsize=9, inline=1,color='k')\n",
    "    py.gca().invert_yaxis()\n",
    "    py.title(str(depths[d])+'m',fontsize=18)\n",
    "py.tight_layout()"
   ]
  },
  {
   "cell_type": "code",
   "execution_count": null,
   "metadata": {},
   "outputs": [],
   "source": []
  },
  {
   "cell_type": "code",
   "execution_count": null,
   "metadata": {},
   "outputs": [],
   "source": []
  },
  {
   "cell_type": "code",
   "execution_count": null,
   "metadata": {},
   "outputs": [],
   "source": []
  },
  {
   "cell_type": "code",
   "execution_count": null,
   "metadata": {},
   "outputs": [],
   "source": []
  },
  {
   "cell_type": "code",
   "execution_count": null,
   "metadata": {},
   "outputs": [],
   "source": []
  },
  {
   "cell_type": "code",
   "execution_count": null,
   "metadata": {},
   "outputs": [],
   "source": []
  },
  {
   "cell_type": "code",
   "execution_count": null,
   "metadata": {},
   "outputs": [],
   "source": []
  },
  {
   "cell_type": "code",
   "execution_count": null,
   "metadata": {},
   "outputs": [],
   "source": []
  }
 ],
 "metadata": {
  "kernelspec": {
   "display_name": "Python 2",
   "language": "python",
   "name": "python2"
  },
  "language_info": {
   "codemirror_mode": {
    "name": "ipython",
    "version": 2
   },
   "file_extension": ".py",
   "mimetype": "text/x-python",
   "name": "python",
   "nbconvert_exporter": "python",
   "pygments_lexer": "ipython2",
   "version": "2.7.11"
  }
 },
 "nbformat": 4,
 "nbformat_minor": 2
}
