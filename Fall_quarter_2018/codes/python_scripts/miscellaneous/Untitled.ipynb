{
 "cells": [
  {
   "cell_type": "code",
   "execution_count": 1,
   "metadata": {},
   "outputs": [],
   "source": [
    "%matplotlib inline\n",
    "import matplotlib as mpl\n",
    "#mpl.use('Agg')\n",
    "import numpy as np\n",
    "import pylab as py\n",
    "import matplotlib.cm as cm\n",
    "from reverse_cmap import rcmap\n",
    "import sys\n",
    "import os\n",
    "import errno\n",
    "import netCDF4 as nc\n",
    "\n",
    "BuRd = rcmap(cm.RdBu)\n",
    "\n",
    "import hickle as hkl\n",
    "\n",
    "## A function to save a dictionary ##\n",
    "def save(filename,dictionary):\n",
    "    hkl.dump(dictionary, filename, mode='w')\n",
    "\n",
    "## A function to load a dictionary ## \n",
    "def load(filename):\n",
    "    dictionary = hkl.load(filename)\n",
    "    return dictionary\n",
    "\n",
    "\n",
    "def make_sure_path_exists(path):\n",
    "    try:\n",
    "        os.makedirs(path)\n",
    "    except OSError as exception:\n",
    "        if exception.errno != errno.EEXIST:\n",
    "            raise\n",
    "####################\n",
    "#### smoothening ###\n",
    "####################\n",
    "\n",
    "def smooth(y, box_pts):\n",
    "    box = np.ones(box_pts)/box_pts\n",
    "    y_smooth = np.convolve(y, box, mode='same')\n",
    "    return y_smooth\n",
    "\n",
    "a=6371.0e3\n",
    "R=a"
   ]
  },
  {
   "cell_type": "code",
   "execution_count": 2,
   "metadata": {},
   "outputs": [
    {
     "name": "stdout",
     "output_type": "stream",
     "text": [
      "HC57_la50m_oc2m0.nc  HC57_la50m_oc2m1.nc\n"
     ]
    }
   ],
   "source": [
    "ls /project2/tas1/pragallva/Fall_quarter_2018/exp_data/am2/HC57_la50m_oc2m"
   ]
  },
  {
   "cell_type": "code",
   "execution_count": 3,
   "metadata": {},
   "outputs": [],
   "source": [
    "# # ls /project2/tas1/pragallva/am2_sim/outputs/50m_polarice/history/*daily*\n",
    "#ls /project2/tas1/pragallva/Fall_quarter_2018/exp_data/am2/HC0_la1m_oc1m/newgrid"
   ]
  },
  {
   "cell_type": "code",
   "execution_count": 4,
   "metadata": {},
   "outputs": [],
   "source": [
    "c=5\n",
    "#ncfile='/project2/tas1/pragallva/am2_sim/outputs/50m_polarice/history/20130101.atmos_daily.nc.0029'\n",
    "ncfile1='/project2/tas1/pragallva/Fall_quarter_2018/exp_data/am2/HC57_la50m_oc2m/HC57_la50m_oc2m0.nc'\n",
    "ncfile2='/project2/tas1/pragallva/Fall_quarter_2018/exp_data/am2/HC0_la12m_oc12m/HC0_la12m_oc12m0.nc'\n",
    "ncfile3='/project2/tas1/pragallva/Fall_quarter_2018/exp_data/am2/HC0_la1m_oc1m/HC0_la1m_oc1m0.nc'\n",
    "v_var1=nc.Dataset(ncfile1,'r')\n",
    "v_var2=nc.Dataset(ncfile2,'r')\n",
    "v_var3=nc.Dataset(ncfile3,'r')\n",
    "# sigma_full=v_var['pfull'][::-1]\n",
    "# sigma_half=v_var['phalf'][::-1]"
   ]
  },
  {
   "cell_type": "code",
   "execution_count": null,
   "metadata": {},
   "outputs": [
    {
     "name": "stdout",
     "output_type": "stream",
     "text": [
      "(1460,)\n",
      "(1460,)\n"
     ]
    }
   ],
   "source": [
    "print v_var1.variables['time'][:].shape\n",
    "print v_var2.variables['time'][:].shape\n",
    "print v_var3.variables['time'][:].shape"
   ]
  },
  {
   "cell_type": "code",
   "execution_count": 340,
   "metadata": {},
   "outputs": [
    {
     "name": "stdout",
     "output_type": "stream",
     "text": [
      "(1460,)\n"
     ]
    }
   ],
   "source": [
    "print v_var1.variables['time'][:].shape\n"
   ]
  },
  {
   "cell_type": "code",
   "execution_count": null,
   "metadata": {},
   "outputs": [],
   "source": []
  },
  {
   "cell_type": "code",
   "execution_count": 18,
   "metadata": {},
   "outputs": [
    {
     "name": "stdout",
     "output_type": "stream",
     "text": [
      "[-89.494385  -87.97753   -85.955055  -89.494385  -87.97753   -85.955055\n",
      " -83.93259   -81.91011   -79.88764   -83.93259   -81.91011   -79.88764\n",
      " -77.865166  -75.8427    -73.82022   -77.865166  -75.8427    -73.82022\n",
      " -71.79775   -69.77528   -67.75281   -71.79775   -69.77528   -67.75281\n",
      " -65.73034   -63.707867  -61.685394  -65.73034   -63.707867  -61.685394\n",
      " -59.66292   -57.64045   -55.617977  -59.66292   -57.64045   -55.617977\n",
      " -53.595505  -51.573032  -49.55056   -53.595505  -51.573032  -49.55056\n",
      " -47.52809   -45.50562   -43.483147  -41.460674  -39.4382    -37.41573\n",
      " -35.393257  -33.370785  -31.348314  -29.325842  -27.303371  -25.2809\n",
      " -23.258427  -21.235954  -19.213484  -17.191011  -15.168539  -13.146068\n",
      " -11.123595   -9.101124   -7.078652   -5.05618    -3.0337079  -1.011236\n",
      "   1.011236    3.0337079   5.05618     7.078652    9.101124   11.123595\n",
      "  13.146068   15.168539   17.191011   19.213484   21.235954   23.258427\n",
      "  25.2809     27.303371   29.325842   31.348314   33.370785   35.393257\n",
      "  37.41573    39.4382     41.460674   43.483147   45.50562    47.52809\n",
      "  49.55056    51.573032   53.595505   55.617977   57.64045    59.66292\n",
      "  61.685394   63.707867   65.73034    67.75281    69.77528    71.79775\n",
      "  73.82022    75.8427     77.865166   79.88764    81.91011    83.93259\n",
      "  85.955055   87.97753    89.494385 ]\n"
     ]
    }
   ],
   "source": [
    "lat=v_var1.variables['lat'][:]\n",
    "print lat"
   ]
  },
  {
   "cell_type": "code",
   "execution_count": 8,
   "metadata": {},
   "outputs": [],
   "source": [
    "swdn_toa1=v_var1.variables['swdn_toa'][:]"
   ]
  },
  {
   "cell_type": "code",
   "execution_count": 10,
   "metadata": {},
   "outputs": [
    {
     "data": {
      "text/plain": [
       "<type 'netCDF4._netCDF4.Variable'>\n",
       "float32 swdn_toa(lat, time, lon)\n",
       "    long_name: SW flux down at TOA\n",
       "    units: watts/m2\n",
       "    missing_value: -999.0\n",
       "    cell_methods: time: point\n",
       "unlimited dimensions: lat\n",
       "current shape = (111, 1460, 144)\n",
       "filling off"
      ]
     },
     "execution_count": 10,
     "metadata": {},
     "output_type": "execute_result"
    }
   ],
   "source": [
    "v_var1.variables['swdn_toa']"
   ]
  },
  {
   "cell_type": "code",
   "execution_count": 9,
   "metadata": {},
   "outputs": [
    {
     "data": {
      "text/plain": [
       "(111, 1460, 144)"
      ]
     },
     "execution_count": 9,
     "metadata": {},
     "output_type": "execute_result"
    }
   ],
   "source": [
    "swdn_toa1.shape"
   ]
  },
  {
   "cell_type": "code",
   "execution_count": 354,
   "metadata": {},
   "outputs": [],
   "source": [
    "swdn_toa2=v_var2.variables['swdn_toa'][:]"
   ]
  },
  {
   "cell_type": "code",
   "execution_count": 30,
   "metadata": {},
   "outputs": [],
   "source": [
    "swdn_toa3=v_var3.variables['swdn_toa'][:]"
   ]
  },
  {
   "cell_type": "code",
   "execution_count": 355,
   "metadata": {},
   "outputs": [],
   "source": [
    "precip3=regrid3(v_var3.variables['precip'][:])"
   ]
  },
  {
   "cell_type": "code",
   "execution_count": 393,
   "metadata": {},
   "outputs": [],
   "source": [
    "u3=v_var3.variables['ucomp'][:]"
   ]
  },
  {
   "cell_type": "code",
   "execution_count": 394,
   "metadata": {},
   "outputs": [
    {
     "data": {
      "text/plain": [
       "(43800, 24, 3, 144)"
      ]
     },
     "execution_count": 394,
     "metadata": {},
     "output_type": "execute_result"
    }
   ],
   "source": [
    "u3.shape"
   ]
  },
  {
   "cell_type": "code",
   "execution_count": 343,
   "metadata": {},
   "outputs": [],
   "source": [
    "u1=v_var1.variables['ucomp'][:]"
   ]
  },
  {
   "cell_type": "code",
   "execution_count": 359,
   "metadata": {},
   "outputs": [
    {
     "ename": "KeyError",
     "evalue": "'flux_oceanq'",
     "output_type": "error",
     "traceback": [
      "\u001b[0;31m---------------------------------------------------------------------------\u001b[0m",
      "\u001b[0;31mKeyError\u001b[0m                                  Traceback (most recent call last)",
      "\u001b[0;32m<ipython-input-359-8777424d8357>\u001b[0m in \u001b[0;36m<module>\u001b[0;34m()\u001b[0m\n\u001b[0;32m----> 1\u001b[0;31m \u001b[0mo2\u001b[0m\u001b[0;34m=\u001b[0m\u001b[0mv_var2\u001b[0m\u001b[0;34m.\u001b[0m\u001b[0mvariables\u001b[0m\u001b[0;34m[\u001b[0m\u001b[0;34m'flux_oceanq'\u001b[0m\u001b[0;34m]\u001b[0m\u001b[0;34m[\u001b[0m\u001b[0;34m:\u001b[0m\u001b[0;34m]\u001b[0m\u001b[0;34m\u001b[0m\u001b[0m\n\u001b[0m",
      "\u001b[0;31mKeyError\u001b[0m: 'flux_oceanq'"
     ]
    }
   ],
   "source": [
    "u2=v_var2.variables['ucomp'][:]"
   ]
  },
  {
   "cell_type": "code",
   "execution_count": null,
   "metadata": {},
   "outputs": [],
   "source": []
  },
  {
   "cell_type": "code",
   "execution_count": null,
   "metadata": {},
   "outputs": [],
   "source": []
  },
  {
   "cell_type": "code",
   "execution_count": 413,
   "metadata": {},
   "outputs": [],
   "source": [
    "def regrid3(Y):\n",
    "    y=[]\n",
    "    for i in range(30):\n",
    "        y.append(Y[1460*i:1460*(i+1),...].transpose(1,0,2))\n",
    "    y=np.reshape(np.array(y), (30*3,1460,len(lon))).transpose(1,0,2)   \n",
    "    return y\n",
    "\n",
    "def regrid4(Y):\n",
    "    y=[]\n",
    "    for i in range(30):\n",
    "        y.append( Y[1460*i:1460*(i+1),...].transpose(2,0,1,3) )\n",
    "    y=np.reshape( np.array(y), (30*3,1460,24,len(lon)) ).transpose(1,2,0,3)    \n",
    "    return y"
   ]
  },
  {
   "cell_type": "code",
   "execution_count": 414,
   "metadata": {},
   "outputs": [],
   "source": [
    "u3=regrid4(v_var3.variables['ucomp'][:])"
   ]
  },
  {
   "cell_type": "code",
   "execution_count": null,
   "metadata": {},
   "outputs": [],
   "source": [
    "447897600"
   ]
  },
  {
   "cell_type": "code",
   "execution_count": 416,
   "metadata": {},
   "outputs": [
    {
     "name": "stdout",
     "output_type": "stream",
     "text": [
      "(1460, 24, 90, 144)\n",
      "(1460, 24, 90, 144)\n"
     ]
    }
   ],
   "source": [
    "print u3.shape\n",
    "print u1.transpose(2,1,0,3).shape"
   ]
  },
  {
   "cell_type": "code",
   "execution_count": 424,
   "metadata": {},
   "outputs": [
    {
     "data": {
      "text/plain": [
       "4.0"
      ]
     },
     "execution_count": 424,
     "metadata": {},
     "output_type": "execute_result"
    }
   ],
   "source": [
    "447897600/(90*144.0*24.0*360.0)"
   ]
  },
  {
   "cell_type": "code",
   "execution_count": 420,
   "metadata": {},
   "outputs": [
    {
     "data": {
      "text/plain": [
       "454118400"
      ]
     },
     "execution_count": 420,
     "metadata": {},
     "output_type": "execute_result"
    }
   ],
   "source": [
    "365*24*4*90*144"
   ]
  },
  {
   "cell_type": "code",
   "execution_count": 358,
   "metadata": {},
   "outputs": [
    {
     "name": "stdout",
     "output_type": "stream",
     "text": [
      "s1: (1460, 90, 144)\n",
      "s2: (90, 1460, 144)\n",
      "s3: (43800, 3, 144)\n"
     ]
    }
   ],
   "source": [
    "print 's1:', swdn_toa1.transpose(1,0,2).shape\n",
    "print 's2:', swdn_toa2.shape\n",
    "print 's3:', swdn_toa3.shape"
   ]
  },
  {
   "cell_type": "code",
   "execution_count": 390,
   "metadata": {},
   "outputs": [
    {
     "name": "stdout",
     "output_type": "stream",
     "text": [
      "u1: (1460, 24, 90, 144)\n",
      "u2: (90, 24, 1460, 144)\n",
      "u3: (43800, 24, 3, 144)\n"
     ]
    }
   ],
   "source": [
    "print 'u1:', u1.transpose(2,1,0,3).shape\n",
    "print 'u2:', u2.shape\n",
    "print 'u3:', u3.shape"
   ]
  },
  {
   "cell_type": "code",
   "execution_count": 219,
   "metadata": {},
   "outputs": [],
   "source": [
    "precip1=v_var1.variables['precip'][:]"
   ]
  },
  {
   "cell_type": "code",
   "execution_count": 220,
   "metadata": {},
   "outputs": [],
   "source": [
    "precip2=v_var2.variables['precip'][:]"
   ]
  },
  {
   "cell_type": "code",
   "execution_count": 9,
   "metadata": {},
   "outputs": [],
   "source": [
    "lat=v_var1.variables['lat'][:]\n",
    "lon=v_var1.variables['lon'][:]"
   ]
  },
  {
   "cell_type": "code",
   "execution_count": 381,
   "metadata": {},
   "outputs": [
    {
     "data": {
      "text/plain": [
       "<matplotlib.contour.QuadContourSet at 0x7f44cc0d2790>"
      ]
     },
     "execution_count": 381,
     "metadata": {},
     "output_type": "execute_result"
    },
    {
     "data": {
      "image/png": "[encoded data removed]",
      "text/plain": [
       "<matplotlib.figure.Figure at 0x7f44cf07cf90>"
      ]
     },
     "metadata": {},
     "output_type": "display_data"
    }
   ],
   "source": [
    "py.contourf(range(1460),lat,regrid3(swdn_toa3).mean(axis=-1))"
   ]
  },
  {
   "cell_type": "code",
   "execution_count": 380,
   "metadata": {},
   "outputs": [
    {
     "data": {
      "text/plain": [
       "<matplotlib.contour.QuadContourSet at 0x7f44cc31d410>"
      ]
     },
     "execution_count": 380,
     "metadata": {},
     "output_type": "execute_result"
    },
    {
     "data": {
      "image/png": "[encoded data removed]",
      "text/plain": [
       "<matplotlib.figure.Figure at 0x7f44cbb75310>"
      ]
     },
     "metadata": {},
     "output_type": "display_data"
    }
   ],
   "source": [
    "py.contourf(range(1460),lat,swdn_toa1.mean(axis=-1))"
   ]
  },
  {
   "cell_type": "code",
   "execution_count": 215,
   "metadata": {},
   "outputs": [
    {
     "name": "stdout",
     "output_type": "stream",
     "text": [
      "(43800, 3, 144)\n",
      "(43800, 3, 144)\n"
     ]
    }
   ],
   "source": [
    "print swdn_toa3.shape\n",
    "print precip3.shape"
   ]
  },
  {
   "cell_type": "code",
   "execution_count": 34,
   "metadata": {},
   "outputs": [
    {
     "data": {
      "text/plain": [
       "(1460, 3)"
      ]
     },
     "execution_count": 34,
     "metadata": {},
     "output_type": "execute_result"
    }
   ],
   "source": [
    "swdn_toa3.mean(axis=-1)[0:1460,...].shape"
   ]
  },
  {
   "cell_type": "code",
   "execution_count": 286,
   "metadata": {},
   "outputs": [
    {
     "data": {
      "text/plain": [
       "(43800, 24, 3, 144)"
      ]
     },
     "execution_count": 286,
     "metadata": {},
     "output_type": "execute_result"
    }
   ],
   "source": [
    "u3.shape"
   ]
  },
  {
   "cell_type": "code",
   "execution_count": 55,
   "metadata": {},
   "outputs": [
    {
     "data": {
      "text/plain": [
       "(-89.494385, 89.494385)"
      ]
     },
     "execution_count": 55,
     "metadata": {},
     "output_type": "execute_result"
    },
    {
     "data": {
      "image/png": "[encoded data removed]",
      "text/plain": [
       "<matplotlib.figure.Figure at 0x7f4515ac7250>"
      ]
     },
     "metadata": {},
     "output_type": "display_data"
    }
   ],
   "source": [
    "for i in range(30):\n",
    "    py.contourf(range(1460),lat[3*i:3*(i+1)],swdn_toa3.mean(axis=-1)[1460*i:1460*(i+1),...].T, vmin=0, vmax=640)\n",
    "    #print 1460*i\n",
    "py.ylim(lat[0],lat[-1])    \n",
    "# py.contourf(range(1460),lat[3:6],swdn_toa3.mean(axis=-1)[1460:1460*2,...].T)"
   ]
  },
  {
   "cell_type": "code",
   "execution_count": 301,
   "metadata": {},
   "outputs": [
    {
     "data": {
      "text/plain": [
       "(3, 1460, 24, 144)"
      ]
     },
     "execution_count": 301,
     "metadata": {},
     "output_type": "execute_result"
    }
   ],
   "source": [
    "u3[1460*i:1460*(i+1),...].transpose(2,0,1,3).shape"
   ]
  },
  {
   "cell_type": "code",
   "execution_count": 322,
   "metadata": {},
   "outputs": [],
   "source": [
    "sw_app=[]\n",
    "precip_app=[]\n",
    "u_app=[]\n",
    "for i in range(30):\n",
    "    sw_app.append(swdn_toa3[1460*i:1460*(i+1),...].transpose(1,0,2))\n",
    "    precip_app.append(precip3[1460*i:1460*(i+1),...].transpose(1,0,2))\n",
    "    u_app.append(u3[1460*i:1460*(i+1),...].transpose(2,0,1,3))"
   ]
  },
  {
   "cell_type": "code",
   "execution_count": 328,
   "metadata": {},
   "outputs": [
    {
     "name": "stdout",
     "output_type": "stream",
     "text": [
      "(90, 1460, 144)\n",
      "(90, 1460, 144)\n",
      "(43800, 24, 3, 144)\n"
     ]
    }
   ],
   "source": [
    "print np.shape(sw_app)\n",
    "print np.shape(swdn_toa1)\n",
    "print np.shape(u3)"
   ]
  },
  {
   "cell_type": "code",
   "execution_count": 324,
   "metadata": {},
   "outputs": [],
   "source": [
    "sw_app=np.reshape(np.array(sw_app), (30*3,1460,144))\n",
    "precip_app=np.reshape(np.array(precip_app), (30*3,1460,144))\n",
    "u_app=np.reshape(np.array(u_app), (30*3,1460,24,144))"
   ]
  },
  {
   "cell_type": "code",
   "execution_count": 317,
   "metadata": {},
   "outputs": [
    {
     "data": {
      "text/plain": [
       "(90, 1460, 144)"
      ]
     },
     "execution_count": 317,
     "metadata": {},
     "output_type": "execute_result"
    }
   ],
   "source": [
    "np.shape(sw_app)"
   ]
  },
  {
   "cell_type": "code",
   "execution_count": 304,
   "metadata": {},
   "outputs": [
    {
     "data": {
      "text/plain": [
       "(30, 3, 1460, 144)"
      ]
     },
     "execution_count": 304,
     "metadata": {},
     "output_type": "execute_result"
    }
   ],
   "source": [
    "np.shape(precip_app)"
   ]
  },
  {
   "cell_type": "code",
   "execution_count": 280,
   "metadata": {},
   "outputs": [],
   "source": [
    "sw_app=np.reshape(np.array(sw_app), (30*3,1460))\n",
    "precip_app=np.reshape(np.array(precip_app), (30*3,1460))"
   ]
  },
  {
   "cell_type": "code",
   "execution_count": 282,
   "metadata": {},
   "outputs": [
    {
     "data": {
      "text/plain": [
       "(90, 1460)"
      ]
     },
     "execution_count": 282,
     "metadata": {},
     "output_type": "execute_result"
    }
   ],
   "source": [
    "print precip_app.shape"
   ]
  },
  {
   "cell_type": "code",
   "execution_count": 273,
   "metadata": {},
   "outputs": [
    {
     "data": {
      "text/plain": [
       "<matplotlib.colorbar.Colorbar at 0x7f44cc191190>"
      ]
     },
     "execution_count": 273,
     "metadata": {},
     "output_type": "execute_result"
    },
    {
     "data": {
      "image/png": "[encoded data removed]",
      "text/plain": [
       "<matplotlib.figure.Figure at 0x7f44cbd192d0>"
      ]
     },
     "metadata": {},
     "output_type": "display_data"
    }
   ],
   "source": [
    "py.contourf(range(1460),lat,sw_app); py.colorbar()"
   ]
  },
  {
   "cell_type": "code",
   "execution_count": 283,
   "metadata": {},
   "outputs": [
    {
     "data": {
      "text/plain": [
       "<matplotlib.colorbar.Colorbar at 0x7f44cc5deb50>"
      ]
     },
     "execution_count": 283,
     "metadata": {},
     "output_type": "execute_result"
    },
    {
     "data": {
      "image/png": "[encoded data removed]",
      "text/plain": [
       "<matplotlib.figure.Figure at 0x7f44ce850d50>"
      ]
     },
     "metadata": {},
     "output_type": "display_data"
    }
   ],
   "source": [
    "py.contourf(range(1460),lat,precip_app); py.colorbar()"
   ]
  },
  {
   "cell_type": "code",
   "execution_count": 217,
   "metadata": {},
   "outputs": [
    {
     "data": {
      "text/plain": [
       "(-89.494385, 89.494385)"
      ]
     },
     "execution_count": 217,
     "metadata": {},
     "output_type": "execute_result"
    },
    {
     "data": {
      "image/png": "[encoded data removed]",
      "text/plain": [
       "<matplotlib.figure.Figure at 0x7f4515b5ea90>"
      ]
     },
     "metadata": {},
     "output_type": "display_data"
    }
   ],
   "source": [
    "py.contourf(range(1460),lat,sw_app); py.colorbar()"
   ]
  },
  {
   "cell_type": "code",
   "execution_count": null,
   "metadata": {},
   "outputs": [],
   "source": []
  },
  {
   "cell_type": "code",
   "execution_count": null,
   "metadata": {},
   "outputs": [],
   "source": []
  },
  {
   "cell_type": "code",
   "execution_count": null,
   "metadata": {},
   "outputs": [],
   "source": [
    "#precip3=v_var3.variables['precip'][:]"
   ]
  },
  {
   "cell_type": "code",
   "execution_count": 259,
   "metadata": {},
   "outputs": [],
   "source": [
    "tsurf3=v_var3.variables['t_surf'][:]"
   ]
  },
  {
   "cell_type": "code",
   "execution_count": 260,
   "metadata": {},
   "outputs": [],
   "source": [
    "tsurf1=v_var1.variables['t_surf'][:]"
   ]
  },
  {
   "cell_type": "code",
   "execution_count": 262,
   "metadata": {},
   "outputs": [
    {
     "data": {
      "text/plain": [
       "(-89.494385, 89.494385)"
      ]
     },
     "execution_count": 262,
     "metadata": {},
     "output_type": "execute_result"
    },
    {
     "data": {
      "image/png": "[encoded data removed]",
      "text/plain": [
       "<matplotlib.figure.Figure at 0x7f44cc658410>"
      ]
     },
     "metadata": {},
     "output_type": "display_data"
    }
   ],
   "source": [
    "for i in range(30):\n",
    "    py.contourf(range(1460),lat[3*i:3*(i+1)],tsurf.mean(axis=-1)[1460*i:1460*(i+1),...].T,vmin=264,vmax=312)\n",
    "    #print 1460*i\n",
    "py.ylim(lat[0],lat[-1])"
   ]
  },
  {
   "cell_type": "code",
   "execution_count": null,
   "metadata": {},
   "outputs": [],
   "source": [
    "py.contourf(range(1460),lat,swdn_toa1.mean(axis=-1)); py.colorbar()"
   ]
  },
  {
   "cell_type": "code",
   "execution_count": 261,
   "metadata": {},
   "outputs": [
    {
     "data": {
      "text/plain": [
       "<matplotlib.colorbar.Colorbar at 0x7f44cbbda850>"
      ]
     },
     "execution_count": 261,
     "metadata": {},
     "output_type": "execute_result"
    },
    {
     "data": {
      "image/png": "[encoded data removed]",
      "text/plain": [
       "<matplotlib.figure.Figure at 0x7f44cc6629d0>"
      ]
     },
     "metadata": {},
     "output_type": "display_data"
    }
   ],
   "source": [
    "py.contourf(range(1460),lat,tsurf1.mean(axis=-1)); py.colorbar()"
   ]
  },
  {
   "cell_type": "code",
   "execution_count": 213,
   "metadata": {},
   "outputs": [
    {
     "name": "stdout",
     "output_type": "stream",
     "text": [
      "[85.955055 87.97753  89.494385]\n"
     ]
    },
    {
     "data": {
      "text/plain": [
       "[<matplotlib.lines.Line2D at 0x7f44c0df6a10>]"
      ]
     },
     "execution_count": 213,
     "metadata": {},
     "output_type": "execute_result"
    },
    {
     "data": {
      "image/png": "[encoded data removed]",
      "text/plain": [
       "<matplotlib.figure.Figure at 0x7f44c00a0e10>"
      ]
     },
     "metadata": {},
     "output_type": "display_data"
    }
   ],
   "source": [
    "t=t+1\n",
    "\n",
    "for i in range(0,30):\n",
    "    if i==29:\n",
    "        print lat[3*i:3*(i+1)]\n",
    "    py.plot(lat[3*i:3*(i+1)],swdn_toa3.mean(axis=-1)[1460*i:1460*(i+1),...][t,:],'k.')\n",
    "py.plot(lat[:],swdn_toa1.mean(axis=-1)[:,t],'r-')\n"
   ]
  },
  {
   "cell_type": "code",
   "execution_count": 252,
   "metadata": {},
   "outputs": [
    {
     "name": "stdout",
     "output_type": "stream",
     "text": [
      "[85.955055 87.97753  89.494385]\n"
     ]
    },
    {
     "data": {
      "text/plain": [
       "[<matplotlib.lines.Line2D at 0x7f44cc9f8450>]"
      ]
     },
     "execution_count": 252,
     "metadata": {},
     "output_type": "execute_result"
    },
    {
     "data": {
      "image/png": "[encoded data removed]",
      "text/plain": [
       "<matplotlib.figure.Figure at 0x7f44ce43cd90>"
      ]
     },
     "metadata": {},
     "output_type": "display_data"
    }
   ],
   "source": [
    "# t=t+1\n",
    "t=t+10\n",
    "for i in range(0,30):\n",
    "    if i==29:\n",
    "        print lat[3*i:3*(i+1)]\n",
    "    py.plot(lat[3*i:3*(i+1)],precip3.mean(axis=-1)[1460*i:1460*(i+1),...][t,:],'k-')\n",
    "py.plot(lat[:],precip1.mean(axis=-1)[:,t],'r-')\n"
   ]
  },
  {
   "cell_type": "code",
   "execution_count": 81,
   "metadata": {},
   "outputs": [
    {
     "data": {
      "text/plain": [
       "[<matplotlib.lines.Line2D at 0x7f44c0d14dd0>]"
      ]
     },
     "execution_count": 81,
     "metadata": {},
     "output_type": "execute_result"
    },
    {
     "data": {
      "image/png": "[encoded data removed]",
      "text/plain": [
       "<matplotlib.figure.Figure at 0x7f4515b38810>"
      ]
     },
     "metadata": {},
     "output_type": "display_data"
    }
   ],
   "source": [
    "py.plot(lat[:],swdn_toa1.mean(axis=-1)[:,1])"
   ]
  },
  {
   "cell_type": "code",
   "execution_count": 49,
   "metadata": {},
   "outputs": [
    {
     "data": {
      "text/plain": [
       "<matplotlib.colorbar.Colorbar at 0x7f44c0fe72d0>"
      ]
     },
     "execution_count": 49,
     "metadata": {},
     "output_type": "execute_result"
    },
    {
     "data": {
      "image/png": "[encoded data removed]",
      "text/plain": [
       "<matplotlib.figure.Figure at 0x7f44c1059e90>"
      ]
     },
     "metadata": {},
     "output_type": "display_data"
    }
   ],
   "source": []
  },
  {
   "cell_type": "code",
   "execution_count": 51,
   "metadata": {},
   "outputs": [
    {
     "data": {
      "text/plain": [
       "array([-89.494385 , -87.97753  , -85.955055 , -83.93259  , -81.91011  ,\n",
       "       -79.88764  , -77.865166 , -75.8427   , -73.82022  , -71.79775  ,\n",
       "       -69.77528  , -67.75281  , -65.73034  , -63.707867 , -61.685394 ,\n",
       "       -59.66292  , -57.64045  , -55.617977 , -53.595505 , -51.573032 ,\n",
       "       -49.55056  , -47.52809  , -45.50562  , -43.483147 , -41.460674 ,\n",
       "       -39.4382   , -37.41573  , -35.393257 , -33.370785 , -31.348314 ,\n",
       "       -29.325842 , -27.303371 , -25.2809   , -23.258427 , -21.235954 ,\n",
       "       -19.213484 , -17.191011 , -15.168539 , -13.146068 , -11.123595 ,\n",
       "        -9.101124 ,  -7.078652 ,  -5.05618  ,  -3.0337079,  -1.011236 ,\n",
       "         1.011236 ,   3.0337079,   5.05618  ,   7.078652 ,   9.101124 ,\n",
       "        11.123595 ,  13.146068 ,  15.168539 ,  17.191011 ,  19.213484 ,\n",
       "        21.235954 ,  23.258427 ,  25.2809   ,  27.303371 ,  29.325842 ,\n",
       "        31.348314 ,  33.370785 ,  35.393257 ,  37.41573  ,  39.4382   ,\n",
       "        41.460674 ,  43.483147 ,  45.50562  ,  47.52809  ,  49.55056  ,\n",
       "        51.573032 ,  53.595505 ,  55.617977 ,  57.64045  ,  59.66292  ,\n",
       "        61.685394 ,  63.707867 ,  65.73034  ,  67.75281  ,  69.77528  ,\n",
       "        71.79775  ,  73.82022  ,  75.8427   ,  77.865166 ,  79.88764  ,\n",
       "        81.91011  ,  83.93259  ,  85.955055 ,  87.97753  ,  89.494385 ],\n",
       "      dtype=float32)"
      ]
     },
     "execution_count": 51,
     "metadata": {},
     "output_type": "execute_result"
    }
   ],
   "source": [
    "lat"
   ]
  },
  {
   "cell_type": "code",
   "execution_count": 17,
   "metadata": {},
   "outputs": [
    {
     "data": {
      "text/plain": [
       "<matplotlib.colorbar.Colorbar at 0x7f44cf4814d0>"
      ]
     },
     "execution_count": 17,
     "metadata": {},
     "output_type": "execute_result"
    },
    {
     "data": {
      "image/png": "[encoded data removed]",
      "text/plain": [
       "<matplotlib.figure.Figure at 0x7f45156eb350>"
      ]
     },
     "metadata": {},
     "output_type": "display_data"
    }
   ],
   "source": [
    "l=0\n",
    "py.contourf(range(1460),lat,u2.mean(axis=-1)[:,l,:].T);py.colorbar()"
   ]
  },
  {
   "cell_type": "code",
   "execution_count": 16,
   "metadata": {},
   "outputs": [
    {
     "data": {
      "text/plain": [
       "<matplotlib.colorbar.Colorbar at 0x7f451562d4d0>"
      ]
     },
     "execution_count": 16,
     "metadata": {},
     "output_type": "execute_result"
    },
    {
     "data": {
      "image/png": "[encoded data removed]",
      "text/plain": [
       "<matplotlib.figure.Figure at 0x7f45159ab590>"
      ]
     },
     "metadata": {},
     "output_type": "display_data"
    }
   ],
   "source": [
    "l=0\n",
    "py.contourf(range(1460),lat,u1.mean(axis=-1)[:,l,:]);py.colorbar()"
   ]
  },
  {
   "cell_type": "code",
   "execution_count": null,
   "metadata": {},
   "outputs": [],
   "source": []
  }
 ],
 "metadata": {
  "kernelspec": {
   "display_name": "Python 2",
   "language": "python",
   "name": "python2"
  },
  "language_info": {
   "codemirror_mode": {
    "name": "ipython",
    "version": 2
   },
   "file_extension": ".py",
   "mimetype": "text/x-python",
   "name": "python",
   "nbconvert_exporter": "python",
   "pygments_lexer": "ipython2",
   "version": "2.7.11"
  }
 },
 "nbformat": 4,
 "nbformat_minor": 2
}
