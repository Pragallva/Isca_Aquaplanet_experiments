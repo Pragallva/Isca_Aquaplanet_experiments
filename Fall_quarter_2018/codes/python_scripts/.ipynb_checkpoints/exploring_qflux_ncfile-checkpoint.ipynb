{
 "cells": [
  {
   "cell_type": "code",
   "execution_count": 2,
   "metadata": {
    "collapsed": false,
    "deletable": true,
    "editable": true
   },
   "outputs": [
    {
     "name": "stdout",
     "output_type": "stream",
     "text": [
      "/project2/tas1/pragallva/Fall_quarter_2017/exp_data/land/land_realqflux6.nc ok\n",
      "[u'lon', u'lonb', u'lat', u'latb', u'time', u'nv', u'pfull', u'phalf', u'scalar_axis', u'ps', u'pres_full', u'pres_half', u'bk', u'pk', u'ucomp', u'vcomp', u'temp', u'sphum', u'omega', u'zsurf', u'height', u'height_half', u'EKE', u'vor', u'div', u'flux_sw', u'flux_lw', u'rrtm_albedo', u'olr', u'coszen', u'toa_sw', u'flux_oceanq', u't_surf', u'flux_lhe', u'flux_t', u'average_T1', u'average_T2', u'average_DT', u'time_bounds']\n"
     ]
    }
   ],
   "source": [
    "%matplotlib inline\n",
    "import numpy as np\n",
    "import netCDF4 as nc\n",
    "import sys\n",
    "import os.path\n",
    "import pylab as py\n",
    "import matplotlib.cm as cm\n",
    "import errno\n",
    "def reverse_colourmap(cmap, name = 'my_cmap_r'):\n",
    "    reverse = []\n",
    "    k = []\n",
    "\n",
    "    for key in cmap._segmentdata:\n",
    "        k.append(key)\n",
    "        channel = cmap._segmentdata[key]\n",
    "        data = []\n",
    "\n",
    "        for t in channel:\n",
    "            data.append((1-t[0],t[2],t[1]))\n",
    "        reverse.append(sorted(data))\n",
    "\n",
    "    LinearL = dict(zip(k,reverse))\n",
    "    my_cmap_r = mpl.colors.LinearSegmentedColormap(name, LinearL)\n",
    "    return my_cmap_r\n",
    "\n",
    "py.rc('text', usetex=True)\n",
    "py.rc('font', family='serif', serif='Palatino',weight='bold')\n",
    "\n",
    "filename=\"/project2/tas1/pragallva/Fall_quarter_2017/exp_data/land/land_realqflux6.nc\"\n",
    "#filename=\"/project/tas1/pragallva/Fall_quarter_2017/Isca/input/ocean_qflux.nc\"\n",
    "print filename, 'ok'\n",
    "data=nc.Dataset(filename,'r+')\n",
    "# print data.variables[dirc[1]]\n",
    "print data.variables.keys()\n",
    "\n",
    "def make_sure_path_exists(path):\n",
    "    try:\n",
    "        os.makedirs(path)\n",
    "    except OSError as exception:\n",
    "        if exception.errno != errno.EEXIST:\n",
    "            raise\n"
   ]
  },
  {
   "cell_type": "code",
   "execution_count": 25,
   "metadata": {
    "collapsed": true,
    "deletable": true,
    "editable": true
   },
   "outputs": [],
   "source": [
    "lat=data.variables['lat']\n",
    "lon=data.variables['lon']"
   ]
  },
  {
   "cell_type": "code",
   "execution_count": 26,
   "metadata": {
    "collapsed": false,
    "deletable": true,
    "editable": true
   },
   "outputs": [],
   "source": [
    "SST=data.variables['t_surf'][:].reshape((12,30,4,len(lat),len(lon)))"
   ]
  },
  {
   "cell_type": "code",
   "execution_count": 27,
   "metadata": {
    "collapsed": true,
    "deletable": true,
    "editable": true
   },
   "outputs": [],
   "source": [
    "SST=SST.mean(axis=1).mean(axis=1)"
   ]
  },
  {
   "cell_type": "code",
   "execution_count": 29,
   "metadata": {
    "collapsed": false,
    "deletable": true,
    "editable": true
   },
   "outputs": [
    {
     "data": {
      "text/plain": [
       "<matplotlib.colorbar.Colorbar at 0x7f7100d36490>"
      ]
     },
     "execution_count": 29,
     "metadata": {},
     "output_type": "execute_result"
    },
    {
     "data": {
      "image/png": "[encoded data removed]",
      "text/plain": [
       "<matplotlib.figure.Figure at 0x7f70faac6a50>"
      ]
     },
     "metadata": {},
     "output_type": "display_data"
    }
   ],
   "source": [
    "py.contourf(SST[11,:,:]); py.colorbar()"
   ]
  },
  {
   "cell_type": "markdown",
   "metadata": {
    "collapsed": true,
    "deletable": true,
    "editable": true
   },
   "source": [
    "# Check SST fields of different simulations"
   ]
  },
  {
   "cell_type": "code",
   "execution_count": null,
   "metadata": {
    "collapsed": true
   },
   "outputs": [],
   "source": []
  }
 ],
 "metadata": {
  "kernelspec": {
   "display_name": "Python 2",
   "language": "python",
   "name": "python2"
  },
  "language_info": {
   "codemirror_mode": {
    "name": "ipython",
    "version": 2
   },
   "file_extension": ".py",
   "mimetype": "text/x-python",
   "name": "python",
   "nbconvert_exporter": "python",
   "pygments_lexer": "ipython2",
   "version": "2.7.11"
  }
 },
 "nbformat": 4,
 "nbformat_minor": 2
}
